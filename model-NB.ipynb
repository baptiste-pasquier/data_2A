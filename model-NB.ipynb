{
 "cells": [
  {
   "cell_type": "code",
   "execution_count": 1,
   "metadata": {},
   "outputs": [],
   "source": [
    "import pandas as pd\n",
    "import numpy as np\n",
    "import seaborn as sns\n",
    "import matplotlib.pyplot as plt\n",
    "from sklearn.feature_extraction.text import CountVectorizer, TfidfVectorizer\n",
    "import re\n",
    "import sklearn\n",
    "from sklearn.preprocessing import StandardScaler\n",
    "from sklearn.model_selection import train_test_split\n",
    "from sklearn.linear_model import LogisticRegression\n",
    "from sklearn.naive_bayes import BernoulliNB, MultinomialNB\n",
    "from sklearn.metrics import confusion_matrix\n",
    "from sklearn.model_selection import GridSearchCV\n",
    "from sklearn.pipeline import Pipeline\n",
    "from sklearn import metrics\n",
    "from sklearn.feature_extraction.text import TfidfTransformer\n",
    "import os\n",
    "from IPython.display import display\n",
    "import os"
   ]
  },
  {
   "cell_type": "markdown",
   "metadata": {},
   "source": [
    "Nous cherchons à prédire la positivité / négativité d'un tweet à l'aide de la **classification bayésienne naïve**."
   ]
  },
  {
   "cell_type": "markdown",
   "metadata": {},
   "source": [
    "# 0. Outils"
   ]
  },
  {
   "cell_type": "markdown",
   "metadata": {},
   "source": [
    "Pas de standardisation ici"
   ]
  },
  {
   "cell_type": "code",
   "execution_count": 2,
   "metadata": {},
   "outputs": [],
   "source": [
    "def conf_matrix(X, y, vectorizer, model, verbose=True):\n",
    "    '''Trace la matrice de confusion du modèle souhaité'''\n",
    "    X = vectorizer.fit_transform(X)\n",
    "    X_train, X_test, y_train, y_test = train_test_split(X, y, train_size=0.80, random_state=1234)\n",
    "\n",
    "    model.fit(X_train, y_train)\n",
    "    y_pred = model.predict(X_test)\n",
    "\n",
    "    sc_accuracy = metrics.accuracy_score(y_pred, y_test)    \n",
    "    sc_balanced_accuracy = metrics.balanced_accuracy_score(y_pred, y_test)\n",
    "    sc_f1 = metrics.f1_score(y_pred, y_test, pos_label=\"Positive\")\n",
    "    sc_recall = metrics.recall_score(y_pred, y_test, pos_label=\"Positive\")\n",
    "    sc_precision = metrics.precision_score(y_pred, y_test, pos_label=\"Positive\")\n",
    "    sc_roc_auc = metrics.roc_auc_score(y_test, model.predict_proba(X_test)[:, 1])\n",
    "    probs = model.predict_proba(X_test)[:, 1]\n",
    "\n",
    "    if verbose:\n",
    "        metrics.plot_confusion_matrix(model, X_test, y_test)\n",
    "        plt.show()\n",
    "\n",
    "        print(f\"Accuracy : {sc_accuracy}\")\n",
    "        print(f\"Balanced accuracy : {sc_balanced_accuracy}\")\n",
    "    #     print(f\"Recall : {sc_recall}\")\n",
    "    #     print(f\"Precision : {sc_precision}\")\n",
    "    #     print(f\"F1 : {sc_f1}\")\n",
    "        print(f\"ROC AUC : {sc_roc_auc}\")\n",
    "\n",
    "    metrics_score = {'accuracy': sc_accuracy, 'balanced_accuracy': sc_balanced_accuracy, 'roc_auc': sc_roc_auc}\n",
    "\n",
    "    if not verbose:\n",
    "        return X_train, X_test, y_train, y_test, probs, metrics_score "
   ]
  },
  {
   "cell_type": "code",
   "execution_count": 3,
   "metadata": {},
   "outputs": [],
   "source": [
    "def comparaison(X, y, N, model, onlyTFID=False, show_graph=True, show_table=True):\n",
    "    \"\"\"\n",
    "    Compraison des modèles par rapport à la courbe ROC\n",
    "    N correspond au nombre de features\n",
    "    \"\"\"\n",
    "    table = []\n",
    "    \n",
    "    if not onlyTFID:\n",
    "        _, _, _, y_test, probs, metrics_score = conf_matrix(X, y, CountVectorizer(max_features = N), model, verbose=False)\n",
    "        fpr, tpr, _ = metrics.roc_curve(y_test, probs, pos_label=\"Positive\")\n",
    "        if show_graph: plt.plot(fpr, tpr, \":\", label=f\"CountVectorizer {N}\")\n",
    "        table.append(metrics_score)\n",
    "\n",
    "    _, _, _, y_test, probs, metrics_score = conf_matrix(X, y, TfidfVectorizer(max_features = N), model, verbose=False)\n",
    "    fpr, tpr, _ = metrics.roc_curve(y_test, probs, pos_label=\"Positive\")\n",
    "    if show_graph: plt.plot(fpr, tpr, \":\", label=f\"TfidfVectorizer {N}\")\n",
    "    table.append(metrics_score)\n",
    "    \n",
    "    if not onlyTFID:\n",
    "        _, _, _, y_test, probs, metrics_score = conf_matrix(X, y, CountVectorizer(max_features = N, ngram_range=(2,2)), model, verbose=False)\n",
    "        fpr, tpr, _ = metrics.roc_curve(y_test, probs, pos_label=\"Positive\")\n",
    "        if show_graph: plt.plot(fpr, tpr, \":\", label=f\"CountVectorizer {N} ngram 2\")\n",
    "        table.append(metrics_score)\n",
    "\n",
    "    _, _, _, y_test, probs, metrics_score = conf_matrix(X, y, TfidfVectorizer(max_features = N, ngram_range=(2,2)), model, verbose=False)\n",
    "    fpr, tpr, _ = metrics.roc_curve(y_test, probs, pos_label=\"Positive\")\n",
    "    if show_graph: plt.plot(fpr, tpr, \":\", label=f\"TfidfVectorizer {N} ngram 2\")\n",
    "    table.append(metrics_score)\n",
    "    \n",
    "    if show_graph:\n",
    "        plt.plot([0, 1], [0, 1], \"r-\")\n",
    "        plt.plot([0, 0, 1], [0, 1, 1], 'b-')\n",
    "        plt.legend()\n",
    "        plt.show()\n",
    "    \n",
    "    index = [f\"CountVectorizer {N}\", f\"TfidfVectorizer {N}\", f\"CountVectorizer {N} ngram 2\", f\"TfidfVectorizer {N} ngram 2\"]\n",
    "    if onlyTFID:\n",
    "        index = [f\"TfidfVectorizer {N}\", f\"TfidfVectorizer {N} ngram 2\"]\n",
    "    \n",
    "    if show_table:\n",
    "        display(pd.DataFrame(table, index=index))"
   ]
  },
  {
   "cell_type": "code",
   "execution_count": 4,
   "metadata": {},
   "outputs": [],
   "source": [
    "def influence_features(X, y, max_features_list, model, onlyTFID=False):\n",
    "    '''Evaluation de balanced_accuracy en fonction du nombre de features pour un modèle fixé'''\n",
    "    table = []\n",
    "    for max_features in max_features_list:\n",
    "        if not onlyTFID:\n",
    "            _, _, _, _, _, metrics_score = conf_matrix(X, y, CountVectorizer(max_features=max_features), model, verbose=False)\n",
    "            metrics_score['features'] = max_features\n",
    "            metrics_score['method'] = \"CountVectorizer\"\n",
    "            table.append(metrics_score)\n",
    "\n",
    "        _, _, _, _, _, metrics_score = conf_matrix(X, y, TfidfVectorizer(max_features=max_features), model, verbose=False)\n",
    "        metrics_score['features'] = max_features\n",
    "        metrics_score['method'] = \"TfidfVectorizer\"\n",
    "        table.append(metrics_score)\n",
    "        \n",
    "        if not onlyTFID:\n",
    "            _, _, _, _, _, metrics_score = conf_matrix(X, y, CountVectorizer(max_features=max_features, ngram_range=(2,2)), model, verbose=False)\n",
    "            metrics_score['features'] = max_features\n",
    "            metrics_score['method'] = \"CountVectorizer ngram 2\"\n",
    "            table.append(metrics_score)\n",
    "\n",
    "        _, _, _, _, _, metrics_score = conf_matrix(X, y, TfidfVectorizer(max_features=max_features, ngram_range=(2,2)), model, verbose=False)\n",
    "        metrics_score['features'] = max_features\n",
    "        metrics_score['method'] = \"TfidfVectorizer ngram 2\"\n",
    "        table.append(metrics_score)\n",
    "\n",
    "    df = pd.DataFrame(table)\n",
    "\n",
    "    methods = list(set(df.method))\n",
    "    scores = list(df.columns[:-2])\n",
    "    fig, axes = plt.subplots(1, len(scores), figsize=(20, 6))\n",
    "    for i_score in range(len(scores)):\n",
    "        for j_method in range(len(methods)):\n",
    "            df[df.method == methods[j_method]].plot(x='features', y=scores[i_score], label=methods[j_method], ax=axes[i_score])\n",
    "        axes[i_score].set(xlabel='Nombre de features')\n",
    "        axes[i_score].legend()\n",
    "        axes[i_score].set_title(scores[i_score])\n",
    "    plt.plot()\n",
    "    return df"
   ]
  },
  {
   "cell_type": "markdown",
   "metadata": {},
   "source": [
    "# 1. Chargement d'une base Sentiment140 préprocessée "
   ]
  },
  {
   "cell_type": "code",
   "execution_count": 5,
   "metadata": {},
   "outputs": [],
   "source": [
    "NB_DATA = 100000\n",
    "STOP_WORDS = False\n",
    "LEMMATIZATION = False\n",
    "NEGATION = False\n",
    "file = \"train\"\n",
    "if STOP_WORDS:\n",
    "    file += \"_stop\"\n",
    "if LEMMATIZATION:\n",
    "    file += \"_lemm\"\n",
    "if NEGATION:\n",
    "    file += \"_neg\"\n",
    "df = pd.read_pickle(os.path.join(\"data\", \"sentiment140\", file + \".bz2\")).sample(NB_DATA, random_state=1234)"
   ]
  },
  {
   "cell_type": "code",
   "execution_count": 6,
   "metadata": {},
   "outputs": [
    {
     "data": {
      "text/html": [
       "<div>\n",
       "<style scoped>\n",
       "    .dataframe tbody tr th:only-of-type {\n",
       "        vertical-align: middle;\n",
       "    }\n",
       "\n",
       "    .dataframe tbody tr th {\n",
       "        vertical-align: top;\n",
       "    }\n",
       "\n",
       "    .dataframe thead th {\n",
       "        text-align: right;\n",
       "    }\n",
       "</style>\n",
       "<table border=\"1\" class=\"dataframe\">\n",
       "  <thead>\n",
       "    <tr style=\"text-align: right;\">\n",
       "      <th></th>\n",
       "      <th>sentiment</th>\n",
       "      <th>id</th>\n",
       "      <th>date</th>\n",
       "      <th>query_string</th>\n",
       "      <th>user</th>\n",
       "      <th>text</th>\n",
       "    </tr>\n",
       "  </thead>\n",
       "  <tbody>\n",
       "    <tr>\n",
       "      <th>599410</th>\n",
       "      <td>Negative</td>\n",
       "      <td>2220663113</td>\n",
       "      <td>Thu Jun 18 03:39:49 PDT 2009</td>\n",
       "      <td>NO_QUERY</td>\n",
       "      <td>gemgembam</td>\n",
       "      <td>open itunes will not open naooo the silence is...</td>\n",
       "    </tr>\n",
       "    <tr>\n",
       "      <th>549856</th>\n",
       "      <td>Negative</td>\n",
       "      <td>2202759103</td>\n",
       "      <td>Tue Jun 16 22:21:43 PDT 2009</td>\n",
       "      <td>NO_QUERY</td>\n",
       "      <td>twistofcolour</td>\n",
       "      <td>the sun is already gone for the day</td>\n",
       "    </tr>\n",
       "    <tr>\n",
       "      <th>1363048</th>\n",
       "      <td>Positive</td>\n",
       "      <td>2049441111</td>\n",
       "      <td>Fri Jun 05 16:53:10 PDT 2009</td>\n",
       "      <td>NO_QUERY</td>\n",
       "      <td>Niico1e</td>\n",
       "      <td>hiya this is my st tweet i am so tired though ...</td>\n",
       "    </tr>\n",
       "    <tr>\n",
       "      <th>558776</th>\n",
       "      <td>Negative</td>\n",
       "      <td>2204830292</td>\n",
       "      <td>Wed Jun 17 03:14:38 PDT 2009</td>\n",
       "      <td>NO_QUERY</td>\n",
       "      <td>MeriEsteban</td>\n",
       "      <td>i have the bac today at p m i do not know if i...</td>\n",
       "    </tr>\n",
       "    <tr>\n",
       "      <th>1582398</th>\n",
       "      <td>Positive</td>\n",
       "      <td>2190306594</td>\n",
       "      <td>Tue Jun 16 02:21:03 PDT 2009</td>\n",
       "      <td>NO_QUERY</td>\n",
       "      <td>MeghanMagnolia</td>\n",
       "      <td>as far as i remember you were not half bad ine...</td>\n",
       "    </tr>\n",
       "    <tr>\n",
       "      <th>1353343</th>\n",
       "      <td>Positive</td>\n",
       "      <td>2046706853</td>\n",
       "      <td>Fri Jun 05 12:34:26 PDT 2009</td>\n",
       "      <td>NO_QUERY</td>\n",
       "      <td>WahooPooh</td>\n",
       "      <td>as tempting as that is i am just waiting on my...</td>\n",
       "    </tr>\n",
       "    <tr>\n",
       "      <th>586354</th>\n",
       "      <td>Negative</td>\n",
       "      <td>2215937155</td>\n",
       "      <td>Wed Jun 17 18:49:10 PDT 2009</td>\n",
       "      <td>NO_QUERY</td>\n",
       "      <td>amandarie</td>\n",
       "      <td>cool how i have to be stuck at home i want to ...</td>\n",
       "    </tr>\n",
       "    <tr>\n",
       "      <th>860355</th>\n",
       "      <td>Positive</td>\n",
       "      <td>1676343245</td>\n",
       "      <td>Fri May 01 21:46:07 PDT 2009</td>\n",
       "      <td>NO_QUERY</td>\n",
       "      <td>MatchesMalone</td>\n",
       "      <td>oh and followfriday my writing partner because...</td>\n",
       "    </tr>\n",
       "    <tr>\n",
       "      <th>521668</th>\n",
       "      <td>Negative</td>\n",
       "      <td>2192486836</td>\n",
       "      <td>Tue Jun 16 07:06:35 PDT 2009</td>\n",
       "      <td>NO_QUERY</td>\n",
       "      <td>hockeyfan45214</td>\n",
       "      <td>you would think if i continue to block someone...</td>\n",
       "    </tr>\n",
       "    <tr>\n",
       "      <th>243888</th>\n",
       "      <td>Negative</td>\n",
       "      <td>1981647618</td>\n",
       "      <td>Sun May 31 09:35:54 PDT 2009</td>\n",
       "      <td>NO_QUERY</td>\n",
       "      <td>ilovemytroops</td>\n",
       "      <td>nevaeh buchanan missing friends of her mother ...</td>\n",
       "    </tr>\n",
       "  </tbody>\n",
       "</table>\n",
       "</div>"
      ],
      "text/plain": [
       "        sentiment          id                          date query_string  \\\n",
       "599410   Negative  2220663113  Thu Jun 18 03:39:49 PDT 2009     NO_QUERY   \n",
       "549856   Negative  2202759103  Tue Jun 16 22:21:43 PDT 2009     NO_QUERY   \n",
       "1363048  Positive  2049441111  Fri Jun 05 16:53:10 PDT 2009     NO_QUERY   \n",
       "558776   Negative  2204830292  Wed Jun 17 03:14:38 PDT 2009     NO_QUERY   \n",
       "1582398  Positive  2190306594  Tue Jun 16 02:21:03 PDT 2009     NO_QUERY   \n",
       "1353343  Positive  2046706853  Fri Jun 05 12:34:26 PDT 2009     NO_QUERY   \n",
       "586354   Negative  2215937155  Wed Jun 17 18:49:10 PDT 2009     NO_QUERY   \n",
       "860355   Positive  1676343245  Fri May 01 21:46:07 PDT 2009     NO_QUERY   \n",
       "521668   Negative  2192486836  Tue Jun 16 07:06:35 PDT 2009     NO_QUERY   \n",
       "243888   Negative  1981647618  Sun May 31 09:35:54 PDT 2009     NO_QUERY   \n",
       "\n",
       "                   user                                               text  \n",
       "599410        gemgembam  open itunes will not open naooo the silence is...  \n",
       "549856    twistofcolour                the sun is already gone for the day  \n",
       "1363048         Niico1e  hiya this is my st tweet i am so tired though ...  \n",
       "558776      MeriEsteban  i have the bac today at p m i do not know if i...  \n",
       "1582398  MeghanMagnolia  as far as i remember you were not half bad ine...  \n",
       "1353343       WahooPooh  as tempting as that is i am just waiting on my...  \n",
       "586354        amandarie  cool how i have to be stuck at home i want to ...  \n",
       "860355    MatchesMalone  oh and followfriday my writing partner because...  \n",
       "521668   hockeyfan45214  you would think if i continue to block someone...  \n",
       "243888    ilovemytroops  nevaeh buchanan missing friends of her mother ...  "
      ]
     },
     "execution_count": 6,
     "metadata": {},
     "output_type": "execute_result"
    }
   ],
   "source": [
    "df.head(10)"
   ]
  },
  {
   "cell_type": "code",
   "execution_count": 7,
   "metadata": {},
   "outputs": [],
   "source": [
    "X = df.text.to_list()\n",
    "y = df.sentiment.to_list()"
   ]
  },
  {
   "cell_type": "markdown",
   "metadata": {},
   "source": [
    "# 2. Bernoulli Naive Bayes"
   ]
  },
  {
   "cell_type": "markdown",
   "metadata": {},
   "source": [
    "## 2.1 Comparaison des méthodes de pré-processing"
   ]
  },
  {
   "cell_type": "code",
   "execution_count": 8,
   "metadata": {},
   "outputs": [
    {
     "data": {
      "image/png": "[encoded data removed]",
      "text/plain": [
       "<Figure size 432x288 with 1 Axes>"
      ]
     },
     "metadata": {
      "needs_background": "light"
     },
     "output_type": "display_data"
    },
    {
     "data": {
      "text/html": [
       "<div>\n",
       "<style scoped>\n",
       "    .dataframe tbody tr th:only-of-type {\n",
       "        vertical-align: middle;\n",
       "    }\n",
       "\n",
       "    .dataframe tbody tr th {\n",
       "        vertical-align: top;\n",
       "    }\n",
       "\n",
       "    .dataframe thead th {\n",
       "        text-align: right;\n",
       "    }\n",
       "</style>\n",
       "<table border=\"1\" class=\"dataframe\">\n",
       "  <thead>\n",
       "    <tr style=\"text-align: right;\">\n",
       "      <th></th>\n",
       "      <th>accuracy</th>\n",
       "      <th>balanced_accuracy</th>\n",
       "      <th>roc_auc</th>\n",
       "    </tr>\n",
       "  </thead>\n",
       "  <tbody>\n",
       "    <tr>\n",
       "      <th>CountVectorizer 500</th>\n",
       "      <td>0.73270</td>\n",
       "      <td>0.733570</td>\n",
       "      <td>0.810253</td>\n",
       "    </tr>\n",
       "    <tr>\n",
       "      <th>TfidfVectorizer 500</th>\n",
       "      <td>0.73270</td>\n",
       "      <td>0.733570</td>\n",
       "      <td>0.810253</td>\n",
       "    </tr>\n",
       "    <tr>\n",
       "      <th>CountVectorizer 500 ngram 2</th>\n",
       "      <td>0.65115</td>\n",
       "      <td>0.660163</td>\n",
       "      <td>0.714986</td>\n",
       "    </tr>\n",
       "    <tr>\n",
       "      <th>TfidfVectorizer 500 ngram 2</th>\n",
       "      <td>0.65115</td>\n",
       "      <td>0.660163</td>\n",
       "      <td>0.714986</td>\n",
       "    </tr>\n",
       "  </tbody>\n",
       "</table>\n",
       "</div>"
      ],
      "text/plain": [
       "                             accuracy  balanced_accuracy   roc_auc\n",
       "CountVectorizer 500           0.73270           0.733570  0.810253\n",
       "TfidfVectorizer 500           0.73270           0.733570  0.810253\n",
       "CountVectorizer 500 ngram 2   0.65115           0.660163  0.714986\n",
       "TfidfVectorizer 500 ngram 2   0.65115           0.660163  0.714986"
      ]
     },
     "metadata": {},
     "output_type": "display_data"
    },
    {
     "name": "stdout",
     "output_type": "stream",
     "text": [
      "Wall time: 12.6 s\n"
     ]
    }
   ],
   "source": [
    "%%time\n",
    "comparaison(X, y, 500, BernoulliNB())"
   ]
  },
  {
   "cell_type": "code",
   "execution_count": 9,
   "metadata": {},
   "outputs": [
    {
     "name": "stdout",
     "output_type": "stream",
     "text": [
      "stop_words: False, lemmatization: False, negation: False\n"
     ]
    },
    {
     "data": {
      "text/html": [
       "<div>\n",
       "<style scoped>\n",
       "    .dataframe tbody tr th:only-of-type {\n",
       "        vertical-align: middle;\n",
       "    }\n",
       "\n",
       "    .dataframe tbody tr th {\n",
       "        vertical-align: top;\n",
       "    }\n",
       "\n",
       "    .dataframe thead th {\n",
       "        text-align: right;\n",
       "    }\n",
       "</style>\n",
       "<table border=\"1\" class=\"dataframe\">\n",
       "  <thead>\n",
       "    <tr style=\"text-align: right;\">\n",
       "      <th></th>\n",
       "      <th>accuracy</th>\n",
       "      <th>balanced_accuracy</th>\n",
       "      <th>roc_auc</th>\n",
       "    </tr>\n",
       "  </thead>\n",
       "  <tbody>\n",
       "    <tr>\n",
       "      <th>CountVectorizer 500</th>\n",
       "      <td>0.73270</td>\n",
       "      <td>0.733570</td>\n",
       "      <td>0.810253</td>\n",
       "    </tr>\n",
       "    <tr>\n",
       "      <th>TfidfVectorizer 500</th>\n",
       "      <td>0.73270</td>\n",
       "      <td>0.733570</td>\n",
       "      <td>0.810253</td>\n",
       "    </tr>\n",
       "    <tr>\n",
       "      <th>CountVectorizer 500 ngram 2</th>\n",
       "      <td>0.65115</td>\n",
       "      <td>0.660163</td>\n",
       "      <td>0.714986</td>\n",
       "    </tr>\n",
       "    <tr>\n",
       "      <th>TfidfVectorizer 500 ngram 2</th>\n",
       "      <td>0.65115</td>\n",
       "      <td>0.660163</td>\n",
       "      <td>0.714986</td>\n",
       "    </tr>\n",
       "  </tbody>\n",
       "</table>\n",
       "</div>"
      ],
      "text/plain": [
       "                             accuracy  balanced_accuracy   roc_auc\n",
       "CountVectorizer 500           0.73270           0.733570  0.810253\n",
       "TfidfVectorizer 500           0.73270           0.733570  0.810253\n",
       "CountVectorizer 500 ngram 2   0.65115           0.660163  0.714986\n",
       "TfidfVectorizer 500 ngram 2   0.65115           0.660163  0.714986"
      ]
     },
     "metadata": {},
     "output_type": "display_data"
    },
    {
     "name": "stdout",
     "output_type": "stream",
     "text": [
      "stop_words: False, lemmatization: False, negation: True\n"
     ]
    },
    {
     "data": {
      "text/html": [
       "<div>\n",
       "<style scoped>\n",
       "    .dataframe tbody tr th:only-of-type {\n",
       "        vertical-align: middle;\n",
       "    }\n",
       "\n",
       "    .dataframe tbody tr th {\n",
       "        vertical-align: top;\n",
       "    }\n",
       "\n",
       "    .dataframe thead th {\n",
       "        text-align: right;\n",
       "    }\n",
       "</style>\n",
       "<table border=\"1\" class=\"dataframe\">\n",
       "  <thead>\n",
       "    <tr style=\"text-align: right;\">\n",
       "      <th></th>\n",
       "      <th>accuracy</th>\n",
       "      <th>balanced_accuracy</th>\n",
       "      <th>roc_auc</th>\n",
       "    </tr>\n",
       "  </thead>\n",
       "  <tbody>\n",
       "    <tr>\n",
       "      <th>CountVectorizer 500</th>\n",
       "      <td>0.7279</td>\n",
       "      <td>0.728843</td>\n",
       "      <td>0.805885</td>\n",
       "    </tr>\n",
       "    <tr>\n",
       "      <th>TfidfVectorizer 500</th>\n",
       "      <td>0.7279</td>\n",
       "      <td>0.728843</td>\n",
       "      <td>0.805885</td>\n",
       "    </tr>\n",
       "    <tr>\n",
       "      <th>CountVectorizer 500 ngram 2</th>\n",
       "      <td>0.6264</td>\n",
       "      <td>0.636434</td>\n",
       "      <td>0.693166</td>\n",
       "    </tr>\n",
       "    <tr>\n",
       "      <th>TfidfVectorizer 500 ngram 2</th>\n",
       "      <td>0.6264</td>\n",
       "      <td>0.636434</td>\n",
       "      <td>0.693166</td>\n",
       "    </tr>\n",
       "  </tbody>\n",
       "</table>\n",
       "</div>"
      ],
      "text/plain": [
       "                             accuracy  balanced_accuracy   roc_auc\n",
       "CountVectorizer 500            0.7279           0.728843  0.805885\n",
       "TfidfVectorizer 500            0.7279           0.728843  0.805885\n",
       "CountVectorizer 500 ngram 2    0.6264           0.636434  0.693166\n",
       "TfidfVectorizer 500 ngram 2    0.6264           0.636434  0.693166"
      ]
     },
     "metadata": {},
     "output_type": "display_data"
    },
    {
     "name": "stdout",
     "output_type": "stream",
     "text": [
      "stop_words: True, lemmatization: False, negation: False\n"
     ]
    },
    {
     "data": {
      "text/html": [
       "<div>\n",
       "<style scoped>\n",
       "    .dataframe tbody tr th:only-of-type {\n",
       "        vertical-align: middle;\n",
       "    }\n",
       "\n",
       "    .dataframe tbody tr th {\n",
       "        vertical-align: top;\n",
       "    }\n",
       "\n",
       "    .dataframe thead th {\n",
       "        text-align: right;\n",
       "    }\n",
       "</style>\n",
       "<table border=\"1\" class=\"dataframe\">\n",
       "  <thead>\n",
       "    <tr style=\"text-align: right;\">\n",
       "      <th></th>\n",
       "      <th>accuracy</th>\n",
       "      <th>balanced_accuracy</th>\n",
       "      <th>roc_auc</th>\n",
       "    </tr>\n",
       "  </thead>\n",
       "  <tbody>\n",
       "    <tr>\n",
       "      <th>CountVectorizer 500</th>\n",
       "      <td>0.72975</td>\n",
       "      <td>0.731065</td>\n",
       "      <td>0.807449</td>\n",
       "    </tr>\n",
       "    <tr>\n",
       "      <th>TfidfVectorizer 500</th>\n",
       "      <td>0.72975</td>\n",
       "      <td>0.731065</td>\n",
       "      <td>0.807449</td>\n",
       "    </tr>\n",
       "    <tr>\n",
       "      <th>CountVectorizer 500 ngram 2</th>\n",
       "      <td>0.60225</td>\n",
       "      <td>0.654658</td>\n",
       "      <td>0.641647</td>\n",
       "    </tr>\n",
       "    <tr>\n",
       "      <th>TfidfVectorizer 500 ngram 2</th>\n",
       "      <td>0.60225</td>\n",
       "      <td>0.654658</td>\n",
       "      <td>0.641647</td>\n",
       "    </tr>\n",
       "  </tbody>\n",
       "</table>\n",
       "</div>"
      ],
      "text/plain": [
       "                             accuracy  balanced_accuracy   roc_auc\n",
       "CountVectorizer 500           0.72975           0.731065  0.807449\n",
       "TfidfVectorizer 500           0.72975           0.731065  0.807449\n",
       "CountVectorizer 500 ngram 2   0.60225           0.654658  0.641647\n",
       "TfidfVectorizer 500 ngram 2   0.60225           0.654658  0.641647"
      ]
     },
     "metadata": {},
     "output_type": "display_data"
    },
    {
     "name": "stdout",
     "output_type": "stream",
     "text": [
      "stop_words: True, lemmatization: False, negation: True\n"
     ]
    },
    {
     "data": {
      "text/html": [
       "<div>\n",
       "<style scoped>\n",
       "    .dataframe tbody tr th:only-of-type {\n",
       "        vertical-align: middle;\n",
       "    }\n",
       "\n",
       "    .dataframe tbody tr th {\n",
       "        vertical-align: top;\n",
       "    }\n",
       "\n",
       "    .dataframe thead th {\n",
       "        text-align: right;\n",
       "    }\n",
       "</style>\n",
       "<table border=\"1\" class=\"dataframe\">\n",
       "  <thead>\n",
       "    <tr style=\"text-align: right;\">\n",
       "      <th></th>\n",
       "      <th>accuracy</th>\n",
       "      <th>balanced_accuracy</th>\n",
       "      <th>roc_auc</th>\n",
       "    </tr>\n",
       "  </thead>\n",
       "  <tbody>\n",
       "    <tr>\n",
       "      <th>CountVectorizer 500</th>\n",
       "      <td>0.7184</td>\n",
       "      <td>0.720755</td>\n",
       "      <td>0.798458</td>\n",
       "    </tr>\n",
       "    <tr>\n",
       "      <th>TfidfVectorizer 500</th>\n",
       "      <td>0.7184</td>\n",
       "      <td>0.720755</td>\n",
       "      <td>0.798458</td>\n",
       "    </tr>\n",
       "    <tr>\n",
       "      <th>CountVectorizer 500 ngram 2</th>\n",
       "      <td>0.5544</td>\n",
       "      <td>0.618945</td>\n",
       "      <td>0.598638</td>\n",
       "    </tr>\n",
       "    <tr>\n",
       "      <th>TfidfVectorizer 500 ngram 2</th>\n",
       "      <td>0.5544</td>\n",
       "      <td>0.618945</td>\n",
       "      <td>0.598638</td>\n",
       "    </tr>\n",
       "  </tbody>\n",
       "</table>\n",
       "</div>"
      ],
      "text/plain": [
       "                             accuracy  balanced_accuracy   roc_auc\n",
       "CountVectorizer 500            0.7184           0.720755  0.798458\n",
       "TfidfVectorizer 500            0.7184           0.720755  0.798458\n",
       "CountVectorizer 500 ngram 2    0.5544           0.618945  0.598638\n",
       "TfidfVectorizer 500 ngram 2    0.5544           0.618945  0.598638"
      ]
     },
     "metadata": {},
     "output_type": "display_data"
    },
    {
     "name": "stdout",
     "output_type": "stream",
     "text": [
      "Wall time: 1min 20s\n"
     ]
    }
   ],
   "source": [
    "%%time\n",
    "for stop_words in [False, True]:\n",
    "#     for lemmatization in [False, True]:\n",
    "    for lemmatization in [False]:\n",
    "        for negation in [False, True]:\n",
    "            file = \"train\"\n",
    "            if stop_words:\n",
    "                file += \"_stop\"\n",
    "            if lemmatization:\n",
    "                file += \"_lemm\"\n",
    "            if  negation:\n",
    "                file += \"_neg\"\n",
    "            print(f\"stop_words: {stop_words}, lemmatization: {lemmatization}, negation: {negation}\")\n",
    "            df = pd.read_pickle(os.path.join(\"data\", \"sentiment140\", file+\".bz2\")).sample(NB_DATA, random_state=1234)\n",
    "            X = df.text.to_list()\n",
    "            y = df.sentiment.to_list()\n",
    "            comparaison(X, y, 500, BernoulliNB(), show_graph=False)"
   ]
  },
  {
   "cell_type": "markdown",
   "metadata": {},
   "source": [
    "La combinaison optimale semble correspondre à `stop_words=False, lemmatization=False, negation=False` pour ce nombre de features."
   ]
  },
  {
   "cell_type": "markdown",
   "metadata": {},
   "source": [
    "## 2.2 Comparaison par rapport au nombre de features"
   ]
  },
  {
   "cell_type": "code",
   "execution_count": 10,
   "metadata": {},
   "outputs": [
    {
     "name": "stdout",
     "output_type": "stream",
     "text": [
      "Wall time: 59.9 s\n"
     ]
    },
    {
     "data": {
      "image/png": "[encoded data removed]",
      "text/plain": [
       "<Figure size 1440x432 with 3 Axes>"
      ]
     },
     "metadata": {
      "needs_background": "light"
     },
     "output_type": "display_data"
    }
   ],
   "source": [
    "%%time\n",
    "max_features_list = np.logspace(2.3, 3.7, 6, endpoint=True, dtype=int)\n",
    "_ = influence_features(X, y, max_features_list, BernoulliNB())"
   ]
  },
  {
   "cell_type": "markdown",
   "metadata": {},
   "source": [
    "# 3. Multinomial NB"
   ]
  },
  {
   "cell_type": "code",
   "execution_count": 11,
   "metadata": {},
   "outputs": [
    {
     "data": {
      "image/png": "[encoded data removed]",
      "text/plain": [
       "<Figure size 432x288 with 1 Axes>"
      ]
     },
     "metadata": {
      "needs_background": "light"
     },
     "output_type": "display_data"
    },
    {
     "data": {
      "text/html": [
       "<div>\n",
       "<style scoped>\n",
       "    .dataframe tbody tr th:only-of-type {\n",
       "        vertical-align: middle;\n",
       "    }\n",
       "\n",
       "    .dataframe tbody tr th {\n",
       "        vertical-align: top;\n",
       "    }\n",
       "\n",
       "    .dataframe thead th {\n",
       "        text-align: right;\n",
       "    }\n",
       "</style>\n",
       "<table border=\"1\" class=\"dataframe\">\n",
       "  <thead>\n",
       "    <tr style=\"text-align: right;\">\n",
       "      <th></th>\n",
       "      <th>accuracy</th>\n",
       "      <th>balanced_accuracy</th>\n",
       "      <th>roc_auc</th>\n",
       "    </tr>\n",
       "  </thead>\n",
       "  <tbody>\n",
       "    <tr>\n",
       "      <th>CountVectorizer 500</th>\n",
       "      <td>0.71730</td>\n",
       "      <td>0.719054</td>\n",
       "      <td>0.796916</td>\n",
       "    </tr>\n",
       "    <tr>\n",
       "      <th>TfidfVectorizer 500</th>\n",
       "      <td>0.71665</td>\n",
       "      <td>0.719415</td>\n",
       "      <td>0.801048</td>\n",
       "    </tr>\n",
       "    <tr>\n",
       "      <th>CountVectorizer 500 ngram 2</th>\n",
       "      <td>0.55445</td>\n",
       "      <td>0.619230</td>\n",
       "      <td>0.598269</td>\n",
       "    </tr>\n",
       "    <tr>\n",
       "      <th>TfidfVectorizer 500 ngram 2</th>\n",
       "      <td>0.55405</td>\n",
       "      <td>0.621003</td>\n",
       "      <td>0.597811</td>\n",
       "    </tr>\n",
       "  </tbody>\n",
       "</table>\n",
       "</div>"
      ],
      "text/plain": [
       "                             accuracy  balanced_accuracy   roc_auc\n",
       "CountVectorizer 500           0.71730           0.719054  0.796916\n",
       "TfidfVectorizer 500           0.71665           0.719415  0.801048\n",
       "CountVectorizer 500 ngram 2   0.55445           0.619230  0.598269\n",
       "TfidfVectorizer 500 ngram 2   0.55405           0.621003  0.597811"
      ]
     },
     "metadata": {},
     "output_type": "display_data"
    },
    {
     "name": "stdout",
     "output_type": "stream",
     "text": [
      "Wall time: 10.4 s\n"
     ]
    }
   ],
   "source": [
    "%%time\n",
    "comparaison(X, y, 500, MultinomialNB(alpha=1)) #par défaut alpha=1 : Laplace smoothing parameter"
   ]
  },
  {
   "cell_type": "code",
   "execution_count": 12,
   "metadata": {},
   "outputs": [
    {
     "data": {
      "image/png": "[encoded data removed]",
      "text/plain": [
       "<Figure size 432x288 with 1 Axes>"
      ]
     },
     "metadata": {
      "needs_background": "light"
     },
     "output_type": "display_data"
    },
    {
     "data": {
      "text/html": [
       "<div>\n",
       "<style scoped>\n",
       "    .dataframe tbody tr th:only-of-type {\n",
       "        vertical-align: middle;\n",
       "    }\n",
       "\n",
       "    .dataframe tbody tr th {\n",
       "        vertical-align: top;\n",
       "    }\n",
       "\n",
       "    .dataframe thead th {\n",
       "        text-align: right;\n",
       "    }\n",
       "</style>\n",
       "<table border=\"1\" class=\"dataframe\">\n",
       "  <thead>\n",
       "    <tr style=\"text-align: right;\">\n",
       "      <th></th>\n",
       "      <th>accuracy</th>\n",
       "      <th>balanced_accuracy</th>\n",
       "      <th>roc_auc</th>\n",
       "    </tr>\n",
       "  </thead>\n",
       "  <tbody>\n",
       "    <tr>\n",
       "      <th>CountVectorizer 5000</th>\n",
       "      <td>0.76735</td>\n",
       "      <td>0.767342</td>\n",
       "      <td>0.840192</td>\n",
       "    </tr>\n",
       "    <tr>\n",
       "      <th>TfidfVectorizer 5000</th>\n",
       "      <td>0.76335</td>\n",
       "      <td>0.763507</td>\n",
       "      <td>0.845655</td>\n",
       "    </tr>\n",
       "    <tr>\n",
       "      <th>CountVectorizer 5000 ngram 2</th>\n",
       "      <td>0.60655</td>\n",
       "      <td>0.639625</td>\n",
       "      <td>0.678196</td>\n",
       "    </tr>\n",
       "    <tr>\n",
       "      <th>TfidfVectorizer 5000 ngram 2</th>\n",
       "      <td>0.60510</td>\n",
       "      <td>0.641811</td>\n",
       "      <td>0.678005</td>\n",
       "    </tr>\n",
       "  </tbody>\n",
       "</table>\n",
       "</div>"
      ],
      "text/plain": [
       "                              accuracy  balanced_accuracy   roc_auc\n",
       "CountVectorizer 5000           0.76735           0.767342  0.840192\n",
       "TfidfVectorizer 5000           0.76335           0.763507  0.845655\n",
       "CountVectorizer 5000 ngram 2   0.60655           0.639625  0.678196\n",
       "TfidfVectorizer 5000 ngram 2   0.60510           0.641811  0.678005"
      ]
     },
     "metadata": {},
     "output_type": "display_data"
    },
    {
     "name": "stdout",
     "output_type": "stream",
     "text": [
      "Wall time: 10.8 s\n"
     ]
    }
   ],
   "source": [
    "%%time\n",
    "comparaison(X, y, 5000, MultinomialNB(alpha=1)) #par défaut alpha=1 : Laplace smoothing parameter"
   ]
  },
  {
   "cell_type": "markdown",
   "metadata": {},
   "source": [
    "A priori le TfIdfVectorizer (sans ngram) semble le plus approprié."
   ]
  },
  {
   "cell_type": "code",
   "execution_count": 13,
   "metadata": {},
   "outputs": [
    {
     "name": "stdout",
     "output_type": "stream",
     "text": [
      "stop_words: False, lemmatization: False, negation: False\n"
     ]
    },
    {
     "data": {
      "text/html": [
       "<div>\n",
       "<style scoped>\n",
       "    .dataframe tbody tr th:only-of-type {\n",
       "        vertical-align: middle;\n",
       "    }\n",
       "\n",
       "    .dataframe tbody tr th {\n",
       "        vertical-align: top;\n",
       "    }\n",
       "\n",
       "    .dataframe thead th {\n",
       "        text-align: right;\n",
       "    }\n",
       "</style>\n",
       "<table border=\"1\" class=\"dataframe\">\n",
       "  <thead>\n",
       "    <tr style=\"text-align: right;\">\n",
       "      <th></th>\n",
       "      <th>accuracy</th>\n",
       "      <th>balanced_accuracy</th>\n",
       "      <th>roc_auc</th>\n",
       "    </tr>\n",
       "  </thead>\n",
       "  <tbody>\n",
       "    <tr>\n",
       "      <th>CountVectorizer 500</th>\n",
       "      <td>0.73890</td>\n",
       "      <td>0.738908</td>\n",
       "      <td>0.811734</td>\n",
       "    </tr>\n",
       "    <tr>\n",
       "      <th>TfidfVectorizer 500</th>\n",
       "      <td>0.73705</td>\n",
       "      <td>0.737055</td>\n",
       "      <td>0.816858</td>\n",
       "    </tr>\n",
       "    <tr>\n",
       "      <th>CountVectorizer 500 ngram 2</th>\n",
       "      <td>0.65030</td>\n",
       "      <td>0.660677</td>\n",
       "      <td>0.711844</td>\n",
       "    </tr>\n",
       "    <tr>\n",
       "      <th>TfidfVectorizer 500 ngram 2</th>\n",
       "      <td>0.64915</td>\n",
       "      <td>0.658378</td>\n",
       "      <td>0.714424</td>\n",
       "    </tr>\n",
       "  </tbody>\n",
       "</table>\n",
       "</div>"
      ],
      "text/plain": [
       "                             accuracy  balanced_accuracy   roc_auc\n",
       "CountVectorizer 500           0.73890           0.738908  0.811734\n",
       "TfidfVectorizer 500           0.73705           0.737055  0.816858\n",
       "CountVectorizer 500 ngram 2   0.65030           0.660677  0.711844\n",
       "TfidfVectorizer 500 ngram 2   0.64915           0.658378  0.714424"
      ]
     },
     "metadata": {},
     "output_type": "display_data"
    },
    {
     "name": "stdout",
     "output_type": "stream",
     "text": [
      "stop_words: False, lemmatization: False, negation: True\n"
     ]
    },
    {
     "data": {
      "text/html": [
       "<div>\n",
       "<style scoped>\n",
       "    .dataframe tbody tr th:only-of-type {\n",
       "        vertical-align: middle;\n",
       "    }\n",
       "\n",
       "    .dataframe tbody tr th {\n",
       "        vertical-align: top;\n",
       "    }\n",
       "\n",
       "    .dataframe thead th {\n",
       "        text-align: right;\n",
       "    }\n",
       "</style>\n",
       "<table border=\"1\" class=\"dataframe\">\n",
       "  <thead>\n",
       "    <tr style=\"text-align: right;\">\n",
       "      <th></th>\n",
       "      <th>accuracy</th>\n",
       "      <th>balanced_accuracy</th>\n",
       "      <th>roc_auc</th>\n",
       "    </tr>\n",
       "  </thead>\n",
       "  <tbody>\n",
       "    <tr>\n",
       "      <th>CountVectorizer 500</th>\n",
       "      <td>0.7323</td>\n",
       "      <td>0.732302</td>\n",
       "      <td>0.805787</td>\n",
       "    </tr>\n",
       "    <tr>\n",
       "      <th>TfidfVectorizer 500</th>\n",
       "      <td>0.7308</td>\n",
       "      <td>0.730854</td>\n",
       "      <td>0.813187</td>\n",
       "    </tr>\n",
       "    <tr>\n",
       "      <th>CountVectorizer 500 ngram 2</th>\n",
       "      <td>0.6250</td>\n",
       "      <td>0.634514</td>\n",
       "      <td>0.692893</td>\n",
       "    </tr>\n",
       "    <tr>\n",
       "      <th>TfidfVectorizer 500 ngram 2</th>\n",
       "      <td>0.6280</td>\n",
       "      <td>0.637498</td>\n",
       "      <td>0.695908</td>\n",
       "    </tr>\n",
       "  </tbody>\n",
       "</table>\n",
       "</div>"
      ],
      "text/plain": [
       "                             accuracy  balanced_accuracy   roc_auc\n",
       "CountVectorizer 500            0.7323           0.732302  0.805787\n",
       "TfidfVectorizer 500            0.7308           0.730854  0.813187\n",
       "CountVectorizer 500 ngram 2    0.6250           0.634514  0.692893\n",
       "TfidfVectorizer 500 ngram 2    0.6280           0.637498  0.695908"
      ]
     },
     "metadata": {},
     "output_type": "display_data"
    },
    {
     "name": "stdout",
     "output_type": "stream",
     "text": [
      "stop_words: True, lemmatization: False, negation: False\n"
     ]
    },
    {
     "data": {
      "text/html": [
       "<div>\n",
       "<style scoped>\n",
       "    .dataframe tbody tr th:only-of-type {\n",
       "        vertical-align: middle;\n",
       "    }\n",
       "\n",
       "    .dataframe tbody tr th {\n",
       "        vertical-align: top;\n",
       "    }\n",
       "\n",
       "    .dataframe thead th {\n",
       "        text-align: right;\n",
       "    }\n",
       "</style>\n",
       "<table border=\"1\" class=\"dataframe\">\n",
       "  <thead>\n",
       "    <tr style=\"text-align: right;\">\n",
       "      <th></th>\n",
       "      <th>accuracy</th>\n",
       "      <th>balanced_accuracy</th>\n",
       "      <th>roc_auc</th>\n",
       "    </tr>\n",
       "  </thead>\n",
       "  <tbody>\n",
       "    <tr>\n",
       "      <th>CountVectorizer 500</th>\n",
       "      <td>0.72610</td>\n",
       "      <td>0.726583</td>\n",
       "      <td>0.802730</td>\n",
       "    </tr>\n",
       "    <tr>\n",
       "      <th>TfidfVectorizer 500</th>\n",
       "      <td>0.72240</td>\n",
       "      <td>0.723598</td>\n",
       "      <td>0.803520</td>\n",
       "    </tr>\n",
       "    <tr>\n",
       "      <th>CountVectorizer 500 ngram 2</th>\n",
       "      <td>0.59950</td>\n",
       "      <td>0.661967</td>\n",
       "      <td>0.636240</td>\n",
       "    </tr>\n",
       "    <tr>\n",
       "      <th>TfidfVectorizer 500 ngram 2</th>\n",
       "      <td>0.59925</td>\n",
       "      <td>0.662761</td>\n",
       "      <td>0.636228</td>\n",
       "    </tr>\n",
       "  </tbody>\n",
       "</table>\n",
       "</div>"
      ],
      "text/plain": [
       "                             accuracy  balanced_accuracy   roc_auc\n",
       "CountVectorizer 500           0.72610           0.726583  0.802730\n",
       "TfidfVectorizer 500           0.72240           0.723598  0.803520\n",
       "CountVectorizer 500 ngram 2   0.59950           0.661967  0.636240\n",
       "TfidfVectorizer 500 ngram 2   0.59925           0.662761  0.636228"
      ]
     },
     "metadata": {},
     "output_type": "display_data"
    },
    {
     "name": "stdout",
     "output_type": "stream",
     "text": [
      "stop_words: True, lemmatization: False, negation: True\n"
     ]
    },
    {
     "data": {
      "text/html": [
       "<div>\n",
       "<style scoped>\n",
       "    .dataframe tbody tr th:only-of-type {\n",
       "        vertical-align: middle;\n",
       "    }\n",
       "\n",
       "    .dataframe tbody tr th {\n",
       "        vertical-align: top;\n",
       "    }\n",
       "\n",
       "    .dataframe thead th {\n",
       "        text-align: right;\n",
       "    }\n",
       "</style>\n",
       "<table border=\"1\" class=\"dataframe\">\n",
       "  <thead>\n",
       "    <tr style=\"text-align: right;\">\n",
       "      <th></th>\n",
       "      <th>accuracy</th>\n",
       "      <th>balanced_accuracy</th>\n",
       "      <th>roc_auc</th>\n",
       "    </tr>\n",
       "  </thead>\n",
       "  <tbody>\n",
       "    <tr>\n",
       "      <th>CountVectorizer 500</th>\n",
       "      <td>0.71730</td>\n",
       "      <td>0.719054</td>\n",
       "      <td>0.796916</td>\n",
       "    </tr>\n",
       "    <tr>\n",
       "      <th>TfidfVectorizer 500</th>\n",
       "      <td>0.71665</td>\n",
       "      <td>0.719415</td>\n",
       "      <td>0.801048</td>\n",
       "    </tr>\n",
       "    <tr>\n",
       "      <th>CountVectorizer 500 ngram 2</th>\n",
       "      <td>0.55445</td>\n",
       "      <td>0.619230</td>\n",
       "      <td>0.598269</td>\n",
       "    </tr>\n",
       "    <tr>\n",
       "      <th>TfidfVectorizer 500 ngram 2</th>\n",
       "      <td>0.55405</td>\n",
       "      <td>0.621003</td>\n",
       "      <td>0.597811</td>\n",
       "    </tr>\n",
       "  </tbody>\n",
       "</table>\n",
       "</div>"
      ],
      "text/plain": [
       "                             accuracy  balanced_accuracy   roc_auc\n",
       "CountVectorizer 500           0.71730           0.719054  0.796916\n",
       "TfidfVectorizer 500           0.71665           0.719415  0.801048\n",
       "CountVectorizer 500 ngram 2   0.55445           0.619230  0.598269\n",
       "TfidfVectorizer 500 ngram 2   0.55405           0.621003  0.597811"
      ]
     },
     "metadata": {},
     "output_type": "display_data"
    },
    {
     "name": "stdout",
     "output_type": "stream",
     "text": [
      "Wall time: 1min 26s\n"
     ]
    }
   ],
   "source": [
    "%%time\n",
    "for stop_words in [False, True]:\n",
    "#     for lemmatization in [False, True]:\n",
    "    for lemmatization in [False]:\n",
    "        for negation in [False, True]:\n",
    "            file = \"train\"\n",
    "            if stop_words:\n",
    "                file += \"_stop\"\n",
    "            if lemmatization:\n",
    "                file += \"_lemm\"\n",
    "            if  negation:\n",
    "                file += \"_neg\"\n",
    "            print(f\"stop_words: {stop_words}, lemmatization: {lemmatization}, negation: {negation}\")\n",
    "            df = pd.read_pickle(os.path.join(\"data\", \"sentiment140\", file+\".bz2\")).sample(NB_DATA, random_state=1234)\n",
    "            X = df.text.to_list()\n",
    "            y = df.sentiment.to_list()\n",
    "            comparaison(X, y, 500, MultinomialNB(alpha=1), show_graph=False)"
   ]
  },
  {
   "cell_type": "markdown",
   "metadata": {},
   "source": [
    "La combinaison optimale semble correspondre à `stop_words=False, lemmatization=False, negation=False` pour ce nombre de features."
   ]
  },
  {
   "cell_type": "code",
   "execution_count": 14,
   "metadata": {},
   "outputs": [
    {
     "name": "stdout",
     "output_type": "stream",
     "text": [
      "Wall time: 59 s\n"
     ]
    },
    {
     "data": {
      "image/png": "[encoded data removed]",
      "text/plain": [
       "<Figure size 1440x432 with 3 Axes>"
      ]
     },
     "metadata": {
      "needs_background": "light"
     },
     "output_type": "display_data"
    }
   ],
   "source": [
    "%%time\n",
    "_ = influence_features(X, y, max_features_list, MultinomialNB(alpha=1))"
   ]
  },
  {
   "cell_type": "markdown",
   "metadata": {},
   "source": [
    "## 3.1. Grid Search"
   ]
  },
  {
   "cell_type": "code",
   "execution_count": 15,
   "metadata": {
    "scrolled": true
   },
   "outputs": [
    {
     "name": "stdout",
     "output_type": "stream",
     "text": [
      "{'clf__alpha': 1, 'vect__max_features': None}\n",
      "Wall time: 3min 48s\n"
     ]
    }
   ],
   "source": [
    "%%time\n",
    "#CountVectorizer\n",
    "text_clf = Pipeline([('vect', CountVectorizer()), ('clf', MultinomialNB())])\n",
    "\n",
    "parameters = {'vect__max_features' : [None, 5000, 10000, 20000],\n",
    "          'clf__alpha': [0.001, 0.005, 0.01, 0.05, 0.1, 0.2, 0.5, 0.75, 1]\n",
    "}\n",
    "\n",
    "grid_clf = GridSearchCV(text_clf, parameters, scoring = 'balanced_accuracy', cv=5)\n",
    "_ = grid_clf.fit(X, y)\n",
    "\n",
    "print(grid_clf.best_params_)"
   ]
  },
  {
   "cell_type": "code",
   "execution_count": 16,
   "metadata": {},
   "outputs": [
    {
     "data": {
      "image/png": "[encoded data removed]",
      "text/plain": [
       "<Figure size 432x288 with 2 Axes>"
      ]
     },
     "metadata": {
      "needs_background": "light"
     },
     "output_type": "display_data"
    },
    {
     "name": "stdout",
     "output_type": "stream",
     "text": [
      "Accuracy : 0.7684\n",
      "Balanced accuracy : 0.7684390575051008\n",
      "ROC AUC : 0.8401639569688036\n"
     ]
    }
   ],
   "source": [
    "conf_matrix(X, y, CountVectorizer(max_features=None), MultinomialNB(alpha=1))"
   ]
  },
  {
   "cell_type": "code",
   "execution_count": 17,
   "metadata": {},
   "outputs": [
    {
     "name": "stdout",
     "output_type": "stream",
     "text": [
      "{'clf__alpha': 1, 'idf__max_features': 10000}\n",
      "Wall time: 3min 42s\n"
     ]
    }
   ],
   "source": [
    "%%time\n",
    "#Tfidfvectorizer\n",
    "text_clf = Pipeline([('idf', TfidfVectorizer()), ('clf', MultinomialNB())])\n",
    "\n",
    "parameters = {'idf__max_features' : [None, 5000, 10000, 20000],\n",
    "          'clf__alpha': [0.001, 0.005, 0.01, 0.05, 0.1, 0.2, 0.5, 0.75, 1]\n",
    "}\n",
    "\n",
    "grid_clf = GridSearchCV(text_clf, parameters, scoring = 'balanced_accuracy', cv=5)\n",
    "_ = grid_clf.fit(X, y)\n",
    "\n",
    "print(grid_clf.best_params_)"
   ]
  },
  {
   "cell_type": "code",
   "execution_count": 18,
   "metadata": {},
   "outputs": [
    {
     "data": {
      "image/png": "[encoded data removed]",
      "text/plain": [
       "<Figure size 432x288 with 2 Axes>"
      ]
     },
     "metadata": {
      "needs_background": "light"
     },
     "output_type": "display_data"
    },
    {
     "name": "stdout",
     "output_type": "stream",
     "text": [
      "Accuracy : 0.7656\n",
      "Balanced accuracy : 0.7656743711723449\n",
      "ROC AUC : 0.8464307241518961\n"
     ]
    }
   ],
   "source": [
    "conf_matrix(X, y, TfidfVectorizer(max_features=10000), MultinomialNB(alpha=1))"
   ]
  }
 ],
 "metadata": {
  "kernelspec": {
   "display_name": "Python 3",
   "language": "python",
   "name": "python3"
  },
  "language_info": {
   "codemirror_mode": {
    "name": "ipython",
    "version": 3
   },
   "file_extension": ".py",
   "mimetype": "text/x-python",
   "name": "python",
   "nbconvert_exporter": "python",
   "pygments_lexer": "ipython3",
   "version": "3.6.12"
  }
 },
 "nbformat": 4,
 "nbformat_minor": 4
}
