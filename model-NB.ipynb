{
 "cells": [
  {
   "cell_type": "code",
   "execution_count": 33,
   "metadata": {},
   "outputs": [],
   "source": [
    "import pandas as pd\n",
    "import numpy as np\n",
    "import seaborn as sns\n",
    "import matplotlib.pyplot as plt\n",
    "import nltk\n",
    "from nltk.tokenize import word_tokenize\n",
    "from nltk.corpus import stopwords, wordnet\n",
    "from nltk.stem import WordNetLemmatizer\n",
    "import re\n",
    "import sklearn\n",
    "from sklearn.model_selection import train_test_split\n",
    "from sklearn.metrics import confusion_matrix\n",
    "from sklearn import metrics\n",
    "import os"
   ]
  },
  {
   "cell_type": "markdown",
   "metadata": {},
   "source": [
    "# Chargement de la base Sentiment140 préprocessée "
   ]
  },
  {
   "cell_type": "code",
   "execution_count": 2,
   "metadata": {},
   "outputs": [],
   "source": [
    "STOP_WORDS = True\n",
    "LEMMATIZATION = True\n",
    "file = \"train\"\n",
    "if STOP_WORDS:\n",
    "    file += \"_stop\"\n",
    "if LEMMATIZATION:\n",
    "    file += \"_lemm\"\n",
    "df = pd.read_pickle(os.path.join(\"data\", \"sentiment140\", file+\".bz2\"))"
   ]
  },
  {
   "cell_type": "code",
   "execution_count": 3,
   "metadata": {},
   "outputs": [
    {
     "data": {
      "text/html": [
       "<div>\n",
       "<style scoped>\n",
       "    .dataframe tbody tr th:only-of-type {\n",
       "        vertical-align: middle;\n",
       "    }\n",
       "\n",
       "    .dataframe tbody tr th {\n",
       "        vertical-align: top;\n",
       "    }\n",
       "\n",
       "    .dataframe thead th {\n",
       "        text-align: right;\n",
       "    }\n",
       "</style>\n",
       "<table border=\"1\" class=\"dataframe\">\n",
       "  <thead>\n",
       "    <tr style=\"text-align: right;\">\n",
       "      <th></th>\n",
       "      <th>sentiment</th>\n",
       "      <th>id</th>\n",
       "      <th>date</th>\n",
       "      <th>query_string</th>\n",
       "      <th>user</th>\n",
       "      <th>text</th>\n",
       "    </tr>\n",
       "  </thead>\n",
       "  <tbody>\n",
       "    <tr>\n",
       "      <th>1062048</th>\n",
       "      <td>Positive</td>\n",
       "      <td>1964017646</td>\n",
       "      <td>Fri May 29 13:35:57 PDT 2009</td>\n",
       "      <td>NO_QUERY</td>\n",
       "      <td>ashakur</td>\n",
       "      <td>@PcShakur I guess so. We should go make it a f...</td>\n",
       "    </tr>\n",
       "    <tr>\n",
       "      <th>1236895</th>\n",
       "      <td>Positive</td>\n",
       "      <td>1992914899</td>\n",
       "      <td>Mon Jun 01 09:31:47 PDT 2009</td>\n",
       "      <td>NO_QUERY</td>\n",
       "      <td>RabbiShaiSpecht</td>\n",
       "      <td>@PsychicSophie Thank you!</td>\n",
       "    </tr>\n",
       "    <tr>\n",
       "      <th>1237054</th>\n",
       "      <td>Positive</td>\n",
       "      <td>1992954642</td>\n",
       "      <td>Mon Jun 01 09:35:38 PDT 2009</td>\n",
       "      <td>NO_QUERY</td>\n",
       "      <td>RobinRene7</td>\n",
       "      <td>it's just another day here at the office...I a...</td>\n",
       "    </tr>\n",
       "    <tr>\n",
       "      <th>229979</th>\n",
       "      <td>Negative</td>\n",
       "      <td>1978627799</td>\n",
       "      <td>Sat May 30 23:57:09 PDT 2009</td>\n",
       "      <td>NO_QUERY</td>\n",
       "      <td>valfvergara</td>\n",
       "      <td>@triciasays i miss kickboxing</td>\n",
       "    </tr>\n",
       "    <tr>\n",
       "      <th>760772</th>\n",
       "      <td>Negative</td>\n",
       "      <td>2296927988</td>\n",
       "      <td>Tue Jun 23 09:48:35 PDT 2009</td>\n",
       "      <td>NO_QUERY</td>\n",
       "      <td>SarahAnnGreen</td>\n",
       "      <td>@AmandaFClark Thats rubbish!</td>\n",
       "    </tr>\n",
       "    <tr>\n",
       "      <th>...</th>\n",
       "      <td>...</td>\n",
       "      <td>...</td>\n",
       "      <td>...</td>\n",
       "      <td>...</td>\n",
       "      <td>...</td>\n",
       "      <td>...</td>\n",
       "    </tr>\n",
       "    <tr>\n",
       "      <th>46422</th>\n",
       "      <td>Negative</td>\n",
       "      <td>1677402582</td>\n",
       "      <td>Sat May 02 01:53:46 PDT 2009</td>\n",
       "      <td>NO_QUERY</td>\n",
       "      <td>kmac1984</td>\n",
       "      <td>wondering what the hell is gonna happen next??...</td>\n",
       "    </tr>\n",
       "    <tr>\n",
       "      <th>34170</th>\n",
       "      <td>Negative</td>\n",
       "      <td>1564728728</td>\n",
       "      <td>Mon Apr 20 04:42:44 PDT 2009</td>\n",
       "      <td>NO_QUERY</td>\n",
       "      <td>engers</td>\n",
       "      <td>@jkoxvold Me too</td>\n",
       "    </tr>\n",
       "    <tr>\n",
       "      <th>888464</th>\n",
       "      <td>Positive</td>\n",
       "      <td>1687307615</td>\n",
       "      <td>Sun May 03 08:20:39 PDT 2009</td>\n",
       "      <td>NO_QUERY</td>\n",
       "      <td>_Alectrona_</td>\n",
       "      <td>I'm off  Will maybe tweet later...Bye!</td>\n",
       "    </tr>\n",
       "    <tr>\n",
       "      <th>292279</th>\n",
       "      <td>Negative</td>\n",
       "      <td>1995953530</td>\n",
       "      <td>Mon Jun 01 14:18:18 PDT 2009</td>\n",
       "      <td>NO_QUERY</td>\n",
       "      <td>TraceyyMartinn</td>\n",
       "      <td>stomach hurts  and i desperatly want to go sho...</td>\n",
       "    </tr>\n",
       "    <tr>\n",
       "      <th>267567</th>\n",
       "      <td>Negative</td>\n",
       "      <td>1989221084</td>\n",
       "      <td>Mon Jun 01 00:45:50 PDT 2009</td>\n",
       "      <td>NO_QUERY</td>\n",
       "      <td>SW_77</td>\n",
       "      <td>ahhh have a flat tyre.. ahh and I have to go t...</td>\n",
       "    </tr>\n",
       "  </tbody>\n",
       "</table>\n",
       "<p>50000 rows × 6 columns</p>\n",
       "</div>"
      ],
      "text/plain": [
       "        sentiment          id                          date query_string  \\\n",
       "1062048  Positive  1964017646  Fri May 29 13:35:57 PDT 2009     NO_QUERY   \n",
       "1236895  Positive  1992914899  Mon Jun 01 09:31:47 PDT 2009     NO_QUERY   \n",
       "1237054  Positive  1992954642  Mon Jun 01 09:35:38 PDT 2009     NO_QUERY   \n",
       "229979   Negative  1978627799  Sat May 30 23:57:09 PDT 2009     NO_QUERY   \n",
       "760772   Negative  2296927988  Tue Jun 23 09:48:35 PDT 2009     NO_QUERY   \n",
       "...           ...         ...                           ...          ...   \n",
       "46422    Negative  1677402582  Sat May 02 01:53:46 PDT 2009     NO_QUERY   \n",
       "34170    Negative  1564728728  Mon Apr 20 04:42:44 PDT 2009     NO_QUERY   \n",
       "888464   Positive  1687307615  Sun May 03 08:20:39 PDT 2009     NO_QUERY   \n",
       "292279   Negative  1995953530  Mon Jun 01 14:18:18 PDT 2009     NO_QUERY   \n",
       "267567   Negative  1989221084  Mon Jun 01 00:45:50 PDT 2009     NO_QUERY   \n",
       "\n",
       "                    user                                               text  \n",
       "1062048          ashakur  @PcShakur I guess so. We should go make it a f...  \n",
       "1236895  RabbiShaiSpecht                         @PsychicSophie Thank you!   \n",
       "1237054       RobinRene7  it's just another day here at the office...I a...  \n",
       "229979       valfvergara                     @triciasays i miss kickboxing   \n",
       "760772     SarahAnnGreen                      @AmandaFClark Thats rubbish!   \n",
       "...                  ...                                                ...  \n",
       "46422           kmac1984  wondering what the hell is gonna happen next??...  \n",
       "34170             engers                                  @jkoxvold Me too   \n",
       "888464       _Alectrona_             I'm off  Will maybe tweet later...Bye!  \n",
       "292279    TraceyyMartinn  stomach hurts  and i desperatly want to go sho...  \n",
       "267567             SW_77  ahhh have a flat tyre.. ahh and I have to go t...  \n",
       "\n",
       "[50000 rows x 6 columns]"
      ]
     },
     "execution_count": 3,
     "metadata": {},
     "output_type": "execute_result"
    }
   ],
   "source": [
    "df = df.sample(50000, random_state=1234)\n",
    "df.sentiment = df.sentiment.apply(lambda x: 'Negative' if x == 0 else 'Positive')\n",
    "df"
   ]
  },
  {
   "cell_type": "markdown",
   "metadata": {},
   "source": [
    "# Count Vectorizer"
   ]
  },
  {
   "cell_type": "code",
   "execution_count": 4,
   "metadata": {},
   "outputs": [],
   "source": [
    "from sklearn.feature_extraction.text import CountVectorizer\n",
    "\n",
    "vectorizer = CountVectorizer(min_df=0.001)\n",
    "\n",
    "\n",
    "X = df.text.to_list()\n",
    "Y = df.sentiment.to_list()\n",
    "\n",
    "X_vec = vectorizer.fit_transform(X).toarray()"
   ]
  },
  {
   "cell_type": "code",
   "execution_count": 5,
   "metadata": {},
   "outputs": [],
   "source": [
    "X_train, X_test, y_train, y_test  = train_test_split(\n",
    "        X_vec, \n",
    "        Y,\n",
    "        train_size=0.80,\n",
    "        random_state=1234)"
   ]
  },
  {
   "cell_type": "code",
   "execution_count": 6,
   "metadata": {},
   "outputs": [],
   "source": [
    "def conf_matrix(y_pred, y_test, model):\n",
    "    sc_accuracy = sklearn.metrics.accuracy_score(y_pred, y_test)\n",
    "    sc_f1 = sklearn.metrics.f1_score(y_pred, y_test, pos_label=\"Positive\")\n",
    "    sc_recall = sklearn.metrics.recall_score(y_pred, y_test, pos_label=\"Positive\")\n",
    "    sc_precision = sklearn.metrics.precision_score(y_pred, y_test, pos_label=\"Positive\")\n",
    "\n",
    "    sklearn.metrics.plot_confusion_matrix(model, X_test, y_test)\n",
    "    plt.show()\n",
    "\n",
    "    print(f\"Accuracy : {sc_accuracy}\")\n",
    "    print(f\"Recall : {sc_recall}\")\n",
    "    print(f\"Precision : {sc_precision}\")\n",
    "    print(f\"F1 : {sc_f1}\")"
   ]
  },
  {
   "cell_type": "markdown",
   "metadata": {},
   "source": [
    "# Gaussian Naive Bayes"
   ]
  },
  {
   "cell_type": "code",
   "execution_count": 7,
   "metadata": {},
   "outputs": [],
   "source": [
    "from sklearn.naive_bayes import GaussianNB\n",
    "from sklearn.pipeline import make_pipeline\n",
    "from sklearn.preprocessing import StandardScaler\n",
    "\n",
    "gauss = GaussianNB()\n",
    "gauss.fit(X_train, y_train)\n",
    "y_pred = gauss.predict(X_test)"
   ]
  },
  {
   "cell_type": "code",
   "execution_count": 8,
   "metadata": {},
   "outputs": [
    {
     "data": {
      "image/png": "[encoded data removed]",
      "text/plain": [
       "<Figure size 432x288 with 2 Axes>"
      ]
     },
     "metadata": {
      "needs_background": "light"
     },
     "output_type": "display_data"
    },
    {
     "name": "stdout",
     "output_type": "stream",
     "text": [
      "Accuracy : 0.6895\n",
      "Recall : 0.6609945481579382\n",
      "Precision : 0.7916501780767708\n",
      "F1 : 0.7204465652291347\n"
     ]
    }
   ],
   "source": [
    "conf_matrix(y_pred, y_test, gauss)"
   ]
  },
  {
   "cell_type": "code",
   "execution_count": 9,
   "metadata": {},
   "outputs": [],
   "source": [
    "# Fit to data and predict using pipelined scaling, GNB.\n",
    "gauss = make_pipeline(StandardScaler(), GaussianNB())\n",
    "gauss.fit(X_train, y_train)\n",
    "y_pred = gauss.predict(X_test)"
   ]
  },
  {
   "cell_type": "code",
   "execution_count": 10,
   "metadata": {},
   "outputs": [
    {
     "data": {
      "image/png": "[encoded data removed]",
      "text/plain": [
       "<Figure size 432x288 with 2 Axes>"
      ]
     },
     "metadata": {
      "needs_background": "light"
     },
     "output_type": "display_data"
    },
    {
     "name": "stdout",
     "output_type": "stream",
     "text": [
      "Accuracy : 0.6895\n",
      "Recall : 0.6609945481579382\n",
      "Precision : 0.7916501780767708\n",
      "F1 : 0.7204465652291347\n"
     ]
    }
   ],
   "source": [
    "conf_matrix(y_pred, y_test, gauss)"
   ]
  },
  {
   "cell_type": "markdown",
   "metadata": {},
   "source": [
    "# Naive Bayes using TD IDF"
   ]
  },
  {
   "cell_type": "code",
   "execution_count": 18,
   "metadata": {},
   "outputs": [],
   "source": [
    "from sklearn.feature_extraction.text import TfidfVectorizer, TfidfTransformer\n",
    "from sklearn.naive_bayes import MultinomialNB\n",
    "from sklearn.pipeline import Pipeline"
   ]
  },
  {
   "cell_type": "code",
   "execution_count": 12,
   "metadata": {},
   "outputs": [
    {
     "data": {
      "text/plain": [
       "<50000x1150 sparse matrix of type '<class 'numpy.float64'>'\n",
       "\twith 449589 stored elements in Compressed Sparse Row format>"
      ]
     },
     "execution_count": 12,
     "metadata": {},
     "output_type": "execute_result"
    }
   ],
   "source": [
    "#Création du TD IDF Vectorizer\n",
    "vectorizer2 = TfidfVectorizer(min_df=0.001)\n",
    "vectorizer2.fit_transform(df.text)"
   ]
  },
  {
   "cell_type": "code",
   "execution_count": 13,
   "metadata": {},
   "outputs": [],
   "source": [
    "X_vec2 = vectorizer2.fit_transform(X).toarray()\n",
    "\n",
    "X_train2, X_test2, y_train2, y_test2  = train_test_split(\n",
    "        X_vec2, \n",
    "        Y,\n",
    "        train_size=0.80,\n",
    "        random_state=1234)"
   ]
  },
  {
   "cell_type": "code",
   "execution_count": 14,
   "metadata": {},
   "outputs": [
    {
     "data": {
      "image/png": "[encoded data removed]",
      "text/plain": [
       "<Figure size 432x288 with 2 Axes>"
      ]
     },
     "metadata": {
      "needs_background": "light"
     },
     "output_type": "display_data"
    },
    {
     "name": "stdout",
     "output_type": "stream",
     "text": [
      "Accuracy : 0.7024\n",
      "Recall : 0.6844815340909091\n",
      "Precision : 0.7627621685793431\n",
      "F1 : 0.7215047725996632\n"
     ]
    }
   ],
   "source": [
    "#Utilisation du GaussianNB\n",
    "gauss = GaussianNB()\n",
    "gauss.fit(X_train2, y_train2)\n",
    "y_pred2_gauss = gauss.predict(X_test2)\n",
    "conf_matrix(y_pred2_gauss, y_test2, gauss)"
   ]
  },
  {
   "cell_type": "code",
   "execution_count": 15,
   "metadata": {},
   "outputs": [
    {
     "data": {
      "image/png": "[encoded data removed]",
      "text/plain": [
       "<Figure size 432x288 with 2 Axes>"
      ]
     },
     "metadata": {
      "needs_background": "light"
     },
     "output_type": "display_data"
    },
    {
     "name": "stdout",
     "output_type": "stream",
     "text": [
      "Accuracy : 0.7446\n",
      "Recall : 0.7567789646672145\n",
      "Precision : 0.7289275821131777\n",
      "F1 : 0.7425922193106229\n"
     ]
    }
   ],
   "source": [
    "#Utilisation du MultinomialNB\n",
    "multi = MultinomialNB(alpha=1) #par défaut alpha=1 : Laplace smoothing parameter\n",
    "multi.fit(X_train2, y_train2)\n",
    "y_pred2_multi = multi.predict(X_test2)\n",
    "conf_matrix(y_pred2_multi,y_test2, gauss)"
   ]
  },
  {
   "cell_type": "markdown",
   "metadata": {},
   "source": [
    "# Grid Search"
   ]
  },
  {
   "cell_type": "code",
   "execution_count": 42,
   "metadata": {},
   "outputs": [
    {
     "data": {
      "text/plain": [
       "{'clf__alpha': 1, 'tfidf__use_idf': False, 'vect__max_features': 5000}"
      ]
     },
     "execution_count": 42,
     "metadata": {},
     "output_type": "execute_result"
    }
   ],
   "source": [
    "from sklearn.model_selection import GridSearchCV\n",
    "\n",
    "text_clf = Pipeline([('vect', CountVectorizer()),\n",
    "                 ('tfidf', TfidfTransformer()),\n",
    "                 ('clf', MultinomialNB())])\n",
    "\n",
    "parameters = {'vect__max_features' : [None, 500, 1000, 2000, 5000],\n",
    "          'tfidf__use_idf': [True, False],\n",
    "          'clf__alpha': [0.001, 0.005, 0.01, 0.05, 0.1, 0.2, 0.5, 0.75, 1],\n",
    "}\n",
    "\n",
    "grid_clf = GridSearchCV(text_clf, parameters, scoring = 'balanced_accuracy', cv=5)\n",
    "_ = grid_clf.fit(X, Y)\n",
    "\n",
    "grid_clf.best_params_"
   ]
  },
  {
   "cell_type": "code",
   "execution_count": null,
   "metadata": {},
   "outputs": [],
   "source": []
  }
 ],
 "metadata": {
  "kernelspec": {
   "display_name": "Python 3",
   "language": "python",
   "name": "python3"
  },
  "language_info": {
   "codemirror_mode": {
    "name": "ipython",
    "version": 3
   },
   "file_extension": ".py",
   "mimetype": "text/x-python",
   "name": "python",
   "nbconvert_exporter": "python",
   "pygments_lexer": "ipython3",
   "version": "3.6.12"
  }
 },
 "nbformat": 4,
 "nbformat_minor": 4
}
