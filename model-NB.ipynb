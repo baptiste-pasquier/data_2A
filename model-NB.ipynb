{
 "cells": [
  {
   "cell_type": "code",
   "execution_count": 1,
   "metadata": {},
   "outputs": [],
   "source": [
    "import pandas as pd\n",
    "import numpy as np\n",
    "import seaborn as sns\n",
    "import matplotlib.pyplot as plt\n",
    "import nltk\n",
    "from nltk.tokenize import word_tokenize\n",
    "from nltk.corpus import stopwords, wordnet\n",
    "from nltk.stem import WordNetLemmatizer\n",
    "import re\n",
    "import sklearn\n",
    "from sklearn.model_selection import train_test_split\n",
    "from sklearn.metrics import confusion_matrix\n",
    "import os"
   ]
  },
  {
   "cell_type": "markdown",
   "metadata": {},
   "source": [
    "# Chargement de la base Sentiment140 préprocessée "
   ]
  },
  {
   "cell_type": "code",
   "execution_count": 3,
   "metadata": {},
   "outputs": [],
   "source": [
    "STOP_WORDS = True\n",
    "LEMMATIZATION = True\n",
    "file = \"train\"\n",
    "if STOP_WORDS:\n",
    "    file += \"_stop\"\n",
    "if LEMMATIZATION:\n",
    "    file += \"_lemm\"\n",
    "df = pd.read_pickle(os.path.join(\"data\", \"sentiment140\", file+\".bz2\"))"
   ]
  },
  {
   "cell_type": "code",
   "execution_count": 4,
   "metadata": {},
   "outputs": [],
   "source": [
    "df = df.sample(50000, random_state=1234)\n",
    "df.sentiment = df.sentiment.apply(lambda x: 'Negative' if x == 0 else 'Positive')\n",
    "df"
   ]
  },
  {
   "cell_type": "markdown",
   "metadata": {},
   "source": [
    "# Count Vectorizer"
   ]
  },
  {
   "cell_type": "code",
   "execution_count": 58,
   "metadata": {},
   "outputs": [],
   "source": [
    "vectorizer = CountVectorizer(min_df=0.001)\n",
    "\n",
    "\n",
    "X = df.text.to_list()\n",
    "Y = df.sentiment.to_list()\n",
    "\n",
    "X_vec = vectorizer.fit_transform(X).toarray()"
   ]
  },
  {
   "cell_type": "code",
   "execution_count": 22,
   "metadata": {},
   "outputs": [],
   "source": [
    "X_train, X_test, y_train, y_test  = train_test_split(\n",
    "        X_vec, \n",
    "        Y,\n",
    "        train_size=0.80,\n",
    "        random_state=1234)"
   ]
  },
  {
   "cell_type": "code",
   "execution_count": 25,
   "metadata": {},
   "outputs": [],
   "source": [
    "def conf_matrix(y_pred, y_test, model):\n",
    "    sc_accuracy = sklearn.metrics.accuracy_score(y_pred, y_test)\n",
    "    sc_f1 = sklearn.metrics.f1_score(y_pred, y_test, pos_label=\"Positive\")\n",
    "    sc_recall = sklearn.metrics.recall_score(y_pred, y_test, pos_label=\"Positive\")\n",
    "    sc_precision = sklearn.metrics.precision_score(y_pred, y_test, pos_label=\"Positive\")\n",
    "\n",
    "    sklearn.metrics.plot_confusion_matrix(model, X_test, y_test)\n",
    "    plt.show()\n",
    "\n",
    "    print(f\"Accuracy : {sc_accuracy}\")\n",
    "    print(f\"Recall : {sc_recall}\")\n",
    "    print(f\"Precision : {sc_precision}\")\n",
    "    print(f\"F1 : {sc_f1}\")"
   ]
  },
  {
   "cell_type": "markdown",
   "metadata": {},
   "source": [
    "# Gaussian Naive Bayes"
   ]
  },
  {
   "cell_type": "code",
   "execution_count": 34,
   "metadata": {},
   "outputs": [],
   "source": [
    "from sklearn.naive_bayes import GaussianNB\n",
    "\n",
    "gauss = GaussianNB()\n",
    "gauss.fit(X_train, y_train)\n",
    "y_pred = gauss.predict(X_test)"
   ]
  },
  {
   "cell_type": "code",
   "execution_count": 35,
   "metadata": {},
   "outputs": [
    {
     "data": {
      "image/png": "[encoded data removed]",
      "text/plain": [
       "<Figure size 432x288 with 2 Axes>"
      ]
     },
     "metadata": {
      "needs_background": "light"
     },
     "output_type": "display_data"
    },
    {
     "name": "stdout",
     "output_type": "stream",
     "text": [
      "Accuracy : 0.6845\n",
      "Recall : 0.6563477688127779\n",
      "Precision : 0.7886822318955283\n",
      "F1 : 0.7164554686797878\n"
     ]
    }
   ],
   "source": [
    "conf_matrix(y_pred, y_test, gauss)"
   ]
  },
  {
   "cell_type": "code",
   "execution_count": 36,
   "metadata": {},
   "outputs": [],
   "source": [
    "# Fit to data and predict using pipelined scaling, GNB.\n",
    "gauss = make_pipeline(StandardScaler(), GaussianNB())\n",
    "gauss.fit(X_train, y_train)\n",
    "y_pred = gauss.predict(X_test)"
   ]
  },
  {
   "cell_type": "code",
   "execution_count": 37,
   "metadata": {},
   "outputs": [
    {
     "data": {
      "image/png": "[encoded data removed]",
      "text/plain": [
       "<Figure size 432x288 with 2 Axes>"
      ]
     },
     "metadata": {
      "needs_background": "light"
     },
     "output_type": "display_data"
    },
    {
     "name": "stdout",
     "output_type": "stream",
     "text": [
      "Accuracy : 0.6845\n",
      "Recall : 0.6563477688127779\n",
      "Precision : 0.7886822318955283\n",
      "F1 : 0.7164554686797878\n"
     ]
    }
   ],
   "source": [
    "conf_matrix(y_pred, y_test, gauss)"
   ]
  },
  {
   "cell_type": "markdown",
   "metadata": {},
   "source": [
    "# Naive Bayes using TD IDF"
   ]
  },
  {
   "cell_type": "code",
   "execution_count": 39,
   "metadata": {},
   "outputs": [],
   "source": [
    "from sklearn.feature_extraction.text import TfidfVectorizer\n",
    "from sklearn.naive_bayes import MultinomialNB\n",
    "from sklearn.pipeline import Pipeline"
   ]
  },
  {
   "cell_type": "code",
   "execution_count": 61,
   "metadata": {},
   "outputs": [
    {
     "data": {
      "text/plain": [
       "<50000x1051 sparse matrix of type '<class 'numpy.float64'>'\n",
       "\twith 454479 stored elements in Compressed Sparse Row format>"
      ]
     },
     "execution_count": 61,
     "metadata": {},
     "output_type": "execute_result"
    }
   ],
   "source": [
    "#Création du TD IDF Vectorizer\n",
    "vectorizer2 = TfidfVectorizer(min_df=0.001)\n",
    "vectorizer2.fit_transform(df.text)"
   ]
  },
  {
   "cell_type": "code",
   "execution_count": 66,
   "metadata": {},
   "outputs": [],
   "source": [
    "X_vec2 = vectorizer2.fit_transform(X).toarray()\n",
    "\n",
    "X_train2, X_test2, y_train2, y_test2  = train_test_split(\n",
    "        X_vec2, \n",
    "        Y,\n",
    "        train_size=0.80,\n",
    "        random_state=1234)"
   ]
  },
  {
   "cell_type": "code",
   "execution_count": 69,
   "metadata": {},
   "outputs": [
    {
     "data": {
      "image/png": "[encoded data removed]",
      "text/plain": [
       "<Figure size 432x288 with 2 Axes>"
      ]
     },
     "metadata": {
      "needs_background": "light"
     },
     "output_type": "display_data"
    },
    {
     "name": "stdout",
     "output_type": "stream",
     "text": [
      "Accuracy : 0.7006\n",
      "Recall : 0.6885756133284511\n",
      "Precision : 0.7441630391768896\n",
      "F1 : 0.7152909851654622\n"
     ]
    }
   ],
   "source": [
    "#Utilisation du GaussianNB\n",
    "gauss = GaussianNB()\n",
    "gauss.fit(X_train2, y_train2)\n",
    "y_pred2_gauss = gauss.predict(X_test2)\n",
    "conf_matrix(y_pred2_gauss, y_test2, gauss)"
   ]
  },
  {
   "cell_type": "code",
   "execution_count": 73,
   "metadata": {},
   "outputs": [
    {
     "data": {
      "image/png": "[encoded data removed]",
      "text/plain": [
       "<Figure size 432x288 with 2 Axes>"
      ]
     },
     "metadata": {
      "needs_background": "light"
     },
     "output_type": "display_data"
    },
    {
     "name": "stdout",
     "output_type": "stream",
     "text": [
      "Accuracy : 0.7428\n",
      "Recall : 0.7537832310838446\n",
      "Precision : 0.7293233082706767\n",
      "F1 : 0.7413515687851971\n"
     ]
    }
   ],
   "source": [
    "#Utilisation du MultinomialNB\n",
    "multi = MultinomialNB(alpha=1) #par défaut alpha=1 : Laplace smoothing parameter\n",
    "multi.fit(X_train2, y_train2)\n",
    "y_pred2_multi = multi.predict(X_test2)\n",
    "conf_matrix(y_pred2_multi,y_test2, gauss)"
   ]
  }
 ],
 "metadata": {
  "kernelspec": {
   "display_name": "Python 3",
   "language": "python",
   "name": "python3"
  },
  "language_info": {
   "codemirror_mode": {
    "name": "ipython",
    "version": 3
   },
   "file_extension": ".py",
   "mimetype": "text/x-python",
   "name": "python",
   "nbconvert_exporter": "python",
   "pygments_lexer": "ipython3",
   "version": "3.6.11"
  }
 },
 "nbformat": 4,
 "nbformat_minor": 4
}
