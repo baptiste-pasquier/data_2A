{
 "cells": [
  {
   "cell_type": "code",
   "execution_count": 2,
   "metadata": {},
   "outputs": [],
   "source": [
    "import pandas as pd\n",
    "import numpy as np\n",
    "import seaborn as sns\n",
    "import matplotlib.pyplot as plt\n",
    "import nltk\n",
    "from nltk.tokenize import word_tokenize\n",
    "from nltk.corpus import stopwords, wordnet\n",
    "from nltk.stem import WordNetLemmatizer\n",
    "import re\n",
    "import sklearn"
   ]
  },
  {
   "cell_type": "code",
   "execution_count": 3,
   "metadata": {},
   "outputs": [],
   "source": [
    "cols = ['sentiment','id','date','query_string','user','text']\n",
    "df = pd.read_csv(\"data/sentiment140/training.csv\",header=None, names=cols)\n",
    "df[df.sentiment.isin([0,4])]\n",
    "df = df.sample(10000, random_state=1234)\n",
    "df.sentiment = df.sentiment.apply(lambda x: 'Negative' if x == 0 else 'Positive')"
   ]
  },
  {
   "cell_type": "code",
   "execution_count": 4,
   "metadata": {},
   "outputs": [
    {
     "data": {
      "text/html": [
       "<div>\n",
       "<style scoped>\n",
       "    .dataframe tbody tr th:only-of-type {\n",
       "        vertical-align: middle;\n",
       "    }\n",
       "\n",
       "    .dataframe tbody tr th {\n",
       "        vertical-align: top;\n",
       "    }\n",
       "\n",
       "    .dataframe thead th {\n",
       "        text-align: right;\n",
       "    }\n",
       "</style>\n",
       "<table border=\"1\" class=\"dataframe\">\n",
       "  <thead>\n",
       "    <tr style=\"text-align: right;\">\n",
       "      <th></th>\n",
       "      <th>sentiment</th>\n",
       "      <th>id</th>\n",
       "      <th>date</th>\n",
       "      <th>query_string</th>\n",
       "      <th>user</th>\n",
       "      <th>text</th>\n",
       "    </tr>\n",
       "  </thead>\n",
       "  <tbody>\n",
       "    <tr>\n",
       "      <th>1062048</th>\n",
       "      <td>Positive</td>\n",
       "      <td>1964017646</td>\n",
       "      <td>Fri May 29 13:35:57 PDT 2009</td>\n",
       "      <td>NO_QUERY</td>\n",
       "      <td>ashakur</td>\n",
       "      <td>@PcShakur I guess so. We should go make it a f...</td>\n",
       "    </tr>\n",
       "    <tr>\n",
       "      <th>1236895</th>\n",
       "      <td>Positive</td>\n",
       "      <td>1992914899</td>\n",
       "      <td>Mon Jun 01 09:31:47 PDT 2009</td>\n",
       "      <td>NO_QUERY</td>\n",
       "      <td>RabbiShaiSpecht</td>\n",
       "      <td>@PsychicSophie Thank you!</td>\n",
       "    </tr>\n",
       "    <tr>\n",
       "      <th>1237054</th>\n",
       "      <td>Positive</td>\n",
       "      <td>1992954642</td>\n",
       "      <td>Mon Jun 01 09:35:38 PDT 2009</td>\n",
       "      <td>NO_QUERY</td>\n",
       "      <td>RobinRene7</td>\n",
       "      <td>it's just another day here at the office...I a...</td>\n",
       "    </tr>\n",
       "    <tr>\n",
       "      <th>229979</th>\n",
       "      <td>Negative</td>\n",
       "      <td>1978627799</td>\n",
       "      <td>Sat May 30 23:57:09 PDT 2009</td>\n",
       "      <td>NO_QUERY</td>\n",
       "      <td>valfvergara</td>\n",
       "      <td>@triciasays i miss kickboxing</td>\n",
       "    </tr>\n",
       "    <tr>\n",
       "      <th>760772</th>\n",
       "      <td>Negative</td>\n",
       "      <td>2296927988</td>\n",
       "      <td>Tue Jun 23 09:48:35 PDT 2009</td>\n",
       "      <td>NO_QUERY</td>\n",
       "      <td>SarahAnnGreen</td>\n",
       "      <td>@AmandaFClark Thats rubbish!</td>\n",
       "    </tr>\n",
       "    <tr>\n",
       "      <th>...</th>\n",
       "      <td>...</td>\n",
       "      <td>...</td>\n",
       "      <td>...</td>\n",
       "      <td>...</td>\n",
       "      <td>...</td>\n",
       "      <td>...</td>\n",
       "    </tr>\n",
       "    <tr>\n",
       "      <th>982398</th>\n",
       "      <td>Positive</td>\n",
       "      <td>1834201425</td>\n",
       "      <td>Mon May 18 02:01:12 PDT 2009</td>\n",
       "      <td>NO_QUERY</td>\n",
       "      <td>kirrawrr</td>\n",
       "      <td>today was sooo fun  made videos with @angielilly</td>\n",
       "    </tr>\n",
       "    <tr>\n",
       "      <th>557203</th>\n",
       "      <td>Negative</td>\n",
       "      <td>2204457723</td>\n",
       "      <td>Wed Jun 17 02:16:04 PDT 2009</td>\n",
       "      <td>NO_QUERY</td>\n",
       "      <td>bridd</td>\n",
       "      <td>@DC_Zol looks like OS 3.0 will be released 10a...</td>\n",
       "    </tr>\n",
       "    <tr>\n",
       "      <th>692131</th>\n",
       "      <td>Negative</td>\n",
       "      <td>2252422682</td>\n",
       "      <td>Sat Jun 20 06:13:59 PDT 2009</td>\n",
       "      <td>NO_QUERY</td>\n",
       "      <td>astarmain</td>\n",
       "      <td>@broddo Saffer arm under the ball</td>\n",
       "    </tr>\n",
       "    <tr>\n",
       "      <th>1345176</th>\n",
       "      <td>Positive</td>\n",
       "      <td>2043953534</td>\n",
       "      <td>Fri Jun 05 08:39:25 PDT 2009</td>\n",
       "      <td>NO_QUERY</td>\n",
       "      <td>keiko25</td>\n",
       "      <td>So happy to have warm weather and sun!</td>\n",
       "    </tr>\n",
       "    <tr>\n",
       "      <th>485662</th>\n",
       "      <td>Negative</td>\n",
       "      <td>2181218743</td>\n",
       "      <td>Mon Jun 15 11:31:45 PDT 2009</td>\n",
       "      <td>NO_QUERY</td>\n",
       "      <td>domipooh</td>\n",
       "      <td>@technol21 thanks, and sorry for the graphics ...</td>\n",
       "    </tr>\n",
       "  </tbody>\n",
       "</table>\n",
       "<p>10000 rows × 6 columns</p>\n",
       "</div>"
      ],
      "text/plain": [
       "        sentiment          id                          date query_string  \\\n",
       "1062048  Positive  1964017646  Fri May 29 13:35:57 PDT 2009     NO_QUERY   \n",
       "1236895  Positive  1992914899  Mon Jun 01 09:31:47 PDT 2009     NO_QUERY   \n",
       "1237054  Positive  1992954642  Mon Jun 01 09:35:38 PDT 2009     NO_QUERY   \n",
       "229979   Negative  1978627799  Sat May 30 23:57:09 PDT 2009     NO_QUERY   \n",
       "760772   Negative  2296927988  Tue Jun 23 09:48:35 PDT 2009     NO_QUERY   \n",
       "...           ...         ...                           ...          ...   \n",
       "982398   Positive  1834201425  Mon May 18 02:01:12 PDT 2009     NO_QUERY   \n",
       "557203   Negative  2204457723  Wed Jun 17 02:16:04 PDT 2009     NO_QUERY   \n",
       "692131   Negative  2252422682  Sat Jun 20 06:13:59 PDT 2009     NO_QUERY   \n",
       "1345176  Positive  2043953534  Fri Jun 05 08:39:25 PDT 2009     NO_QUERY   \n",
       "485662   Negative  2181218743  Mon Jun 15 11:31:45 PDT 2009     NO_QUERY   \n",
       "\n",
       "                    user                                               text  \n",
       "1062048          ashakur  @PcShakur I guess so. We should go make it a f...  \n",
       "1236895  RabbiShaiSpecht                         @PsychicSophie Thank you!   \n",
       "1237054       RobinRene7  it's just another day here at the office...I a...  \n",
       "229979       valfvergara                     @triciasays i miss kickboxing   \n",
       "760772     SarahAnnGreen                      @AmandaFClark Thats rubbish!   \n",
       "...                  ...                                                ...  \n",
       "982398          kirrawrr   today was sooo fun  made videos with @angielilly  \n",
       "557203             bridd  @DC_Zol looks like OS 3.0 will be released 10a...  \n",
       "692131         astarmain                 @broddo Saffer arm under the ball   \n",
       "1345176          keiko25            So happy to have warm weather and sun!   \n",
       "485662          domipooh  @technol21 thanks, and sorry for the graphics ...  \n",
       "\n",
       "[10000 rows x 6 columns]"
      ]
     },
     "execution_count": 4,
     "metadata": {},
     "output_type": "execute_result"
    }
   ],
   "source": [
    "df"
   ]
  },
  {
   "cell_type": "markdown",
   "metadata": {},
   "source": [
    "# Préprocessing\n",
    "\n",
    "accents, contractions, lowercase, newlines, lemmatization, stemming\n"
   ]
  },
  {
   "cell_type": "code",
   "execution_count": 5,
   "metadata": {},
   "outputs": [],
   "source": [
    "def get_wordnet_pos(tag):\n",
    "    if tag.startswith('J'):\n",
    "        return wordnet.ADJ\n",
    "    elif tag.startswith('V'):\n",
    "        return wordnet.VERB\n",
    "    elif tag.startswith('N'):\n",
    "        return wordnet.NOUN\n",
    "    elif tag.startswith('R'):\n",
    "        return wordnet.ADV\n",
    "    else:\n",
    "        return wordnet.NOUN"
   ]
  },
  {
   "cell_type": "code",
   "execution_count": 6,
   "metadata": {},
   "outputs": [
    {
     "name": "stdout",
     "output_type": "stream",
     "text": [
      "12.58809208869934\n"
     ]
    }
   ],
   "source": [
    "import time\n",
    "a = time.time()\n",
    "# lowercase\n",
    "df.text = df.text.apply(lambda x: x.lower())   \n",
    "\n",
    "# remove extra newlines\n",
    "df.text = df.text.apply(lambda x: re.sub(r'[\\r|\\n|\\r\\n]+', ' ', x))\n",
    "\n",
    "# remove @tag\n",
    "df.text = df.text.apply(lambda x: re.sub(r'@[A-Za-z0-9]+','', x))\n",
    "\n",
    "# remove URL\n",
    "df.text = df.text.apply(lambda x: re.sub('https?://[A-Za-z0-9./]+','', x))\n",
    "\n",
    "# remove hashtag and numbers\n",
    "df.text = df.text.apply(lambda x: re.sub(\"[^a-zA-Z]\", \" \", x))\n",
    "\n",
    "# tokenization\n",
    "df.text = df.text.apply(word_tokenize)\n",
    "\n",
    "# # remove stop words\n",
    "# stop_words = set(stopwords.words('english'))\n",
    "# df.text = df.text.apply(lambda x: [word for word in x if word not in stop_words])\n",
    "\n",
    "# lemmatization    \n",
    "df.text = df.text.apply(nltk.tag.pos_tag)\n",
    "df.text = df.text.apply(lambda x: [(word, get_wordnet_pos(pos_tag)) for (word, pos_tag) in x])\n",
    "\n",
    "wordnet_lemmatizer = WordNetLemmatizer()\n",
    "df.text = df.text.apply(lambda x: [wordnet_lemmatizer.lemmatize(word, tag) for (word, tag) in x])\n",
    "\n",
    "\n",
    "df.text = df.text.apply(lambda x: ' '.join(word for word in x))\n",
    "df\n",
    "print(time.time()-a)"
   ]
  },
  {
   "cell_type": "code",
   "execution_count": 7,
   "metadata": {},
   "outputs": [
    {
     "data": {
      "text/html": [
       "<div>\n",
       "<style scoped>\n",
       "    .dataframe tbody tr th:only-of-type {\n",
       "        vertical-align: middle;\n",
       "    }\n",
       "\n",
       "    .dataframe tbody tr th {\n",
       "        vertical-align: top;\n",
       "    }\n",
       "\n",
       "    .dataframe thead th {\n",
       "        text-align: right;\n",
       "    }\n",
       "</style>\n",
       "<table border=\"1\" class=\"dataframe\">\n",
       "  <thead>\n",
       "    <tr style=\"text-align: right;\">\n",
       "      <th></th>\n",
       "      <th>sentiment</th>\n",
       "      <th>id</th>\n",
       "      <th>date</th>\n",
       "      <th>query_string</th>\n",
       "      <th>user</th>\n",
       "      <th>text</th>\n",
       "    </tr>\n",
       "  </thead>\n",
       "  <tbody>\n",
       "    <tr>\n",
       "      <th>1062048</th>\n",
       "      <td>Positive</td>\n",
       "      <td>1964017646</td>\n",
       "      <td>Fri May 29 13:35:57 PDT 2009</td>\n",
       "      <td>NO_QUERY</td>\n",
       "      <td>ashakur</td>\n",
       "      <td>i guess so we should go make it a family affair</td>\n",
       "    </tr>\n",
       "    <tr>\n",
       "      <th>1236895</th>\n",
       "      <td>Positive</td>\n",
       "      <td>1992914899</td>\n",
       "      <td>Mon Jun 01 09:31:47 PDT 2009</td>\n",
       "      <td>NO_QUERY</td>\n",
       "      <td>RabbiShaiSpecht</td>\n",
       "      <td>thank you</td>\n",
       "    </tr>\n",
       "    <tr>\n",
       "      <th>1237054</th>\n",
       "      <td>Positive</td>\n",
       "      <td>1992954642</td>\n",
       "      <td>Mon Jun 01 09:35:38 PDT 2009</td>\n",
       "      <td>NO_QUERY</td>\n",
       "      <td>RobinRene7</td>\n",
       "      <td>it s just another day here at the office i be ...</td>\n",
       "    </tr>\n",
       "    <tr>\n",
       "      <th>229979</th>\n",
       "      <td>Negative</td>\n",
       "      <td>1978627799</td>\n",
       "      <td>Sat May 30 23:57:09 PDT 2009</td>\n",
       "      <td>NO_QUERY</td>\n",
       "      <td>valfvergara</td>\n",
       "      <td>i miss kickboxing</td>\n",
       "    </tr>\n",
       "    <tr>\n",
       "      <th>760772</th>\n",
       "      <td>Negative</td>\n",
       "      <td>2296927988</td>\n",
       "      <td>Tue Jun 23 09:48:35 PDT 2009</td>\n",
       "      <td>NO_QUERY</td>\n",
       "      <td>SarahAnnGreen</td>\n",
       "      <td>thats rubbish</td>\n",
       "    </tr>\n",
       "    <tr>\n",
       "      <th>...</th>\n",
       "      <td>...</td>\n",
       "      <td>...</td>\n",
       "      <td>...</td>\n",
       "      <td>...</td>\n",
       "      <td>...</td>\n",
       "      <td>...</td>\n",
       "    </tr>\n",
       "    <tr>\n",
       "      <th>982398</th>\n",
       "      <td>Positive</td>\n",
       "      <td>1834201425</td>\n",
       "      <td>Mon May 18 02:01:12 PDT 2009</td>\n",
       "      <td>NO_QUERY</td>\n",
       "      <td>kirrawrr</td>\n",
       "      <td>today be sooo fun make video with</td>\n",
       "    </tr>\n",
       "    <tr>\n",
       "      <th>557203</th>\n",
       "      <td>Negative</td>\n",
       "      <td>2204457723</td>\n",
       "      <td>Wed Jun 17 02:16:04 PDT 2009</td>\n",
       "      <td>NO_QUERY</td>\n",
       "      <td>bridd</td>\n",
       "      <td>zol look like o will be release be pacific tim...</td>\n",
       "    </tr>\n",
       "    <tr>\n",
       "      <th>692131</th>\n",
       "      <td>Negative</td>\n",
       "      <td>2252422682</td>\n",
       "      <td>Sat Jun 20 06:13:59 PDT 2009</td>\n",
       "      <td>NO_QUERY</td>\n",
       "      <td>astarmain</td>\n",
       "      <td>saffer arm under the ball</td>\n",
       "    </tr>\n",
       "    <tr>\n",
       "      <th>1345176</th>\n",
       "      <td>Positive</td>\n",
       "      <td>2043953534</td>\n",
       "      <td>Fri Jun 05 08:39:25 PDT 2009</td>\n",
       "      <td>NO_QUERY</td>\n",
       "      <td>keiko25</td>\n",
       "      <td>so happy to have warm weather and sun</td>\n",
       "    </tr>\n",
       "    <tr>\n",
       "      <th>485662</th>\n",
       "      <td>Negative</td>\n",
       "      <td>2181218743</td>\n",
       "      <td>Mon Jun 15 11:31:45 PDT 2009</td>\n",
       "      <td>NO_QUERY</td>\n",
       "      <td>domipooh</td>\n",
       "      <td>thanks and sorry for the graphic lol amp i alw...</td>\n",
       "    </tr>\n",
       "  </tbody>\n",
       "</table>\n",
       "<p>10000 rows × 6 columns</p>\n",
       "</div>"
      ],
      "text/plain": [
       "        sentiment          id                          date query_string  \\\n",
       "1062048  Positive  1964017646  Fri May 29 13:35:57 PDT 2009     NO_QUERY   \n",
       "1236895  Positive  1992914899  Mon Jun 01 09:31:47 PDT 2009     NO_QUERY   \n",
       "1237054  Positive  1992954642  Mon Jun 01 09:35:38 PDT 2009     NO_QUERY   \n",
       "229979   Negative  1978627799  Sat May 30 23:57:09 PDT 2009     NO_QUERY   \n",
       "760772   Negative  2296927988  Tue Jun 23 09:48:35 PDT 2009     NO_QUERY   \n",
       "...           ...         ...                           ...          ...   \n",
       "982398   Positive  1834201425  Mon May 18 02:01:12 PDT 2009     NO_QUERY   \n",
       "557203   Negative  2204457723  Wed Jun 17 02:16:04 PDT 2009     NO_QUERY   \n",
       "692131   Negative  2252422682  Sat Jun 20 06:13:59 PDT 2009     NO_QUERY   \n",
       "1345176  Positive  2043953534  Fri Jun 05 08:39:25 PDT 2009     NO_QUERY   \n",
       "485662   Negative  2181218743  Mon Jun 15 11:31:45 PDT 2009     NO_QUERY   \n",
       "\n",
       "                    user                                               text  \n",
       "1062048          ashakur    i guess so we should go make it a family affair  \n",
       "1236895  RabbiShaiSpecht                                          thank you  \n",
       "1237054       RobinRene7  it s just another day here at the office i be ...  \n",
       "229979       valfvergara                                  i miss kickboxing  \n",
       "760772     SarahAnnGreen                                      thats rubbish  \n",
       "...                  ...                                                ...  \n",
       "982398          kirrawrr                  today be sooo fun make video with  \n",
       "557203             bridd  zol look like o will be release be pacific tim...  \n",
       "692131         astarmain                          saffer arm under the ball  \n",
       "1345176          keiko25              so happy to have warm weather and sun  \n",
       "485662          domipooh  thanks and sorry for the graphic lol amp i alw...  \n",
       "\n",
       "[10000 rows x 6 columns]"
      ]
     },
     "execution_count": 7,
     "metadata": {},
     "output_type": "execute_result"
    }
   ],
   "source": [
    "df"
   ]
  },
  {
   "cell_type": "markdown",
   "metadata": {},
   "source": [
    "# Term frequency"
   ]
  },
  {
   "cell_type": "code",
   "execution_count": 8,
   "metadata": {},
   "outputs": [],
   "source": [
    "from sklearn.feature_extraction.text import CountVectorizer\n",
    "\n",
    "vectorizer = CountVectorizer()\n",
    "\n",
    "vectorizer.fit(df.text)\n",
    "\n",
    "neg_matrix = vectorizer.transform(df[df.sentiment == 'Negative'].text)\n",
    "pos_matrix = vectorizer.transform(df[df.sentiment == 'Positive'].text)"
   ]
  },
  {
   "cell_type": "code",
   "execution_count": 9,
   "metadata": {},
   "outputs": [
    {
     "name": "stdout",
     "output_type": "stream",
     "text": [
      "thats rubbish\n",
      "  (0, 8604)\t1\n",
      "  (0, 10037)\t1\n",
      "['rubbish', 'thats']\n"
     ]
    }
   ],
   "source": [
    "print(df[df.sentiment == 'Negative'].iloc[1].text)\n",
    "print(neg_matrix[1])\n",
    "liste = vectorizer.get_feature_names()\n",
    "print([liste[i] for i in neg_matrix[1].tocoo().col])\n"
   ]
  },
  {
   "cell_type": "code",
   "execution_count": 10,
   "metadata": {},
   "outputs": [
    {
     "data": {
      "text/html": [
       "<div>\n",
       "<style scoped>\n",
       "    .dataframe tbody tr th:only-of-type {\n",
       "        vertical-align: middle;\n",
       "    }\n",
       "\n",
       "    .dataframe tbody tr th {\n",
       "        vertical-align: top;\n",
       "    }\n",
       "\n",
       "    .dataframe thead th {\n",
       "        text-align: right;\n",
       "    }\n",
       "</style>\n",
       "<table border=\"1\" class=\"dataframe\">\n",
       "  <thead>\n",
       "    <tr style=\"text-align: right;\">\n",
       "      <th></th>\n",
       "      <th>negative</th>\n",
       "      <th>positive</th>\n",
       "      <th>total</th>\n",
       "    </tr>\n",
       "  </thead>\n",
       "  <tbody>\n",
       "    <tr>\n",
       "      <th>be</th>\n",
       "      <td>2230</td>\n",
       "      <td>1891</td>\n",
       "      <td>4121</td>\n",
       "    </tr>\n",
       "    <tr>\n",
       "      <th>to</th>\n",
       "      <td>1925</td>\n",
       "      <td>1549</td>\n",
       "      <td>3474</td>\n",
       "    </tr>\n",
       "    <tr>\n",
       "      <th>the</th>\n",
       "      <td>1613</td>\n",
       "      <td>1671</td>\n",
       "      <td>3284</td>\n",
       "    </tr>\n",
       "    <tr>\n",
       "      <th>it</th>\n",
       "      <td>1156</td>\n",
       "      <td>967</td>\n",
       "      <td>2123</td>\n",
       "    </tr>\n",
       "    <tr>\n",
       "      <th>my</th>\n",
       "      <td>1211</td>\n",
       "      <td>746</td>\n",
       "      <td>1957</td>\n",
       "    </tr>\n",
       "    <tr>\n",
       "      <th>and</th>\n",
       "      <td>964</td>\n",
       "      <td>935</td>\n",
       "      <td>1899</td>\n",
       "    </tr>\n",
       "    <tr>\n",
       "      <th>you</th>\n",
       "      <td>597</td>\n",
       "      <td>1238</td>\n",
       "      <td>1835</td>\n",
       "    </tr>\n",
       "    <tr>\n",
       "      <th>have</th>\n",
       "      <td>914</td>\n",
       "      <td>685</td>\n",
       "      <td>1599</td>\n",
       "    </tr>\n",
       "    <tr>\n",
       "      <th>in</th>\n",
       "      <td>744</td>\n",
       "      <td>655</td>\n",
       "      <td>1399</td>\n",
       "    </tr>\n",
       "    <tr>\n",
       "      <th>for</th>\n",
       "      <td>612</td>\n",
       "      <td>743</td>\n",
       "      <td>1355</td>\n",
       "    </tr>\n",
       "  </tbody>\n",
       "</table>\n",
       "</div>"
      ],
      "text/plain": [
       "      negative  positive  total\n",
       "be        2230      1891   4121\n",
       "to        1925      1549   3474\n",
       "the       1613      1671   3284\n",
       "it        1156       967   2123\n",
       "my        1211       746   1957\n",
       "and        964       935   1899\n",
       "you        597      1238   1835\n",
       "have       914       685   1599\n",
       "in         744       655   1399\n",
       "for        612       743   1355"
      ]
     },
     "execution_count": 10,
     "metadata": {},
     "output_type": "execute_result"
    }
   ],
   "source": [
    "neg_tf = np.sum(neg_matrix,axis=0)\n",
    "pos_tf = np.sum(pos_matrix,axis=0)\n",
    "neg = np.squeeze(np.asarray(neg_tf))\n",
    "pos = np.squeeze(np.asarray(pos_tf))\n",
    "\n",
    "term_freq_df = pd.DataFrame([neg,pos],\n",
    "                            columns=vectorizer.get_feature_names()\n",
    "                           ).transpose()\n",
    "term_freq_df.columns = ['negative', 'positive']\n",
    "term_freq_df['total'] = term_freq_df['negative'] + term_freq_df['positive']\n",
    "term_freq_df.sort_values(by='total', \n",
    "                         ascending=False\n",
    "                        ).iloc[:10]"
   ]
  },
  {
   "cell_type": "code",
   "execution_count": 11,
   "metadata": {},
   "outputs": [
    {
     "data": {
      "image/png": "[encoded data removed]",
      "text/plain": [
       "<Figure size 360x360 with 1 Axes>"
      ]
     },
     "metadata": {
      "needs_background": "light"
     },
     "output_type": "display_data"
    }
   ],
   "source": [
    "df1 = term_freq_df.sort_values(by='negative', ascending=False).head(10)\n",
    "g = sns.catplot(x='index', y=\"negative\", kind='bar', data=df1.reset_index())\n",
    "g.set_axis_labels('top 50 negative words', 'frequency')\n",
    "plt.show()"
   ]
  },
  {
   "cell_type": "code",
   "execution_count": 12,
   "metadata": {},
   "outputs": [
    {
     "data": {
      "image/png": "[encoded data removed]",
      "text/plain": [
       "<Figure size 360x360 with 1 Axes>"
      ]
     },
     "metadata": {
      "needs_background": "light"
     },
     "output_type": "display_data"
    }
   ],
   "source": [
    "df2 = term_freq_df.sort_values(by='positive', ascending=False).head(10)\n",
    "g = sns.catplot(x='index', y=\"positive\", kind='bar', data=df2.reset_index())\n",
    "g.set_axis_labels('top 50 positive words', 'frequency')\n",
    "plt.show()"
   ]
  },
  {
   "cell_type": "markdown",
   "metadata": {},
   "source": [
    "# Linear Classifier"
   ]
  },
  {
   "cell_type": "code",
   "execution_count": 13,
   "metadata": {},
   "outputs": [],
   "source": [
    "vectorizer = CountVectorizer()\n",
    "\n",
    "X = df.text.to_list()\n",
    "Y = df.sentiment.to_list()\n",
    "\n",
    "X_vec = vectorizer.fit_transform(X).toarray()"
   ]
  },
  {
   "cell_type": "code",
   "execution_count": 14,
   "metadata": {},
   "outputs": [],
   "source": [
    "from sklearn.model_selection import train_test_split\n",
    "\n",
    "X_train, X_test, y_train, y_test  = train_test_split(\n",
    "        X_vec, \n",
    "        Y,\n",
    "        train_size=0.80,\n",
    "        random_state=1234)"
   ]
  },
  {
   "cell_type": "code",
   "execution_count": 15,
   "metadata": {},
   "outputs": [
    {
     "name": "stderr",
     "output_type": "stream",
     "text": [
      "C:\\Users\\pasqu\\anaconda3\\envs\\data-2A\\lib\\site-packages\\sklearn\\linear_model\\_logistic.py:762: ConvergenceWarning: lbfgs failed to converge (status=1):\n",
      "STOP: TOTAL NO. of ITERATIONS REACHED LIMIT.\n",
      "\n",
      "Increase the number of iterations (max_iter) or scale the data as shown in:\n",
      "    https://scikit-learn.org/stable/modules/preprocessing.html\n",
      "Please also refer to the documentation for alternative solver options:\n",
      "    https://scikit-learn.org/stable/modules/linear_model.html#logistic-regression\n",
      "  n_iter_i = _check_optimize_result(\n"
     ]
    }
   ],
   "source": [
    "from sklearn.linear_model import LogisticRegression\n",
    "log_model= LogisticRegression()\n",
    "log_model.fit(X_train, y_train)\n",
    "y_pred = log_model.predict(X_test)"
   ]
  },
  {
   "cell_type": "code",
   "execution_count": 16,
   "metadata": {},
   "outputs": [
    {
     "data": {
      "text/plain": [
       "array([[731, 239],\n",
       "       [245, 785]], dtype=int64)"
      ]
     },
     "execution_count": 16,
     "metadata": {},
     "output_type": "execute_result"
    }
   ],
   "source": [
    "from sklearn.metrics import confusion_matrix\n",
    "confusion_matrix(y_test, y_pred)"
   ]
  },
  {
   "cell_type": "code",
   "execution_count": 17,
   "metadata": {},
   "outputs": [
    {
     "data": {
      "image/png": "[encoded data removed]",
      "text/plain": [
       "<Figure size 432x288 with 2 Axes>"
      ]
     },
     "metadata": {
      "needs_background": "light"
     },
     "output_type": "display_data"
    },
    {
     "name": "stdout",
     "output_type": "stream",
     "text": [
      "Accuracy : 0.758\n",
      "Recall : 0.7666015625\n",
      "Precision : 0.7621359223300971\n",
      "F1 : 0.7643622200584227\n"
     ]
    }
   ],
   "source": [
    "sc_accuracy = sklearn.metrics.accuracy_score(y_pred, y_test)\n",
    "sc_f1 = sklearn.metrics.f1_score(y_pred, y_test, pos_label=\"Positive\")\n",
    "sc_recall = sklearn.metrics.recall_score(y_pred, y_test, pos_label=\"Positive\")\n",
    "sc_precision = sklearn.metrics.precision_score(y_pred, y_test, pos_label=\"Positive\")\n",
    "\n",
    "sklearn.metrics.plot_confusion_matrix(log_model, X_test, y_test)\n",
    "plt.show()\n",
    "\n",
    "print(f\"Accuracy : {sc_accuracy}\")\n",
    "print(f\"Recall : {sc_recall}\")\n",
    "print(f\"Precision : {sc_precision}\")\n",
    "print(f\"F1 : {sc_f1}\")"
   ]
  },
  {
   "cell_type": "code",
   "execution_count": 18,
   "metadata": {},
   "outputs": [
    {
     "data": {
      "text/plain": [
       "'\\nimport random\\nj = random.randint(0,len(X_test)-7)\\nfor i in range(j,j+7):\\n    print(y_pred[i])\\n    ind = X_vec.tolist().index(X_test[i].tolist())\\n    print(X[ind].strip())\\n'"
      ]
     },
     "execution_count": 18,
     "metadata": {},
     "output_type": "execute_result"
    }
   ],
   "source": [
    "'''\n",
    "import random\n",
    "j = random.randint(0,len(X_test)-7)\n",
    "for i in range(j,j+7):\n",
    "    print(y_pred[i])\n",
    "    ind = X_vec.tolist().index(X_test[i].tolist())\n",
    "    print(X[ind].strip())\n",
    "'''"
   ]
  },
  {
   "cell_type": "code",
   "execution_count": null,
   "metadata": {},
   "outputs": [],
   "source": []
  }
 ],
 "metadata": {
  "kernelspec": {
   "display_name": "Python 3",
   "language": "python",
   "name": "python3"
  },
  "language_info": {
   "codemirror_mode": {
    "name": "ipython",
    "version": 3
   },
   "file_extension": ".py",
   "mimetype": "text/x-python",
   "name": "python",
   "nbconvert_exporter": "python",
   "pygments_lexer": "ipython3",
   "version": "3.9.0"
  }
 },
 "nbformat": 4,
 "nbformat_minor": 4
}
