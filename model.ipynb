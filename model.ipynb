{
 "cells": [
  {
   "cell_type": "code",
   "execution_count": 1,
   "metadata": {},
   "outputs": [],
   "source": [
    "import pandas as pd\n",
    "import numpy as np\n",
    "import seaborn as sns\n",
    "import matplotlib.pyplot as plt\n",
    "import nltk\n",
    "from nltk.tokenize import word_tokenize\n",
    "from nltk.corpus import stopwords, wordnet\n",
    "from nltk.stem import WordNetLemmatizer\n",
    "import re\n",
    "import sklearn"
   ]
  },
  {
   "cell_type": "code",
   "execution_count": 2,
   "metadata": {},
   "outputs": [],
   "source": [
    "cols = ['sentiment','id','date','query_string','user','text']\n",
    "df = pd.read_csv(\"data/sentiment140/training.csv\",header=None, names=cols)\n",
    "df[df.sentiment.isin([0,4])]\n",
    "df = df.sample(50000, random_state=1234)\n",
    "df.sentiment = df.sentiment.apply(lambda x: 'Negative' if x == 0 else 'Positive')"
   ]
  },
  {
   "cell_type": "code",
   "execution_count": 3,
   "metadata": {},
   "outputs": [
    {
     "data": {
      "text/html": [
       "<div>\n",
       "<style scoped>\n",
       "    .dataframe tbody tr th:only-of-type {\n",
       "        vertical-align: middle;\n",
       "    }\n",
       "\n",
       "    .dataframe tbody tr th {\n",
       "        vertical-align: top;\n",
       "    }\n",
       "\n",
       "    .dataframe thead th {\n",
       "        text-align: right;\n",
       "    }\n",
       "</style>\n",
       "<table border=\"1\" class=\"dataframe\">\n",
       "  <thead>\n",
       "    <tr style=\"text-align: right;\">\n",
       "      <th></th>\n",
       "      <th>sentiment</th>\n",
       "      <th>id</th>\n",
       "      <th>date</th>\n",
       "      <th>query_string</th>\n",
       "      <th>user</th>\n",
       "      <th>text</th>\n",
       "    </tr>\n",
       "  </thead>\n",
       "  <tbody>\n",
       "    <tr>\n",
       "      <th>1062048</th>\n",
       "      <td>Positive</td>\n",
       "      <td>1964017646</td>\n",
       "      <td>Fri May 29 13:35:57 PDT 2009</td>\n",
       "      <td>NO_QUERY</td>\n",
       "      <td>ashakur</td>\n",
       "      <td>@PcShakur I guess so. We should go make it a f...</td>\n",
       "    </tr>\n",
       "    <tr>\n",
       "      <th>1236895</th>\n",
       "      <td>Positive</td>\n",
       "      <td>1992914899</td>\n",
       "      <td>Mon Jun 01 09:31:47 PDT 2009</td>\n",
       "      <td>NO_QUERY</td>\n",
       "      <td>RabbiShaiSpecht</td>\n",
       "      <td>@PsychicSophie Thank you!</td>\n",
       "    </tr>\n",
       "    <tr>\n",
       "      <th>1237054</th>\n",
       "      <td>Positive</td>\n",
       "      <td>1992954642</td>\n",
       "      <td>Mon Jun 01 09:35:38 PDT 2009</td>\n",
       "      <td>NO_QUERY</td>\n",
       "      <td>RobinRene7</td>\n",
       "      <td>it's just another day here at the office...I a...</td>\n",
       "    </tr>\n",
       "    <tr>\n",
       "      <th>229979</th>\n",
       "      <td>Negative</td>\n",
       "      <td>1978627799</td>\n",
       "      <td>Sat May 30 23:57:09 PDT 2009</td>\n",
       "      <td>NO_QUERY</td>\n",
       "      <td>valfvergara</td>\n",
       "      <td>@triciasays i miss kickboxing</td>\n",
       "    </tr>\n",
       "    <tr>\n",
       "      <th>760772</th>\n",
       "      <td>Negative</td>\n",
       "      <td>2296927988</td>\n",
       "      <td>Tue Jun 23 09:48:35 PDT 2009</td>\n",
       "      <td>NO_QUERY</td>\n",
       "      <td>SarahAnnGreen</td>\n",
       "      <td>@AmandaFClark Thats rubbish!</td>\n",
       "    </tr>\n",
       "    <tr>\n",
       "      <th>...</th>\n",
       "      <td>...</td>\n",
       "      <td>...</td>\n",
       "      <td>...</td>\n",
       "      <td>...</td>\n",
       "      <td>...</td>\n",
       "      <td>...</td>\n",
       "    </tr>\n",
       "    <tr>\n",
       "      <th>46422</th>\n",
       "      <td>Negative</td>\n",
       "      <td>1677402582</td>\n",
       "      <td>Sat May 02 01:53:46 PDT 2009</td>\n",
       "      <td>NO_QUERY</td>\n",
       "      <td>kmac1984</td>\n",
       "      <td>wondering what the hell is gonna happen next??...</td>\n",
       "    </tr>\n",
       "    <tr>\n",
       "      <th>34170</th>\n",
       "      <td>Negative</td>\n",
       "      <td>1564728728</td>\n",
       "      <td>Mon Apr 20 04:42:44 PDT 2009</td>\n",
       "      <td>NO_QUERY</td>\n",
       "      <td>engers</td>\n",
       "      <td>@jkoxvold Me too</td>\n",
       "    </tr>\n",
       "    <tr>\n",
       "      <th>888464</th>\n",
       "      <td>Positive</td>\n",
       "      <td>1687307615</td>\n",
       "      <td>Sun May 03 08:20:39 PDT 2009</td>\n",
       "      <td>NO_QUERY</td>\n",
       "      <td>_Alectrona_</td>\n",
       "      <td>I'm off  Will maybe tweet later...Bye!</td>\n",
       "    </tr>\n",
       "    <tr>\n",
       "      <th>292279</th>\n",
       "      <td>Negative</td>\n",
       "      <td>1995953530</td>\n",
       "      <td>Mon Jun 01 14:18:18 PDT 2009</td>\n",
       "      <td>NO_QUERY</td>\n",
       "      <td>TraceyyMartinn</td>\n",
       "      <td>stomach hurts  and i desperatly want to go sho...</td>\n",
       "    </tr>\n",
       "    <tr>\n",
       "      <th>267567</th>\n",
       "      <td>Negative</td>\n",
       "      <td>1989221084</td>\n",
       "      <td>Mon Jun 01 00:45:50 PDT 2009</td>\n",
       "      <td>NO_QUERY</td>\n",
       "      <td>SW_77</td>\n",
       "      <td>ahhh have a flat tyre.. ahh and I have to go t...</td>\n",
       "    </tr>\n",
       "  </tbody>\n",
       "</table>\n",
       "<p>50000 rows × 6 columns</p>\n",
       "</div>"
      ],
      "text/plain": [
       "        sentiment          id                          date query_string  \\\n",
       "1062048  Positive  1964017646  Fri May 29 13:35:57 PDT 2009     NO_QUERY   \n",
       "1236895  Positive  1992914899  Mon Jun 01 09:31:47 PDT 2009     NO_QUERY   \n",
       "1237054  Positive  1992954642  Mon Jun 01 09:35:38 PDT 2009     NO_QUERY   \n",
       "229979   Negative  1978627799  Sat May 30 23:57:09 PDT 2009     NO_QUERY   \n",
       "760772   Negative  2296927988  Tue Jun 23 09:48:35 PDT 2009     NO_QUERY   \n",
       "...           ...         ...                           ...          ...   \n",
       "46422    Negative  1677402582  Sat May 02 01:53:46 PDT 2009     NO_QUERY   \n",
       "34170    Negative  1564728728  Mon Apr 20 04:42:44 PDT 2009     NO_QUERY   \n",
       "888464   Positive  1687307615  Sun May 03 08:20:39 PDT 2009     NO_QUERY   \n",
       "292279   Negative  1995953530  Mon Jun 01 14:18:18 PDT 2009     NO_QUERY   \n",
       "267567   Negative  1989221084  Mon Jun 01 00:45:50 PDT 2009     NO_QUERY   \n",
       "\n",
       "                    user                                               text  \n",
       "1062048          ashakur  @PcShakur I guess so. We should go make it a f...  \n",
       "1236895  RabbiShaiSpecht                         @PsychicSophie Thank you!   \n",
       "1237054       RobinRene7  it's just another day here at the office...I a...  \n",
       "229979       valfvergara                     @triciasays i miss kickboxing   \n",
       "760772     SarahAnnGreen                      @AmandaFClark Thats rubbish!   \n",
       "...                  ...                                                ...  \n",
       "46422           kmac1984  wondering what the hell is gonna happen next??...  \n",
       "34170             engers                                  @jkoxvold Me too   \n",
       "888464       _Alectrona_             I'm off  Will maybe tweet later...Bye!  \n",
       "292279    TraceyyMartinn  stomach hurts  and i desperatly want to go sho...  \n",
       "267567             SW_77  ahhh have a flat tyre.. ahh and I have to go t...  \n",
       "\n",
       "[50000 rows x 6 columns]"
      ]
     },
     "execution_count": 3,
     "metadata": {},
     "output_type": "execute_result"
    }
   ],
   "source": [
    "df"
   ]
  },
  {
   "cell_type": "markdown",
   "metadata": {},
   "source": [
    "# Préprocessing\n",
    "\n",
    "accents, contractions, lowercase, newlines, lemmatization, stemming\n"
   ]
  },
  {
   "cell_type": "code",
   "execution_count": 4,
   "metadata": {},
   "outputs": [],
   "source": [
    "def get_wordnet_pos(tag):\n",
    "    if tag.startswith('J'):\n",
    "        return wordnet.ADJ\n",
    "    elif tag.startswith('V'):\n",
    "        return wordnet.VERB\n",
    "    elif tag.startswith('N'):\n",
    "        return wordnet.NOUN\n",
    "    elif tag.startswith('R'):\n",
    "        return wordnet.ADV\n",
    "    else:\n",
    "        return wordnet.NOUN"
   ]
  },
  {
   "cell_type": "code",
   "execution_count": 5,
   "metadata": {},
   "outputs": [
    {
     "name": "stdout",
     "output_type": "stream",
     "text": [
      "60.002562046051025\n"
     ]
    }
   ],
   "source": [
    "import time\n",
    "a = time.time()\n",
    "# lowercase\n",
    "df.text = df.text.apply(lambda x: x.lower())   \n",
    "\n",
    "# remove extra newlines\n",
    "df.text = df.text.apply(lambda x: re.sub(r'[\\r|\\n|\\r\\n]+', ' ', x))\n",
    "\n",
    "# remove @tag\n",
    "df.text = df.text.apply(lambda x: re.sub(r'@[A-Za-z0-9]+','', x))\n",
    "\n",
    "# remove URL\n",
    "df.text = df.text.apply(lambda x: re.sub('https?://[A-Za-z0-9./]+','', x))\n",
    "\n",
    "# remove hashtag and numbers\n",
    "df.text = df.text.apply(lambda x: re.sub(\"[^a-zA-Z]\", \" \", x))\n",
    "\n",
    "# tokenization\n",
    "df.text = df.text.apply(word_tokenize)\n",
    "\n",
    "# # remove stop words\n",
    "# stop_words = set(stopwords.words('english'))\n",
    "# df.text = df.text.apply(lambda x: [word for word in x if word not in stop_words])\n",
    "\n",
    "# lemmatization    \n",
    "df.text = df.text.apply(nltk.tag.pos_tag)\n",
    "df.text = df.text.apply(lambda x: [(word, get_wordnet_pos(pos_tag)) for (word, pos_tag) in x])\n",
    "\n",
    "wordnet_lemmatizer = WordNetLemmatizer()\n",
    "df.text = df.text.apply(lambda x: [wordnet_lemmatizer.lemmatize(word, tag) for (word, tag) in x])\n",
    "\n",
    "\n",
    "df.text = df.text.apply(lambda x: ' '.join(word for word in x))\n",
    "df\n",
    "print(time.time()-a)"
   ]
  },
  {
   "cell_type": "code",
   "execution_count": 6,
   "metadata": {},
   "outputs": [
    {
     "data": {
      "text/html": [
       "<div>\n",
       "<style scoped>\n",
       "    .dataframe tbody tr th:only-of-type {\n",
       "        vertical-align: middle;\n",
       "    }\n",
       "\n",
       "    .dataframe tbody tr th {\n",
       "        vertical-align: top;\n",
       "    }\n",
       "\n",
       "    .dataframe thead th {\n",
       "        text-align: right;\n",
       "    }\n",
       "</style>\n",
       "<table border=\"1\" class=\"dataframe\">\n",
       "  <thead>\n",
       "    <tr style=\"text-align: right;\">\n",
       "      <th></th>\n",
       "      <th>sentiment</th>\n",
       "      <th>id</th>\n",
       "      <th>date</th>\n",
       "      <th>query_string</th>\n",
       "      <th>user</th>\n",
       "      <th>text</th>\n",
       "    </tr>\n",
       "  </thead>\n",
       "  <tbody>\n",
       "    <tr>\n",
       "      <th>1062048</th>\n",
       "      <td>Positive</td>\n",
       "      <td>1964017646</td>\n",
       "      <td>Fri May 29 13:35:57 PDT 2009</td>\n",
       "      <td>NO_QUERY</td>\n",
       "      <td>ashakur</td>\n",
       "      <td>i guess so we should go make it a family affair</td>\n",
       "    </tr>\n",
       "    <tr>\n",
       "      <th>1236895</th>\n",
       "      <td>Positive</td>\n",
       "      <td>1992914899</td>\n",
       "      <td>Mon Jun 01 09:31:47 PDT 2009</td>\n",
       "      <td>NO_QUERY</td>\n",
       "      <td>RabbiShaiSpecht</td>\n",
       "      <td>thank you</td>\n",
       "    </tr>\n",
       "    <tr>\n",
       "      <th>1237054</th>\n",
       "      <td>Positive</td>\n",
       "      <td>1992954642</td>\n",
       "      <td>Mon Jun 01 09:35:38 PDT 2009</td>\n",
       "      <td>NO_QUERY</td>\n",
       "      <td>RobinRene7</td>\n",
       "      <td>it s just another day here at the office i be ...</td>\n",
       "    </tr>\n",
       "    <tr>\n",
       "      <th>229979</th>\n",
       "      <td>Negative</td>\n",
       "      <td>1978627799</td>\n",
       "      <td>Sat May 30 23:57:09 PDT 2009</td>\n",
       "      <td>NO_QUERY</td>\n",
       "      <td>valfvergara</td>\n",
       "      <td>i miss kickboxing</td>\n",
       "    </tr>\n",
       "    <tr>\n",
       "      <th>760772</th>\n",
       "      <td>Negative</td>\n",
       "      <td>2296927988</td>\n",
       "      <td>Tue Jun 23 09:48:35 PDT 2009</td>\n",
       "      <td>NO_QUERY</td>\n",
       "      <td>SarahAnnGreen</td>\n",
       "      <td>thats rubbish</td>\n",
       "    </tr>\n",
       "    <tr>\n",
       "      <th>...</th>\n",
       "      <td>...</td>\n",
       "      <td>...</td>\n",
       "      <td>...</td>\n",
       "      <td>...</td>\n",
       "      <td>...</td>\n",
       "      <td>...</td>\n",
       "    </tr>\n",
       "    <tr>\n",
       "      <th>46422</th>\n",
       "      <td>Negative</td>\n",
       "      <td>1677402582</td>\n",
       "      <td>Sat May 02 01:53:46 PDT 2009</td>\n",
       "      <td>NO_QUERY</td>\n",
       "      <td>kmac1984</td>\n",
       "      <td>wonder what the hell be gon na happen next</td>\n",
       "    </tr>\n",
       "    <tr>\n",
       "      <th>34170</th>\n",
       "      <td>Negative</td>\n",
       "      <td>1564728728</td>\n",
       "      <td>Mon Apr 20 04:42:44 PDT 2009</td>\n",
       "      <td>NO_QUERY</td>\n",
       "      <td>engers</td>\n",
       "      <td>me too</td>\n",
       "    </tr>\n",
       "    <tr>\n",
       "      <th>888464</th>\n",
       "      <td>Positive</td>\n",
       "      <td>1687307615</td>\n",
       "      <td>Sun May 03 08:20:39 PDT 2009</td>\n",
       "      <td>NO_QUERY</td>\n",
       "      <td>_Alectrona_</td>\n",
       "      <td>i m off will maybe tweet later bye</td>\n",
       "    </tr>\n",
       "    <tr>\n",
       "      <th>292279</th>\n",
       "      <td>Negative</td>\n",
       "      <td>1995953530</td>\n",
       "      <td>Mon Jun 01 14:18:18 PDT 2009</td>\n",
       "      <td>NO_QUERY</td>\n",
       "      <td>TraceyyMartinn</td>\n",
       "      <td>stomach hurt and i desperatly want to go shop ...</td>\n",
       "    </tr>\n",
       "    <tr>\n",
       "      <th>267567</th>\n",
       "      <td>Negative</td>\n",
       "      <td>1989221084</td>\n",
       "      <td>Mon Jun 01 00:45:50 PDT 2009</td>\n",
       "      <td>NO_QUERY</td>\n",
       "      <td>SW_77</td>\n",
       "      <td>ahhh have a flat tyre ahh and i have to go to ...</td>\n",
       "    </tr>\n",
       "  </tbody>\n",
       "</table>\n",
       "<p>50000 rows × 6 columns</p>\n",
       "</div>"
      ],
      "text/plain": [
       "        sentiment          id                          date query_string  \\\n",
       "1062048  Positive  1964017646  Fri May 29 13:35:57 PDT 2009     NO_QUERY   \n",
       "1236895  Positive  1992914899  Mon Jun 01 09:31:47 PDT 2009     NO_QUERY   \n",
       "1237054  Positive  1992954642  Mon Jun 01 09:35:38 PDT 2009     NO_QUERY   \n",
       "229979   Negative  1978627799  Sat May 30 23:57:09 PDT 2009     NO_QUERY   \n",
       "760772   Negative  2296927988  Tue Jun 23 09:48:35 PDT 2009     NO_QUERY   \n",
       "...           ...         ...                           ...          ...   \n",
       "46422    Negative  1677402582  Sat May 02 01:53:46 PDT 2009     NO_QUERY   \n",
       "34170    Negative  1564728728  Mon Apr 20 04:42:44 PDT 2009     NO_QUERY   \n",
       "888464   Positive  1687307615  Sun May 03 08:20:39 PDT 2009     NO_QUERY   \n",
       "292279   Negative  1995953530  Mon Jun 01 14:18:18 PDT 2009     NO_QUERY   \n",
       "267567   Negative  1989221084  Mon Jun 01 00:45:50 PDT 2009     NO_QUERY   \n",
       "\n",
       "                    user                                               text  \n",
       "1062048          ashakur    i guess so we should go make it a family affair  \n",
       "1236895  RabbiShaiSpecht                                          thank you  \n",
       "1237054       RobinRene7  it s just another day here at the office i be ...  \n",
       "229979       valfvergara                                  i miss kickboxing  \n",
       "760772     SarahAnnGreen                                      thats rubbish  \n",
       "...                  ...                                                ...  \n",
       "46422           kmac1984         wonder what the hell be gon na happen next  \n",
       "34170             engers                                             me too  \n",
       "888464       _Alectrona_                 i m off will maybe tweet later bye  \n",
       "292279    TraceyyMartinn  stomach hurt and i desperatly want to go shop ...  \n",
       "267567             SW_77  ahhh have a flat tyre ahh and i have to go to ...  \n",
       "\n",
       "[50000 rows x 6 columns]"
      ]
     },
     "execution_count": 6,
     "metadata": {},
     "output_type": "execute_result"
    }
   ],
   "source": [
    "df"
   ]
  },
  {
   "cell_type": "markdown",
   "metadata": {},
   "source": [
    "# Term frequency"
   ]
  },
  {
   "cell_type": "code",
   "execution_count": 7,
   "metadata": {},
   "outputs": [],
   "source": [
    "from sklearn.feature_extraction.text import CountVectorizer\n",
    "\n",
    "vectorizer = CountVectorizer()\n",
    "\n",
    "vectorizer.fit(df.text)\n",
    "\n",
    "neg_matrix = vectorizer.transform(df[df.sentiment == 'Negative'].text)\n",
    "pos_matrix = vectorizer.transform(df[df.sentiment == 'Positive'].text)"
   ]
  },
  {
   "cell_type": "code",
   "execution_count": 8,
   "metadata": {},
   "outputs": [
    {
     "name": "stdout",
     "output_type": "stream",
     "text": [
      "thats rubbish\n",
      "  (0, 22892)\t1\n",
      "  (0, 26768)\t1\n",
      "['rubbish', 'thats']\n"
     ]
    }
   ],
   "source": [
    "print(df[df.sentiment == 'Negative'].iloc[1].text)\n",
    "print(neg_matrix[1])\n",
    "liste = vectorizer.get_feature_names()\n",
    "print([liste[i] for i in neg_matrix[1].tocoo().col])"
   ]
  },
  {
   "cell_type": "code",
   "execution_count": 9,
   "metadata": {},
   "outputs": [
    {
     "data": {
      "text/html": [
       "<div>\n",
       "<style scoped>\n",
       "    .dataframe tbody tr th:only-of-type {\n",
       "        vertical-align: middle;\n",
       "    }\n",
       "\n",
       "    .dataframe tbody tr th {\n",
       "        vertical-align: top;\n",
       "    }\n",
       "\n",
       "    .dataframe thead th {\n",
       "        text-align: right;\n",
       "    }\n",
       "</style>\n",
       "<table border=\"1\" class=\"dataframe\">\n",
       "  <thead>\n",
       "    <tr style=\"text-align: right;\">\n",
       "      <th></th>\n",
       "      <th>negative</th>\n",
       "      <th>positive</th>\n",
       "      <th>total</th>\n",
       "    </tr>\n",
       "  </thead>\n",
       "  <tbody>\n",
       "    <tr>\n",
       "      <th>be</th>\n",
       "      <td>11029</td>\n",
       "      <td>9553</td>\n",
       "      <td>20582</td>\n",
       "    </tr>\n",
       "    <tr>\n",
       "      <th>to</th>\n",
       "      <td>9707</td>\n",
       "      <td>7733</td>\n",
       "      <td>17440</td>\n",
       "    </tr>\n",
       "    <tr>\n",
       "      <th>the</th>\n",
       "      <td>8098</td>\n",
       "      <td>8305</td>\n",
       "      <td>16403</td>\n",
       "    </tr>\n",
       "    <tr>\n",
       "      <th>it</th>\n",
       "      <td>5652</td>\n",
       "      <td>5173</td>\n",
       "      <td>10825</td>\n",
       "    </tr>\n",
       "    <tr>\n",
       "      <th>my</th>\n",
       "      <td>5925</td>\n",
       "      <td>3986</td>\n",
       "      <td>9911</td>\n",
       "    </tr>\n",
       "    <tr>\n",
       "      <th>and</th>\n",
       "      <td>4926</td>\n",
       "      <td>4633</td>\n",
       "      <td>9559</td>\n",
       "    </tr>\n",
       "    <tr>\n",
       "      <th>you</th>\n",
       "      <td>3198</td>\n",
       "      <td>6186</td>\n",
       "      <td>9384</td>\n",
       "    </tr>\n",
       "    <tr>\n",
       "      <th>have</th>\n",
       "      <td>4449</td>\n",
       "      <td>3240</td>\n",
       "      <td>7689</td>\n",
       "    </tr>\n",
       "    <tr>\n",
       "      <th>in</th>\n",
       "      <td>3739</td>\n",
       "      <td>3245</td>\n",
       "      <td>6984</td>\n",
       "    </tr>\n",
       "    <tr>\n",
       "      <th>for</th>\n",
       "      <td>3070</td>\n",
       "      <td>3673</td>\n",
       "      <td>6743</td>\n",
       "    </tr>\n",
       "  </tbody>\n",
       "</table>\n",
       "</div>"
      ],
      "text/plain": [
       "      negative  positive  total\n",
       "be       11029      9553  20582\n",
       "to        9707      7733  17440\n",
       "the       8098      8305  16403\n",
       "it        5652      5173  10825\n",
       "my        5925      3986   9911\n",
       "and       4926      4633   9559\n",
       "you       3198      6186   9384\n",
       "have      4449      3240   7689\n",
       "in        3739      3245   6984\n",
       "for       3070      3673   6743"
      ]
     },
     "execution_count": 9,
     "metadata": {},
     "output_type": "execute_result"
    }
   ],
   "source": [
    "neg_tf = np.sum(neg_matrix,axis=0)\n",
    "pos_tf = np.sum(pos_matrix,axis=0)\n",
    "neg = np.squeeze(np.asarray(neg_tf))\n",
    "pos = np.squeeze(np.asarray(pos_tf))\n",
    "\n",
    "term_freq_df = pd.DataFrame([neg,pos],\n",
    "                            columns=vectorizer.get_feature_names()\n",
    "                           ).transpose()\n",
    "term_freq_df.columns = ['negative', 'positive']\n",
    "term_freq_df['total'] = term_freq_df['negative'] + term_freq_df['positive']\n",
    "term_freq_df.sort_values(by='total', \n",
    "                         ascending=False\n",
    "                        ).iloc[:10]"
   ]
  },
  {
   "cell_type": "code",
   "execution_count": 10,
   "metadata": {},
   "outputs": [
    {
     "data": {
      "image/png": "[encoded data removed]",
      "text/plain": [
       "<Figure size 360x360 with 1 Axes>"
      ]
     },
     "metadata": {
      "needs_background": "light"
     },
     "output_type": "display_data"
    }
   ],
   "source": [
    "df1 = term_freq_df.sort_values(by='negative', ascending=False).head(10)\n",
    "g = sns.catplot(x='index', y=\"negative\", kind='bar', data=df1.reset_index())\n",
    "g.set_axis_labels('top 50 negative words', 'frequency')\n",
    "plt.show()"
   ]
  },
  {
   "cell_type": "code",
   "execution_count": 11,
   "metadata": {},
   "outputs": [
    {
     "data": {
      "image/png": "[encoded data removed]",
      "text/plain": [
       "<Figure size 360x360 with 1 Axes>"
      ]
     },
     "metadata": {
      "needs_background": "light"
     },
     "output_type": "display_data"
    }
   ],
   "source": [
    "df2 = term_freq_df.sort_values(by='positive', ascending=False).head(10)\n",
    "g = sns.catplot(x='index', y=\"positive\", kind='bar', data=df2.reset_index())\n",
    "g.set_axis_labels('top 50 positive words', 'frequency')\n",
    "plt.show()"
   ]
  },
  {
   "cell_type": "markdown",
   "metadata": {},
   "source": [
    "# Linear Classifier"
   ]
  },
  {
   "cell_type": "code",
   "execution_count": 12,
   "metadata": {},
   "outputs": [],
   "source": [
    "from sklearn.model_selection import train_test_split\n",
    "from sklearn.linear_model import LogisticRegression\n",
    "from sklearn.metrics import confusion_matrix"
   ]
  },
  {
   "cell_type": "code",
   "execution_count": 13,
   "metadata": {},
   "outputs": [],
   "source": [
    "vectorizer = CountVectorizer(min_df=0.001)\n",
    "\n",
    "X = df.text.to_list()\n",
    "Y = df.sentiment.to_list()\n",
    "\n",
    "X_vec = vectorizer.fit_transform(X).toarray()"
   ]
  },
  {
   "cell_type": "code",
   "execution_count": 14,
   "metadata": {},
   "outputs": [],
   "source": [
    "X_train, X_test, y_train, y_test  = train_test_split(\n",
    "        X_vec, \n",
    "        Y,\n",
    "        train_size=0.80,\n",
    "        random_state=1234)"
   ]
  },
  {
   "cell_type": "code",
   "execution_count": 15,
   "metadata": {},
   "outputs": [
    {
     "name": "stderr",
     "output_type": "stream",
     "text": [
      "C:\\Users\\pasqu\\anaconda3\\envs\\data-2A\\lib\\site-packages\\sklearn\\linear_model\\_logistic.py:762: ConvergenceWarning: lbfgs failed to converge (status=1):\n",
      "STOP: TOTAL NO. of ITERATIONS REACHED LIMIT.\n",
      "\n",
      "Increase the number of iterations (max_iter) or scale the data as shown in:\n",
      "    https://scikit-learn.org/stable/modules/preprocessing.html\n",
      "Please also refer to the documentation for alternative solver options:\n",
      "    https://scikit-learn.org/stable/modules/linear_model.html#logistic-regression\n",
      "  n_iter_i = _check_optimize_result(\n"
     ]
    }
   ],
   "source": [
    "log_model= LogisticRegression()\n",
    "log_model.fit(X_train, y_train)\n",
    "y_pred = log_model.predict(X_test)"
   ]
  },
  {
   "cell_type": "code",
   "execution_count": 16,
   "metadata": {},
   "outputs": [
    {
     "data": {
      "text/plain": [
       "array([[3631, 1315],\n",
       "       [1066, 3988]], dtype=int64)"
      ]
     },
     "execution_count": 16,
     "metadata": {},
     "output_type": "execute_result"
    }
   ],
   "source": [
    "confusion_matrix(y_test, y_pred)"
   ]
  },
  {
   "cell_type": "code",
   "execution_count": 17,
   "metadata": {},
   "outputs": [],
   "source": [
    "def conf_matrix(y_pred, y_test, model):\n",
    "    sc_accuracy = sklearn.metrics.accuracy_score(y_pred, y_test)\n",
    "    sc_f1 = sklearn.metrics.f1_score(y_pred, y_test, pos_label=\"Positive\")\n",
    "    sc_recall = sklearn.metrics.recall_score(y_pred, y_test, pos_label=\"Positive\")\n",
    "    sc_precision = sklearn.metrics.precision_score(y_pred, y_test, pos_label=\"Positive\")\n",
    "\n",
    "    sklearn.metrics.plot_confusion_matrix(model, X_test, y_test)\n",
    "    plt.show()\n",
    "\n",
    "    print(f\"Accuracy : {sc_accuracy}\")\n",
    "    print(f\"Recall : {sc_recall}\")\n",
    "    print(f\"Precision : {sc_precision}\")\n",
    "    print(f\"F1 : {sc_f1}\")"
   ]
  },
  {
   "cell_type": "code",
   "execution_count": 18,
   "metadata": {},
   "outputs": [
    {
     "data": {
      "image/png": "[encoded data removed]",
      "text/plain": [
       "<Figure size 432x288 with 2 Axes>"
      ]
     },
     "metadata": {
      "needs_background": "light"
     },
     "output_type": "display_data"
    },
    {
     "name": "stdout",
     "output_type": "stream",
     "text": [
      "Accuracy : 0.7619\n",
      "Recall : 0.7520271544408825\n",
      "Precision : 0.7890779580530273\n",
      "F1 : 0.7701071738920537\n"
     ]
    }
   ],
   "source": [
    "conf_matrix(y_pred, y_test, log_model)"
   ]
  },
  {
   "cell_type": "code",
   "execution_count": 19,
   "metadata": {},
   "outputs": [
    {
     "data": {
      "text/plain": [
       "'\\nimport random\\nj = random.randint(0,len(X_test)-7)\\nfor i in range(j,j+7):\\n    print(y_pred[i])\\n    ind = X_vec.tolist().index(X_test[i].tolist())\\n    print(X[ind].strip())\\n'"
      ]
     },
     "execution_count": 19,
     "metadata": {},
     "output_type": "execute_result"
    }
   ],
   "source": [
    "'''\n",
    "import random\n",
    "j = random.randint(0,len(X_test)-7)\n",
    "for i in range(j,j+7):\n",
    "    print(y_pred[i])\n",
    "    ind = X_vec.tolist().index(X_test[i].tolist())\n",
    "    print(X[ind].strip())\n",
    "'''"
   ]
  },
  {
   "cell_type": "markdown",
   "metadata": {},
   "source": [
    "## Pipeline"
   ]
  },
  {
   "cell_type": "code",
   "execution_count": 20,
   "metadata": {},
   "outputs": [],
   "source": [
    "from sklearn.preprocessing import StandardScaler\n",
    "from sklearn.decomposition import PCA\n",
    "from sklearn.pipeline import make_pipeline"
   ]
  },
  {
   "cell_type": "code",
   "execution_count": 21,
   "metadata": {},
   "outputs": [
    {
     "name": "stderr",
     "output_type": "stream",
     "text": [
      "C:\\Users\\pasqu\\anaconda3\\envs\\data-2A\\lib\\site-packages\\sklearn\\linear_model\\_logistic.py:762: ConvergenceWarning: lbfgs failed to converge (status=1):\n",
      "STOP: TOTAL NO. of ITERATIONS REACHED LIMIT.\n",
      "\n",
      "Increase the number of iterations (max_iter) or scale the data as shown in:\n",
      "    https://scikit-learn.org/stable/modules/preprocessing.html\n",
      "Please also refer to the documentation for alternative solver options:\n",
      "    https://scikit-learn.org/stable/modules/linear_model.html#logistic-regression\n",
      "  n_iter_i = _check_optimize_result(\n"
     ]
    }
   ],
   "source": [
    "# Fit to data and predict using pipelined LR.\n",
    "reg = make_pipeline(LogisticRegression())\n",
    "reg.fit(X_train, y_train)\n",
    "y_pred = reg.predict(X_test)"
   ]
  },
  {
   "cell_type": "code",
   "execution_count": 22,
   "metadata": {},
   "outputs": [
    {
     "data": {
      "image/png": "[encoded data removed]",
      "text/plain": [
       "<Figure size 432x288 with 2 Axes>"
      ]
     },
     "metadata": {
      "needs_background": "light"
     },
     "output_type": "display_data"
    },
    {
     "name": "stdout",
     "output_type": "stream",
     "text": [
      "Accuracy : 0.7619\n",
      "Recall : 0.7520271544408825\n",
      "Precision : 0.7890779580530273\n",
      "F1 : 0.7701071738920537\n"
     ]
    }
   ],
   "source": [
    "conf_matrix(y_pred, y_test, reg)"
   ]
  },
  {
   "cell_type": "code",
   "execution_count": 23,
   "metadata": {},
   "outputs": [],
   "source": [
    "# Fit to data and predict using pipelined scaling, LR.\n",
    "reg = make_pipeline(StandardScaler(), LogisticRegression())\n",
    "reg.fit(X_train, y_train)\n",
    "y_pred = reg.predict(X_test)"
   ]
  },
  {
   "cell_type": "code",
   "execution_count": 24,
   "metadata": {},
   "outputs": [
    {
     "data": {
      "image/png": "[encoded data removed]",
      "text/plain": [
       "<Figure size 432x288 with 2 Axes>"
      ]
     },
     "metadata": {
      "needs_background": "light"
     },
     "output_type": "display_data"
    },
    {
     "name": "stdout",
     "output_type": "stream",
     "text": [
      "Accuracy : 0.7615\n",
      "Recall : 0.751176359872012\n",
      "Precision : 0.7896715472892758\n",
      "F1 : 0.7699430886466674\n"
     ]
    }
   ],
   "source": [
    "conf_matrix(y_pred, y_test, reg)"
   ]
  },
  {
   "cell_type": "code",
   "execution_count": 25,
   "metadata": {},
   "outputs": [],
   "source": [
    "# Fit to data and predict using pipelined scaling, LR and PCA.\n",
    "reg = make_pipeline(StandardScaler(), PCA(n_components=50), LogisticRegression())\n",
    "reg.fit(X_train, y_train)\n",
    "y_pred = reg.predict(X_test)"
   ]
  },
  {
   "cell_type": "code",
   "execution_count": 26,
   "metadata": {},
   "outputs": [
    {
     "data": {
      "image/png": "[encoded data removed]",
      "text/plain": [
       "<Figure size 432x288 with 2 Axes>"
      ]
     },
     "metadata": {
      "needs_background": "light"
     },
     "output_type": "display_data"
    },
    {
     "name": "stdout",
     "output_type": "stream",
     "text": [
      "Accuracy : 0.7008\n",
      "Recall : 0.6975095785440613\n",
      "Precision : 0.7204194697269489\n",
      "F1 : 0.7087794432548179\n"
     ]
    }
   ],
   "source": [
    "conf_matrix(y_pred, y_test, reg)"
   ]
  },
  {
   "cell_type": "markdown",
   "metadata": {},
   "source": [
    "# Gaussian Naive Bayes"
   ]
  },
  {
   "cell_type": "code",
   "execution_count": 27,
   "metadata": {},
   "outputs": [],
   "source": [
    "from sklearn.naive_bayes import GaussianNB\n",
    "\n",
    "gauss = GaussianNB()\n",
    "gauss.fit(X_train, y_train)\n",
    "y_pred = gauss.predict(X_test)"
   ]
  },
  {
   "cell_type": "code",
   "execution_count": 28,
   "metadata": {},
   "outputs": [
    {
     "data": {
      "image/png": "[encoded data removed]",
      "text/plain": [
       "<Figure size 432x288 with 2 Axes>"
      ]
     },
     "metadata": {
      "needs_background": "light"
     },
     "output_type": "display_data"
    },
    {
     "name": "stdout",
     "output_type": "stream",
     "text": [
      "Accuracy : 0.6845\n",
      "Recall : 0.6563477688127779\n",
      "Precision : 0.7886822318955283\n",
      "F1 : 0.7164554686797878\n"
     ]
    }
   ],
   "source": [
    "conf_matrix(y_pred, y_test, gauss)"
   ]
  },
  {
   "cell_type": "code",
   "execution_count": 29,
   "metadata": {},
   "outputs": [],
   "source": [
    "# Fit to data and predict using pipelined scaling, GNB.\n",
    "gauss = make_pipeline(StandardScaler(), GaussianNB())\n",
    "gauss.fit(X_train, y_train)\n",
    "y_pred = gauss.predict(X_test)"
   ]
  },
  {
   "cell_type": "code",
   "execution_count": 30,
   "metadata": {},
   "outputs": [
    {
     "data": {
      "image/png": "[encoded data removed]",
      "text/plain": [
       "<Figure size 432x288 with 2 Axes>"
      ]
     },
     "metadata": {
      "needs_background": "light"
     },
     "output_type": "display_data"
    },
    {
     "name": "stdout",
     "output_type": "stream",
     "text": [
      "Accuracy : 0.6845\n",
      "Recall : 0.6563477688127779\n",
      "Precision : 0.7886822318955283\n",
      "F1 : 0.7164554686797878\n"
     ]
    }
   ],
   "source": [
    "conf_matrix(y_pred, y_test, gauss)"
   ]
  }
 ],
 "metadata": {
  "kernelspec": {
   "display_name": "Python 3",
   "language": "python",
   "name": "python3"
  },
  "language_info": {
   "codemirror_mode": {
    "name": "ipython",
    "version": 3
   },
   "file_extension": ".py",
   "mimetype": "text/x-python",
   "name": "python",
   "nbconvert_exporter": "python",
   "pygments_lexer": "ipython3",
   "version": "3.9.0"
  }
 },
 "nbformat": 4,
 "nbformat_minor": 4
}
