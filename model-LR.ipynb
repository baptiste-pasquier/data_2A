{
 "cells": [
  {
   "cell_type": "code",
   "execution_count": 2,
   "metadata": {},
   "outputs": [],
   "source": [
    "import pandas as pd\n",
    "import numpy as np\n",
    "import seaborn as sns\n",
    "import matplotlib.pyplot as plt\n",
    "import nltk\n",
    "from nltk.tokenize import word_tokenize\n",
    "from nltk.corpus import stopwords, wordnet\n",
    "from nltk.stem import WordNetLemmatizer\n",
    "from sklearn.feature_extraction.text import CountVectorizer, TfidfVectorizer\n",
    "import re\n",
    "import sklearn\n",
    "from sklearn.preprocessing import StandardScaler\n",
    "from sklearn.model_selection import train_test_split\n",
    "from sklearn.linear_model import LogisticRegression\n",
    "from sklearn.metrics import confusion_matrix\n",
    "from sklearn import metrics\n",
    "import os\n",
    "from IPython.display import display"
   ]
  },
  {
   "cell_type": "markdown",
   "metadata": {},
   "source": [
    "Nous étudions dans ce notebook le modèle de **regression logistique**."
   ]
  },
  {
   "cell_type": "markdown",
   "metadata": {},
   "source": [
    "# 1. Chargement d'une base Sentiment140 préprocessée \n",
    "\n",
    "On travaille tout d'abord avec un pré-processing fixé."
   ]
  },
  {
   "cell_type": "code",
   "execution_count": 6,
   "metadata": {},
   "outputs": [],
   "source": [
    "STOP_WORDS = False\n",
    "LEMMATIZATION = False\n",
    "NEGATION = False\n",
    "file = \"train\"\n",
    "if STOP_WORDS:\n",
    "    file += \"_stop\"\n",
    "if LEMMATIZATION:\n",
    "    file += \"_lemm\"\n",
    "if  NEGATION:\n",
    "    file += \"_neg\"\n",
    "df = pd.read_pickle(os.path.join(\"data\", \"sentiment140\", file+\".bz2\"))"
   ]
  },
  {
   "cell_type": "code",
   "execution_count": 7,
   "metadata": {},
   "outputs": [
    {
     "data": {
      "text/html": [
       "<div>\n",
       "<style scoped>\n",
       "    .dataframe tbody tr th:only-of-type {\n",
       "        vertical-align: middle;\n",
       "    }\n",
       "\n",
       "    .dataframe tbody tr th {\n",
       "        vertical-align: top;\n",
       "    }\n",
       "\n",
       "    .dataframe thead th {\n",
       "        text-align: right;\n",
       "    }\n",
       "</style>\n",
       "<table border=\"1\" class=\"dataframe\">\n",
       "  <thead>\n",
       "    <tr style=\"text-align: right;\">\n",
       "      <th></th>\n",
       "      <th>sentiment</th>\n",
       "      <th>id</th>\n",
       "      <th>date</th>\n",
       "      <th>query_string</th>\n",
       "      <th>user</th>\n",
       "      <th>text</th>\n",
       "    </tr>\n",
       "  </thead>\n",
       "  <tbody>\n",
       "    <tr>\n",
       "      <th>599410</th>\n",
       "      <td>Negative</td>\n",
       "      <td>2220663113</td>\n",
       "      <td>Thu Jun 18 03:39:49 PDT 2009</td>\n",
       "      <td>NO_QUERY</td>\n",
       "      <td>gemgembam</td>\n",
       "      <td>open itunes will not open naooo the silence is...</td>\n",
       "    </tr>\n",
       "    <tr>\n",
       "      <th>549856</th>\n",
       "      <td>Negative</td>\n",
       "      <td>2202759103</td>\n",
       "      <td>Tue Jun 16 22:21:43 PDT 2009</td>\n",
       "      <td>NO_QUERY</td>\n",
       "      <td>twistofcolour</td>\n",
       "      <td>the sun is already gone for the day</td>\n",
       "    </tr>\n",
       "    <tr>\n",
       "      <th>1363048</th>\n",
       "      <td>Positive</td>\n",
       "      <td>2049441111</td>\n",
       "      <td>Fri Jun 05 16:53:10 PDT 2009</td>\n",
       "      <td>NO_QUERY</td>\n",
       "      <td>Niico1e</td>\n",
       "      <td>hiya this is my st tweet i am so tired though ...</td>\n",
       "    </tr>\n",
       "    <tr>\n",
       "      <th>558776</th>\n",
       "      <td>Negative</td>\n",
       "      <td>2204830292</td>\n",
       "      <td>Wed Jun 17 03:14:38 PDT 2009</td>\n",
       "      <td>NO_QUERY</td>\n",
       "      <td>MeriEsteban</td>\n",
       "      <td>i have the bac today at p m i do not know if i...</td>\n",
       "    </tr>\n",
       "    <tr>\n",
       "      <th>1582398</th>\n",
       "      <td>Positive</td>\n",
       "      <td>2190306594</td>\n",
       "      <td>Tue Jun 16 02:21:03 PDT 2009</td>\n",
       "      <td>NO_QUERY</td>\n",
       "      <td>MeghanMagnolia</td>\n",
       "      <td>as far as i remember you were not half bad ine...</td>\n",
       "    </tr>\n",
       "    <tr>\n",
       "      <th>1353343</th>\n",
       "      <td>Positive</td>\n",
       "      <td>2046706853</td>\n",
       "      <td>Fri Jun 05 12:34:26 PDT 2009</td>\n",
       "      <td>NO_QUERY</td>\n",
       "      <td>WahooPooh</td>\n",
       "      <td>as tempting as that is i am just waiting on my...</td>\n",
       "    </tr>\n",
       "    <tr>\n",
       "      <th>586354</th>\n",
       "      <td>Negative</td>\n",
       "      <td>2215937155</td>\n",
       "      <td>Wed Jun 17 18:49:10 PDT 2009</td>\n",
       "      <td>NO_QUERY</td>\n",
       "      <td>amandarie</td>\n",
       "      <td>cool how i have to be stuck at home i want to ...</td>\n",
       "    </tr>\n",
       "    <tr>\n",
       "      <th>860355</th>\n",
       "      <td>Positive</td>\n",
       "      <td>1676343245</td>\n",
       "      <td>Fri May 01 21:46:07 PDT 2009</td>\n",
       "      <td>NO_QUERY</td>\n",
       "      <td>MatchesMalone</td>\n",
       "      <td>oh and followfriday my writing partner because...</td>\n",
       "    </tr>\n",
       "    <tr>\n",
       "      <th>521668</th>\n",
       "      <td>Negative</td>\n",
       "      <td>2192486836</td>\n",
       "      <td>Tue Jun 16 07:06:35 PDT 2009</td>\n",
       "      <td>NO_QUERY</td>\n",
       "      <td>hockeyfan45214</td>\n",
       "      <td>you would think if i continue to block someone...</td>\n",
       "    </tr>\n",
       "    <tr>\n",
       "      <th>243888</th>\n",
       "      <td>Negative</td>\n",
       "      <td>1981647618</td>\n",
       "      <td>Sun May 31 09:35:54 PDT 2009</td>\n",
       "      <td>NO_QUERY</td>\n",
       "      <td>ilovemytroops</td>\n",
       "      <td>nevaeh buchanan missing friends of her mother ...</td>\n",
       "    </tr>\n",
       "  </tbody>\n",
       "</table>\n",
       "</div>"
      ],
      "text/plain": [
       "        sentiment          id                          date query_string  \\\n",
       "599410   Negative  2220663113  Thu Jun 18 03:39:49 PDT 2009     NO_QUERY   \n",
       "549856   Negative  2202759103  Tue Jun 16 22:21:43 PDT 2009     NO_QUERY   \n",
       "1363048  Positive  2049441111  Fri Jun 05 16:53:10 PDT 2009     NO_QUERY   \n",
       "558776   Negative  2204830292  Wed Jun 17 03:14:38 PDT 2009     NO_QUERY   \n",
       "1582398  Positive  2190306594  Tue Jun 16 02:21:03 PDT 2009     NO_QUERY   \n",
       "1353343  Positive  2046706853  Fri Jun 05 12:34:26 PDT 2009     NO_QUERY   \n",
       "586354   Negative  2215937155  Wed Jun 17 18:49:10 PDT 2009     NO_QUERY   \n",
       "860355   Positive  1676343245  Fri May 01 21:46:07 PDT 2009     NO_QUERY   \n",
       "521668   Negative  2192486836  Tue Jun 16 07:06:35 PDT 2009     NO_QUERY   \n",
       "243888   Negative  1981647618  Sun May 31 09:35:54 PDT 2009     NO_QUERY   \n",
       "\n",
       "                   user                                               text  \n",
       "599410        gemgembam  open itunes will not open naooo the silence is...  \n",
       "549856    twistofcolour                the sun is already gone for the day  \n",
       "1363048         Niico1e  hiya this is my st tweet i am so tired though ...  \n",
       "558776      MeriEsteban  i have the bac today at p m i do not know if i...  \n",
       "1582398  MeghanMagnolia  as far as i remember you were not half bad ine...  \n",
       "1353343       WahooPooh  as tempting as that is i am just waiting on my...  \n",
       "586354        amandarie  cool how i have to be stuck at home i want to ...  \n",
       "860355    MatchesMalone  oh and followfriday my writing partner because...  \n",
       "521668   hockeyfan45214  you would think if i continue to block someone...  \n",
       "243888    ilovemytroops  nevaeh buchanan missing friends of her mother ...  "
      ]
     },
     "execution_count": 7,
     "metadata": {},
     "output_type": "execute_result"
    }
   ],
   "source": [
    "df = df.sample(50000, random_state=1234)\n",
    "df.head(10)"
   ]
  },
  {
   "cell_type": "code",
   "execution_count": 8,
   "metadata": {},
   "outputs": [],
   "source": [
    "X = df.text.to_list()\n",
    "y = df.sentiment.to_list()"
   ]
  },
  {
   "cell_type": "markdown",
   "metadata": {},
   "source": [
    "# 2. Différentes méthodes de feature extraction\n",
    "## 2.1. Count Vectorizer\n",
    "### 2.1.1. Exemple"
   ]
  },
  {
   "cell_type": "code",
   "execution_count": 5,
   "metadata": {},
   "outputs": [
    {
     "data": {
      "text/plain": [
       "['by', 'car', 'cleaned', 'hello', 'jack', 'was']"
      ]
     },
     "execution_count": 5,
     "metadata": {},
     "output_type": "execute_result"
    }
   ],
   "source": [
    "array = [\"Car was cleaned by Jack\", \n",
    "       \"Jack was cleaned by Car\", \n",
    "       \"Hello\"]\n",
    "vectorizer = CountVectorizer()\n",
    "X_ = vectorizer.fit_transform(array)\n",
    "vectorizer.get_feature_names()"
   ]
  },
  {
   "cell_type": "markdown",
   "metadata": {},
   "source": [
    "L'encodage de la table `array` par la méthode **Count Vectorizer** est : "
   ]
  },
  {
   "cell_type": "code",
   "execution_count": 6,
   "metadata": {},
   "outputs": [
    {
     "name": "stdout",
     "output_type": "stream",
     "text": [
      "[[1 1 1 0 1 1]\n",
      " [1 1 1 0 1 1]\n",
      " [0 0 0 1 0 0]]\n"
     ]
    }
   ],
   "source": [
    "print(X_.toarray())"
   ]
  },
  {
   "cell_type": "markdown",
   "metadata": {},
   "source": [
    "### 2.1.2. Application de la regression logistique"
   ]
  },
  {
   "cell_type": "code",
   "execution_count": 3,
   "metadata": {},
   "outputs": [],
   "source": [
    "def conf_matrix(X, y, vectorizer, model, verbose=True):\n",
    "    X = vectorizer.fit_transform(X).toarray()\n",
    "    \n",
    "    X_train, X_test, y_train, y_test = train_test_split(StandardScaler().fit_transform(X), y, train_size=0.80, random_state=1234)\n",
    "\n",
    "    model.fit(X_train, y_train)\n",
    "    y_pred = model.predict(X_test)\n",
    "\n",
    "    sc_accuracy = metrics.accuracy_score(y_pred, y_test)    \n",
    "    sc_balanced_accuracy = metrics.balanced_accuracy_score(y_pred, y_test)\n",
    "    sc_f1 = metrics.f1_score(y_pred, y_test, pos_label=\"Positive\")\n",
    "    sc_recall = metrics.recall_score(y_pred, y_test, pos_label=\"Positive\")\n",
    "    sc_precision = metrics.precision_score(y_pred, y_test, pos_label=\"Positive\")\n",
    "    sc_roc_auc = metrics.roc_auc_score(y_test, model.predict_proba(X_test)[:,1])\n",
    "    probs = model.predict_proba(X_test)[:,1]\n",
    "    \n",
    "    if verbose:    \n",
    "        metrics.plot_confusion_matrix(model, X_test, y_test)\n",
    "        plt.show()\n",
    "\n",
    "        print(f\"Accuracy : {sc_accuracy}\")\n",
    "        print(f\"Balanced accuracy : {sc_balanced_accuracy}\")\n",
    "    #     print(f\"Recall : {sc_recall}\")\n",
    "    #     print(f\"Precision : {sc_precision}\")\n",
    "    #     print(f\"F1 : {sc_f1}\")\n",
    "        print(f\"ROC AUC : {sc_roc_auc}\")\n",
    "    \n",
    "    metrics_score = {'accuracy': sc_accuracy, 'balanced_accuracy': sc_balanced_accuracy, 'roc_auc': sc_roc_auc}\n",
    "    \n",
    "    if not verbose:\n",
    "        return X_train, X_test, y_train, y_test, probs, metrics_score\n",
    "    "
   ]
  },
  {
   "cell_type": "code",
   "execution_count": 8,
   "metadata": {},
   "outputs": [
    {
     "data": {
      "image/png": "[encoded data removed]",
      "text/plain": [
       "<Figure size 432x288 with 2 Axes>"
      ]
     },
     "metadata": {
      "needs_background": "light"
     },
     "output_type": "display_data"
    },
    {
     "name": "stdout",
     "output_type": "stream",
     "text": [
      "Accuracy : 0.7602\n",
      "Balanced accuracy : 0.7619232830080874\n",
      "ROC AUC : 0.8343160703676211\n"
     ]
    }
   ],
   "source": [
    "conf_matrix(X, y, CountVectorizer(max_features = 1000), LogisticRegression())"
   ]
  },
  {
   "cell_type": "markdown",
   "metadata": {},
   "source": [
    "## 2.2. TF-IDF\n",
    "### 2.2.1. Exemple"
   ]
  },
  {
   "cell_type": "code",
   "execution_count": 9,
   "metadata": {},
   "outputs": [
    {
     "data": {
      "text/plain": [
       "['blue', 'by', 'car', 'cleaned', 'hello', 'jack', 'red', 'was']"
      ]
     },
     "execution_count": 9,
     "metadata": {},
     "output_type": "execute_result"
    }
   ],
   "source": [
    "array = [\"Blue car was cleaned by Jack\", \n",
    "         \"Jack was cleaned by red car\", \n",
    "         \"Hello\"]\n",
    "vectorizer = TfidfVectorizer()\n",
    "X_ = vectorizer.fit_transform(array)\n",
    "vectorizer.get_feature_names()"
   ]
  },
  {
   "cell_type": "markdown",
   "metadata": {},
   "source": [
    "L'encodage de la table `array` par la méthode **TD-IDF** est : "
   ]
  },
  {
   "cell_type": "code",
   "execution_count": 10,
   "metadata": {},
   "outputs": [
    {
     "name": "stdout",
     "output_type": "stream",
     "text": [
      "[[0.50689001 0.38550292 0.38550292 0.38550292 0.         0.38550292\n",
      "  0.         0.38550292]\n",
      " [0.         0.38550292 0.38550292 0.38550292 0.         0.38550292\n",
      "  0.50689001 0.38550292]\n",
      " [0.         0.         0.         0.         1.         0.\n",
      "  0.         0.        ]]\n"
     ]
    }
   ],
   "source": [
    "print(X_.toarray())"
   ]
  },
  {
   "cell_type": "markdown",
   "metadata": {},
   "source": [
    "### 2.2.2. Application de la regression logistique"
   ]
  },
  {
   "cell_type": "code",
   "execution_count": 11,
   "metadata": {},
   "outputs": [
    {
     "data": {
      "image/png": "[encoded data removed]",
      "text/plain": [
       "<Figure size 432x288 with 2 Axes>"
      ]
     },
     "metadata": {
      "needs_background": "light"
     },
     "output_type": "display_data"
    },
    {
     "name": "stdout",
     "output_type": "stream",
     "text": [
      "Accuracy : 0.7586\n",
      "Balanced accuracy : 0.7594967822497015\n",
      "ROC AUC : 0.8404903704936229\n"
     ]
    }
   ],
   "source": [
    "conf_matrix(X, y, TfidfVectorizer(max_features = 1000), LogisticRegression())"
   ]
  },
  {
   "cell_type": "markdown",
   "metadata": {},
   "source": [
    "## 2.3. N-grams\n",
    "\n",
    "La méthode N-grams peut-être utilisé sur les méthodes **Count Vectorizer** et **TD-IDF**.\n",
    "\n",
    "### 2.3.1. Exemple"
   ]
  },
  {
   "cell_type": "code",
   "execution_count": 12,
   "metadata": {},
   "outputs": [
    {
     "data": {
      "text/plain": [
       "['blue car',\n",
       " 'by jack',\n",
       " 'by red',\n",
       " 'car was',\n",
       " 'cleaned by',\n",
       " 'jack was',\n",
       " 'red car',\n",
       " 'was cleaned']"
      ]
     },
     "execution_count": 12,
     "metadata": {},
     "output_type": "execute_result"
    }
   ],
   "source": [
    "arr = [\"Blue car was cleaned by Jack\", \"Jack was cleaned by red car\", \"Hello\"]\n",
    "vectorizer = CountVectorizer(ngram_range=(2,2))\n",
    "X_ = vectorizer.fit_transform(arr)\n",
    "vectorizer.get_feature_names()"
   ]
  },
  {
   "cell_type": "markdown",
   "metadata": {},
   "source": [
    "L'encodage de la table `array` par les méthodes **Count Vectorizer et N-grams** est : "
   ]
  },
  {
   "cell_type": "code",
   "execution_count": 13,
   "metadata": {},
   "outputs": [
    {
     "name": "stdout",
     "output_type": "stream",
     "text": [
      "[[1 1 0 1 1 0 0 1]\n",
      " [0 0 1 0 1 1 1 1]\n",
      " [0 0 0 0 0 0 0 0]]\n"
     ]
    }
   ],
   "source": [
    "print(X_.toarray())"
   ]
  },
  {
   "cell_type": "markdown",
   "metadata": {},
   "source": [
    "### 2.3.2. Application de la regression logistique"
   ]
  },
  {
   "cell_type": "code",
   "execution_count": 14,
   "metadata": {},
   "outputs": [
    {
     "data": {
      "image/png": "[encoded data removed]",
      "text/plain": [
       "<Figure size 432x288 with 2 Axes>"
      ]
     },
     "metadata": {
      "needs_background": "light"
     },
     "output_type": "display_data"
    },
    {
     "name": "stdout",
     "output_type": "stream",
     "text": [
      "Accuracy : 0.6693\n",
      "Balanced accuracy : 0.681616715270952\n",
      "ROC AUC : 0.745171300893247\n"
     ]
    }
   ],
   "source": [
    "conf_matrix(X, y, CountVectorizer(max_features = 1000, ngram_range=(2,2)), LogisticRegression(max_iter=200))"
   ]
  },
  {
   "cell_type": "code",
   "execution_count": 15,
   "metadata": {},
   "outputs": [
    {
     "data": {
      "image/png": "[encoded data removed]",
      "text/plain": [
       "<Figure size 432x288 with 2 Axes>"
      ]
     },
     "metadata": {
      "needs_background": "light"
     },
     "output_type": "display_data"
    },
    {
     "name": "stdout",
     "output_type": "stream",
     "text": [
      "Accuracy : 0.6712\n",
      "Balanced accuracy : 0.6804963613841304\n",
      "ROC AUC : 0.7472049438899891\n"
     ]
    }
   ],
   "source": [
    "conf_matrix(X, y, TfidfVectorizer(max_features = 1000, ngram_range=(2,2)), LogisticRegression(max_iter=200))"
   ]
  },
  {
   "cell_type": "markdown",
   "metadata": {},
   "source": [
    "# 3. Comparaisons des méthodes de feature extraction\n",
    "\n",
    "L'objectif est de comparer les 3 méthodes de feature extraction **Count Vectorizer**, **TD-IDF** et **N-grams**, en faisant ensuite varier la méthode de pré-processing et le nombre de features.\n",
    "Nous pourrons alors en déduire la combinaison optimale pour la **regression logistique**.\n",
    "\n",
    "## 3.1. Comparaison des méthodes de feature extraction à pré-processing fixé et avec un nombre de features fixé\n",
    "\n",
    "On compare les méthodes de feature extraction à pré-processing fixé et avec un nombre de features fixé pour l'instant."
   ]
  },
  {
   "cell_type": "code",
   "execution_count": 4,
   "metadata": {},
   "outputs": [],
   "source": [
    "def comparaison(X, y, N, show_graph=True, show_table=True):\n",
    "    \"\"\"\n",
    "    N correspond au nombre de features\n",
    "    \"\"\"\n",
    "    table = []\n",
    "\n",
    "    _, _, _, y_test, probs, metrics_score = conf_matrix(X, y, CountVectorizer(max_features = N), LogisticRegression(max_iter=200), verbose=False)\n",
    "    fpr, tpr, _ = metrics.roc_curve(y_test, probs, pos_label=\"Positive\")\n",
    "    if show_graph: plt.plot(fpr,tpr,\":\", label=f\"CountVectorizer {N}\")\n",
    "    table.append(metrics_score)\n",
    "\n",
    "    _, _, _, y_test, probs, metrics_score = conf_matrix(X, y, TfidfVectorizer(max_features = N), LogisticRegression(max_iter=200), verbose=False)\n",
    "    fpr, tpr, _ = metrics.roc_curve(y_test, probs, pos_label=\"Positive\")\n",
    "    if show_graph: plt.plot(fpr,tpr,\":\", label=f\"TfidfVectorizer {N}\")\n",
    "    table.append(metrics_score)\n",
    "\n",
    "    _, _, _, y_test, probs, metrics_score = conf_matrix(X, y, CountVectorizer(max_features = N, ngram_range=(2,2)), LogisticRegression(max_iter=200), verbose=False)\n",
    "    fpr, tpr, _ = metrics.roc_curve(y_test, probs, pos_label=\"Positive\")\n",
    "    if show_graph: plt.plot(fpr,tpr,\":\", label=f\"CountVectorizer {N} ngram 2\")\n",
    "    table.append(metrics_score)\n",
    "\n",
    "    _, _, _, y_test, probs, metrics_score = conf_matrix(X, y, TfidfVectorizer(max_features = N, ngram_range=(2,2)), LogisticRegression(max_iter=200), verbose=False)\n",
    "    fpr, tpr, _ = metrics.roc_curve(y_test, probs, pos_label=\"Positive\")\n",
    "    if show_graph: plt.plot(fpr,tpr,\":\", label=f\"TfidfVectorizer {N} ngram 2\")\n",
    "    table.append(metrics_score)\n",
    "    \n",
    "    if show_graph:\n",
    "        plt.plot([0, 1], [0, 1], \"r-\")\n",
    "        plt.plot([0, 0, 1], [0, 1, 1], 'b-')\n",
    "        plt.legend()\n",
    "        plt.show()\n",
    "\n",
    "    if show_table:\n",
    "        display(pd.DataFrame(table, index=[f\"CountVectorizer {N}\", f\"TfidfVectorizer {N}\", f\"CountVectorizer {N} ngram 2\", f\"TfidfVectorizer {N} ngram 2\"]))"
   ]
  },
  {
   "cell_type": "code",
   "execution_count": 17,
   "metadata": {},
   "outputs": [
    {
     "data": {
      "image/png": "[encoded data removed]",
      "text/plain": [
       "<Figure size 432x288 with 1 Axes>"
      ]
     },
     "metadata": {
      "needs_background": "light"
     },
     "output_type": "display_data"
    },
    {
     "data": {
      "text/html": [
       "<div>\n",
       "<style scoped>\n",
       "    .dataframe tbody tr th:only-of-type {\n",
       "        vertical-align: middle;\n",
       "    }\n",
       "\n",
       "    .dataframe tbody tr th {\n",
       "        vertical-align: top;\n",
       "    }\n",
       "\n",
       "    .dataframe thead th {\n",
       "        text-align: right;\n",
       "    }\n",
       "</style>\n",
       "<table border=\"1\" class=\"dataframe\">\n",
       "  <thead>\n",
       "    <tr style=\"text-align: right;\">\n",
       "      <th></th>\n",
       "      <th>accuracy</th>\n",
       "      <th>balanced_accuracy</th>\n",
       "      <th>roc_auc</th>\n",
       "    </tr>\n",
       "  </thead>\n",
       "  <tbody>\n",
       "    <tr>\n",
       "      <th>CountVectorizer 200</th>\n",
       "      <td>0.7114</td>\n",
       "      <td>0.714251</td>\n",
       "      <td>0.786835</td>\n",
       "    </tr>\n",
       "    <tr>\n",
       "      <th>TfidfVectorizer 200</th>\n",
       "      <td>0.7150</td>\n",
       "      <td>0.716304</td>\n",
       "      <td>0.792120</td>\n",
       "    </tr>\n",
       "    <tr>\n",
       "      <th>CountVectorizer 200 ngram 2</th>\n",
       "      <td>0.6195</td>\n",
       "      <td>0.636330</td>\n",
       "      <td>0.682787</td>\n",
       "    </tr>\n",
       "    <tr>\n",
       "      <th>TfidfVectorizer 200 ngram 2</th>\n",
       "      <td>0.6195</td>\n",
       "      <td>0.633657</td>\n",
       "      <td>0.684976</td>\n",
       "    </tr>\n",
       "  </tbody>\n",
       "</table>\n",
       "</div>"
      ],
      "text/plain": [
       "                             accuracy  balanced_accuracy   roc_auc\n",
       "CountVectorizer 200            0.7114           0.714251  0.786835\n",
       "TfidfVectorizer 200            0.7150           0.716304  0.792120\n",
       "CountVectorizer 200 ngram 2    0.6195           0.636330  0.682787\n",
       "TfidfVectorizer 200 ngram 2    0.6195           0.633657  0.684976"
      ]
     },
     "metadata": {},
     "output_type": "display_data"
    },
    {
     "name": "stdout",
     "output_type": "stream",
     "text": [
      "Wall time: 7.01 s\n"
     ]
    }
   ],
   "source": [
    "%%time\n",
    "comparaison(X, y, 200)"
   ]
  },
  {
   "cell_type": "markdown",
   "metadata": {},
   "source": [
    "**Conclusion :** Le modèle de feature extraction le plus performant (pour la méthode de pré-processing fixée et le nombre de features fixé) est ici le `TfidfVectorizer`. L'ajout de la fonction ngram demande en fait d'augmenter le nombre de features (de $n$ à $n^2$), ce qui demande plus de temps de calcul : "
   ]
  },
  {
   "cell_type": "code",
   "execution_count": 18,
   "metadata": {},
   "outputs": [
    {
     "data": {
      "image/png": "[encoded data removed]",
      "text/plain": [
       "<Figure size 432x288 with 1 Axes>"
      ]
     },
     "metadata": {
      "needs_background": "light"
     },
     "output_type": "display_data"
    },
    {
     "data": {
      "text/html": [
       "<div>\n",
       "<style scoped>\n",
       "    .dataframe tbody tr th:only-of-type {\n",
       "        vertical-align: middle;\n",
       "    }\n",
       "\n",
       "    .dataframe tbody tr th {\n",
       "        vertical-align: top;\n",
       "    }\n",
       "\n",
       "    .dataframe thead th {\n",
       "        text-align: right;\n",
       "    }\n",
       "</style>\n",
       "<table border=\"1\" class=\"dataframe\">\n",
       "  <thead>\n",
       "    <tr style=\"text-align: right;\">\n",
       "      <th></th>\n",
       "      <th>accuracy</th>\n",
       "      <th>balanced_accuracy</th>\n",
       "      <th>roc_auc</th>\n",
       "    </tr>\n",
       "  </thead>\n",
       "  <tbody>\n",
       "    <tr>\n",
       "      <th>CountVectorizer 50</th>\n",
       "      <td>0.6399</td>\n",
       "      <td>0.644701</td>\n",
       "      <td>0.694696</td>\n",
       "    </tr>\n",
       "    <tr>\n",
       "      <th>TfidfVectorizer 50</th>\n",
       "      <td>0.6415</td>\n",
       "      <td>0.643489</td>\n",
       "      <td>0.695593</td>\n",
       "    </tr>\n",
       "    <tr>\n",
       "      <th>CountVectorizer 2500 ngram 2</th>\n",
       "      <td>0.6872</td>\n",
       "      <td>0.694909</td>\n",
       "      <td>0.761733</td>\n",
       "    </tr>\n",
       "    <tr>\n",
       "      <th>TfidfVectorizer 2500 ngram 2</th>\n",
       "      <td>0.6882</td>\n",
       "      <td>0.693659</td>\n",
       "      <td>0.767187</td>\n",
       "    </tr>\n",
       "  </tbody>\n",
       "</table>\n",
       "</div>"
      ],
      "text/plain": [
       "                              accuracy  balanced_accuracy   roc_auc\n",
       "CountVectorizer 50              0.6399           0.644701  0.694696\n",
       "TfidfVectorizer 50              0.6415           0.643489  0.695593\n",
       "CountVectorizer 2500 ngram 2    0.6872           0.694909  0.761733\n",
       "TfidfVectorizer 2500 ngram 2    0.6882           0.693659  0.767187"
      ]
     },
     "execution_count": 18,
     "metadata": {},
     "output_type": "execute_result"
    }
   ],
   "source": [
    "table = []\n",
    "\n",
    "N = 50\n",
    "\n",
    "_, _, _, y_test, probs, metrics_score = conf_matrix(X, y, CountVectorizer(max_features = N), LogisticRegression(max_iter=200), verbose=False)\n",
    "fpr, tpr, _ = metrics.roc_curve(y_test, probs, pos_label=\"Positive\")\n",
    "plt.plot(fpr,tpr,\":\", label=f\"CountVectorizer {N}\")\n",
    "table.append(metrics_score)\n",
    "\n",
    "_, _, _, y_test, probs, metrics_score = conf_matrix(X, y, TfidfVectorizer(max_features = N), LogisticRegression(max_iter=200), verbose=False)\n",
    "fpr, tpr, _ = metrics.roc_curve(y_test, probs, pos_label=\"Positive\")\n",
    "plt.plot(fpr,tpr,\":\", label=f\"TfidfVectorizer {N}\")\n",
    "table.append(metrics_score)\n",
    "\n",
    "\n",
    "_, _, _, y_test, probs, metrics_score = conf_matrix(X, y, CountVectorizer(max_features = N**2, ngram_range=(2,2)), LogisticRegression(max_iter=200), verbose=False)\n",
    "fpr, tpr, _ = metrics.roc_curve(y_test, probs, pos_label=\"Positive\")\n",
    "plt.plot(fpr,tpr,\":\", label=f\"CountVectorizer {N**2} ngram 2\")\n",
    "table.append(metrics_score)\n",
    "\n",
    "\n",
    "_, _, _, y_test, probs, metrics_score = conf_matrix(X, y, TfidfVectorizer(max_features = N**2, ngram_range=(2,2)), LogisticRegression(max_iter=200), verbose=False)\n",
    "fpr, tpr, _ = metrics.roc_curve(y_test, probs, pos_label=\"Positive\")\n",
    "plt.plot(fpr,tpr,\":\", label=f\"TfidfVectorizer {N**2} ngram 2\")\n",
    "table.append(metrics_score)\n",
    "\n",
    "plt.plot([0, 1], [0, 1], \"r-\")\n",
    "plt.plot([0, 0, 1], [0, 1, 1], 'b-')\n",
    "\n",
    "plt.legend()\n",
    "plt.show()\n",
    "\n",
    "pd.DataFrame(table, index=[f\"CountVectorizer {N}\", f\"TfidfVectorizer {N}\", f\"CountVectorizer {N**2} ngram 2\", f\"TfidfVectorizer {N**2} ngram 2\"])"
   ]
  },
  {
   "cell_type": "markdown",
   "metadata": {},
   "source": [
    "On peut voir qu'en prenant $n$ et $n^2$, les courbes se rapprochent un peu, mais il faudrait encore augmenter le nombre de features pour les méthodes ngram pour égaler les méthodes non ngram."
   ]
  },
  {
   "cell_type": "markdown",
   "metadata": {},
   "source": [
    "## 3.2. Influence des méthodes de pré-processing\n",
    "Nous faisons à présent varier les méthodes de pré-processing :"
   ]
  },
  {
   "cell_type": "code",
   "execution_count": 19,
   "metadata": {},
   "outputs": [
    {
     "name": "stdout",
     "output_type": "stream",
     "text": [
      "stop_words: False, lemmatization: False, negation: False\n"
     ]
    },
    {
     "data": {
      "text/html": [
       "<div>\n",
       "<style scoped>\n",
       "    .dataframe tbody tr th:only-of-type {\n",
       "        vertical-align: middle;\n",
       "    }\n",
       "\n",
       "    .dataframe tbody tr th {\n",
       "        vertical-align: top;\n",
       "    }\n",
       "\n",
       "    .dataframe thead th {\n",
       "        text-align: right;\n",
       "    }\n",
       "</style>\n",
       "<table border=\"1\" class=\"dataframe\">\n",
       "  <thead>\n",
       "    <tr style=\"text-align: right;\">\n",
       "      <th></th>\n",
       "      <th>accuracy</th>\n",
       "      <th>balanced_accuracy</th>\n",
       "      <th>roc_auc</th>\n",
       "    </tr>\n",
       "  </thead>\n",
       "  <tbody>\n",
       "    <tr>\n",
       "      <th>CountVectorizer 200</th>\n",
       "      <td>0.712925</td>\n",
       "      <td>0.714323</td>\n",
       "      <td>0.784336</td>\n",
       "    </tr>\n",
       "    <tr>\n",
       "      <th>TfidfVectorizer 200</th>\n",
       "      <td>0.714165</td>\n",
       "      <td>0.714467</td>\n",
       "      <td>0.789357</td>\n",
       "    </tr>\n",
       "    <tr>\n",
       "      <th>CountVectorizer 200 ngram 2</th>\n",
       "      <td>0.625847</td>\n",
       "      <td>0.641584</td>\n",
       "      <td>0.682372</td>\n",
       "    </tr>\n",
       "    <tr>\n",
       "      <th>TfidfVectorizer 200 ngram 2</th>\n",
       "      <td>0.625669</td>\n",
       "      <td>0.639135</td>\n",
       "      <td>0.682348</td>\n",
       "    </tr>\n",
       "  </tbody>\n",
       "</table>\n",
       "</div>"
      ],
      "text/plain": [
       "                             accuracy  balanced_accuracy   roc_auc\n",
       "CountVectorizer 200          0.712925           0.714323  0.784336\n",
       "TfidfVectorizer 200          0.714165           0.714467  0.789357\n",
       "CountVectorizer 200 ngram 2  0.625847           0.641584  0.682372\n",
       "TfidfVectorizer 200 ngram 2  0.625669           0.639135  0.682348"
      ]
     },
     "metadata": {},
     "output_type": "display_data"
    },
    {
     "name": "stdout",
     "output_type": "stream",
     "text": [
      "stop_words: False, lemmatization: False, negation: True\n"
     ]
    },
    {
     "data": {
      "text/html": [
       "<div>\n",
       "<style scoped>\n",
       "    .dataframe tbody tr th:only-of-type {\n",
       "        vertical-align: middle;\n",
       "    }\n",
       "\n",
       "    .dataframe tbody tr th {\n",
       "        vertical-align: top;\n",
       "    }\n",
       "\n",
       "    .dataframe thead th {\n",
       "        text-align: right;\n",
       "    }\n",
       "</style>\n",
       "<table border=\"1\" class=\"dataframe\">\n",
       "  <thead>\n",
       "    <tr style=\"text-align: right;\">\n",
       "      <th></th>\n",
       "      <th>accuracy</th>\n",
       "      <th>balanced_accuracy</th>\n",
       "      <th>roc_auc</th>\n",
       "    </tr>\n",
       "  </thead>\n",
       "  <tbody>\n",
       "    <tr>\n",
       "      <th>CountVectorizer 200</th>\n",
       "      <td>0.699516</td>\n",
       "      <td>0.699850</td>\n",
       "      <td>0.770303</td>\n",
       "    </tr>\n",
       "    <tr>\n",
       "      <th>TfidfVectorizer 200</th>\n",
       "      <td>0.699644</td>\n",
       "      <td>0.699718</td>\n",
       "      <td>0.775031</td>\n",
       "    </tr>\n",
       "    <tr>\n",
       "      <th>CountVectorizer 200 ngram 2</th>\n",
       "      <td>0.598206</td>\n",
       "      <td>0.613923</td>\n",
       "      <td>0.658120</td>\n",
       "    </tr>\n",
       "    <tr>\n",
       "      <th>TfidfVectorizer 200 ngram 2</th>\n",
       "      <td>0.598992</td>\n",
       "      <td>0.614147</td>\n",
       "      <td>0.657765</td>\n",
       "    </tr>\n",
       "  </tbody>\n",
       "</table>\n",
       "</div>"
      ],
      "text/plain": [
       "                             accuracy  balanced_accuracy   roc_auc\n",
       "CountVectorizer 200          0.699516           0.699850  0.770303\n",
       "TfidfVectorizer 200          0.699644           0.699718  0.775031\n",
       "CountVectorizer 200 ngram 2  0.598206           0.613923  0.658120\n",
       "TfidfVectorizer 200 ngram 2  0.598992           0.614147  0.657765"
      ]
     },
     "metadata": {},
     "output_type": "display_data"
    },
    {
     "name": "stdout",
     "output_type": "stream",
     "text": [
      "stop_words: True, lemmatization: False, negation: False\n"
     ]
    },
    {
     "data": {
      "text/html": [
       "<div>\n",
       "<style scoped>\n",
       "    .dataframe tbody tr th:only-of-type {\n",
       "        vertical-align: middle;\n",
       "    }\n",
       "\n",
       "    .dataframe tbody tr th {\n",
       "        vertical-align: top;\n",
       "    }\n",
       "\n",
       "    .dataframe thead th {\n",
       "        text-align: right;\n",
       "    }\n",
       "</style>\n",
       "<table border=\"1\" class=\"dataframe\">\n",
       "  <thead>\n",
       "    <tr style=\"text-align: right;\">\n",
       "      <th></th>\n",
       "      <th>accuracy</th>\n",
       "      <th>balanced_accuracy</th>\n",
       "      <th>roc_auc</th>\n",
       "    </tr>\n",
       "  </thead>\n",
       "  <tbody>\n",
       "    <tr>\n",
       "      <th>CountVectorizer 200</th>\n",
       "      <td>0.704626</td>\n",
       "      <td>0.709043</td>\n",
       "      <td>0.780485</td>\n",
       "    </tr>\n",
       "    <tr>\n",
       "      <th>TfidfVectorizer 200</th>\n",
       "      <td>0.703803</td>\n",
       "      <td>0.706481</td>\n",
       "      <td>0.780579</td>\n",
       "    </tr>\n",
       "    <tr>\n",
       "      <th>CountVectorizer 200 ngram 2</th>\n",
       "      <td>0.579802</td>\n",
       "      <td>0.646439</td>\n",
       "      <td>0.610293</td>\n",
       "    </tr>\n",
       "    <tr>\n",
       "      <th>TfidfVectorizer 200 ngram 2</th>\n",
       "      <td>0.580009</td>\n",
       "      <td>0.644931</td>\n",
       "      <td>0.610074</td>\n",
       "    </tr>\n",
       "  </tbody>\n",
       "</table>\n",
       "</div>"
      ],
      "text/plain": [
       "                             accuracy  balanced_accuracy   roc_auc\n",
       "CountVectorizer 200          0.704626           0.709043  0.780485\n",
       "TfidfVectorizer 200          0.703803           0.706481  0.780579\n",
       "CountVectorizer 200 ngram 2  0.579802           0.646439  0.610293\n",
       "TfidfVectorizer 200 ngram 2  0.580009           0.644931  0.610074"
      ]
     },
     "metadata": {},
     "output_type": "display_data"
    },
    {
     "name": "stdout",
     "output_type": "stream",
     "text": [
      "stop_words: True, lemmatization: False, negation: True\n"
     ]
    },
    {
     "data": {
      "text/html": [
       "<div>\n",
       "<style scoped>\n",
       "    .dataframe tbody tr th:only-of-type {\n",
       "        vertical-align: middle;\n",
       "    }\n",
       "\n",
       "    .dataframe tbody tr th {\n",
       "        vertical-align: top;\n",
       "    }\n",
       "\n",
       "    .dataframe thead th {\n",
       "        text-align: right;\n",
       "    }\n",
       "</style>\n",
       "<table border=\"1\" class=\"dataframe\">\n",
       "  <thead>\n",
       "    <tr style=\"text-align: right;\">\n",
       "      <th></th>\n",
       "      <th>accuracy</th>\n",
       "      <th>balanced_accuracy</th>\n",
       "      <th>roc_auc</th>\n",
       "    </tr>\n",
       "  </thead>\n",
       "  <tbody>\n",
       "    <tr>\n",
       "      <th>CountVectorizer 200</th>\n",
       "      <td>0.677937</td>\n",
       "      <td>0.682801</td>\n",
       "      <td>0.759947</td>\n",
       "    </tr>\n",
       "    <tr>\n",
       "      <th>TfidfVectorizer 200</th>\n",
       "      <td>0.682198</td>\n",
       "      <td>0.683923</td>\n",
       "      <td>0.761562</td>\n",
       "    </tr>\n",
       "    <tr>\n",
       "      <th>CountVectorizer 200 ngram 2</th>\n",
       "      <td>0.539184</td>\n",
       "      <td>0.623152</td>\n",
       "      <td>0.574399</td>\n",
       "    </tr>\n",
       "    <tr>\n",
       "      <th>TfidfVectorizer 200 ngram 2</th>\n",
       "      <td>0.539109</td>\n",
       "      <td>0.621663</td>\n",
       "      <td>0.574278</td>\n",
       "    </tr>\n",
       "  </tbody>\n",
       "</table>\n",
       "</div>"
      ],
      "text/plain": [
       "                             accuracy  balanced_accuracy   roc_auc\n",
       "CountVectorizer 200          0.677937           0.682801  0.759947\n",
       "TfidfVectorizer 200          0.682198           0.683923  0.761562\n",
       "CountVectorizer 200 ngram 2  0.539184           0.623152  0.574399\n",
       "TfidfVectorizer 200 ngram 2  0.539109           0.621663  0.574278"
      ]
     },
     "metadata": {},
     "output_type": "display_data"
    },
    {
     "name": "stdout",
     "output_type": "stream",
     "text": [
      "Wall time: 14min 32s\n"
     ]
    }
   ],
   "source": [
    "%%time\n",
    "for stop_words in [False, True]:\n",
    "#     for lemmatization in [False, True]:\n",
    "    for lemmatization in [False]:\n",
    "        for negation in [False, True]:\n",
    "            file = \"train\"\n",
    "            if stop_words:\n",
    "                file += \"_stop\"\n",
    "            if lemmatization:\n",
    "                file += \"_lemm\"\n",
    "            if  negation:\n",
    "                file += \"_neg\"\n",
    "            print(f\"stop_words: {stop_words}, lemmatization: {lemmatization}, negation: {negation}\")\n",
    "            df = pd.read_pickle(os.path.join(\"data\", \"sentiment140\", file+\".bz2\"))\n",
    "            X = df.text.to_list()\n",
    "            y = df.sentiment.to_list()\n",
    "            comparaison(X, y, 200, show_graph=False)"
   ]
  },
  {
   "cell_type": "markdown",
   "metadata": {},
   "source": [
    "La combinaison optimale, pour le nombre de features fixé, correspond ici au pré-processing `stop_words: False, lemmatization: False, negation: False` combiné à la méthode de feature extraction **TF-IDF**. \n",
    "\n",
    "Toutes choses égales par ailleurs, la suppression des stop-words (`stop_words: True`) ne semble généralement pas bénéfique."
   ]
  },
  {
   "cell_type": "markdown",
   "metadata": {},
   "source": [
    "## 3.3. Influence du nombre de features\n",
    "Nous faisons à présent varier le nombre de features."
   ]
  },
  {
   "cell_type": "markdown",
   "metadata": {},
   "source": [
    "### 3.3.1. Exemple avec une méthode de pré-processing fixé et TfidfVectorizer"
   ]
  },
  {
   "cell_type": "code",
   "execution_count": 20,
   "metadata": {},
   "outputs": [
    {
     "data": {
      "text/plain": [
       "array([  100.        ,   166.81005372,   278.25594022,   464.15888336,\n",
       "         774.26368268,  1291.54966501,  2154.43469003,  3593.8136638 ,\n",
       "        5994.84250319, 10000.        ])"
      ]
     },
     "execution_count": 20,
     "metadata": {},
     "output_type": "execute_result"
    },
    {
     "data": {
      "image/png": "[encoded data removed]",
      "text/plain": [
       "<Figure size 432x288 with 1 Axes>"
      ]
     },
     "metadata": {
      "needs_background": "light"
     },
     "output_type": "display_data"
    }
   ],
   "source": [
    "N = 10\n",
    "plt.plot(np.logspace(2, 4, N, endpoint=True), np.zeros(N), 'o')\n",
    "np.logspace(2, 4, N, endpoint=True)"
   ]
  },
  {
   "cell_type": "code",
   "execution_count": 11,
   "metadata": {},
   "outputs": [
    {
     "name": "stdout",
     "output_type": "stream",
     "text": [
      "Wall time: 1min 26s\n"
     ]
    }
   ],
   "source": [
    "%%time\n",
    "N = 10\n",
    "max_features_list = np.logspace(2, 3.8, N, endpoint=True, dtype=int)   # De 10^2 à 10^3.8\n",
    "table = []\n",
    "for max_features in max_features_list:\n",
    "    _, _, _, _, _, metrics_score = conf_matrix(X, y, TfidfVectorizer(max_features = max_features), LogisticRegression(max_iter=200), verbose=False)\n",
    "    table.append(metrics_score)\n",
    "df = pd.DataFrame(table, index=max_features_list)"
   ]
  },
  {
   "cell_type": "code",
   "execution_count": 12,
   "metadata": {},
   "outputs": [
    {
     "data": {
      "text/plain": [
       "[]"
      ]
     },
     "execution_count": 12,
     "metadata": {},
     "output_type": "execute_result"
    },
    {
     "data": {
      "image/png": "[encoded data removed]",
      "text/plain": [
       "<Figure size 432x288 with 1 Axes>"
      ]
     },
     "metadata": {
      "needs_background": "light"
     },
     "output_type": "display_data"
    }
   ],
   "source": [
    "for i in df.columns:\n",
    "    df[i].plot(label=i)\n",
    "\n",
    "plt.legend()\n",
    "plt.xlabel(\"Nombre de features\")\n",
    "plt.plot()"
   ]
  },
  {
   "cell_type": "markdown",
   "metadata": {},
   "source": [
    "### 3.3.2 Pré-processing fixé et variation des méthodes de feature extraction"
   ]
  },
  {
   "cell_type": "markdown",
   "metadata": {},
   "source": [
    "On garde le pré-processing fixé et on fait varier les méthodes de feature extraction."
   ]
  },
  {
   "cell_type": "code",
   "execution_count": null,
   "metadata": {},
   "outputs": [],
   "source": [
    "def influence_features(X, y, N):\n",
    "    max_features_list = np.logspace(2, 3, N, endpoint=True, dtype=int)   # De 10^2 à 10^3.8\n",
    "    table = []\n",
    "    for max_features in max_features_list:\n",
    "        _, _, _, _, _, metrics_score = conf_matrix(X, y, CountVectorizer(max_features = max_features), LogisticRegression(max_iter=200), verbose=False)\n",
    "        metrics_score['features'] = max_features\n",
    "        metrics_score['model'] = \"CountVectorizer\"\n",
    "        table.append(metrics_score)\n",
    "\n",
    "        _, _, _, _, _, metrics_score = conf_matrix(X, y, TfidfVectorizer(max_features = max_features), LogisticRegression(max_iter=200), verbose=False)\n",
    "        metrics_score['features'] = max_features\n",
    "        metrics_score['model'] = \"TfidfVectorizer\"\n",
    "        table.append(metrics_score)\n",
    "\n",
    "        _, _, _, _, _, metrics_score = conf_matrix(X, y, CountVectorizer(max_features = max_features, ngram_range=(2,2)), LogisticRegression(max_iter=200), verbose=False)\n",
    "        metrics_score['features'] = max_features\n",
    "        metrics_score['model'] = \"CountVectorizer ngram 2\"\n",
    "        table.append(metrics_score)\n",
    "\n",
    "        _, _, _, _, _, metrics_score = conf_matrix(X, y, TfidfVectorizer(max_features = max_features, ngram_range=(2,2)), LogisticRegression(max_iter=200), verbose=False)\n",
    "        metrics_score['features'] = max_features\n",
    "        metrics_score['model'] = \"TfidfVectorizer ngram 2\"\n",
    "        table.append(metrics_score)\n",
    "\n",
    "    df = pd.DataFrame(table)\n",
    "\n",
    "    models = list(set(df.model))\n",
    "    scores = list(df.columns[:-2])\n",
    "    fig, axes = plt.subplots(1,len(scores), figsize=(20, 6))\n",
    "    for i_score in range(len(scores)):\n",
    "        for j_model in range(len(models)):\n",
    "            df[df.model == models[j_model]].plot(x='features', y=scores[i_score], label=models[j_model], ax=axes[i_score])\n",
    "        axes[i_score].set(xlabel='Nombre de features')\n",
    "        axes[i_score].legend()\n",
    "        axes[i_score].set_title(scores[i_score])\n",
    "    plt.plot()\n",
    "    return df"
   ]
  },
  {
   "cell_type": "code",
   "execution_count": null,
   "metadata": {},
   "outputs": [],
   "source": [
    "%%time\n",
    "df_metrics = influence_features(X, y, 3)"
   ]
  },
  {
   "cell_type": "code",
   "execution_count": null,
   "metadata": {},
   "outputs": [],
   "source": [
    "df_metrics"
   ]
  },
  {
   "cell_type": "markdown",
   "metadata": {},
   "source": [
    "### 3.3.3. Variations du pré-processing et des méthodes de feature extraction"
   ]
  },
  {
   "cell_type": "markdown",
   "metadata": {},
   "source": [
    "Nous faisons à présent tout varier (pré-processing, feature extraction)."
   ]
  },
  {
   "cell_type": "code",
   "execution_count": null,
   "metadata": {},
   "outputs": [],
   "source": [
    "%%time\n",
    "for stop_words in [False, True]:\n",
    "#     for lemmatization in [False, True]:\n",
    "    for lemmatization in [False]:\n",
    "        for negation in [False, True]:\n",
    "            file = \"train\"\n",
    "            if stop_words:\n",
    "                file += \"_stop\"\n",
    "            if lemmatization:\n",
    "                file += \"_lemm\"\n",
    "            if  negation:\n",
    "                file += \"_neg\"\n",
    "            print(f\"stop_words: {stop_words}, lemmatization: {lemmatization}, negation: {negation}\")\n",
    "            df = pd.read_pickle(os.path.join(\"data\", \"sentiment140\", file+\".bz2\"))\n",
    "            X = df.text.to_list()\n",
    "            y = df.sentiment.to_list()\n",
    "            df_metrics = influence_features(X, y, 3)\n",
    "            df_metrics['stop_words'] = stop_words\n",
    "            df_metrics['lemmatization'] = lemmatization\n",
    "            df_metrics['negation'] = negation"
   ]
  },
  {
   "cell_type": "code",
   "execution_count": null,
   "metadata": {},
   "outputs": [],
   "source": [
    "df_metrics"
   ]
  },
  {
   "cell_type": "code",
   "execution_count": null,
   "metadata": {},
   "outputs": [],
   "source": []
  }
 ],
 "metadata": {
  "kernelspec": {
   "display_name": "Python 3",
   "language": "python",
   "name": "python3"
  },
  "language_info": {
   "codemirror_mode": {
    "name": "ipython",
    "version": 3
   },
   "file_extension": ".py",
   "mimetype": "text/x-python",
   "name": "python",
   "nbconvert_exporter": "python",
   "pygments_lexer": "ipython3",
   "version": "3.6.11"
  }
 },
 "nbformat": 4,
 "nbformat_minor": 4
}
