{
 "cells": [
  {
   "cell_type": "code",
   "execution_count": 17,
   "metadata": {},
   "outputs": [],
   "source": [
    "import pandas as pd\n",
    "import numpy as np\n",
    "import seaborn as sns\n",
    "import matplotlib.pyplot as plt\n",
    "import nltk\n",
    "from nltk.tokenize import word_tokenize\n",
    "from nltk.corpus import stopwords, wordnet\n",
    "from nltk.stem import WordNetLemmatizer\n",
    "from sklearn.feature_extraction.text import CountVectorizer, TfidfVectorizer\n",
    "import re\n",
    "import sklearn\n",
    "from sklearn.preprocessing import StandardScaler\n",
    "from sklearn.model_selection import train_test_split\n",
    "from sklearn.linear_model import LogisticRegression\n",
    "from sklearn.metrics import confusion_matrix\n",
    "from sklearn import metrics\n",
    "import os"
   ]
  },
  {
   "cell_type": "markdown",
   "metadata": {},
   "source": [
    "# Chargement de la base Sentiment140 préprocessée "
   ]
  },
  {
   "cell_type": "code",
   "execution_count": 18,
   "metadata": {},
   "outputs": [
    {
     "data": {
      "text/html": [
       "<div>\n",
       "<style scoped>\n",
       "    .dataframe tbody tr th:only-of-type {\n",
       "        vertical-align: middle;\n",
       "    }\n",
       "\n",
       "    .dataframe tbody tr th {\n",
       "        vertical-align: top;\n",
       "    }\n",
       "\n",
       "    .dataframe thead th {\n",
       "        text-align: right;\n",
       "    }\n",
       "</style>\n",
       "<table border=\"1\" class=\"dataframe\">\n",
       "  <thead>\n",
       "    <tr style=\"text-align: right;\">\n",
       "      <th></th>\n",
       "      <th>sentiment</th>\n",
       "      <th>id</th>\n",
       "      <th>date</th>\n",
       "      <th>query_string</th>\n",
       "      <th>user</th>\n",
       "      <th>text</th>\n",
       "    </tr>\n",
       "  </thead>\n",
       "  <tbody>\n",
       "    <tr>\n",
       "      <th>0</th>\n",
       "      <td>Negative</td>\n",
       "      <td>1467810369</td>\n",
       "      <td>Mon Apr 06 22:19:45 PDT 2009</td>\n",
       "      <td>NO_QUERY</td>\n",
       "      <td>_TheSpecialOne_</td>\n",
       "      <td>awww that is a bummer you shoulda got david ca...</td>\n",
       "    </tr>\n",
       "    <tr>\n",
       "      <th>1</th>\n",
       "      <td>Negative</td>\n",
       "      <td>1467810672</td>\n",
       "      <td>Mon Apr 06 22:19:49 PDT 2009</td>\n",
       "      <td>NO_QUERY</td>\n",
       "      <td>scotthamilton</td>\n",
       "      <td>is upset that he can not update his facebook b...</td>\n",
       "    </tr>\n",
       "    <tr>\n",
       "      <th>2</th>\n",
       "      <td>Negative</td>\n",
       "      <td>1467810917</td>\n",
       "      <td>Mon Apr 06 22:19:53 PDT 2009</td>\n",
       "      <td>NO_QUERY</td>\n",
       "      <td>mattycus</td>\n",
       "      <td>i dived many times for the ball managed to sav...</td>\n",
       "    </tr>\n",
       "    <tr>\n",
       "      <th>3</th>\n",
       "      <td>Negative</td>\n",
       "      <td>1467811184</td>\n",
       "      <td>Mon Apr 06 22:19:57 PDT 2009</td>\n",
       "      <td>NO_QUERY</td>\n",
       "      <td>ElleCTF</td>\n",
       "      <td>my whole body feels itchy and like its on fire</td>\n",
       "    </tr>\n",
       "    <tr>\n",
       "      <th>4</th>\n",
       "      <td>Negative</td>\n",
       "      <td>1467811193</td>\n",
       "      <td>Mon Apr 06 22:19:57 PDT 2009</td>\n",
       "      <td>NO_QUERY</td>\n",
       "      <td>Karoli</td>\n",
       "      <td>no it is not behaving at all i am mad why am i...</td>\n",
       "    </tr>\n",
       "    <tr>\n",
       "      <th>5</th>\n",
       "      <td>Negative</td>\n",
       "      <td>1467811372</td>\n",
       "      <td>Mon Apr 06 22:20:00 PDT 2009</td>\n",
       "      <td>NO_QUERY</td>\n",
       "      <td>joy_wolf</td>\n",
       "      <td>not the whole crew</td>\n",
       "    </tr>\n",
       "    <tr>\n",
       "      <th>6</th>\n",
       "      <td>Negative</td>\n",
       "      <td>1467811592</td>\n",
       "      <td>Mon Apr 06 22:20:03 PDT 2009</td>\n",
       "      <td>NO_QUERY</td>\n",
       "      <td>mybirch</td>\n",
       "      <td>need a hug</td>\n",
       "    </tr>\n",
       "    <tr>\n",
       "      <th>7</th>\n",
       "      <td>Negative</td>\n",
       "      <td>1467811594</td>\n",
       "      <td>Mon Apr 06 22:20:03 PDT 2009</td>\n",
       "      <td>NO_QUERY</td>\n",
       "      <td>coZZ</td>\n",
       "      <td>hey long time no see yes rains a bit only a bi...</td>\n",
       "    </tr>\n",
       "    <tr>\n",
       "      <th>8</th>\n",
       "      <td>Negative</td>\n",
       "      <td>1467811795</td>\n",
       "      <td>Mon Apr 06 22:20:05 PDT 2009</td>\n",
       "      <td>NO_QUERY</td>\n",
       "      <td>2Hood4Hollywood</td>\n",
       "      <td>nope they did not have it</td>\n",
       "    </tr>\n",
       "    <tr>\n",
       "      <th>9</th>\n",
       "      <td>Negative</td>\n",
       "      <td>1467812025</td>\n",
       "      <td>Mon Apr 06 22:20:09 PDT 2009</td>\n",
       "      <td>NO_QUERY</td>\n",
       "      <td>mimismo</td>\n",
       "      <td>que me muera</td>\n",
       "    </tr>\n",
       "  </tbody>\n",
       "</table>\n",
       "</div>"
      ],
      "text/plain": [
       "  sentiment          id                          date query_string  \\\n",
       "0  Negative  1467810369  Mon Apr 06 22:19:45 PDT 2009     NO_QUERY   \n",
       "1  Negative  1467810672  Mon Apr 06 22:19:49 PDT 2009     NO_QUERY   \n",
       "2  Negative  1467810917  Mon Apr 06 22:19:53 PDT 2009     NO_QUERY   \n",
       "3  Negative  1467811184  Mon Apr 06 22:19:57 PDT 2009     NO_QUERY   \n",
       "4  Negative  1467811193  Mon Apr 06 22:19:57 PDT 2009     NO_QUERY   \n",
       "5  Negative  1467811372  Mon Apr 06 22:20:00 PDT 2009     NO_QUERY   \n",
       "6  Negative  1467811592  Mon Apr 06 22:20:03 PDT 2009     NO_QUERY   \n",
       "7  Negative  1467811594  Mon Apr 06 22:20:03 PDT 2009     NO_QUERY   \n",
       "8  Negative  1467811795  Mon Apr 06 22:20:05 PDT 2009     NO_QUERY   \n",
       "9  Negative  1467812025  Mon Apr 06 22:20:09 PDT 2009     NO_QUERY   \n",
       "\n",
       "              user                                               text  \n",
       "0  _TheSpecialOne_  awww that is a bummer you shoulda got david ca...  \n",
       "1    scotthamilton  is upset that he can not update his facebook b...  \n",
       "2         mattycus  i dived many times for the ball managed to sav...  \n",
       "3          ElleCTF     my whole body feels itchy and like its on fire  \n",
       "4           Karoli  no it is not behaving at all i am mad why am i...  \n",
       "5         joy_wolf                                 not the whole crew  \n",
       "6          mybirch                                         need a hug  \n",
       "7             coZZ  hey long time no see yes rains a bit only a bi...  \n",
       "8  2Hood4Hollywood                          nope they did not have it  \n",
       "9          mimismo                                       que me muera  "
      ]
     },
     "execution_count": 18,
     "metadata": {},
     "output_type": "execute_result"
    }
   ],
   "source": [
    "STOP_WORDS = False\n",
    "LEMMATIZATION = False\n",
    "NEGATION = False\n",
    "file = \"train\"\n",
    "if STOP_WORDS:\n",
    "    file += \"_stop\"\n",
    "if LEMMATIZATION:\n",
    "    file += \"_lemm\"\n",
    "if  NEGATION:\n",
    "    file += \"_neg\"\n",
    "df = pd.read_pickle(os.path.join(\"data\", \"sentiment140\", file+\".bz2\"))\n",
    "df.head(10)"
   ]
  },
  {
   "cell_type": "code",
   "execution_count": 19,
   "metadata": {},
   "outputs": [
    {
     "data": {
      "text/html": [
       "<div>\n",
       "<style scoped>\n",
       "    .dataframe tbody tr th:only-of-type {\n",
       "        vertical-align: middle;\n",
       "    }\n",
       "\n",
       "    .dataframe tbody tr th {\n",
       "        vertical-align: top;\n",
       "    }\n",
       "\n",
       "    .dataframe thead th {\n",
       "        text-align: right;\n",
       "    }\n",
       "</style>\n",
       "<table border=\"1\" class=\"dataframe\">\n",
       "  <thead>\n",
       "    <tr style=\"text-align: right;\">\n",
       "      <th></th>\n",
       "      <th>sentiment</th>\n",
       "      <th>id</th>\n",
       "      <th>date</th>\n",
       "      <th>query_string</th>\n",
       "      <th>user</th>\n",
       "      <th>text</th>\n",
       "    </tr>\n",
       "  </thead>\n",
       "  <tbody>\n",
       "    <tr>\n",
       "      <th>599410</th>\n",
       "      <td>Negative</td>\n",
       "      <td>2220663113</td>\n",
       "      <td>Thu Jun 18 03:39:49 PDT 2009</td>\n",
       "      <td>NO_QUERY</td>\n",
       "      <td>gemgembam</td>\n",
       "      <td>open itunes will not open naooo the silence is...</td>\n",
       "    </tr>\n",
       "    <tr>\n",
       "      <th>549856</th>\n",
       "      <td>Negative</td>\n",
       "      <td>2202759103</td>\n",
       "      <td>Tue Jun 16 22:21:43 PDT 2009</td>\n",
       "      <td>NO_QUERY</td>\n",
       "      <td>twistofcolour</td>\n",
       "      <td>the sun is already gone for the day</td>\n",
       "    </tr>\n",
       "    <tr>\n",
       "      <th>1363048</th>\n",
       "      <td>Positive</td>\n",
       "      <td>2049441111</td>\n",
       "      <td>Fri Jun 05 16:53:10 PDT 2009</td>\n",
       "      <td>NO_QUERY</td>\n",
       "      <td>Niico1e</td>\n",
       "      <td>hiya this is my st tweet i am so tired though ...</td>\n",
       "    </tr>\n",
       "    <tr>\n",
       "      <th>558776</th>\n",
       "      <td>Negative</td>\n",
       "      <td>2204830292</td>\n",
       "      <td>Wed Jun 17 03:14:38 PDT 2009</td>\n",
       "      <td>NO_QUERY</td>\n",
       "      <td>MeriEsteban</td>\n",
       "      <td>i have the bac today at p m i do not know if i...</td>\n",
       "    </tr>\n",
       "    <tr>\n",
       "      <th>1582398</th>\n",
       "      <td>Positive</td>\n",
       "      <td>2190306594</td>\n",
       "      <td>Tue Jun 16 02:21:03 PDT 2009</td>\n",
       "      <td>NO_QUERY</td>\n",
       "      <td>MeghanMagnolia</td>\n",
       "      <td>as far as i remember you were not half bad ine...</td>\n",
       "    </tr>\n",
       "    <tr>\n",
       "      <th>...</th>\n",
       "      <td>...</td>\n",
       "      <td>...</td>\n",
       "      <td>...</td>\n",
       "      <td>...</td>\n",
       "      <td>...</td>\n",
       "      <td>...</td>\n",
       "    </tr>\n",
       "    <tr>\n",
       "      <th>127568</th>\n",
       "      <td>Negative</td>\n",
       "      <td>1834743233</td>\n",
       "      <td>Mon May 18 04:03:19 PDT 2009</td>\n",
       "      <td>NO_QUERY</td>\n",
       "      <td>StineChantel</td>\n",
       "      <td>helgevakt ja</td>\n",
       "    </tr>\n",
       "    <tr>\n",
       "      <th>769726</th>\n",
       "      <td>Negative</td>\n",
       "      <td>2301549398</td>\n",
       "      <td>Tue Jun 23 15:35:26 PDT 2009</td>\n",
       "      <td>NO_QUERY</td>\n",
       "      <td>kristinedarlo</td>\n",
       "      <td>i want my henry roth</td>\n",
       "    </tr>\n",
       "    <tr>\n",
       "      <th>1027701</th>\n",
       "      <td>Positive</td>\n",
       "      <td>1932496118</td>\n",
       "      <td>Tue May 26 21:35:08 PDT 2009</td>\n",
       "      <td>NO_QUERY</td>\n",
       "      <td>Ptrsha</td>\n",
       "      <td>i will turn in now bye twitter</td>\n",
       "    </tr>\n",
       "    <tr>\n",
       "      <th>1372244</th>\n",
       "      <td>Positive</td>\n",
       "      <td>2051235071</td>\n",
       "      <td>Fri Jun 05 21:15:59 PDT 2009</td>\n",
       "      <td>NO_QUERY</td>\n",
       "      <td>suzechooch</td>\n",
       "      <td>throwin it old school you know you love it</td>\n",
       "    </tr>\n",
       "    <tr>\n",
       "      <th>189252</th>\n",
       "      <td>Negative</td>\n",
       "      <td>1969085269</td>\n",
       "      <td>Fri May 29 22:59:42 PDT 2009</td>\n",
       "      <td>NO_QUERY</td>\n",
       "      <td>amyalbright666</td>\n",
       "      <td>bored wishing i was w my friends drankin smoki...</td>\n",
       "    </tr>\n",
       "  </tbody>\n",
       "</table>\n",
       "<p>50000 rows × 6 columns</p>\n",
       "</div>"
      ],
      "text/plain": [
       "        sentiment          id                          date query_string  \\\n",
       "599410   Negative  2220663113  Thu Jun 18 03:39:49 PDT 2009     NO_QUERY   \n",
       "549856   Negative  2202759103  Tue Jun 16 22:21:43 PDT 2009     NO_QUERY   \n",
       "1363048  Positive  2049441111  Fri Jun 05 16:53:10 PDT 2009     NO_QUERY   \n",
       "558776   Negative  2204830292  Wed Jun 17 03:14:38 PDT 2009     NO_QUERY   \n",
       "1582398  Positive  2190306594  Tue Jun 16 02:21:03 PDT 2009     NO_QUERY   \n",
       "...           ...         ...                           ...          ...   \n",
       "127568   Negative  1834743233  Mon May 18 04:03:19 PDT 2009     NO_QUERY   \n",
       "769726   Negative  2301549398  Tue Jun 23 15:35:26 PDT 2009     NO_QUERY   \n",
       "1027701  Positive  1932496118  Tue May 26 21:35:08 PDT 2009     NO_QUERY   \n",
       "1372244  Positive  2051235071  Fri Jun 05 21:15:59 PDT 2009     NO_QUERY   \n",
       "189252   Negative  1969085269  Fri May 29 22:59:42 PDT 2009     NO_QUERY   \n",
       "\n",
       "                   user                                               text  \n",
       "599410        gemgembam  open itunes will not open naooo the silence is...  \n",
       "549856    twistofcolour                the sun is already gone for the day  \n",
       "1363048         Niico1e  hiya this is my st tweet i am so tired though ...  \n",
       "558776      MeriEsteban  i have the bac today at p m i do not know if i...  \n",
       "1582398  MeghanMagnolia  as far as i remember you were not half bad ine...  \n",
       "...                 ...                                                ...  \n",
       "127568     StineChantel                                       helgevakt ja  \n",
       "769726    kristinedarlo                               i want my henry roth  \n",
       "1027701          Ptrsha                     i will turn in now bye twitter  \n",
       "1372244      suzechooch         throwin it old school you know you love it  \n",
       "189252   amyalbright666  bored wishing i was w my friends drankin smoki...  \n",
       "\n",
       "[50000 rows x 6 columns]"
      ]
     },
     "execution_count": 19,
     "metadata": {},
     "output_type": "execute_result"
    }
   ],
   "source": [
    "df = df.sample(50000, random_state=1234)\n",
    "df"
   ]
  },
  {
   "cell_type": "code",
   "execution_count": 20,
   "metadata": {},
   "outputs": [],
   "source": [
    "X = df.text.to_list()\n",
    "y = df.sentiment.to_list()"
   ]
  },
  {
   "cell_type": "markdown",
   "metadata": {},
   "source": [
    "# Count Vectorizer\n",
    "## Exemple"
   ]
  },
  {
   "cell_type": "code",
   "execution_count": 21,
   "metadata": {},
   "outputs": [
    {
     "data": {
      "text/plain": [
       "['by', 'car', 'cleaned', 'hello', 'jack', 'was']"
      ]
     },
     "execution_count": 21,
     "metadata": {},
     "output_type": "execute_result"
    }
   ],
   "source": [
    "arr = [\"Car was cleaned by Jack\", \"Jack was cleaned by Car\", \"Hello\"]\n",
    "vectorizer = CountVectorizer()\n",
    "X_ = vectorizer.fit_transform(arr)\n",
    "vectorizer.get_feature_names()"
   ]
  },
  {
   "cell_type": "code",
   "execution_count": 22,
   "metadata": {},
   "outputs": [
    {
     "name": "stdout",
     "output_type": "stream",
     "text": [
      "[[1 1 1 0 1 1]\n",
      " [1 1 1 0 1 1]\n",
      " [0 0 0 1 0 0]]\n"
     ]
    }
   ],
   "source": [
    "print(X_.toarray())"
   ]
  },
  {
   "cell_type": "markdown",
   "metadata": {},
   "source": [
    "## Application"
   ]
  },
  {
   "cell_type": "code",
   "execution_count": 23,
   "metadata": {},
   "outputs": [],
   "source": [
    "def conf_matrix(X, y, vectorizer, model, verbose=True):\n",
    "    X = vectorizer.fit_transform(X).toarray()\n",
    "    \n",
    "    X_train, X_test, y_train, y_test = train_test_split(StandardScaler().fit_transform(X), y, train_size=0.80, random_state=1234)\n",
    "\n",
    "    model.fit(X_train, y_train)\n",
    "    y_pred = model.predict(X_test)\n",
    "\n",
    "    sc_accuracy = metrics.accuracy_score(y_pred, y_test)    \n",
    "    sc_balanced_accuracy = metrics.balanced_accuracy_score(y_pred, y_test)\n",
    "    sc_f1 = metrics.f1_score(y_pred, y_test, pos_label=\"Positive\")\n",
    "    sc_recall = metrics.recall_score(y_pred, y_test, pos_label=\"Positive\")\n",
    "    sc_precision = metrics.precision_score(y_pred, y_test, pos_label=\"Positive\")\n",
    "    sc_roc_auc = metrics.roc_auc_score(y_test, model.predict_proba(X_test)[:,1])\n",
    "    probs = model.predict_proba(X_test)[:,1]\n",
    "    \n",
    "    if verbose:    \n",
    "        metrics.plot_confusion_matrix(model, X_test, y_test)\n",
    "        plt.show()\n",
    "\n",
    "        print(f\"Accuracy : {sc_accuracy}\")\n",
    "        print(f\"Balanced accuracy : {sc_balanced_accuracy}\")\n",
    "    #     print(f\"Recall : {sc_recall}\")\n",
    "    #     print(f\"Precision : {sc_precision}\")\n",
    "    #     print(f\"F1 : {sc_f1}\")\n",
    "        print(f\"ROC AUC : {sc_roc_auc}\")\n",
    "    \n",
    "    metrics_score = {'accuracy': sc_accuracy, 'balanced_accuracy': sc_balanced_accuracy, 'roc_auc': sc_roc_auc}\n",
    "    \n",
    "    if not verbose:\n",
    "        return X_train, X_test, y_train, y_test, probs, metrics_score\n",
    "    "
   ]
  },
  {
   "cell_type": "code",
   "execution_count": 24,
   "metadata": {},
   "outputs": [
    {
     "data": {
      "image/png": "[encoded data removed]",
      "text/plain": [
       "<Figure size 432x288 with 2 Axes>"
      ]
     },
     "metadata": {
      "needs_background": "light"
     },
     "output_type": "display_data"
    },
    {
     "name": "stdout",
     "output_type": "stream",
     "text": [
      "Accuracy : 0.7602\n",
      "Balanced accuracy : 0.7619232830080874\n",
      "ROC AUC : 0.8343160703676211\n"
     ]
    }
   ],
   "source": [
    "conf_matrix(X, y, CountVectorizer(max_features = 1000), LogisticRegression())"
   ]
  },
  {
   "cell_type": "markdown",
   "metadata": {},
   "source": [
    "# TF-IDF\n",
    "## Exemple"
   ]
  },
  {
   "cell_type": "code",
   "execution_count": 25,
   "metadata": {},
   "outputs": [
    {
     "data": {
      "text/plain": [
       "['blue', 'by', 'car', 'cleaned', 'hello', 'jack', 'red', 'was']"
      ]
     },
     "execution_count": 25,
     "metadata": {},
     "output_type": "execute_result"
    }
   ],
   "source": [
    "arr = [\"Blue car was cleaned by Jack\", \"Jack was cleaned by red car\", \"Hello\"]\n",
    "vectorizer = TfidfVectorizer()\n",
    "X_ = vectorizer.fit_transform(arr)\n",
    "vectorizer.get_feature_names()"
   ]
  },
  {
   "cell_type": "code",
   "execution_count": 26,
   "metadata": {},
   "outputs": [
    {
     "name": "stdout",
     "output_type": "stream",
     "text": [
      "[[0.50689001 0.38550292 0.38550292 0.38550292 0.         0.38550292\n",
      "  0.         0.38550292]\n",
      " [0.         0.38550292 0.38550292 0.38550292 0.         0.38550292\n",
      "  0.50689001 0.38550292]\n",
      " [0.         0.         0.         0.         1.         0.\n",
      "  0.         0.        ]]\n"
     ]
    }
   ],
   "source": [
    "print(X_.toarray())"
   ]
  },
  {
   "cell_type": "markdown",
   "metadata": {},
   "source": [
    "## Application"
   ]
  },
  {
   "cell_type": "code",
   "execution_count": 27,
   "metadata": {},
   "outputs": [
    {
     "data": {
      "image/png": "[encoded data removed]",
      "text/plain": [
       "<Figure size 432x288 with 2 Axes>"
      ]
     },
     "metadata": {
      "needs_background": "light"
     },
     "output_type": "display_data"
    },
    {
     "name": "stdout",
     "output_type": "stream",
     "text": [
      "Accuracy : 0.7586\n",
      "Balanced accuracy : 0.7594967822497015\n",
      "ROC AUC : 0.8404903704936229\n"
     ]
    }
   ],
   "source": [
    "conf_matrix(X, y, TfidfVectorizer(max_features = 1000), LogisticRegression())"
   ]
  },
  {
   "cell_type": "markdown",
   "metadata": {},
   "source": [
    "# N-grams\n",
    "## Exemple"
   ]
  },
  {
   "cell_type": "code",
   "execution_count": 28,
   "metadata": {},
   "outputs": [
    {
     "data": {
      "text/plain": [
       "['blue car',\n",
       " 'by jack',\n",
       " 'by red',\n",
       " 'car was',\n",
       " 'cleaned by',\n",
       " 'jack was',\n",
       " 'red car',\n",
       " 'was cleaned']"
      ]
     },
     "execution_count": 28,
     "metadata": {},
     "output_type": "execute_result"
    }
   ],
   "source": [
    "arr = [\"Blue car was cleaned by Jack\", \"Jack was cleaned by red car\", \"Hello\"]\n",
    "vectorizer = CountVectorizer(ngram_range=(2,2))\n",
    "X_ = vectorizer.fit_transform(arr)\n",
    "vectorizer.get_feature_names()"
   ]
  },
  {
   "cell_type": "code",
   "execution_count": 29,
   "metadata": {},
   "outputs": [
    {
     "name": "stdout",
     "output_type": "stream",
     "text": [
      "[[1 1 0 1 1 0 0 1]\n",
      " [0 0 1 0 1 1 1 1]\n",
      " [0 0 0 0 0 0 0 0]]\n"
     ]
    }
   ],
   "source": [
    "print(X_.toarray())"
   ]
  },
  {
   "cell_type": "markdown",
   "metadata": {},
   "source": [
    "## Application"
   ]
  },
  {
   "cell_type": "code",
   "execution_count": 30,
   "metadata": {},
   "outputs": [
    {
     "data": {
      "image/png": "[encoded data removed]",
      "text/plain": [
       "<Figure size 432x288 with 2 Axes>"
      ]
     },
     "metadata": {
      "needs_background": "light"
     },
     "output_type": "display_data"
    },
    {
     "name": "stdout",
     "output_type": "stream",
     "text": [
      "Accuracy : 0.6693\n",
      "Balanced accuracy : 0.681616715270952\n",
      "ROC AUC : 0.745171300893247\n"
     ]
    }
   ],
   "source": [
    "conf_matrix(X, y, CountVectorizer(max_features = 1000, ngram_range=(2,2)), LogisticRegression(max_iter=200))"
   ]
  },
  {
   "cell_type": "code",
   "execution_count": 31,
   "metadata": {},
   "outputs": [
    {
     "data": {
      "image/png": "[encoded data removed]",
      "text/plain": [
       "<Figure size 432x288 with 2 Axes>"
      ]
     },
     "metadata": {
      "needs_background": "light"
     },
     "output_type": "display_data"
    },
    {
     "name": "stdout",
     "output_type": "stream",
     "text": [
      "Accuracy : 0.6712\n",
      "Balanced accuracy : 0.6804963613841304\n",
      "ROC AUC : 0.7472049438899891\n"
     ]
    }
   ],
   "source": [
    "conf_matrix(X, y, TfidfVectorizer(max_features = 1000, ngram_range=(2,2)), LogisticRegression(max_iter=200))"
   ]
  },
  {
   "cell_type": "markdown",
   "metadata": {},
   "source": [
    "# Comparaisons"
   ]
  },
  {
   "cell_type": "code",
   "execution_count": 32,
   "metadata": {},
   "outputs": [
    {
     "data": {
      "image/png": "[encoded data removed]",
      "text/plain": [
       "<Figure size 432x288 with 1 Axes>"
      ]
     },
     "metadata": {
      "needs_background": "light"
     },
     "output_type": "display_data"
    },
    {
     "data": {
      "text/html": [
       "<div>\n",
       "<style scoped>\n",
       "    .dataframe tbody tr th:only-of-type {\n",
       "        vertical-align: middle;\n",
       "    }\n",
       "\n",
       "    .dataframe tbody tr th {\n",
       "        vertical-align: top;\n",
       "    }\n",
       "\n",
       "    .dataframe thead th {\n",
       "        text-align: right;\n",
       "    }\n",
       "</style>\n",
       "<table border=\"1\" class=\"dataframe\">\n",
       "  <thead>\n",
       "    <tr style=\"text-align: right;\">\n",
       "      <th></th>\n",
       "      <th>accuracy</th>\n",
       "      <th>balanced_accuracy</th>\n",
       "      <th>roc_auc</th>\n",
       "    </tr>\n",
       "  </thead>\n",
       "  <tbody>\n",
       "    <tr>\n",
       "      <th>CountVectorizer 1000</th>\n",
       "      <td>0.7602</td>\n",
       "      <td>0.761923</td>\n",
       "      <td>0.834316</td>\n",
       "    </tr>\n",
       "    <tr>\n",
       "      <th>TfidfVectorizer 1000</th>\n",
       "      <td>0.7586</td>\n",
       "      <td>0.759497</td>\n",
       "      <td>0.840490</td>\n",
       "    </tr>\n",
       "    <tr>\n",
       "      <th>CountVectorizer 1000 ngram 2</th>\n",
       "      <td>0.6693</td>\n",
       "      <td>0.681617</td>\n",
       "      <td>0.745171</td>\n",
       "    </tr>\n",
       "    <tr>\n",
       "      <th>TfidfVectorizer 1000 ngram 2</th>\n",
       "      <td>0.6712</td>\n",
       "      <td>0.680496</td>\n",
       "      <td>0.747205</td>\n",
       "    </tr>\n",
       "  </tbody>\n",
       "</table>\n",
       "</div>"
      ],
      "text/plain": [
       "                              accuracy  balanced_accuracy   roc_auc\n",
       "CountVectorizer 1000            0.7602           0.761923  0.834316\n",
       "TfidfVectorizer 1000            0.7586           0.759497  0.840490\n",
       "CountVectorizer 1000 ngram 2    0.6693           0.681617  0.745171\n",
       "TfidfVectorizer 1000 ngram 2    0.6712           0.680496  0.747205"
      ]
     },
     "execution_count": 32,
     "metadata": {},
     "output_type": "execute_result"
    }
   ],
   "source": [
    "table = []\n",
    "\n",
    "N = 1000\n",
    "\n",
    "_, _, _, y_test, probs, metrics_score = conf_matrix(X, y, CountVectorizer(max_features = N), LogisticRegression(max_iter=200), verbose=False)\n",
    "fpr, tpr, _ = metrics.roc_curve(y_test, probs, pos_label=\"Positive\")\n",
    "plt.plot(fpr,tpr,\":\", label=f\"CountVectorizer {N}\")\n",
    "table.append(metrics_score)\n",
    "\n",
    "_, _, _, y_test, probs, metrics_score = conf_matrix(X, y, TfidfVectorizer(max_features = N), LogisticRegression(max_iter=200), verbose=False)\n",
    "fpr, tpr, _ = metrics.roc_curve(y_test, probs, pos_label=\"Positive\")\n",
    "plt.plot(fpr,tpr,\":\", label=f\"TfidfVectorizer {N}\")\n",
    "table.append(metrics_score)\n",
    "\n",
    "\n",
    "_, _, _, y_test, probs, metrics_score = conf_matrix(X, y, CountVectorizer(max_features = N, ngram_range=(2,2)), LogisticRegression(max_iter=200), verbose=False)\n",
    "fpr, tpr, _ = metrics.roc_curve(y_test, probs, pos_label=\"Positive\")\n",
    "plt.plot(fpr,tpr,\":\", label=f\"CountVectorizer {N} ngram 2\")\n",
    "table.append(metrics_score)\n",
    "\n",
    "\n",
    "_, _, _, y_test, probs, metrics_score = conf_matrix(X, y, TfidfVectorizer(max_features = N, ngram_range=(2,2)), LogisticRegression(max_iter=200), verbose=False)\n",
    "fpr, tpr, _ = metrics.roc_curve(y_test, probs, pos_label=\"Positive\")\n",
    "plt.plot(fpr,tpr,\":\", label=f\"TfidfVectorizer {N} ngram 2\")\n",
    "table.append(metrics_score)\n",
    "\n",
    "plt.plot([0, 1], [0, 1], \"r-\")\n",
    "plt.plot([0, 0, 1], [0, 1, 1], 'b-')\n",
    "\n",
    "plt.legend()\n",
    "plt.show()\n",
    "\n",
    "pd.DataFrame(table, index=[f\"CountVectorizer {N}\", f\"TfidfVectorizer {N}\", f\"CountVectorizer {N} ngram 2\", f\"TfidfVectorizer {N} ngram 2\"])"
   ]
  },
  {
   "cell_type": "markdown",
   "metadata": {},
   "source": [
    "**Conclusion :** Le modèle de feature extraction le plus performant est le `TfidfVectorizer`. L'ajout de la fonction ngram demande en fait d'augmenter le nombre de features (de $n$ à $n^2$, ce qui demande plus de temps de calcul."
   ]
  },
  {
   "cell_type": "code",
   "execution_count": 33,
   "metadata": {},
   "outputs": [
    {
     "data": {
      "image/png": "[encoded data removed]",
      "text/plain": [
       "<Figure size 432x288 with 1 Axes>"
      ]
     },
     "metadata": {
      "needs_background": "light"
     },
     "output_type": "display_data"
    },
    {
     "data": {
      "text/html": [
       "<div>\n",
       "<style scoped>\n",
       "    .dataframe tbody tr th:only-of-type {\n",
       "        vertical-align: middle;\n",
       "    }\n",
       "\n",
       "    .dataframe tbody tr th {\n",
       "        vertical-align: top;\n",
       "    }\n",
       "\n",
       "    .dataframe thead th {\n",
       "        text-align: right;\n",
       "    }\n",
       "</style>\n",
       "<table border=\"1\" class=\"dataframe\">\n",
       "  <thead>\n",
       "    <tr style=\"text-align: right;\">\n",
       "      <th></th>\n",
       "      <th>accuracy</th>\n",
       "      <th>balanced_accuracy</th>\n",
       "      <th>roc_auc</th>\n",
       "    </tr>\n",
       "  </thead>\n",
       "  <tbody>\n",
       "    <tr>\n",
       "      <th>CountVectorizer 50</th>\n",
       "      <td>0.6399</td>\n",
       "      <td>0.644701</td>\n",
       "      <td>0.694696</td>\n",
       "    </tr>\n",
       "    <tr>\n",
       "      <th>TfidfVectorizer 50</th>\n",
       "      <td>0.6415</td>\n",
       "      <td>0.643489</td>\n",
       "      <td>0.695593</td>\n",
       "    </tr>\n",
       "    <tr>\n",
       "      <th>CountVectorizer 2500 ngram 2</th>\n",
       "      <td>0.6872</td>\n",
       "      <td>0.694909</td>\n",
       "      <td>0.761733</td>\n",
       "    </tr>\n",
       "    <tr>\n",
       "      <th>TfidfVectorizer 2500 ngram 2</th>\n",
       "      <td>0.6882</td>\n",
       "      <td>0.693659</td>\n",
       "      <td>0.767187</td>\n",
       "    </tr>\n",
       "  </tbody>\n",
       "</table>\n",
       "</div>"
      ],
      "text/plain": [
       "                              accuracy  balanced_accuracy   roc_auc\n",
       "CountVectorizer 50              0.6399           0.644701  0.694696\n",
       "TfidfVectorizer 50              0.6415           0.643489  0.695593\n",
       "CountVectorizer 2500 ngram 2    0.6872           0.694909  0.761733\n",
       "TfidfVectorizer 2500 ngram 2    0.6882           0.693659  0.767187"
      ]
     },
     "execution_count": 33,
     "metadata": {},
     "output_type": "execute_result"
    }
   ],
   "source": [
    "table = []\n",
    "\n",
    "N = 50\n",
    "\n",
    "_, _, _, y_test, probs, metrics_score = conf_matrix(X, y, CountVectorizer(max_features = N), LogisticRegression(max_iter=200), verbose=False)\n",
    "fpr, tpr, _ = metrics.roc_curve(y_test, probs, pos_label=\"Positive\")\n",
    "plt.plot(fpr,tpr,\":\", label=f\"CountVectorizer {N}\")\n",
    "table.append(metrics_score)\n",
    "\n",
    "_, _, _, y_test, probs, metrics_score = conf_matrix(X, y, TfidfVectorizer(max_features = N), LogisticRegression(max_iter=200), verbose=False)\n",
    "fpr, tpr, _ = metrics.roc_curve(y_test, probs, pos_label=\"Positive\")\n",
    "plt.plot(fpr,tpr,\":\", label=f\"TfidfVectorizer {N}\")\n",
    "table.append(metrics_score)\n",
    "\n",
    "\n",
    "_, _, _, y_test, probs, metrics_score = conf_matrix(X, y, CountVectorizer(max_features = N**2, ngram_range=(2,2)), LogisticRegression(max_iter=200), verbose=False)\n",
    "fpr, tpr, _ = metrics.roc_curve(y_test, probs, pos_label=\"Positive\")\n",
    "plt.plot(fpr,tpr,\":\", label=f\"CountVectorizer {N**2} ngram 2\")\n",
    "table.append(metrics_score)\n",
    "\n",
    "\n",
    "_, _, _, y_test, probs, metrics_score = conf_matrix(X, y, TfidfVectorizer(max_features = N**2, ngram_range=(2,2)), LogisticRegression(max_iter=200), verbose=False)\n",
    "fpr, tpr, _ = metrics.roc_curve(y_test, probs, pos_label=\"Positive\")\n",
    "plt.plot(fpr,tpr,\":\", label=f\"TfidfVectorizer {N**2} ngram 2\")\n",
    "table.append(metrics_score)\n",
    "\n",
    "plt.plot([0, 1], [0, 1], \"r-\")\n",
    "plt.plot([0, 0, 1], [0, 1, 1], 'b-')\n",
    "\n",
    "plt.legend()\n",
    "plt.show()\n",
    "\n",
    "pd.DataFrame(table, index=[f\"CountVectorizer {N}\", f\"TfidfVectorizer {N}\", f\"CountVectorizer {N**2} ngram 2\", f\"TfidfVectorizer {N**2} ngram 2\"])"
   ]
  },
  {
   "cell_type": "markdown",
   "metadata": {},
   "source": [
    "# Influence du nombre de features"
   ]
  },
  {
   "cell_type": "code",
   "execution_count": 34,
   "metadata": {},
   "outputs": [
    {
     "data": {
      "text/plain": [
       "array([  100.        ,   166.81005372,   278.25594022,   464.15888336,\n",
       "         774.26368268,  1291.54966501,  2154.43469003,  3593.8136638 ,\n",
       "        5994.84250319, 10000.        ])"
      ]
     },
     "execution_count": 34,
     "metadata": {},
     "output_type": "execute_result"
    },
    {
     "data": {
      "image/png": "[encoded data removed]",
      "text/plain": [
       "<Figure size 432x288 with 1 Axes>"
      ]
     },
     "metadata": {
      "needs_background": "light"
     },
     "output_type": "display_data"
    }
   ],
   "source": [
    "N = 10\n",
    "plt.plot(np.logspace(2, 4, N, endpoint=True), np.zeros(N), 'o')\n",
    "np.logspace(2, 4, N, endpoint=True)"
   ]
  },
  {
   "cell_type": "code",
   "execution_count": 35,
   "metadata": {},
   "outputs": [
    {
     "name": "stdout",
     "output_type": "stream",
     "text": [
      "Wall time: 2min 44s\n"
     ]
    }
   ],
   "source": [
    "%%time\n",
    "N = 20\n",
    "max_features_list = np.logspace(2, 3.8, N, endpoint=True, dtype=int)   # De 10^2 à 10^3.8\n",
    "table = []\n",
    "for max_features in max_features_list:\n",
    "    _, _, _, _, _, metrics_score = conf_matrix(X, y, TfidfVectorizer(max_features = max_features), LogisticRegression(max_iter=200), verbose=False)\n",
    "    table.append(metrics_score)\n",
    "df = pd.DataFrame(table, index=max_features_list)"
   ]
  },
  {
   "cell_type": "code",
   "execution_count": 36,
   "metadata": {},
   "outputs": [
    {
     "data": {
      "text/plain": [
       "[]"
      ]
     },
     "execution_count": 36,
     "metadata": {},
     "output_type": "execute_result"
    },
    {
     "data": {
      "image/png": "[encoded data removed]",
      "text/plain": [
       "<Figure size 432x288 with 1 Axes>"
      ]
     },
     "metadata": {
      "needs_background": "light"
     },
     "output_type": "display_data"
    }
   ],
   "source": [
    "for i in df.columns:\n",
    "    df[i].plot(label=i)\n",
    "\n",
    "plt.legend()\n",
    "plt.xlabel(\"Nombre de features\")\n",
    "plt.plot()"
   ]
  },
  {
   "cell_type": "code",
   "execution_count": null,
   "metadata": {},
   "outputs": [],
   "source": []
  }
 ],
 "metadata": {
  "kernelspec": {
   "display_name": "Python 3",
   "language": "python",
   "name": "python3"
  },
  "language_info": {
   "codemirror_mode": {
    "name": "ipython",
    "version": 3
   },
   "file_extension": ".py",
   "mimetype": "text/x-python",
   "name": "python",
   "nbconvert_exporter": "python",
   "pygments_lexer": "ipython3",
   "version": "3.6.11"
  }
 },
 "nbformat": 4,
 "nbformat_minor": 4
}
