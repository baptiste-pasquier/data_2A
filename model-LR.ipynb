{
 "cells": [
  {
   "cell_type": "code",
   "execution_count": 1,
   "metadata": {},
   "outputs": [],
   "source": [
    "import pandas as pd\n",
    "import numpy as np\n",
    "import seaborn as sns\n",
    "import matplotlib.pyplot as plt\n",
    "import nltk\n",
    "from nltk.tokenize import word_tokenize\n",
    "from nltk.corpus import stopwords, wordnet\n",
    "from nltk.stem import WordNetLemmatizer\n",
    "from sklearn.feature_extraction.text import CountVectorizer, TfidfVectorizer\n",
    "import re\n",
    "import sklearn\n",
    "from sklearn.model_selection import train_test_split\n",
    "from sklearn.linear_model import LogisticRegression\n",
    "from sklearn.metrics import confusion_matrix\n",
    "import os"
   ]
  },
  {
   "cell_type": "markdown",
   "metadata": {},
   "source": [
    "# Chargement de la base Sentiment140 préprocessée "
   ]
  },
  {
   "cell_type": "code",
   "execution_count": 2,
   "metadata": {},
   "outputs": [],
   "source": [
    "STOP_WORDS = True\n",
    "LEMMATIZATION = True\n",
    "file = \"train\"\n",
    "if STOP_WORDS:\n",
    "    file += \"_stop\"\n",
    "if LEMMATIZATION:\n",
    "    file += \"_lemm\"\n",
    "df = pd.read_pickle(os.path.join(\"data\", \"sentiment140\", file+\".bz2\"))"
   ]
  },
  {
   "cell_type": "code",
   "execution_count": 3,
   "metadata": {},
   "outputs": [
    {
     "data": {
      "text/html": [
       "<div>\n",
       "<style scoped>\n",
       "    .dataframe tbody tr th:only-of-type {\n",
       "        vertical-align: middle;\n",
       "    }\n",
       "\n",
       "    .dataframe tbody tr th {\n",
       "        vertical-align: top;\n",
       "    }\n",
       "\n",
       "    .dataframe thead th {\n",
       "        text-align: right;\n",
       "    }\n",
       "</style>\n",
       "<table border=\"1\" class=\"dataframe\">\n",
       "  <thead>\n",
       "    <tr style=\"text-align: right;\">\n",
       "      <th></th>\n",
       "      <th>sentiment</th>\n",
       "      <th>id</th>\n",
       "      <th>date</th>\n",
       "      <th>query_string</th>\n",
       "      <th>user</th>\n",
       "      <th>text</th>\n",
       "    </tr>\n",
       "  </thead>\n",
       "  <tbody>\n",
       "    <tr>\n",
       "      <th>1062048</th>\n",
       "      <td>Positive</td>\n",
       "      <td>1964017646</td>\n",
       "      <td>Fri May 29 13:35:57 PDT 2009</td>\n",
       "      <td>NO_QUERY</td>\n",
       "      <td>ashakur</td>\n",
       "      <td>@PcShakur I guess so. We should go make it a f...</td>\n",
       "    </tr>\n",
       "    <tr>\n",
       "      <th>1236895</th>\n",
       "      <td>Positive</td>\n",
       "      <td>1992914899</td>\n",
       "      <td>Mon Jun 01 09:31:47 PDT 2009</td>\n",
       "      <td>NO_QUERY</td>\n",
       "      <td>RabbiShaiSpecht</td>\n",
       "      <td>@PsychicSophie Thank you!</td>\n",
       "    </tr>\n",
       "    <tr>\n",
       "      <th>1237054</th>\n",
       "      <td>Positive</td>\n",
       "      <td>1992954642</td>\n",
       "      <td>Mon Jun 01 09:35:38 PDT 2009</td>\n",
       "      <td>NO_QUERY</td>\n",
       "      <td>RobinRene7</td>\n",
       "      <td>it's just another day here at the office...I a...</td>\n",
       "    </tr>\n",
       "    <tr>\n",
       "      <th>229979</th>\n",
       "      <td>Negative</td>\n",
       "      <td>1978627799</td>\n",
       "      <td>Sat May 30 23:57:09 PDT 2009</td>\n",
       "      <td>NO_QUERY</td>\n",
       "      <td>valfvergara</td>\n",
       "      <td>@triciasays i miss kickboxing</td>\n",
       "    </tr>\n",
       "    <tr>\n",
       "      <th>760772</th>\n",
       "      <td>Negative</td>\n",
       "      <td>2296927988</td>\n",
       "      <td>Tue Jun 23 09:48:35 PDT 2009</td>\n",
       "      <td>NO_QUERY</td>\n",
       "      <td>SarahAnnGreen</td>\n",
       "      <td>@AmandaFClark Thats rubbish!</td>\n",
       "    </tr>\n",
       "    <tr>\n",
       "      <th>...</th>\n",
       "      <td>...</td>\n",
       "      <td>...</td>\n",
       "      <td>...</td>\n",
       "      <td>...</td>\n",
       "      <td>...</td>\n",
       "      <td>...</td>\n",
       "    </tr>\n",
       "    <tr>\n",
       "      <th>46422</th>\n",
       "      <td>Negative</td>\n",
       "      <td>1677402582</td>\n",
       "      <td>Sat May 02 01:53:46 PDT 2009</td>\n",
       "      <td>NO_QUERY</td>\n",
       "      <td>kmac1984</td>\n",
       "      <td>wondering what the hell is gonna happen next??...</td>\n",
       "    </tr>\n",
       "    <tr>\n",
       "      <th>34170</th>\n",
       "      <td>Negative</td>\n",
       "      <td>1564728728</td>\n",
       "      <td>Mon Apr 20 04:42:44 PDT 2009</td>\n",
       "      <td>NO_QUERY</td>\n",
       "      <td>engers</td>\n",
       "      <td>@jkoxvold Me too</td>\n",
       "    </tr>\n",
       "    <tr>\n",
       "      <th>888464</th>\n",
       "      <td>Positive</td>\n",
       "      <td>1687307615</td>\n",
       "      <td>Sun May 03 08:20:39 PDT 2009</td>\n",
       "      <td>NO_QUERY</td>\n",
       "      <td>_Alectrona_</td>\n",
       "      <td>I'm off  Will maybe tweet later...Bye!</td>\n",
       "    </tr>\n",
       "    <tr>\n",
       "      <th>292279</th>\n",
       "      <td>Negative</td>\n",
       "      <td>1995953530</td>\n",
       "      <td>Mon Jun 01 14:18:18 PDT 2009</td>\n",
       "      <td>NO_QUERY</td>\n",
       "      <td>TraceyyMartinn</td>\n",
       "      <td>stomach hurts  and i desperatly want to go sho...</td>\n",
       "    </tr>\n",
       "    <tr>\n",
       "      <th>267567</th>\n",
       "      <td>Negative</td>\n",
       "      <td>1989221084</td>\n",
       "      <td>Mon Jun 01 00:45:50 PDT 2009</td>\n",
       "      <td>NO_QUERY</td>\n",
       "      <td>SW_77</td>\n",
       "      <td>ahhh have a flat tyre.. ahh and I have to go t...</td>\n",
       "    </tr>\n",
       "  </tbody>\n",
       "</table>\n",
       "<p>50000 rows × 6 columns</p>\n",
       "</div>"
      ],
      "text/plain": [
       "        sentiment          id                          date query_string  \\\n",
       "1062048  Positive  1964017646  Fri May 29 13:35:57 PDT 2009     NO_QUERY   \n",
       "1236895  Positive  1992914899  Mon Jun 01 09:31:47 PDT 2009     NO_QUERY   \n",
       "1237054  Positive  1992954642  Mon Jun 01 09:35:38 PDT 2009     NO_QUERY   \n",
       "229979   Negative  1978627799  Sat May 30 23:57:09 PDT 2009     NO_QUERY   \n",
       "760772   Negative  2296927988  Tue Jun 23 09:48:35 PDT 2009     NO_QUERY   \n",
       "...           ...         ...                           ...          ...   \n",
       "46422    Negative  1677402582  Sat May 02 01:53:46 PDT 2009     NO_QUERY   \n",
       "34170    Negative  1564728728  Mon Apr 20 04:42:44 PDT 2009     NO_QUERY   \n",
       "888464   Positive  1687307615  Sun May 03 08:20:39 PDT 2009     NO_QUERY   \n",
       "292279   Negative  1995953530  Mon Jun 01 14:18:18 PDT 2009     NO_QUERY   \n",
       "267567   Negative  1989221084  Mon Jun 01 00:45:50 PDT 2009     NO_QUERY   \n",
       "\n",
       "                    user                                               text  \n",
       "1062048          ashakur  @PcShakur I guess so. We should go make it a f...  \n",
       "1236895  RabbiShaiSpecht                         @PsychicSophie Thank you!   \n",
       "1237054       RobinRene7  it's just another day here at the office...I a...  \n",
       "229979       valfvergara                     @triciasays i miss kickboxing   \n",
       "760772     SarahAnnGreen                      @AmandaFClark Thats rubbish!   \n",
       "...                  ...                                                ...  \n",
       "46422           kmac1984  wondering what the hell is gonna happen next??...  \n",
       "34170             engers                                  @jkoxvold Me too   \n",
       "888464       _Alectrona_             I'm off  Will maybe tweet later...Bye!  \n",
       "292279    TraceyyMartinn  stomach hurts  and i desperatly want to go sho...  \n",
       "267567             SW_77  ahhh have a flat tyre.. ahh and I have to go t...  \n",
       "\n",
       "[50000 rows x 6 columns]"
      ]
     },
     "execution_count": 3,
     "metadata": {},
     "output_type": "execute_result"
    }
   ],
   "source": [
    "df = df.sample(50000, random_state=1234)\n",
    "df.sentiment = df.sentiment.apply(lambda x: 'Negative' if x == 0 else 'Positive')\n",
    "df"
   ]
  },
  {
   "cell_type": "code",
   "execution_count": 4,
   "metadata": {},
   "outputs": [],
   "source": [
    "X = df.text.to_list()\n",
    "Y = df.sentiment.to_list()\n",
    "\n",
    "data_train, data_test, y_train, y_test  = train_test_split(\n",
    "        X, \n",
    "        Y,\n",
    "        train_size=0.80,\n",
    "        random_state=1234)"
   ]
  },
  {
   "cell_type": "markdown",
   "metadata": {},
   "source": [
    "# Count Vectorizer\n",
    "## Exemple"
   ]
  },
  {
   "cell_type": "code",
   "execution_count": 5,
   "metadata": {},
   "outputs": [
    {
     "data": {
      "text/plain": [
       "['by', 'car', 'cleaned', 'hello', 'jack', 'was']"
      ]
     },
     "execution_count": 5,
     "metadata": {},
     "output_type": "execute_result"
    }
   ],
   "source": [
    "arr = [\"Car was cleaned by Jack\", \"Jack was cleaned by Car\", \"Hello\"]\n",
    "vectorizer = CountVectorizer()\n",
    "X = vectorizer.fit_transform(arr)\n",
    "vectorizer.get_feature_names()"
   ]
  },
  {
   "cell_type": "code",
   "execution_count": 6,
   "metadata": {},
   "outputs": [
    {
     "name": "stdout",
     "output_type": "stream",
     "text": [
      "[[1 1 1 0 1 1]\n",
      " [1 1 1 0 1 1]\n",
      " [0 0 0 1 0 0]]\n"
     ]
    }
   ],
   "source": [
    "print(X.toarray())"
   ]
  },
  {
   "cell_type": "markdown",
   "metadata": {},
   "source": [
    "## Application"
   ]
  },
  {
   "cell_type": "markdown",
   "metadata": {},
   "source": [
    "On fit à présent le vectorizer sur l'ensemble des données (train + test) pour avoir des vecteurs de mêmes dimensions (mêmes nombres de features)."
   ]
  },
  {
   "cell_type": "code",
   "execution_count": 7,
   "metadata": {},
   "outputs": [
    {
     "name": "stdout",
     "output_type": "stream",
     "text": [
      "Nombre de features : 58930\n"
     ]
    }
   ],
   "source": [
    "vectorizer = CountVectorizer()\n",
    "\n",
    "vectorizer.fit(data_train+data_test)\n",
    "X_train = vectorizer.transform(data_train).toarray()\n",
    "X_test = vectorizer.transform(data_test).toarray()\n",
    "\n",
    "print(f\"Nombre de features : {len(vectorizer.get_feature_names())}\")"
   ]
  },
  {
   "cell_type": "code",
   "execution_count": 8,
   "metadata": {},
   "outputs": [
    {
     "name": "stdout",
     "output_type": "stream",
     "text": [
      "Nombre de features : 1000\n"
     ]
    }
   ],
   "source": [
    "vectorizer = CountVectorizer(max_features = 1000)\n",
    "\n",
    "vectorizer.fit(data_train+data_test)\n",
    "X_train = vectorizer.transform(data_train).toarray()\n",
    "X_test = vectorizer.transform(data_test).toarray()\n",
    "\n",
    "print(f\"Nombre de features : {len(vectorizer.get_feature_names())}\")"
   ]
  },
  {
   "cell_type": "code",
   "execution_count": 9,
   "metadata": {},
   "outputs": [
    {
     "name": "stderr",
     "output_type": "stream",
     "text": [
      "C:\\Users\\pasqu\\anaconda3\\envs\\data-2A\\lib\\site-packages\\sklearn\\linear_model\\_logistic.py:764: ConvergenceWarning: lbfgs failed to converge (status=1):\n",
      "STOP: TOTAL NO. of ITERATIONS REACHED LIMIT.\n",
      "\n",
      "Increase the number of iterations (max_iter) or scale the data as shown in:\n",
      "    https://scikit-learn.org/stable/modules/preprocessing.html\n",
      "Please also refer to the documentation for alternative solver options:\n",
      "    https://scikit-learn.org/stable/modules/linear_model.html#logistic-regression\n",
      "  extra_warning_msg=_LOGISTIC_SOLVER_CONVERGENCE_MSG)\n"
     ]
    }
   ],
   "source": [
    "log_model= LogisticRegression()\n",
    "log_model.fit(X_train, y_train)\n",
    "y_pred = log_model.predict(X_test)"
   ]
  },
  {
   "cell_type": "code",
   "execution_count": 10,
   "metadata": {},
   "outputs": [
    {
     "data": {
      "text/plain": [
       "array([[3580, 1366],\n",
       "       [1093, 3961]], dtype=int64)"
      ]
     },
     "execution_count": 10,
     "metadata": {},
     "output_type": "execute_result"
    }
   ],
   "source": [
    "confusion_matrix(y_test, y_pred)"
   ]
  },
  {
   "cell_type": "code",
   "execution_count": 11,
   "metadata": {},
   "outputs": [],
   "source": [
    "def conf_matrix(data_train, data_test, y_train, y_test, vectorizer, model):\n",
    "    vectorizer.fit(data_train+data_test)\n",
    "    X_train = vectorizer.transform(data_train).toarray()\n",
    "    X_test = vectorizer.transform(data_test).toarray()\n",
    "\n",
    "    model.fit(X_train, y_train)\n",
    "    y_pred = model.predict(X_test)\n",
    "\n",
    "    sc_accuracy = sklearn.metrics.accuracy_score(y_pred, y_test)    \n",
    "    sc_balanced_accuracy = sklearn.metrics.balanced_accuracy_score(y_pred, y_test)\n",
    "    sc_f1 = sklearn.metrics.f1_score(y_pred, y_test, pos_label=\"Positive\")\n",
    "    sc_recall = sklearn.metrics.recall_score(y_pred, y_test, pos_label=\"Positive\")\n",
    "    sc_precision = sklearn.metrics.precision_score(y_pred, y_test, pos_label=\"Positive\")\n",
    "    \n",
    "    sklearn.metrics.plot_confusion_matrix(model, X_test, y_test)\n",
    "    plt.show()\n",
    "\n",
    "    print(f\"Accuracy : {sc_accuracy}\")\n",
    "    print(f\"Balanced accuracy : {sc_balanced_accuracy}\")\n",
    "    print(f\"Recall : {sc_recall}\")\n",
    "    print(f\"Precision : {sc_precision}\")\n",
    "    print(f\"F1 : {sc_f1}\")\n",
    "    "
   ]
  },
  {
   "cell_type": "code",
   "execution_count": 12,
   "metadata": {},
   "outputs": [
    {
     "name": "stderr",
     "output_type": "stream",
     "text": [
      "C:\\Users\\pasqu\\anaconda3\\envs\\data-2A\\lib\\site-packages\\sklearn\\linear_model\\_logistic.py:764: ConvergenceWarning: lbfgs failed to converge (status=1):\n",
      "STOP: TOTAL NO. of ITERATIONS REACHED LIMIT.\n",
      "\n",
      "Increase the number of iterations (max_iter) or scale the data as shown in:\n",
      "    https://scikit-learn.org/stable/modules/preprocessing.html\n",
      "Please also refer to the documentation for alternative solver options:\n",
      "    https://scikit-learn.org/stable/modules/linear_model.html#logistic-regression\n",
      "  extra_warning_msg=_LOGISTIC_SOLVER_CONVERGENCE_MSG)\n"
     ]
    },
    {
     "data": {
      "image/png": "[encoded data removed]",
      "text/plain": [
       "<Figure size 432x288 with 2 Axes>"
      ]
     },
     "metadata": {
      "needs_background": "light"
     },
     "output_type": "display_data"
    },
    {
     "name": "stdout",
     "output_type": "stream",
     "text": [
      "Accuracy : 0.7541\n",
      "Balanced accuracy : 0.7548368178438088\n",
      "Recall : 0.7435704899568237\n",
      "Precision : 0.7837356549267906\n",
      "F1 : 0.7631249397938542\n"
     ]
    }
   ],
   "source": [
    "conf_matrix(data_train, data_test, y_train, y_test, CountVectorizer(max_features = 1000), LogisticRegression())"
   ]
  },
  {
   "cell_type": "markdown",
   "metadata": {},
   "source": [
    "# TF-IDF\n",
    "## Exemple"
   ]
  },
  {
   "cell_type": "code",
   "execution_count": 13,
   "metadata": {},
   "outputs": [
    {
     "data": {
      "text/plain": [
       "['blue', 'by', 'car', 'cleaned', 'hello', 'jack', 'red', 'was']"
      ]
     },
     "execution_count": 13,
     "metadata": {},
     "output_type": "execute_result"
    }
   ],
   "source": [
    "arr = [\"Blue car was cleaned by Jack\", \"Jack was cleaned by red car\", \"Hello\"]\n",
    "vectorizer = TfidfVectorizer()\n",
    "X = vectorizer.fit_transform(arr)\n",
    "vectorizer.get_feature_names()"
   ]
  },
  {
   "cell_type": "code",
   "execution_count": 14,
   "metadata": {},
   "outputs": [
    {
     "name": "stdout",
     "output_type": "stream",
     "text": [
      "[[0.50689001 0.38550292 0.38550292 0.38550292 0.         0.38550292\n",
      "  0.         0.38550292]\n",
      " [0.         0.38550292 0.38550292 0.38550292 0.         0.38550292\n",
      "  0.50689001 0.38550292]\n",
      " [0.         0.         0.         0.         1.         0.\n",
      "  0.         0.        ]]\n"
     ]
    }
   ],
   "source": [
    "print(X.toarray())"
   ]
  },
  {
   "cell_type": "code",
   "execution_count": 15,
   "metadata": {},
   "outputs": [],
   "source": [
    "## Application"
   ]
  },
  {
   "cell_type": "code",
   "execution_count": 16,
   "metadata": {},
   "outputs": [
    {
     "name": "stdout",
     "output_type": "stream",
     "text": [
      "Nombre de features : 58930\n"
     ]
    }
   ],
   "source": [
    "vectorizer = TfidfVectorizer()\n",
    "\n",
    "vectorizer.fit(data_train+data_test)\n",
    "X_train = vectorizer.transform(data_train).toarray()\n",
    "X_test = vectorizer.transform(data_test).toarray()\n",
    "print(f\"Nombre de features : {len(vectorizer.get_feature_names())}\")"
   ]
  },
  {
   "cell_type": "code",
   "execution_count": 17,
   "metadata": {},
   "outputs": [
    {
     "name": "stdout",
     "output_type": "stream",
     "text": [
      "Nombre de features : 1000\n"
     ]
    }
   ],
   "source": [
    "vectorizer = TfidfVectorizer(max_features = 1000)\n",
    "\n",
    "vectorizer.fit(data_train+data_test)\n",
    "X_train = vectorizer.transform(data_train).toarray()\n",
    "X_test = vectorizer.transform(data_test).toarray()\n",
    "print(f\"Nombre de features : {len(vectorizer.get_feature_names())}\")"
   ]
  },
  {
   "cell_type": "code",
   "execution_count": 18,
   "metadata": {},
   "outputs": [
    {
     "data": {
      "image/png": "[encoded data removed]",
      "text/plain": [
       "<Figure size 432x288 with 2 Axes>"
      ]
     },
     "metadata": {
      "needs_background": "light"
     },
     "output_type": "display_data"
    },
    {
     "name": "stdout",
     "output_type": "stream",
     "text": [
      "Accuracy : 0.759\n",
      "Balanced accuracy : 0.759217526197669\n",
      "Recall : 0.753937764118325\n",
      "Precision : 0.7766125840918084\n",
      "F1 : 0.7651072124756335\n"
     ]
    }
   ],
   "source": [
    "conf_matrix(data_train, data_test, y_train, y_test, TfidfVectorizer(max_features = 1000), LogisticRegression())"
   ]
  },
  {
   "cell_type": "markdown",
   "metadata": {},
   "source": [
    "# N-grams\n",
    "## Exemple"
   ]
  },
  {
   "cell_type": "code",
   "execution_count": 19,
   "metadata": {},
   "outputs": [
    {
     "data": {
      "text/plain": [
       "['blue car',\n",
       " 'by jack',\n",
       " 'by red',\n",
       " 'car was',\n",
       " 'cleaned by',\n",
       " 'jack was',\n",
       " 'red car',\n",
       " 'was cleaned']"
      ]
     },
     "execution_count": 19,
     "metadata": {},
     "output_type": "execute_result"
    }
   ],
   "source": [
    "arr = [\"Blue car was cleaned by Jack\", \"Jack was cleaned by red car\", \"Hello\"]\n",
    "vectorizer = CountVectorizer(ngram_range=(2,2))\n",
    "X = vectorizer.fit_transform(arr)\n",
    "vectorizer.get_feature_names()"
   ]
  },
  {
   "cell_type": "code",
   "execution_count": 20,
   "metadata": {},
   "outputs": [
    {
     "name": "stdout",
     "output_type": "stream",
     "text": [
      "[[1 1 0 1 1 0 0 1]\n",
      " [0 0 1 0 1 1 1 1]\n",
      " [0 0 0 0 0 0 0 0]]\n"
     ]
    }
   ],
   "source": [
    "print(X.toarray())"
   ]
  },
  {
   "cell_type": "code",
   "execution_count": 21,
   "metadata": {},
   "outputs": [
    {
     "data": {
      "image/png": "[encoded data removed]",
      "text/plain": [
       "<Figure size 432x288 with 2 Axes>"
      ]
     },
     "metadata": {
      "needs_background": "light"
     },
     "output_type": "display_data"
    },
    {
     "name": "stdout",
     "output_type": "stream",
     "text": [
      "Accuracy : 0.6482\n",
      "Balanced accuracy : 0.6545949880567059\n",
      "Recall : 0.6257367387033399\n",
      "Precision : 0.7562326869806094\n",
      "F1 : 0.6848235083318402\n"
     ]
    }
   ],
   "source": [
    "conf_matrix(data_train, data_test, y_train, y_test, CountVectorizer(max_features = 1000, ngram_range=(2,2)), LogisticRegression())"
   ]
  },
  {
   "cell_type": "code",
   "execution_count": null,
   "metadata": {},
   "outputs": [],
   "source": []
  }
 ],
 "metadata": {
  "kernelspec": {
   "display_name": "Python 3",
   "language": "python",
   "name": "python3"
  },
  "language_info": {
   "codemirror_mode": {
    "name": "ipython",
    "version": 3
   },
   "file_extension": ".py",
   "mimetype": "text/x-python",
   "name": "python",
   "nbconvert_exporter": "python",
   "pygments_lexer": "ipython3",
   "version": "3.6.11"
  }
 },
 "nbformat": 4,
 "nbformat_minor": 4
}
