{
 "cells": [
  {
   "cell_type": "code",
   "execution_count": 1,
   "metadata": {},
   "outputs": [],
   "source": [
    "import pandas as pd\n",
    "import numpy as np\n",
    "import seaborn as sns\n",
    "import matplotlib.pyplot as plt\n",
    "import nltk\n",
    "from nltk.tokenize import word_tokenize\n",
    "from nltk.corpus import stopwords, wordnet\n",
    "from nltk.stem import WordNetLemmatizer\n",
    "from sklearn.feature_extraction.text import CountVectorizer, TfidfVectorizer\n",
    "import re\n",
    "import sklearn\n",
    "from sklearn.preprocessing import StandardScaler\n",
    "from sklearn.model_selection import train_test_split\n",
    "from sklearn.linear_model import LogisticRegression\n",
    "from sklearn.metrics import confusion_matrix\n",
    "from sklearn import metrics\n",
    "import os"
   ]
  },
  {
   "cell_type": "markdown",
   "metadata": {},
   "source": [
    "# Chargement de la base Sentiment140 préprocessée "
   ]
  },
  {
   "cell_type": "code",
   "execution_count": 2,
   "metadata": {},
   "outputs": [],
   "source": [
    "STOP_WORDS = True\n",
    "LEMMATIZATION = True\n",
    "file = \"train\"\n",
    "if STOP_WORDS:\n",
    "    file += \"_stop\"\n",
    "if LEMMATIZATION:\n",
    "    file += \"_lemm\"\n",
    "df = pd.read_pickle(os.path.join(\"data\", \"sentiment140\", file+\".bz2\"))"
   ]
  },
  {
   "cell_type": "code",
   "execution_count": 3,
   "metadata": {},
   "outputs": [
    {
     "data": {
      "text/html": [
       "<div>\n",
       "<style scoped>\n",
       "    .dataframe tbody tr th:only-of-type {\n",
       "        vertical-align: middle;\n",
       "    }\n",
       "\n",
       "    .dataframe tbody tr th {\n",
       "        vertical-align: top;\n",
       "    }\n",
       "\n",
       "    .dataframe thead th {\n",
       "        text-align: right;\n",
       "    }\n",
       "</style>\n",
       "<table border=\"1\" class=\"dataframe\">\n",
       "  <thead>\n",
       "    <tr style=\"text-align: right;\">\n",
       "      <th></th>\n",
       "      <th>sentiment</th>\n",
       "      <th>id</th>\n",
       "      <th>date</th>\n",
       "      <th>query_string</th>\n",
       "      <th>user</th>\n",
       "      <th>text</th>\n",
       "    </tr>\n",
       "  </thead>\n",
       "  <tbody>\n",
       "    <tr>\n",
       "      <th>1062048</th>\n",
       "      <td>Positive</td>\n",
       "      <td>1964017646</td>\n",
       "      <td>Fri May 29 13:35:57 PDT 2009</td>\n",
       "      <td>NO_QUERY</td>\n",
       "      <td>ashakur</td>\n",
       "      <td>@PcShakur I guess so. We should go make it a f...</td>\n",
       "    </tr>\n",
       "    <tr>\n",
       "      <th>1236895</th>\n",
       "      <td>Positive</td>\n",
       "      <td>1992914899</td>\n",
       "      <td>Mon Jun 01 09:31:47 PDT 2009</td>\n",
       "      <td>NO_QUERY</td>\n",
       "      <td>RabbiShaiSpecht</td>\n",
       "      <td>@PsychicSophie Thank you!</td>\n",
       "    </tr>\n",
       "    <tr>\n",
       "      <th>1237054</th>\n",
       "      <td>Positive</td>\n",
       "      <td>1992954642</td>\n",
       "      <td>Mon Jun 01 09:35:38 PDT 2009</td>\n",
       "      <td>NO_QUERY</td>\n",
       "      <td>RobinRene7</td>\n",
       "      <td>it's just another day here at the office...I a...</td>\n",
       "    </tr>\n",
       "    <tr>\n",
       "      <th>229979</th>\n",
       "      <td>Negative</td>\n",
       "      <td>1978627799</td>\n",
       "      <td>Sat May 30 23:57:09 PDT 2009</td>\n",
       "      <td>NO_QUERY</td>\n",
       "      <td>valfvergara</td>\n",
       "      <td>@triciasays i miss kickboxing</td>\n",
       "    </tr>\n",
       "    <tr>\n",
       "      <th>760772</th>\n",
       "      <td>Negative</td>\n",
       "      <td>2296927988</td>\n",
       "      <td>Tue Jun 23 09:48:35 PDT 2009</td>\n",
       "      <td>NO_QUERY</td>\n",
       "      <td>SarahAnnGreen</td>\n",
       "      <td>@AmandaFClark Thats rubbish!</td>\n",
       "    </tr>\n",
       "    <tr>\n",
       "      <th>...</th>\n",
       "      <td>...</td>\n",
       "      <td>...</td>\n",
       "      <td>...</td>\n",
       "      <td>...</td>\n",
       "      <td>...</td>\n",
       "      <td>...</td>\n",
       "    </tr>\n",
       "    <tr>\n",
       "      <th>46422</th>\n",
       "      <td>Negative</td>\n",
       "      <td>1677402582</td>\n",
       "      <td>Sat May 02 01:53:46 PDT 2009</td>\n",
       "      <td>NO_QUERY</td>\n",
       "      <td>kmac1984</td>\n",
       "      <td>wondering what the hell is gonna happen next??...</td>\n",
       "    </tr>\n",
       "    <tr>\n",
       "      <th>34170</th>\n",
       "      <td>Negative</td>\n",
       "      <td>1564728728</td>\n",
       "      <td>Mon Apr 20 04:42:44 PDT 2009</td>\n",
       "      <td>NO_QUERY</td>\n",
       "      <td>engers</td>\n",
       "      <td>@jkoxvold Me too</td>\n",
       "    </tr>\n",
       "    <tr>\n",
       "      <th>888464</th>\n",
       "      <td>Positive</td>\n",
       "      <td>1687307615</td>\n",
       "      <td>Sun May 03 08:20:39 PDT 2009</td>\n",
       "      <td>NO_QUERY</td>\n",
       "      <td>_Alectrona_</td>\n",
       "      <td>I'm off  Will maybe tweet later...Bye!</td>\n",
       "    </tr>\n",
       "    <tr>\n",
       "      <th>292279</th>\n",
       "      <td>Negative</td>\n",
       "      <td>1995953530</td>\n",
       "      <td>Mon Jun 01 14:18:18 PDT 2009</td>\n",
       "      <td>NO_QUERY</td>\n",
       "      <td>TraceyyMartinn</td>\n",
       "      <td>stomach hurts  and i desperatly want to go sho...</td>\n",
       "    </tr>\n",
       "    <tr>\n",
       "      <th>267567</th>\n",
       "      <td>Negative</td>\n",
       "      <td>1989221084</td>\n",
       "      <td>Mon Jun 01 00:45:50 PDT 2009</td>\n",
       "      <td>NO_QUERY</td>\n",
       "      <td>SW_77</td>\n",
       "      <td>ahhh have a flat tyre.. ahh and I have to go t...</td>\n",
       "    </tr>\n",
       "  </tbody>\n",
       "</table>\n",
       "<p>50000 rows × 6 columns</p>\n",
       "</div>"
      ],
      "text/plain": [
       "        sentiment          id                          date query_string  \\\n",
       "1062048  Positive  1964017646  Fri May 29 13:35:57 PDT 2009     NO_QUERY   \n",
       "1236895  Positive  1992914899  Mon Jun 01 09:31:47 PDT 2009     NO_QUERY   \n",
       "1237054  Positive  1992954642  Mon Jun 01 09:35:38 PDT 2009     NO_QUERY   \n",
       "229979   Negative  1978627799  Sat May 30 23:57:09 PDT 2009     NO_QUERY   \n",
       "760772   Negative  2296927988  Tue Jun 23 09:48:35 PDT 2009     NO_QUERY   \n",
       "...           ...         ...                           ...          ...   \n",
       "46422    Negative  1677402582  Sat May 02 01:53:46 PDT 2009     NO_QUERY   \n",
       "34170    Negative  1564728728  Mon Apr 20 04:42:44 PDT 2009     NO_QUERY   \n",
       "888464   Positive  1687307615  Sun May 03 08:20:39 PDT 2009     NO_QUERY   \n",
       "292279   Negative  1995953530  Mon Jun 01 14:18:18 PDT 2009     NO_QUERY   \n",
       "267567   Negative  1989221084  Mon Jun 01 00:45:50 PDT 2009     NO_QUERY   \n",
       "\n",
       "                    user                                               text  \n",
       "1062048          ashakur  @PcShakur I guess so. We should go make it a f...  \n",
       "1236895  RabbiShaiSpecht                         @PsychicSophie Thank you!   \n",
       "1237054       RobinRene7  it's just another day here at the office...I a...  \n",
       "229979       valfvergara                     @triciasays i miss kickboxing   \n",
       "760772     SarahAnnGreen                      @AmandaFClark Thats rubbish!   \n",
       "...                  ...                                                ...  \n",
       "46422           kmac1984  wondering what the hell is gonna happen next??...  \n",
       "34170             engers                                  @jkoxvold Me too   \n",
       "888464       _Alectrona_             I'm off  Will maybe tweet later...Bye!  \n",
       "292279    TraceyyMartinn  stomach hurts  and i desperatly want to go sho...  \n",
       "267567             SW_77  ahhh have a flat tyre.. ahh and I have to go t...  \n",
       "\n",
       "[50000 rows x 6 columns]"
      ]
     },
     "execution_count": 3,
     "metadata": {},
     "output_type": "execute_result"
    }
   ],
   "source": [
    "df = df.sample(50000, random_state=1234)\n",
    "df.sentiment = df.sentiment.apply(lambda x: 'Negative' if x == 0 else 'Positive')\n",
    "df"
   ]
  },
  {
   "cell_type": "code",
   "execution_count": 4,
   "metadata": {},
   "outputs": [],
   "source": [
    "X = df.text.to_list()\n",
    "y = df.sentiment.to_list()"
   ]
  },
  {
   "cell_type": "markdown",
   "metadata": {},
   "source": [
    "# Count Vectorizer\n",
    "## Exemple"
   ]
  },
  {
   "cell_type": "code",
   "execution_count": 5,
   "metadata": {},
   "outputs": [
    {
     "data": {
      "text/plain": [
       "['by', 'car', 'cleaned', 'hello', 'jack', 'was']"
      ]
     },
     "execution_count": 5,
     "metadata": {},
     "output_type": "execute_result"
    }
   ],
   "source": [
    "arr = [\"Car was cleaned by Jack\", \"Jack was cleaned by Car\", \"Hello\"]\n",
    "vectorizer = CountVectorizer()\n",
    "X_ = vectorizer.fit_transform(arr)\n",
    "vectorizer.get_feature_names()"
   ]
  },
  {
   "cell_type": "code",
   "execution_count": 6,
   "metadata": {},
   "outputs": [
    {
     "name": "stdout",
     "output_type": "stream",
     "text": [
      "[[1 1 1 0 1 1]\n",
      " [1 1 1 0 1 1]\n",
      " [0 0 0 1 0 0]]\n"
     ]
    }
   ],
   "source": [
    "print(X_.toarray())"
   ]
  },
  {
   "cell_type": "markdown",
   "metadata": {},
   "source": [
    "## Application"
   ]
  },
  {
   "cell_type": "code",
   "execution_count": 7,
   "metadata": {},
   "outputs": [],
   "source": [
    "def conf_matrix(X, y, vectorizer, model, verbose=True):\n",
    "    X = vectorizer.fit_transform(X).toarray()\n",
    "    \n",
    "    X_train, X_test, y_train, y_test = train_test_split(StandardScaler().fit_transform(X), y, train_size=0.80, random_state=1234)\n",
    "\n",
    "    model.fit(X_train, y_train)\n",
    "    y_pred = model.predict(X_test)\n",
    "\n",
    "    sc_accuracy = metrics.accuracy_score(y_pred, y_test)    \n",
    "    sc_balanced_accuracy = metrics.balanced_accuracy_score(y_pred, y_test)\n",
    "    sc_f1 = metrics.f1_score(y_pred, y_test, pos_label=\"Positive\")\n",
    "    sc_recall = metrics.recall_score(y_pred, y_test, pos_label=\"Positive\")\n",
    "    sc_precision = metrics.precision_score(y_pred, y_test, pos_label=\"Positive\")\n",
    "    sc_roc_auc = metrics.roc_auc_score(y_test, model.predict_proba(X_test)[:,1])\n",
    "    probs = model.predict_proba(X_test)[:,1]\n",
    "    \n",
    "    if verbose:    \n",
    "        metrics.plot_confusion_matrix(model, X_test, y_test)\n",
    "        plt.show()\n",
    "\n",
    "        print(f\"Accuracy : {sc_accuracy}\")\n",
    "        print(f\"Balanced accuracy : {sc_balanced_accuracy}\")\n",
    "    #     print(f\"Recall : {sc_recall}\")\n",
    "    #     print(f\"Precision : {sc_precision}\")\n",
    "    #     print(f\"F1 : {sc_f1}\")\n",
    "        print(f\"ROC AUC : {sc_roc_auc}\")\n",
    "    \n",
    "    metrics_score = {'accuracy': sc_accuracy, 'balanced_accuracy': sc_balanced_accuracy, 'roc_auc': sc_roc_auc}\n",
    "    \n",
    "    if not verbose:\n",
    "        return X_train, X_test, y_train, y_test, probs, metrics_score\n",
    "    "
   ]
  },
  {
   "cell_type": "code",
   "execution_count": 8,
   "metadata": {},
   "outputs": [
    {
     "data": {
      "image/png": "[encoded data removed]",
      "text/plain": [
       "<Figure size 432x288 with 2 Axes>"
      ]
     },
     "metadata": {
      "needs_background": "light"
     },
     "output_type": "display_data"
    },
    {
     "name": "stdout",
     "output_type": "stream",
     "text": [
      "Accuracy : 0.7526\n",
      "Balanced accuracy : 0.7533137545880655\n",
      "ROC AUC : 0.8268280812273943\n"
     ]
    }
   ],
   "source": [
    "conf_matrix(X, y, CountVectorizer(max_features = 1000), LogisticRegression())"
   ]
  },
  {
   "cell_type": "markdown",
   "metadata": {},
   "source": [
    "# TF-IDF\n",
    "## Exemple"
   ]
  },
  {
   "cell_type": "code",
   "execution_count": 9,
   "metadata": {},
   "outputs": [
    {
     "data": {
      "text/plain": [
       "['blue', 'by', 'car', 'cleaned', 'hello', 'jack', 'red', 'was']"
      ]
     },
     "execution_count": 9,
     "metadata": {},
     "output_type": "execute_result"
    }
   ],
   "source": [
    "arr = [\"Blue car was cleaned by Jack\", \"Jack was cleaned by red car\", \"Hello\"]\n",
    "vectorizer = TfidfVectorizer()\n",
    "X_ = vectorizer.fit_transform(arr)\n",
    "vectorizer.get_feature_names()"
   ]
  },
  {
   "cell_type": "code",
   "execution_count": 10,
   "metadata": {},
   "outputs": [
    {
     "name": "stdout",
     "output_type": "stream",
     "text": [
      "[[0.50689001 0.38550292 0.38550292 0.38550292 0.         0.38550292\n",
      "  0.         0.38550292]\n",
      " [0.         0.38550292 0.38550292 0.38550292 0.         0.38550292\n",
      "  0.50689001 0.38550292]\n",
      " [0.         0.         0.         0.         1.         0.\n",
      "  0.         0.        ]]\n"
     ]
    }
   ],
   "source": [
    "print(X_.toarray())"
   ]
  },
  {
   "cell_type": "markdown",
   "metadata": {},
   "source": [
    "## Application"
   ]
  },
  {
   "cell_type": "code",
   "execution_count": 11,
   "metadata": {},
   "outputs": [
    {
     "data": {
      "image/png": "[encoded data removed]",
      "text/plain": [
       "<Figure size 432x288 with 2 Axes>"
      ]
     },
     "metadata": {
      "needs_background": "light"
     },
     "output_type": "display_data"
    },
    {
     "name": "stdout",
     "output_type": "stream",
     "text": [
      "Accuracy : 0.7565\n",
      "Balanced accuracy : 0.7567841131426452\n",
      "ROC AUC : 0.8359262424369179\n"
     ]
    }
   ],
   "source": [
    "conf_matrix(X, y, TfidfVectorizer(max_features = 1000), LogisticRegression())"
   ]
  },
  {
   "cell_type": "markdown",
   "metadata": {},
   "source": [
    "# N-grams\n",
    "## Exemple"
   ]
  },
  {
   "cell_type": "code",
   "execution_count": 12,
   "metadata": {},
   "outputs": [
    {
     "data": {
      "text/plain": [
       "['blue car',\n",
       " 'by jack',\n",
       " 'by red',\n",
       " 'car was',\n",
       " 'cleaned by',\n",
       " 'jack was',\n",
       " 'red car',\n",
       " 'was cleaned']"
      ]
     },
     "execution_count": 12,
     "metadata": {},
     "output_type": "execute_result"
    }
   ],
   "source": [
    "arr = [\"Blue car was cleaned by Jack\", \"Jack was cleaned by red car\", \"Hello\"]\n",
    "vectorizer = CountVectorizer(ngram_range=(2,2))\n",
    "X_ = vectorizer.fit_transform(arr)\n",
    "vectorizer.get_feature_names()"
   ]
  },
  {
   "cell_type": "code",
   "execution_count": 13,
   "metadata": {},
   "outputs": [
    {
     "name": "stdout",
     "output_type": "stream",
     "text": [
      "[[1 1 0 1 1 0 0 1]\n",
      " [0 0 1 0 1 1 1 1]\n",
      " [0 0 0 0 0 0 0 0]]\n"
     ]
    }
   ],
   "source": [
    "print(X_.toarray())"
   ]
  },
  {
   "cell_type": "markdown",
   "metadata": {},
   "source": [
    "## Application"
   ]
  },
  {
   "cell_type": "code",
   "execution_count": 14,
   "metadata": {},
   "outputs": [
    {
     "name": "stderr",
     "output_type": "stream",
     "text": [
      "C:\\Users\\pasqu\\anaconda3\\envs\\data-2A\\lib\\site-packages\\sklearn\\linear_model\\_logistic.py:764: ConvergenceWarning: lbfgs failed to converge (status=1):\n",
      "STOP: TOTAL NO. of ITERATIONS REACHED LIMIT.\n",
      "\n",
      "Increase the number of iterations (max_iter) or scale the data as shown in:\n",
      "    https://scikit-learn.org/stable/modules/preprocessing.html\n",
      "Please also refer to the documentation for alternative solver options:\n",
      "    https://scikit-learn.org/stable/modules/linear_model.html#logistic-regression\n",
      "  extra_warning_msg=_LOGISTIC_SOLVER_CONVERGENCE_MSG)\n"
     ]
    },
    {
     "data": {
      "image/png": "[encoded data removed]",
      "text/plain": [
       "<Figure size 432x288 with 2 Axes>"
      ]
     },
     "metadata": {
      "needs_background": "light"
     },
     "output_type": "display_data"
    },
    {
     "name": "stdout",
     "output_type": "stream",
     "text": [
      "Accuracy : 0.6471\n",
      "Balanced accuracy : 0.6540741507586314\n",
      "ROC AUC : 0.7116316447150395\n"
     ]
    }
   ],
   "source": [
    "conf_matrix(X, y, CountVectorizer(max_features = 1000, ngram_range=(2,2)), LogisticRegression())"
   ]
  },
  {
   "cell_type": "code",
   "execution_count": 15,
   "metadata": {},
   "outputs": [
    {
     "name": "stderr",
     "output_type": "stream",
     "text": [
      "C:\\Users\\pasqu\\anaconda3\\envs\\data-2A\\lib\\site-packages\\sklearn\\linear_model\\_logistic.py:764: ConvergenceWarning: lbfgs failed to converge (status=1):\n",
      "STOP: TOTAL NO. of ITERATIONS REACHED LIMIT.\n",
      "\n",
      "Increase the number of iterations (max_iter) or scale the data as shown in:\n",
      "    https://scikit-learn.org/stable/modules/preprocessing.html\n",
      "Please also refer to the documentation for alternative solver options:\n",
      "    https://scikit-learn.org/stable/modules/linear_model.html#logistic-regression\n",
      "  extra_warning_msg=_LOGISTIC_SOLVER_CONVERGENCE_MSG)\n"
     ]
    },
    {
     "data": {
      "image/png": "[encoded data removed]",
      "text/plain": [
       "<Figure size 432x288 with 2 Axes>"
      ]
     },
     "metadata": {
      "needs_background": "light"
     },
     "output_type": "display_data"
    },
    {
     "name": "stdout",
     "output_type": "stream",
     "text": [
      "Accuracy : 0.6522\n",
      "Balanced accuracy : 0.658611771107404\n",
      "ROC AUC : 0.7150136391908752\n"
     ]
    }
   ],
   "source": [
    "conf_matrix(X, y, TfidfVectorizer(max_features = 1000, ngram_range=(2,2)), LogisticRegression())"
   ]
  },
  {
   "cell_type": "markdown",
   "metadata": {},
   "source": [
    "# Comparaisons"
   ]
  },
  {
   "cell_type": "code",
   "execution_count": 16,
   "metadata": {},
   "outputs": [
    {
     "name": "stderr",
     "output_type": "stream",
     "text": [
      "C:\\Users\\pasqu\\anaconda3\\envs\\data-2A\\lib\\site-packages\\sklearn\\linear_model\\_logistic.py:764: ConvergenceWarning: lbfgs failed to converge (status=1):\n",
      "STOP: TOTAL NO. of ITERATIONS REACHED LIMIT.\n",
      "\n",
      "Increase the number of iterations (max_iter) or scale the data as shown in:\n",
      "    https://scikit-learn.org/stable/modules/preprocessing.html\n",
      "Please also refer to the documentation for alternative solver options:\n",
      "    https://scikit-learn.org/stable/modules/linear_model.html#logistic-regression\n",
      "  extra_warning_msg=_LOGISTIC_SOLVER_CONVERGENCE_MSG)\n",
      "C:\\Users\\pasqu\\anaconda3\\envs\\data-2A\\lib\\site-packages\\sklearn\\linear_model\\_logistic.py:764: ConvergenceWarning: lbfgs failed to converge (status=1):\n",
      "STOP: TOTAL NO. of ITERATIONS REACHED LIMIT.\n",
      "\n",
      "Increase the number of iterations (max_iter) or scale the data as shown in:\n",
      "    https://scikit-learn.org/stable/modules/preprocessing.html\n",
      "Please also refer to the documentation for alternative solver options:\n",
      "    https://scikit-learn.org/stable/modules/linear_model.html#logistic-regression\n",
      "  extra_warning_msg=_LOGISTIC_SOLVER_CONVERGENCE_MSG)\n"
     ]
    },
    {
     "data": {
      "image/png": "[encoded data removed]",
      "text/plain": [
       "<Figure size 432x288 with 1 Axes>"
      ]
     },
     "metadata": {
      "needs_background": "light"
     },
     "output_type": "display_data"
    },
    {
     "data": {
      "text/html": [
       "<div>\n",
       "<style scoped>\n",
       "    .dataframe tbody tr th:only-of-type {\n",
       "        vertical-align: middle;\n",
       "    }\n",
       "\n",
       "    .dataframe tbody tr th {\n",
       "        vertical-align: top;\n",
       "    }\n",
       "\n",
       "    .dataframe thead th {\n",
       "        text-align: right;\n",
       "    }\n",
       "</style>\n",
       "<table border=\"1\" class=\"dataframe\">\n",
       "  <thead>\n",
       "    <tr style=\"text-align: right;\">\n",
       "      <th></th>\n",
       "      <th>accuracy</th>\n",
       "      <th>balanced_accuracy</th>\n",
       "      <th>roc_auc</th>\n",
       "    </tr>\n",
       "  </thead>\n",
       "  <tbody>\n",
       "    <tr>\n",
       "      <th>CountVectorizer 1000</th>\n",
       "      <td>0.7526</td>\n",
       "      <td>0.753314</td>\n",
       "      <td>0.826828</td>\n",
       "    </tr>\n",
       "    <tr>\n",
       "      <th>TfidfVectorizer 1000</th>\n",
       "      <td>0.7565</td>\n",
       "      <td>0.756784</td>\n",
       "      <td>0.835926</td>\n",
       "    </tr>\n",
       "    <tr>\n",
       "      <th>CountVectorizer 1000 ngram 2</th>\n",
       "      <td>0.6471</td>\n",
       "      <td>0.654074</td>\n",
       "      <td>0.711632</td>\n",
       "    </tr>\n",
       "    <tr>\n",
       "      <th>TfidfVectorizer 1000 ngram 2</th>\n",
       "      <td>0.6522</td>\n",
       "      <td>0.658612</td>\n",
       "      <td>0.715014</td>\n",
       "    </tr>\n",
       "  </tbody>\n",
       "</table>\n",
       "</div>"
      ],
      "text/plain": [
       "                              accuracy  balanced_accuracy   roc_auc\n",
       "CountVectorizer 1000            0.7526           0.753314  0.826828\n",
       "TfidfVectorizer 1000            0.7565           0.756784  0.835926\n",
       "CountVectorizer 1000 ngram 2    0.6471           0.654074  0.711632\n",
       "TfidfVectorizer 1000 ngram 2    0.6522           0.658612  0.715014"
      ]
     },
     "execution_count": 16,
     "metadata": {},
     "output_type": "execute_result"
    }
   ],
   "source": [
    "table = []\n",
    "\n",
    "N = 1000\n",
    "\n",
    "_, _, _, y_test, probs, metrics_score = conf_matrix(X, y, CountVectorizer(max_features = N), LogisticRegression(), verbose=False)\n",
    "fpr, tpr, _ = metrics.roc_curve(y_test, probs, pos_label=\"Positive\")\n",
    "plt.plot(fpr,tpr,\":\", label=f\"CountVectorizer {N}\")\n",
    "table.append(metrics_score)\n",
    "\n",
    "_, _, _, y_test, probs, metrics_score = conf_matrix(X, y, TfidfVectorizer(max_features = N), LogisticRegression(), verbose=False)\n",
    "fpr, tpr, _ = metrics.roc_curve(y_test, probs, pos_label=\"Positive\")\n",
    "plt.plot(fpr,tpr,\":\", label=f\"TfidfVectorizer {N}\")\n",
    "table.append(metrics_score)\n",
    "\n",
    "\n",
    "_, _, _, y_test, probs, metrics_score = conf_matrix(X, y, CountVectorizer(max_features = N, ngram_range=(2,2)), LogisticRegression(), verbose=False)\n",
    "fpr, tpr, _ = metrics.roc_curve(y_test, probs, pos_label=\"Positive\")\n",
    "plt.plot(fpr,tpr,\":\", label=f\"CountVectorizer {N} ngram 2\")\n",
    "table.append(metrics_score)\n",
    "\n",
    "\n",
    "_, _, _, y_test, probs, metrics_score = conf_matrix(X, y, TfidfVectorizer(max_features = N, ngram_range=(2,2)), LogisticRegression(), verbose=False)\n",
    "fpr, tpr, _ = metrics.roc_curve(y_test, probs, pos_label=\"Positive\")\n",
    "plt.plot(fpr,tpr,\":\", label=f\"TfidfVectorizer {N} ngram 2\")\n",
    "table.append(metrics_score)\n",
    "\n",
    "plt.plot([0, 1], [0, 1], \"r-\")\n",
    "plt.plot([0, 0, 1], [0, 1, 1], 'b-')\n",
    "\n",
    "plt.legend()\n",
    "plt.show()\n",
    "\n",
    "pd.DataFrame(table, index=[f\"CountVectorizer {N}\", f\"TfidfVectorizer {N}\", f\"CountVectorizer {N} ngram 2\", f\"TfidfVectorizer {N} ngram 2\"])"
   ]
  },
  {
   "cell_type": "markdown",
   "metadata": {},
   "source": [
    "**Conclusion :** Le modèle de feature extraction le plus performant est le `TfidfVectorizer`. L'ajout de la fonction ngram demande en fait d'augmenter le nombre de features (de $n$ à $n^2$, ce qui demande plus de temps de calcul."
   ]
  },
  {
   "cell_type": "code",
   "execution_count": 17,
   "metadata": {},
   "outputs": [
    {
     "name": "stderr",
     "output_type": "stream",
     "text": [
      "C:\\Users\\pasqu\\anaconda3\\envs\\data-2A\\lib\\site-packages\\sklearn\\linear_model\\_logistic.py:764: ConvergenceWarning: lbfgs failed to converge (status=1):\n",
      "STOP: TOTAL NO. of ITERATIONS REACHED LIMIT.\n",
      "\n",
      "Increase the number of iterations (max_iter) or scale the data as shown in:\n",
      "    https://scikit-learn.org/stable/modules/preprocessing.html\n",
      "Please also refer to the documentation for alternative solver options:\n",
      "    https://scikit-learn.org/stable/modules/linear_model.html#logistic-regression\n",
      "  extra_warning_msg=_LOGISTIC_SOLVER_CONVERGENCE_MSG)\n",
      "C:\\Users\\pasqu\\anaconda3\\envs\\data-2A\\lib\\site-packages\\sklearn\\linear_model\\_logistic.py:764: ConvergenceWarning: lbfgs failed to converge (status=1):\n",
      "STOP: TOTAL NO. of ITERATIONS REACHED LIMIT.\n",
      "\n",
      "Increase the number of iterations (max_iter) or scale the data as shown in:\n",
      "    https://scikit-learn.org/stable/modules/preprocessing.html\n",
      "Please also refer to the documentation for alternative solver options:\n",
      "    https://scikit-learn.org/stable/modules/linear_model.html#logistic-regression\n",
      "  extra_warning_msg=_LOGISTIC_SOLVER_CONVERGENCE_MSG)\n"
     ]
    },
    {
     "data": {
      "image/png": "[encoded data removed]",
      "text/plain": [
       "<Figure size 432x288 with 1 Axes>"
      ]
     },
     "metadata": {
      "needs_background": "light"
     },
     "output_type": "display_data"
    },
    {
     "data": {
      "text/html": [
       "<div>\n",
       "<style scoped>\n",
       "    .dataframe tbody tr th:only-of-type {\n",
       "        vertical-align: middle;\n",
       "    }\n",
       "\n",
       "    .dataframe tbody tr th {\n",
       "        vertical-align: top;\n",
       "    }\n",
       "\n",
       "    .dataframe thead th {\n",
       "        text-align: right;\n",
       "    }\n",
       "</style>\n",
       "<table border=\"1\" class=\"dataframe\">\n",
       "  <thead>\n",
       "    <tr style=\"text-align: right;\">\n",
       "      <th></th>\n",
       "      <th>accuracy</th>\n",
       "      <th>balanced_accuracy</th>\n",
       "      <th>roc_auc</th>\n",
       "    </tr>\n",
       "  </thead>\n",
       "  <tbody>\n",
       "    <tr>\n",
       "      <th>CountVectorizer 50</th>\n",
       "      <td>0.6216</td>\n",
       "      <td>0.621558</td>\n",
       "      <td>0.668793</td>\n",
       "    </tr>\n",
       "    <tr>\n",
       "      <th>TfidfVectorizer 50</th>\n",
       "      <td>0.6230</td>\n",
       "      <td>0.622988</td>\n",
       "      <td>0.673267</td>\n",
       "    </tr>\n",
       "    <tr>\n",
       "      <th>CountVectorizer 2500 ngram 2</th>\n",
       "      <td>0.6729</td>\n",
       "      <td>0.677601</td>\n",
       "      <td>0.739642</td>\n",
       "    </tr>\n",
       "    <tr>\n",
       "      <th>TfidfVectorizer 2500 ngram 2</th>\n",
       "      <td>0.6779</td>\n",
       "      <td>0.681612</td>\n",
       "      <td>0.744797</td>\n",
       "    </tr>\n",
       "  </tbody>\n",
       "</table>\n",
       "</div>"
      ],
      "text/plain": [
       "                              accuracy  balanced_accuracy   roc_auc\n",
       "CountVectorizer 50              0.6216           0.621558  0.668793\n",
       "TfidfVectorizer 50              0.6230           0.622988  0.673267\n",
       "CountVectorizer 2500 ngram 2    0.6729           0.677601  0.739642\n",
       "TfidfVectorizer 2500 ngram 2    0.6779           0.681612  0.744797"
      ]
     },
     "execution_count": 17,
     "metadata": {},
     "output_type": "execute_result"
    }
   ],
   "source": [
    "table = []\n",
    "\n",
    "N = 50\n",
    "\n",
    "_, _, _, y_test, probs, metrics_score = conf_matrix(X, y, CountVectorizer(max_features = N), LogisticRegression(), verbose=False)\n",
    "fpr, tpr, _ = metrics.roc_curve(y_test, probs, pos_label=\"Positive\")\n",
    "plt.plot(fpr,tpr,\":\", label=f\"CountVectorizer {N}\")\n",
    "table.append(metrics_score)\n",
    "\n",
    "_, _, _, y_test, probs, metrics_score = conf_matrix(X, y, TfidfVectorizer(max_features = N), LogisticRegression(), verbose=False)\n",
    "fpr, tpr, _ = metrics.roc_curve(y_test, probs, pos_label=\"Positive\")\n",
    "plt.plot(fpr,tpr,\":\", label=f\"TfidfVectorizer {N}\")\n",
    "table.append(metrics_score)\n",
    "\n",
    "\n",
    "_, _, _, y_test, probs, metrics_score = conf_matrix(X, y, CountVectorizer(max_features = N**2, ngram_range=(2,2)), LogisticRegression(), verbose=False)\n",
    "fpr, tpr, _ = metrics.roc_curve(y_test, probs, pos_label=\"Positive\")\n",
    "plt.plot(fpr,tpr,\":\", label=f\"CountVectorizer {N**2} ngram 2\")\n",
    "table.append(metrics_score)\n",
    "\n",
    "\n",
    "_, _, _, y_test, probs, metrics_score = conf_matrix(X, y, TfidfVectorizer(max_features = N**2, ngram_range=(2,2)), LogisticRegression(), verbose=False)\n",
    "fpr, tpr, _ = metrics.roc_curve(y_test, probs, pos_label=\"Positive\")\n",
    "plt.plot(fpr,tpr,\":\", label=f\"TfidfVectorizer {N**2} ngram 2\")\n",
    "table.append(metrics_score)\n",
    "\n",
    "plt.plot([0, 1], [0, 1], \"r-\")\n",
    "plt.plot([0, 0, 1], [0, 1, 1], 'b-')\n",
    "\n",
    "plt.legend()\n",
    "plt.show()\n",
    "\n",
    "pd.DataFrame(table, index=[f\"CountVectorizer {N}\", f\"TfidfVectorizer {N}\", f\"CountVectorizer {N**2} ngram 2\", f\"TfidfVectorizer {N**2} ngram 2\"])"
   ]
  },
  {
   "cell_type": "markdown",
   "metadata": {},
   "source": [
    "# Influence du nombre de features"
   ]
  },
  {
   "cell_type": "code",
   "execution_count": 18,
   "metadata": {},
   "outputs": [
    {
     "data": {
      "text/plain": [
       "array([  100.        ,   166.81005372,   278.25594022,   464.15888336,\n",
       "         774.26368268,  1291.54966501,  2154.43469003,  3593.8136638 ,\n",
       "        5994.84250319, 10000.        ])"
      ]
     },
     "execution_count": 18,
     "metadata": {},
     "output_type": "execute_result"
    },
    {
     "data": {
      "image/png": "[encoded data removed]",
      "text/plain": [
       "<Figure size 432x288 with 1 Axes>"
      ]
     },
     "metadata": {
      "needs_background": "light"
     },
     "output_type": "display_data"
    }
   ],
   "source": [
    "N = 10\n",
    "plt.plot(np.logspace(2, 4, N, endpoint=True), np.zeros(N), 'o')\n",
    "np.logspace(2, 4, N, endpoint=True)"
   ]
  },
  {
   "cell_type": "code",
   "execution_count": 19,
   "metadata": {},
   "outputs": [
    {
     "name": "stdout",
     "output_type": "stream",
     "text": [
      "Wall time: 1min 20s\n"
     ]
    }
   ],
   "source": [
    "%%time\n",
    "N = 20\n",
    "max_features_list = np.logspace(2, 3.8, N, endpoint=True, dtype=int)   # De 10^2 à 10^3.8\n",
    "table = []\n",
    "for max_features in max_features_list:\n",
    "    _, _, _, _, _, metrics_score = conf_matrix(X, y, TfidfVectorizer(max_features = max_features), LogisticRegression(max_iter=200), verbose=False)\n",
    "    table.append(metrics_score)\n",
    "df = pd.DataFrame(table, index=max_features_list)"
   ]
  },
  {
   "cell_type": "code",
   "execution_count": 20,
   "metadata": {},
   "outputs": [
    {
     "data": {
      "text/plain": [
       "[]"
      ]
     },
     "execution_count": 20,
     "metadata": {},
     "output_type": "execute_result"
    },
    {
     "data": {
      "image/png": "[encoded data removed]",
      "text/plain": [
       "<Figure size 432x288 with 1 Axes>"
      ]
     },
     "metadata": {
      "needs_background": "light"
     },
     "output_type": "display_data"
    }
   ],
   "source": [
    "for i in df.columns:\n",
    "    df[i].plot(label=i)\n",
    "\n",
    "plt.legend()\n",
    "plt.xlabel(\"Nombre de features\")\n",
    "plt.plot()"
   ]
  }
 ],
 "metadata": {
  "kernelspec": {
   "display_name": "Python 3",
   "language": "python",
   "name": "python3"
  },
  "language_info": {
   "codemirror_mode": {
    "name": "ipython",
    "version": 3
   },
   "file_extension": ".py",
   "mimetype": "text/x-python",
   "name": "python",
   "nbconvert_exporter": "python",
   "pygments_lexer": "ipython3",
   "version": "3.6.11"
  }
 },
 "nbformat": 4,
 "nbformat_minor": 4
}
