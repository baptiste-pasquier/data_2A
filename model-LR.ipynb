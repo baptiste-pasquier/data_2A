{
 "cells": [
  {
   "cell_type": "code",
   "execution_count": 1,
   "metadata": {},
   "outputs": [],
   "source": [
    "import pandas as pd\n",
    "import numpy as np\n",
    "import seaborn as sns\n",
    "import matplotlib.pyplot as plt\n",
    "from sklearn.feature_extraction.text import CountVectorizer, TfidfVectorizer\n",
    "import re\n",
    "import sklearn\n",
    "from sklearn.preprocessing import StandardScaler\n",
    "from sklearn.model_selection import train_test_split\n",
    "from sklearn.linear_model import LogisticRegression\n",
    "from sklearn.metrics import confusion_matrix\n",
    "from sklearn import metrics\n",
    "import os\n",
    "from IPython.display import display\n",
    "import time\n",
    "from math import log\n",
    "t = time.time()"
   ]
  },
  {
   "cell_type": "markdown",
   "metadata": {},
   "source": [
    "Nous étudions dans ce notebook le modèle de **regression logistique**."
   ]
  },
  {
   "cell_type": "markdown",
   "metadata": {},
   "source": [
    "# 1. Chargement d'une base Sentiment140 préprocessée \n",
    "\n",
    "On travaille tout d'abord à pré-processing fixé."
   ]
  },
  {
   "cell_type": "code",
   "execution_count": 2,
   "metadata": {},
   "outputs": [],
   "source": [
    "NB_DATA = 200000"
   ]
  },
  {
   "cell_type": "code",
   "execution_count": 3,
   "metadata": {},
   "outputs": [],
   "source": [
    "STOP_WORDS = True\n",
    "LEMMATIZATION = True\n",
    "NEGATION = False\n",
    "file = \"train\"\n",
    "if STOP_WORDS:\n",
    "    file += \"_stop\"\n",
    "if LEMMATIZATION:\n",
    "    file += \"_lemm\"\n",
    "if NEGATION:\n",
    "    file += \"_neg\"\n",
    "df = pd.read_pickle(os.path.join(\"data\", \"sentiment140\", file + \".bz2\")).sample(NB_DATA, random_state=1234)"
   ]
  },
  {
   "cell_type": "code",
   "execution_count": 4,
   "metadata": {},
   "outputs": [
    {
     "data": {
      "text/html": [
       "<div>\n",
       "<style scoped>\n",
       "    .dataframe tbody tr th:only-of-type {\n",
       "        vertical-align: middle;\n",
       "    }\n",
       "\n",
       "    .dataframe tbody tr th {\n",
       "        vertical-align: top;\n",
       "    }\n",
       "\n",
       "    .dataframe thead th {\n",
       "        text-align: right;\n",
       "    }\n",
       "</style>\n",
       "<table border=\"1\" class=\"dataframe\">\n",
       "  <thead>\n",
       "    <tr style=\"text-align: right;\">\n",
       "      <th></th>\n",
       "      <th>sentiment</th>\n",
       "      <th>id</th>\n",
       "      <th>date</th>\n",
       "      <th>query_string</th>\n",
       "      <th>user</th>\n",
       "      <th>text</th>\n",
       "    </tr>\n",
       "  </thead>\n",
       "  <tbody>\n",
       "    <tr>\n",
       "      <th>443760</th>\n",
       "      <td>Negative</td>\n",
       "      <td>2067643150</td>\n",
       "      <td>Sun Jun 07 12:42:21 PDT 2009</td>\n",
       "      <td>NO_QUERY</td>\n",
       "      <td>alwaysasidekick</td>\n",
       "      <td>yeah everyone leave</td>\n",
       "    </tr>\n",
       "    <tr>\n",
       "      <th>1177982</th>\n",
       "      <td>Positive</td>\n",
       "      <td>1981504351</td>\n",
       "      <td>Sun May 31 09:17:33 PDT 2009</td>\n",
       "      <td>NO_QUERY</td>\n",
       "      <td>misakouroco</td>\n",
       "      <td>beautiful day love love love washington state ...</td>\n",
       "    </tr>\n",
       "    <tr>\n",
       "      <th>1163662</th>\n",
       "      <td>Positive</td>\n",
       "      <td>1979696545</td>\n",
       "      <td>Sun May 31 04:08:08 PDT 2009</td>\n",
       "      <td>NO_QUERY</td>\n",
       "      <td>julfree461</td>\n",
       "      <td>look foward first day back work watch ufc tonight</td>\n",
       "    </tr>\n",
       "    <tr>\n",
       "      <th>933642</th>\n",
       "      <td>Positive</td>\n",
       "      <td>1792004569</td>\n",
       "      <td>Wed May 13 21:48:36 PDT 2009</td>\n",
       "      <td>NO_QUERY</td>\n",
       "      <td>laura_wtcc</td>\n",
       "      <td>go bed night</td>\n",
       "    </tr>\n",
       "    <tr>\n",
       "      <th>1538716</th>\n",
       "      <td>Positive</td>\n",
       "      <td>2179949435</td>\n",
       "      <td>Mon Jun 15 09:48:19 PDT 2009</td>\n",
       "      <td>NO_QUERY</td>\n",
       "      <td>lynnnein</td>\n",
       "      <td>flylady finish closet hot pull anything today ...</td>\n",
       "    </tr>\n",
       "    <tr>\n",
       "      <th>855941</th>\n",
       "      <td>Positive</td>\n",
       "      <td>1573666658</td>\n",
       "      <td>Tue Apr 21 02:15:45 PDT 2009</td>\n",
       "      <td>NO_QUERY</td>\n",
       "      <td>jessikasolomon</td>\n",
       "      <td>good work go breakfast balcony</td>\n",
       "    </tr>\n",
       "    <tr>\n",
       "      <th>275551</th>\n",
       "      <td>Negative</td>\n",
       "      <td>1990835470</td>\n",
       "      <td>Mon Jun 01 05:51:08 PDT 2009</td>\n",
       "      <td>NO_QUERY</td>\n",
       "      <td>tweetermestupid</td>\n",
       "      <td>homework sigh hate tredtri professor</td>\n",
       "    </tr>\n",
       "    <tr>\n",
       "      <th>850269</th>\n",
       "      <td>Positive</td>\n",
       "      <td>1565396135</td>\n",
       "      <td>Mon Apr 20 06:39:22 PDT 2009</td>\n",
       "      <td>NO_QUERY</td>\n",
       "      <td>roxipid</td>\n",
       "      <td>healthy eat remember</td>\n",
       "    </tr>\n",
       "    <tr>\n",
       "      <th>1022805</th>\n",
       "      <td>Positive</td>\n",
       "      <td>1882874195</td>\n",
       "      <td>Fri May 22 07:37:58 PDT 2009</td>\n",
       "      <td>NO_QUERY</td>\n",
       "      <td>FelipeAzucares</td>\n",
       "      <td>would even impressed book capable ascertain so...</td>\n",
       "    </tr>\n",
       "    <tr>\n",
       "      <th>289349</th>\n",
       "      <td>Negative</td>\n",
       "      <td>1994988374</td>\n",
       "      <td>Mon Jun 01 12:46:27 PDT 2009</td>\n",
       "      <td>NO_QUERY</td>\n",
       "      <td>amberama</td>\n",
       "      <td>take general donation ticket colts vs patriot ...</td>\n",
       "    </tr>\n",
       "  </tbody>\n",
       "</table>\n",
       "</div>"
      ],
      "text/plain": [
       "        sentiment          id                          date query_string  \\\n",
       "443760   Negative  2067643150  Sun Jun 07 12:42:21 PDT 2009     NO_QUERY   \n",
       "1177982  Positive  1981504351  Sun May 31 09:17:33 PDT 2009     NO_QUERY   \n",
       "1163662  Positive  1979696545  Sun May 31 04:08:08 PDT 2009     NO_QUERY   \n",
       "933642   Positive  1792004569  Wed May 13 21:48:36 PDT 2009     NO_QUERY   \n",
       "1538716  Positive  2179949435  Mon Jun 15 09:48:19 PDT 2009     NO_QUERY   \n",
       "855941   Positive  1573666658  Tue Apr 21 02:15:45 PDT 2009     NO_QUERY   \n",
       "275551   Negative  1990835470  Mon Jun 01 05:51:08 PDT 2009     NO_QUERY   \n",
       "850269   Positive  1565396135  Mon Apr 20 06:39:22 PDT 2009     NO_QUERY   \n",
       "1022805  Positive  1882874195  Fri May 22 07:37:58 PDT 2009     NO_QUERY   \n",
       "289349   Negative  1994988374  Mon Jun 01 12:46:27 PDT 2009     NO_QUERY   \n",
       "\n",
       "                    user                                               text  \n",
       "443760   alwaysasidekick                                yeah everyone leave  \n",
       "1177982      misakouroco  beautiful day love love love washington state ...  \n",
       "1163662       julfree461  look foward first day back work watch ufc tonight  \n",
       "933642        laura_wtcc                                       go bed night  \n",
       "1538716         lynnnein  flylady finish closet hot pull anything today ...  \n",
       "855941    jessikasolomon                     good work go breakfast balcony  \n",
       "275551   tweetermestupid               homework sigh hate tredtri professor  \n",
       "850269           roxipid                               healthy eat remember  \n",
       "1022805   FelipeAzucares  would even impressed book capable ascertain so...  \n",
       "289349          amberama  take general donation ticket colts vs patriot ...  "
      ]
     },
     "execution_count": 4,
     "metadata": {},
     "output_type": "execute_result"
    }
   ],
   "source": [
    "df.head(10)"
   ]
  },
  {
   "cell_type": "code",
   "execution_count": 5,
   "metadata": {},
   "outputs": [],
   "source": [
    "X = df.text.to_list()\n",
    "y = df.sentiment.to_list()"
   ]
  },
  {
   "cell_type": "markdown",
   "metadata": {},
   "source": [
    "Calculons le nombres de mots :"
   ]
  },
  {
   "cell_type": "code",
   "execution_count": 6,
   "metadata": {},
   "outputs": [
    {
     "data": {
      "text/plain": [
       "70614"
      ]
     },
     "execution_count": 6,
     "metadata": {},
     "output_type": "execute_result"
    }
   ],
   "source": [
    "nb_max_words = len(CountVectorizer().fit(X).get_feature_names())\n",
    "nb_max_words"
   ]
  },
  {
   "cell_type": "markdown",
   "metadata": {},
   "source": [
    "# 2. Différentes méthodes de feature extraction\n",
    "## 2.1. Count Vectorizer\n",
    "### 2.1.1. Exemple"
   ]
  },
  {
   "cell_type": "code",
   "execution_count": 7,
   "metadata": {},
   "outputs": [
    {
     "data": {
      "text/plain": [
       "['by', 'car', 'cleaned', 'hello', 'jack', 'was']"
      ]
     },
     "execution_count": 7,
     "metadata": {},
     "output_type": "execute_result"
    }
   ],
   "source": [
    "array = [\"Car was cleaned by Jack\", \n",
    "         \"Jack was cleaned by Car\", \n",
    "         \"Hello\"]\n",
    "vectorizer = CountVectorizer()\n",
    "X_ = vectorizer.fit_transform(array)\n",
    "vectorizer.get_feature_names()"
   ]
  },
  {
   "cell_type": "markdown",
   "metadata": {},
   "source": [
    "L'encodage de la table `array` par la méthode **Count Vectorizer** est : "
   ]
  },
  {
   "cell_type": "code",
   "execution_count": 8,
   "metadata": {},
   "outputs": [
    {
     "name": "stdout",
     "output_type": "stream",
     "text": [
      "[[1 1 1 0 1 1]\n",
      " [1 1 1 0 1 1]\n",
      " [0 0 0 1 0 0]]\n"
     ]
    }
   ],
   "source": [
    "print(X_.toarray())"
   ]
  },
  {
   "cell_type": "markdown",
   "metadata": {},
   "source": [
    "### 2.1.2. Application de la regression logistique"
   ]
  },
  {
   "cell_type": "code",
   "execution_count": 9,
   "metadata": {},
   "outputs": [],
   "source": [
    "def conf_matrix(X, y, vectorizer, model, verbose=True):\n",
    "    X = vectorizer.fit_transform(X)\n",
    "    X_train, X_test, y_train, y_test = train_test_split(StandardScaler(with_mean=False).fit_transform(X), y, train_size=0.80, random_state=1234)\n",
    "\n",
    "    model.fit(X_train, y_train)\n",
    "    y_pred = model.predict(X_test)\n",
    "\n",
    "    sc_accuracy = metrics.accuracy_score(y_pred, y_test)    \n",
    "    sc_balanced_accuracy = metrics.balanced_accuracy_score(y_pred, y_test)\n",
    "    sc_f1 = metrics.f1_score(y_pred, y_test, pos_label=\"Positive\")\n",
    "    sc_recall = metrics.recall_score(y_pred, y_test, pos_label=\"Positive\")\n",
    "    sc_precision = metrics.precision_score(y_pred, y_test, pos_label=\"Positive\")\n",
    "    sc_roc_auc = metrics.roc_auc_score(y_test, model.predict_proba(X_test)[:, 1])\n",
    "    probs = model.predict_proba(X_test)[:, 1]\n",
    "\n",
    "    if verbose:\n",
    "        metrics.plot_confusion_matrix(model, X_test, y_test)\n",
    "        plt.show()\n",
    "\n",
    "        print(f\"Accuracy : {sc_accuracy:.4f}\")\n",
    "        print(f\"Balanced accuracy : {sc_balanced_accuracy:.4f}\")\n",
    "    #     print(f\"Recall : {sc_recall}\")\n",
    "    #     print(f\"Precision : {sc_precision}\")\n",
    "    #     print(f\"F1 : {sc_f1}\")\n",
    "        print(f\"ROC AUC : {sc_roc_auc:.4f}\")\n",
    "\n",
    "    metrics_score = {'accuracy': sc_accuracy, 'balanced_accuracy': sc_balanced_accuracy, 'roc_auc': sc_roc_auc}\n",
    "\n",
    "    if not verbose:\n",
    "        return X_train, X_test, y_train, y_test, probs, metrics_score  "
   ]
  },
  {
   "cell_type": "code",
   "execution_count": 10,
   "metadata": {},
   "outputs": [
    {
     "data": {
      "image/png": "[encoded data removed]",
      "text/plain": [
       "<Figure size 432x288 with 2 Axes>"
      ]
     },
     "metadata": {
      "needs_background": "light"
     },
     "output_type": "display_data"
    },
    {
     "name": "stdout",
     "output_type": "stream",
     "text": [
      "Accuracy : 0.7607\n",
      "Balanced accuracy : 0.7618\n",
      "ROC AUC : 0.8353\n",
      "Wall time: 3.05 s\n"
     ]
    }
   ],
   "source": [
    "%%time\n",
    "conf_matrix(X, y, CountVectorizer(max_features=1000), LogisticRegression())"
   ]
  },
  {
   "cell_type": "code",
   "execution_count": 11,
   "metadata": {},
   "outputs": [
    {
     "data": {
      "image/png": "[encoded data removed]",
      "text/plain": [
       "<Figure size 432x288 with 2 Axes>"
      ]
     },
     "metadata": {
      "needs_background": "light"
     },
     "output_type": "display_data"
    },
    {
     "name": "stdout",
     "output_type": "stream",
     "text": [
      "Accuracy : 0.7334\n",
      "Balanced accuracy : 0.7335\n",
      "ROC AUC : 0.7647\n",
      "Wall time: 16.8 s\n"
     ]
    }
   ],
   "source": [
    "%%time\n",
    "conf_matrix(X, y, CountVectorizer(), LogisticRegression(max_iter=1000))"
   ]
  },
  {
   "cell_type": "markdown",
   "metadata": {},
   "source": [
    "## 2.2. TF-IDF\n",
    "### 2.2.1. Exemple"
   ]
  },
  {
   "cell_type": "code",
   "execution_count": 12,
   "metadata": {},
   "outputs": [
    {
     "data": {
      "text/plain": [
       "['blue', 'by', 'car', 'cleaned', 'hello', 'jack', 'red', 'was']"
      ]
     },
     "execution_count": 12,
     "metadata": {},
     "output_type": "execute_result"
    }
   ],
   "source": [
    "array = [\"Blue car was cleaned by Jack\", \n",
    "         \"Jack was cleaned by red car\", \n",
    "         \"Hello\"]\n",
    "vectorizer = TfidfVectorizer()\n",
    "X_ = vectorizer.fit_transform(array)\n",
    "vectorizer.get_feature_names()"
   ]
  },
  {
   "cell_type": "markdown",
   "metadata": {},
   "source": [
    "L'encodage de la table `array` par la méthode **TD-IDF** est : "
   ]
  },
  {
   "cell_type": "code",
   "execution_count": 13,
   "metadata": {},
   "outputs": [
    {
     "name": "stdout",
     "output_type": "stream",
     "text": [
      "[[0.50689001 0.38550292 0.38550292 0.38550292 0.         0.38550292\n",
      "  0.         0.38550292]\n",
      " [0.         0.38550292 0.38550292 0.38550292 0.         0.38550292\n",
      "  0.50689001 0.38550292]\n",
      " [0.         0.         0.         0.         1.         0.\n",
      "  0.         0.        ]]\n"
     ]
    }
   ],
   "source": [
    "print(X_.toarray())"
   ]
  },
  {
   "cell_type": "markdown",
   "metadata": {},
   "source": [
    "### 2.2.2. Application de la regression logistique"
   ]
  },
  {
   "cell_type": "code",
   "execution_count": 14,
   "metadata": {},
   "outputs": [
    {
     "data": {
      "image/png": "[encoded data removed]",
      "text/plain": [
       "<Figure size 432x288 with 2 Axes>"
      ]
     },
     "metadata": {
      "needs_background": "light"
     },
     "output_type": "display_data"
    },
    {
     "name": "stdout",
     "output_type": "stream",
     "text": [
      "Accuracy : 0.7602\n",
      "Balanced accuracy : 0.7608\n",
      "ROC AUC : 0.8401\n",
      "Wall time: 3.03 s\n"
     ]
    }
   ],
   "source": [
    "%%time\n",
    "conf_matrix(X, y, TfidfVectorizer(max_features=1000), LogisticRegression())"
   ]
  },
  {
   "cell_type": "code",
   "execution_count": 15,
   "metadata": {},
   "outputs": [
    {
     "data": {
      "image/png": "[encoded data removed]",
      "text/plain": [
       "<Figure size 432x288 with 2 Axes>"
      ]
     },
     "metadata": {
      "needs_background": "light"
     },
     "output_type": "display_data"
    },
    {
     "name": "stdout",
     "output_type": "stream",
     "text": [
      "Accuracy : 0.7288\n",
      "Balanced accuracy : 0.7289\n",
      "ROC AUC : 0.7650\n",
      "Wall time: 14.9 s\n"
     ]
    }
   ],
   "source": [
    "%%time\n",
    "conf_matrix(X, y, TfidfVectorizer(), LogisticRegression(max_iter=1000))"
   ]
  },
  {
   "cell_type": "markdown",
   "metadata": {},
   "source": [
    "## 2.3. N-grams\n",
    "\n",
    "La méthode N-grams peut-être utilisé sur les méthodes **Count Vectorizer** et **TD-IDF**.\n",
    "\n",
    "### 2.3.1. Exemple"
   ]
  },
  {
   "cell_type": "code",
   "execution_count": 16,
   "metadata": {},
   "outputs": [
    {
     "data": {
      "text/plain": [
       "['blue',\n",
       " 'blue car',\n",
       " 'by',\n",
       " 'by jack',\n",
       " 'by red',\n",
       " 'car',\n",
       " 'car was',\n",
       " 'cleaned',\n",
       " 'cleaned by',\n",
       " 'hello',\n",
       " 'jack',\n",
       " 'jack was',\n",
       " 'red',\n",
       " 'red car',\n",
       " 'was',\n",
       " 'was cleaned']"
      ]
     },
     "execution_count": 16,
     "metadata": {},
     "output_type": "execute_result"
    }
   ],
   "source": [
    "arr = [\"Blue car was cleaned by Jack\", \"Jack was cleaned by red car\", \"Hello\"]\n",
    "vectorizer = CountVectorizer(ngram_range=(1, 2))\n",
    "X_ = vectorizer.fit_transform(arr)\n",
    "vectorizer.get_feature_names()"
   ]
  },
  {
   "cell_type": "markdown",
   "metadata": {},
   "source": [
    "L'encodage de la table `array` par les méthodes **Count Vectorizer et N-grams** est : "
   ]
  },
  {
   "cell_type": "code",
   "execution_count": 17,
   "metadata": {},
   "outputs": [
    {
     "name": "stdout",
     "output_type": "stream",
     "text": [
      "[[1 1 1 1 0 1 1 1 1 0 1 0 0 0 1 1]\n",
      " [0 0 1 0 1 1 0 1 1 0 1 1 1 1 1 1]\n",
      " [0 0 0 0 0 0 0 0 0 1 0 0 0 0 0 0]]\n"
     ]
    }
   ],
   "source": [
    "print(X_.toarray())"
   ]
  },
  {
   "cell_type": "code",
   "execution_count": 18,
   "metadata": {},
   "outputs": [
    {
     "data": {
      "text/plain": [
       "729748"
      ]
     },
     "execution_count": 18,
     "metadata": {},
     "output_type": "execute_result"
    }
   ],
   "source": [
    "nb_max_ngrams = len(CountVectorizer(ngram_range=(1, 2)).fit(X).get_feature_names())\n",
    "nb_max_ngrams"
   ]
  },
  {
   "cell_type": "markdown",
   "metadata": {},
   "source": [
    "### 2.3.2. Application de la regression logistique"
   ]
  },
  {
   "cell_type": "code",
   "execution_count": 19,
   "metadata": {},
   "outputs": [
    {
     "data": {
      "image/png": "[encoded data removed]",
      "text/plain": [
       "<Figure size 432x288 with 2 Axes>"
      ]
     },
     "metadata": {
      "needs_background": "light"
     },
     "output_type": "display_data"
    },
    {
     "name": "stdout",
     "output_type": "stream",
     "text": [
      "Accuracy : 0.7632\n",
      "Balanced accuracy : 0.7646\n",
      "ROC AUC : 0.8393\n",
      "Wall time: 7.32 s\n"
     ]
    }
   ],
   "source": [
    "%%time\n",
    "conf_matrix(X, y, CountVectorizer(max_features=1000, ngram_range=(1, 2)), LogisticRegression(max_iter=200))"
   ]
  },
  {
   "cell_type": "code",
   "execution_count": 20,
   "metadata": {},
   "outputs": [
    {
     "data": {
      "image/png": "[encoded data removed]",
      "text/plain": [
       "<Figure size 432x288 with 2 Axes>"
      ]
     },
     "metadata": {
      "needs_background": "light"
     },
     "output_type": "display_data"
    },
    {
     "name": "stdout",
     "output_type": "stream",
     "text": [
      "Accuracy : 0.7632\n",
      "Balanced accuracy : 0.7639\n",
      "ROC AUC : 0.8436\n",
      "Wall time: 7.06 s\n"
     ]
    }
   ],
   "source": [
    "%%time\n",
    "conf_matrix(X, y, TfidfVectorizer(max_features=1000, ngram_range=(1, 2)), LogisticRegression(max_iter=200))"
   ]
  },
  {
   "cell_type": "markdown",
   "metadata": {},
   "source": [
    "# 3. Comparaisons des méthodes de feature extraction\n",
    "\n",
    "L'objectif est de comparer les 3 méthodes de feature extraction **Count Vectorizer**, **TD-IDF** et **N-grams**, en faisant ensuite varier la méthode de pré-processing et le nombre de features.\n",
    "Nous pourrons alors en déduire la combinaison optimale pour la **regression logistique**.\n",
    "\n",
    "## 3.1. Comparaison des méthodes de feature extraction à pré-processing fixé et avec un nombre de features fixé\n",
    "\n",
    "On compare les méthodes de feature extraction à pré-processing fixé et avec un nombre de features fixé pour l'instant."
   ]
  },
  {
   "cell_type": "code",
   "execution_count": 21,
   "metadata": {},
   "outputs": [],
   "source": [
    "def comparaison(X, y, N, show_graph=True):\n",
    "    \"\"\"\n",
    "    N correspond au nombre de features\n",
    "    \"\"\"\n",
    "    table = []\n",
    "\n",
    "    _, _, _, y_test, probs, metrics_score = conf_matrix(X, y, CountVectorizer(max_features = N), LogisticRegression(max_iter=200), verbose=False)\n",
    "    fpr, tpr, _ = metrics.roc_curve(y_test, probs, pos_label=\"Positive\")\n",
    "    if show_graph: plt.plot(fpr, tpr, label=f\"CountVectorizer {N}\")\n",
    "    table.append(metrics_score)\n",
    "\n",
    "    _, _, _, y_test, probs, metrics_score = conf_matrix(X, y, TfidfVectorizer(max_features = N), LogisticRegression(max_iter=200), verbose=False)\n",
    "    fpr, tpr, _ = metrics.roc_curve(y_test, probs, pos_label=\"Positive\")\n",
    "    if show_graph: plt.plot(fpr, tpr, label=f\"TfidfVectorizer {N}\")\n",
    "    table.append(metrics_score)\n",
    "\n",
    "    _, _, _, y_test, probs, metrics_score = conf_matrix(X, y, CountVectorizer(max_features = N, ngram_range=(1,2)), LogisticRegression(max_iter=200), verbose=False)\n",
    "    fpr, tpr, _ = metrics.roc_curve(y_test, probs, pos_label=\"Positive\")\n",
    "    if show_graph: plt.plot(fpr, tpr, label=f\"CountVectorizer {N} ngram 2\")\n",
    "    table.append(metrics_score)\n",
    "\n",
    "    _, _, _, y_test, probs, metrics_score = conf_matrix(X, y, TfidfVectorizer(max_features = N, ngram_range=(1,2)), LogisticRegression(max_iter=200), verbose=False)\n",
    "    fpr, tpr, _ = metrics.roc_curve(y_test, probs, pos_label=\"Positive\")\n",
    "    if show_graph: plt.plot(fpr, tpr, label=f\"TfidfVectorizer {N} ngram 2\")\n",
    "    table.append(metrics_score)\n",
    "    \n",
    "    if show_graph:\n",
    "        plt.plot([0, 1], [0, 1], \"r-\")\n",
    "        plt.plot([0, 0, 1], [0, 1, 1], 'b-')\n",
    "        plt.legend()\n",
    "        plt.show()\n",
    "    \n",
    "    df = pd.DataFrame(table, index=[f\"CountVectorizer {N}\", f\"TfidfVectorizer {N}\", f\"CountVectorizer {N} ngram 2\", f\"TfidfVectorizer {N} ngram 2\"])\n",
    "    \n",
    "    return df"
   ]
  },
  {
   "cell_type": "code",
   "execution_count": 22,
   "metadata": {},
   "outputs": [
    {
     "data": {
      "image/png": "[encoded data removed]",
      "text/plain": [
       "<Figure size 432x288 with 1 Axes>"
      ]
     },
     "metadata": {
      "needs_background": "light"
     },
     "output_type": "display_data"
    },
    {
     "name": "stdout",
     "output_type": "stream",
     "text": [
      "Wall time: 19.4 s\n"
     ]
    },
    {
     "data": {
      "text/html": [
       "<div>\n",
       "<style scoped>\n",
       "    .dataframe tbody tr th:only-of-type {\n",
       "        vertical-align: middle;\n",
       "    }\n",
       "\n",
       "    .dataframe tbody tr th {\n",
       "        vertical-align: top;\n",
       "    }\n",
       "\n",
       "    .dataframe thead th {\n",
       "        text-align: right;\n",
       "    }\n",
       "</style>\n",
       "<table border=\"1\" class=\"dataframe\">\n",
       "  <thead>\n",
       "    <tr style=\"text-align: right;\">\n",
       "      <th></th>\n",
       "      <th>accuracy</th>\n",
       "      <th>balanced_accuracy</th>\n",
       "      <th>roc_auc</th>\n",
       "    </tr>\n",
       "  </thead>\n",
       "  <tbody>\n",
       "    <tr>\n",
       "      <th>CountVectorizer 1000</th>\n",
       "      <td>0.760650</td>\n",
       "      <td>0.761790</td>\n",
       "      <td>0.835289</td>\n",
       "    </tr>\n",
       "    <tr>\n",
       "      <th>TfidfVectorizer 1000</th>\n",
       "      <td>0.760200</td>\n",
       "      <td>0.760826</td>\n",
       "      <td>0.840073</td>\n",
       "    </tr>\n",
       "    <tr>\n",
       "      <th>CountVectorizer 1000 ngram 2</th>\n",
       "      <td>0.763175</td>\n",
       "      <td>0.764593</td>\n",
       "      <td>0.839320</td>\n",
       "    </tr>\n",
       "    <tr>\n",
       "      <th>TfidfVectorizer 1000 ngram 2</th>\n",
       "      <td>0.763250</td>\n",
       "      <td>0.763901</td>\n",
       "      <td>0.843614</td>\n",
       "    </tr>\n",
       "  </tbody>\n",
       "</table>\n",
       "</div>"
      ],
      "text/plain": [
       "                              accuracy  balanced_accuracy   roc_auc\n",
       "CountVectorizer 1000          0.760650           0.761790  0.835289\n",
       "TfidfVectorizer 1000          0.760200           0.760826  0.840073\n",
       "CountVectorizer 1000 ngram 2  0.763175           0.764593  0.839320\n",
       "TfidfVectorizer 1000 ngram 2  0.763250           0.763901  0.843614"
      ]
     },
     "execution_count": 22,
     "metadata": {},
     "output_type": "execute_result"
    }
   ],
   "source": [
    "%%time\n",
    "comparaison(X, y, 1000)"
   ]
  },
  {
   "cell_type": "markdown",
   "metadata": {},
   "source": [
    "**Conclusion :** Les modèle de feature extraction ont les mêmes performances (pour la méthode de pré-processing fixée et le nombre de features fixé).\n",
    "L'apport de ngram semble donc être nul (seul les groupes de mots contenant un seul mot sont utiles)."
   ]
  },
  {
   "cell_type": "markdown",
   "metadata": {},
   "source": [
    "## 3.2. Influence des méthodes de pré-processing\n",
    "Nous faisons à présent varier les méthodes de pré-processing :"
   ]
  },
  {
   "cell_type": "code",
   "execution_count": 23,
   "metadata": {},
   "outputs": [
    {
     "name": "stdout",
     "output_type": "stream",
     "text": [
      "stop_words: False, lemmatization: False, negation: False\n"
     ]
    },
    {
     "data": {
      "text/html": [
       "<div>\n",
       "<style scoped>\n",
       "    .dataframe tbody tr th:only-of-type {\n",
       "        vertical-align: middle;\n",
       "    }\n",
       "\n",
       "    .dataframe tbody tr th {\n",
       "        vertical-align: top;\n",
       "    }\n",
       "\n",
       "    .dataframe thead th {\n",
       "        text-align: right;\n",
       "    }\n",
       "</style>\n",
       "<table border=\"1\" class=\"dataframe\">\n",
       "  <thead>\n",
       "    <tr style=\"text-align: right;\">\n",
       "      <th></th>\n",
       "      <th>accuracy</th>\n",
       "      <th>balanced_accuracy</th>\n",
       "      <th>roc_auc</th>\n",
       "    </tr>\n",
       "  </thead>\n",
       "  <tbody>\n",
       "    <tr>\n",
       "      <th>CountVectorizer 1000</th>\n",
       "      <td>0.765325</td>\n",
       "      <td>0.766135</td>\n",
       "      <td>0.837963</td>\n",
       "    </tr>\n",
       "    <tr>\n",
       "      <th>TfidfVectorizer 1000</th>\n",
       "      <td>0.765325</td>\n",
       "      <td>0.765497</td>\n",
       "      <td>0.844891</td>\n",
       "    </tr>\n",
       "    <tr>\n",
       "      <th>CountVectorizer 1000 ngram 2</th>\n",
       "      <td>0.758625</td>\n",
       "      <td>0.759442</td>\n",
       "      <td>0.835099</td>\n",
       "    </tr>\n",
       "    <tr>\n",
       "      <th>TfidfVectorizer 1000 ngram 2</th>\n",
       "      <td>0.759400</td>\n",
       "      <td>0.759556</td>\n",
       "      <td>0.841572</td>\n",
       "    </tr>\n",
       "  </tbody>\n",
       "</table>\n",
       "</div>"
      ],
      "text/plain": [
       "                              accuracy  balanced_accuracy   roc_auc\n",
       "CountVectorizer 1000          0.765325           0.766135  0.837963\n",
       "TfidfVectorizer 1000          0.765325           0.765497  0.844891\n",
       "CountVectorizer 1000 ngram 2  0.758625           0.759442  0.835099\n",
       "TfidfVectorizer 1000 ngram 2  0.759400           0.759556  0.841572"
      ]
     },
     "metadata": {},
     "output_type": "display_data"
    },
    {
     "name": "stdout",
     "output_type": "stream",
     "text": [
      "stop_words: False, lemmatization: False, negation: True\n"
     ]
    },
    {
     "data": {
      "text/html": [
       "<div>\n",
       "<style scoped>\n",
       "    .dataframe tbody tr th:only-of-type {\n",
       "        vertical-align: middle;\n",
       "    }\n",
       "\n",
       "    .dataframe tbody tr th {\n",
       "        vertical-align: top;\n",
       "    }\n",
       "\n",
       "    .dataframe thead th {\n",
       "        text-align: right;\n",
       "    }\n",
       "</style>\n",
       "<table border=\"1\" class=\"dataframe\">\n",
       "  <thead>\n",
       "    <tr style=\"text-align: right;\">\n",
       "      <th></th>\n",
       "      <th>accuracy</th>\n",
       "      <th>balanced_accuracy</th>\n",
       "      <th>roc_auc</th>\n",
       "    </tr>\n",
       "  </thead>\n",
       "  <tbody>\n",
       "    <tr>\n",
       "      <th>CountVectorizer 1000</th>\n",
       "      <td>0.759550</td>\n",
       "      <td>0.760437</td>\n",
       "      <td>0.836120</td>\n",
       "    </tr>\n",
       "    <tr>\n",
       "      <th>TfidfVectorizer 1000</th>\n",
       "      <td>0.760500</td>\n",
       "      <td>0.760734</td>\n",
       "      <td>0.842746</td>\n",
       "    </tr>\n",
       "    <tr>\n",
       "      <th>CountVectorizer 1000 ngram 2</th>\n",
       "      <td>0.753375</td>\n",
       "      <td>0.753991</td>\n",
       "      <td>0.830489</td>\n",
       "    </tr>\n",
       "    <tr>\n",
       "      <th>TfidfVectorizer 1000 ngram 2</th>\n",
       "      <td>0.754075</td>\n",
       "      <td>0.754234</td>\n",
       "      <td>0.836038</td>\n",
       "    </tr>\n",
       "  </tbody>\n",
       "</table>\n",
       "</div>"
      ],
      "text/plain": [
       "                              accuracy  balanced_accuracy   roc_auc\n",
       "CountVectorizer 1000          0.759550           0.760437  0.836120\n",
       "TfidfVectorizer 1000          0.760500           0.760734  0.842746\n",
       "CountVectorizer 1000 ngram 2  0.753375           0.753991  0.830489\n",
       "TfidfVectorizer 1000 ngram 2  0.754075           0.754234  0.836038"
      ]
     },
     "metadata": {},
     "output_type": "display_data"
    },
    {
     "name": "stdout",
     "output_type": "stream",
     "text": [
      "stop_words: False, lemmatization: True, negation: False\n"
     ]
    },
    {
     "data": {
      "text/html": [
       "<div>\n",
       "<style scoped>\n",
       "    .dataframe tbody tr th:only-of-type {\n",
       "        vertical-align: middle;\n",
       "    }\n",
       "\n",
       "    .dataframe tbody tr th {\n",
       "        vertical-align: top;\n",
       "    }\n",
       "\n",
       "    .dataframe thead th {\n",
       "        text-align: right;\n",
       "    }\n",
       "</style>\n",
       "<table border=\"1\" class=\"dataframe\">\n",
       "  <thead>\n",
       "    <tr style=\"text-align: right;\">\n",
       "      <th></th>\n",
       "      <th>accuracy</th>\n",
       "      <th>balanced_accuracy</th>\n",
       "      <th>roc_auc</th>\n",
       "    </tr>\n",
       "  </thead>\n",
       "  <tbody>\n",
       "    <tr>\n",
       "      <th>CountVectorizer 1000</th>\n",
       "      <td>0.766250</td>\n",
       "      <td>0.766920</td>\n",
       "      <td>0.839607</td>\n",
       "    </tr>\n",
       "    <tr>\n",
       "      <th>TfidfVectorizer 1000</th>\n",
       "      <td>0.767575</td>\n",
       "      <td>0.767713</td>\n",
       "      <td>0.846695</td>\n",
       "    </tr>\n",
       "    <tr>\n",
       "      <th>CountVectorizer 1000 ngram 2</th>\n",
       "      <td>0.762275</td>\n",
       "      <td>0.763094</td>\n",
       "      <td>0.837632</td>\n",
       "    </tr>\n",
       "    <tr>\n",
       "      <th>TfidfVectorizer 1000 ngram 2</th>\n",
       "      <td>0.764100</td>\n",
       "      <td>0.764249</td>\n",
       "      <td>0.844243</td>\n",
       "    </tr>\n",
       "  </tbody>\n",
       "</table>\n",
       "</div>"
      ],
      "text/plain": [
       "                              accuracy  balanced_accuracy   roc_auc\n",
       "CountVectorizer 1000          0.766250           0.766920  0.839607\n",
       "TfidfVectorizer 1000          0.767575           0.767713  0.846695\n",
       "CountVectorizer 1000 ngram 2  0.762275           0.763094  0.837632\n",
       "TfidfVectorizer 1000 ngram 2  0.764100           0.764249  0.844243"
      ]
     },
     "metadata": {},
     "output_type": "display_data"
    },
    {
     "name": "stdout",
     "output_type": "stream",
     "text": [
      "stop_words: False, lemmatization: True, negation: True\n"
     ]
    },
    {
     "data": {
      "text/html": [
       "<div>\n",
       "<style scoped>\n",
       "    .dataframe tbody tr th:only-of-type {\n",
       "        vertical-align: middle;\n",
       "    }\n",
       "\n",
       "    .dataframe tbody tr th {\n",
       "        vertical-align: top;\n",
       "    }\n",
       "\n",
       "    .dataframe thead th {\n",
       "        text-align: right;\n",
       "    }\n",
       "</style>\n",
       "<table border=\"1\" class=\"dataframe\">\n",
       "  <thead>\n",
       "    <tr style=\"text-align: right;\">\n",
       "      <th></th>\n",
       "      <th>accuracy</th>\n",
       "      <th>balanced_accuracy</th>\n",
       "      <th>roc_auc</th>\n",
       "    </tr>\n",
       "  </thead>\n",
       "  <tbody>\n",
       "    <tr>\n",
       "      <th>CountVectorizer 1000</th>\n",
       "      <td>0.763875</td>\n",
       "      <td>0.764831</td>\n",
       "      <td>0.839554</td>\n",
       "    </tr>\n",
       "    <tr>\n",
       "      <th>TfidfVectorizer 1000</th>\n",
       "      <td>0.764775</td>\n",
       "      <td>0.765059</td>\n",
       "      <td>0.846524</td>\n",
       "    </tr>\n",
       "    <tr>\n",
       "      <th>CountVectorizer 1000 ngram 2</th>\n",
       "      <td>0.755875</td>\n",
       "      <td>0.756702</td>\n",
       "      <td>0.833174</td>\n",
       "    </tr>\n",
       "    <tr>\n",
       "      <th>TfidfVectorizer 1000 ngram 2</th>\n",
       "      <td>0.757200</td>\n",
       "      <td>0.757386</td>\n",
       "      <td>0.839047</td>\n",
       "    </tr>\n",
       "  </tbody>\n",
       "</table>\n",
       "</div>"
      ],
      "text/plain": [
       "                              accuracy  balanced_accuracy   roc_auc\n",
       "CountVectorizer 1000          0.763875           0.764831  0.839554\n",
       "TfidfVectorizer 1000          0.764775           0.765059  0.846524\n",
       "CountVectorizer 1000 ngram 2  0.755875           0.756702  0.833174\n",
       "TfidfVectorizer 1000 ngram 2  0.757200           0.757386  0.839047"
      ]
     },
     "metadata": {},
     "output_type": "display_data"
    },
    {
     "name": "stdout",
     "output_type": "stream",
     "text": [
      "stop_words: True, lemmatization: False, negation: False\n"
     ]
    },
    {
     "data": {
      "text/html": [
       "<div>\n",
       "<style scoped>\n",
       "    .dataframe tbody tr th:only-of-type {\n",
       "        vertical-align: middle;\n",
       "    }\n",
       "\n",
       "    .dataframe tbody tr th {\n",
       "        vertical-align: top;\n",
       "    }\n",
       "\n",
       "    .dataframe thead th {\n",
       "        text-align: right;\n",
       "    }\n",
       "</style>\n",
       "<table border=\"1\" class=\"dataframe\">\n",
       "  <thead>\n",
       "    <tr style=\"text-align: right;\">\n",
       "      <th></th>\n",
       "      <th>accuracy</th>\n",
       "      <th>balanced_accuracy</th>\n",
       "      <th>roc_auc</th>\n",
       "    </tr>\n",
       "  </thead>\n",
       "  <tbody>\n",
       "    <tr>\n",
       "      <th>CountVectorizer 1000</th>\n",
       "      <td>0.757750</td>\n",
       "      <td>0.759093</td>\n",
       "      <td>0.832602</td>\n",
       "    </tr>\n",
       "    <tr>\n",
       "      <th>TfidfVectorizer 1000</th>\n",
       "      <td>0.757700</td>\n",
       "      <td>0.758448</td>\n",
       "      <td>0.837206</td>\n",
       "    </tr>\n",
       "    <tr>\n",
       "      <th>CountVectorizer 1000 ngram 2</th>\n",
       "      <td>0.757025</td>\n",
       "      <td>0.758687</td>\n",
       "      <td>0.835099</td>\n",
       "    </tr>\n",
       "    <tr>\n",
       "      <th>TfidfVectorizer 1000 ngram 2</th>\n",
       "      <td>0.757275</td>\n",
       "      <td>0.758095</td>\n",
       "      <td>0.839001</td>\n",
       "    </tr>\n",
       "  </tbody>\n",
       "</table>\n",
       "</div>"
      ],
      "text/plain": [
       "                              accuracy  balanced_accuracy   roc_auc\n",
       "CountVectorizer 1000          0.757750           0.759093  0.832602\n",
       "TfidfVectorizer 1000          0.757700           0.758448  0.837206\n",
       "CountVectorizer 1000 ngram 2  0.757025           0.758687  0.835099\n",
       "TfidfVectorizer 1000 ngram 2  0.757275           0.758095  0.839001"
      ]
     },
     "metadata": {},
     "output_type": "display_data"
    },
    {
     "name": "stdout",
     "output_type": "stream",
     "text": [
      "stop_words: True, lemmatization: False, negation: True\n"
     ]
    },
    {
     "data": {
      "text/html": [
       "<div>\n",
       "<style scoped>\n",
       "    .dataframe tbody tr th:only-of-type {\n",
       "        vertical-align: middle;\n",
       "    }\n",
       "\n",
       "    .dataframe tbody tr th {\n",
       "        vertical-align: top;\n",
       "    }\n",
       "\n",
       "    .dataframe thead th {\n",
       "        text-align: right;\n",
       "    }\n",
       "</style>\n",
       "<table border=\"1\" class=\"dataframe\">\n",
       "  <thead>\n",
       "    <tr style=\"text-align: right;\">\n",
       "      <th></th>\n",
       "      <th>accuracy</th>\n",
       "      <th>balanced_accuracy</th>\n",
       "      <th>roc_auc</th>\n",
       "    </tr>\n",
       "  </thead>\n",
       "  <tbody>\n",
       "    <tr>\n",
       "      <th>CountVectorizer 1000</th>\n",
       "      <td>0.748975</td>\n",
       "      <td>0.751111</td>\n",
       "      <td>0.828685</td>\n",
       "    </tr>\n",
       "    <tr>\n",
       "      <th>TfidfVectorizer 1000</th>\n",
       "      <td>0.749475</td>\n",
       "      <td>0.750628</td>\n",
       "      <td>0.833069</td>\n",
       "    </tr>\n",
       "    <tr>\n",
       "      <th>CountVectorizer 1000 ngram 2</th>\n",
       "      <td>0.747550</td>\n",
       "      <td>0.749895</td>\n",
       "      <td>0.827636</td>\n",
       "    </tr>\n",
       "    <tr>\n",
       "      <th>TfidfVectorizer 1000 ngram 2</th>\n",
       "      <td>0.748700</td>\n",
       "      <td>0.749977</td>\n",
       "      <td>0.831717</td>\n",
       "    </tr>\n",
       "  </tbody>\n",
       "</table>\n",
       "</div>"
      ],
      "text/plain": [
       "                              accuracy  balanced_accuracy   roc_auc\n",
       "CountVectorizer 1000          0.748975           0.751111  0.828685\n",
       "TfidfVectorizer 1000          0.749475           0.750628  0.833069\n",
       "CountVectorizer 1000 ngram 2  0.747550           0.749895  0.827636\n",
       "TfidfVectorizer 1000 ngram 2  0.748700           0.749977  0.831717"
      ]
     },
     "metadata": {},
     "output_type": "display_data"
    },
    {
     "name": "stdout",
     "output_type": "stream",
     "text": [
      "stop_words: True, lemmatization: True, negation: False\n"
     ]
    },
    {
     "data": {
      "text/html": [
       "<div>\n",
       "<style scoped>\n",
       "    .dataframe tbody tr th:only-of-type {\n",
       "        vertical-align: middle;\n",
       "    }\n",
       "\n",
       "    .dataframe tbody tr th {\n",
       "        vertical-align: top;\n",
       "    }\n",
       "\n",
       "    .dataframe thead th {\n",
       "        text-align: right;\n",
       "    }\n",
       "</style>\n",
       "<table border=\"1\" class=\"dataframe\">\n",
       "  <thead>\n",
       "    <tr style=\"text-align: right;\">\n",
       "      <th></th>\n",
       "      <th>accuracy</th>\n",
       "      <th>balanced_accuracy</th>\n",
       "      <th>roc_auc</th>\n",
       "    </tr>\n",
       "  </thead>\n",
       "  <tbody>\n",
       "    <tr>\n",
       "      <th>CountVectorizer 1000</th>\n",
       "      <td>0.760650</td>\n",
       "      <td>0.761790</td>\n",
       "      <td>0.835289</td>\n",
       "    </tr>\n",
       "    <tr>\n",
       "      <th>TfidfVectorizer 1000</th>\n",
       "      <td>0.760200</td>\n",
       "      <td>0.760826</td>\n",
       "      <td>0.840073</td>\n",
       "    </tr>\n",
       "    <tr>\n",
       "      <th>CountVectorizer 1000 ngram 2</th>\n",
       "      <td>0.763175</td>\n",
       "      <td>0.764593</td>\n",
       "      <td>0.839320</td>\n",
       "    </tr>\n",
       "    <tr>\n",
       "      <th>TfidfVectorizer 1000 ngram 2</th>\n",
       "      <td>0.763250</td>\n",
       "      <td>0.763901</td>\n",
       "      <td>0.843614</td>\n",
       "    </tr>\n",
       "  </tbody>\n",
       "</table>\n",
       "</div>"
      ],
      "text/plain": [
       "                              accuracy  balanced_accuracy   roc_auc\n",
       "CountVectorizer 1000          0.760650           0.761790  0.835289\n",
       "TfidfVectorizer 1000          0.760200           0.760826  0.840073\n",
       "CountVectorizer 1000 ngram 2  0.763175           0.764593  0.839320\n",
       "TfidfVectorizer 1000 ngram 2  0.763250           0.763901  0.843614"
      ]
     },
     "metadata": {},
     "output_type": "display_data"
    },
    {
     "name": "stdout",
     "output_type": "stream",
     "text": [
      "stop_words: True, lemmatization: True, negation: True\n"
     ]
    },
    {
     "data": {
      "text/html": [
       "<div>\n",
       "<style scoped>\n",
       "    .dataframe tbody tr th:only-of-type {\n",
       "        vertical-align: middle;\n",
       "    }\n",
       "\n",
       "    .dataframe tbody tr th {\n",
       "        vertical-align: top;\n",
       "    }\n",
       "\n",
       "    .dataframe thead th {\n",
       "        text-align: right;\n",
       "    }\n",
       "</style>\n",
       "<table border=\"1\" class=\"dataframe\">\n",
       "  <thead>\n",
       "    <tr style=\"text-align: right;\">\n",
       "      <th></th>\n",
       "      <th>accuracy</th>\n",
       "      <th>balanced_accuracy</th>\n",
       "      <th>roc_auc</th>\n",
       "    </tr>\n",
       "  </thead>\n",
       "  <tbody>\n",
       "    <tr>\n",
       "      <th>CountVectorizer 1000</th>\n",
       "      <td>0.754600</td>\n",
       "      <td>0.756406</td>\n",
       "      <td>0.833154</td>\n",
       "    </tr>\n",
       "    <tr>\n",
       "      <th>TfidfVectorizer 1000</th>\n",
       "      <td>0.754425</td>\n",
       "      <td>0.755368</td>\n",
       "      <td>0.837487</td>\n",
       "    </tr>\n",
       "    <tr>\n",
       "      <th>CountVectorizer 1000 ngram 2</th>\n",
       "      <td>0.753975</td>\n",
       "      <td>0.756002</td>\n",
       "      <td>0.832410</td>\n",
       "    </tr>\n",
       "    <tr>\n",
       "      <th>TfidfVectorizer 1000 ngram 2</th>\n",
       "      <td>0.754000</td>\n",
       "      <td>0.755241</td>\n",
       "      <td>0.836401</td>\n",
       "    </tr>\n",
       "  </tbody>\n",
       "</table>\n",
       "</div>"
      ],
      "text/plain": [
       "                              accuracy  balanced_accuracy   roc_auc\n",
       "CountVectorizer 1000          0.754600           0.756406  0.833154\n",
       "TfidfVectorizer 1000          0.754425           0.755368  0.837487\n",
       "CountVectorizer 1000 ngram 2  0.753975           0.756002  0.832410\n",
       "TfidfVectorizer 1000 ngram 2  0.754000           0.755241  0.836401"
      ]
     },
     "metadata": {},
     "output_type": "display_data"
    },
    {
     "name": "stdout",
     "output_type": "stream",
     "text": [
      "Wall time: 4min 18s\n"
     ]
    }
   ],
   "source": [
    "%%time\n",
    "tables = []\n",
    "for stop_words in [False, True]:\n",
    "    for lemmatization in [False, True]:\n",
    "        for negation in [False, True]:\n",
    "            file = \"train\"\n",
    "            if stop_words:\n",
    "                file += \"_stop\"\n",
    "            if lemmatization:\n",
    "                file += \"_lemm\"\n",
    "            if  negation:\n",
    "                file += \"_neg\"\n",
    "            print(f\"stop_words: {stop_words}, lemmatization: {lemmatization}, negation: {negation}\")\n",
    "            df = pd.read_pickle(os.path.join(\"data\", \"sentiment140\", file+\".bz2\")).sample(NB_DATA, random_state=1234)\n",
    "            X = df.text.to_list()\n",
    "            y = df.sentiment.to_list()            \n",
    "            df_metrics = comparaison(X, y, 1000, show_graph=False)\n",
    "            display(df_metrics)\n",
    "            df_metrics['stop_words'] = stop_words\n",
    "            df_metrics['lemmatization'] = lemmatization\n",
    "            df_metrics['negation'] = negation\n",
    "            tables.append(df_metrics)\n",
    "df_metrics = pd.concat(tables)"
   ]
  },
  {
   "cell_type": "code",
   "execution_count": 24,
   "metadata": {},
   "outputs": [
    {
     "data": {
      "text/html": [
       "<div>\n",
       "<style scoped>\n",
       "    .dataframe tbody tr th:only-of-type {\n",
       "        vertical-align: middle;\n",
       "    }\n",
       "\n",
       "    .dataframe tbody tr th {\n",
       "        vertical-align: top;\n",
       "    }\n",
       "\n",
       "    .dataframe thead th {\n",
       "        text-align: right;\n",
       "    }\n",
       "</style>\n",
       "<table border=\"1\" class=\"dataframe\">\n",
       "  <thead>\n",
       "    <tr style=\"text-align: right;\">\n",
       "      <th></th>\n",
       "      <th>accuracy</th>\n",
       "      <th>balanced_accuracy</th>\n",
       "      <th>roc_auc</th>\n",
       "      <th>stop_words</th>\n",
       "      <th>lemmatization</th>\n",
       "      <th>negation</th>\n",
       "    </tr>\n",
       "  </thead>\n",
       "  <tbody>\n",
       "    <tr>\n",
       "      <th>TfidfVectorizer 1000</th>\n",
       "      <td>0.767575</td>\n",
       "      <td>0.767713</td>\n",
       "      <td>0.846695</td>\n",
       "      <td>False</td>\n",
       "      <td>True</td>\n",
       "      <td>False</td>\n",
       "    </tr>\n",
       "    <tr>\n",
       "      <th>TfidfVectorizer 1000</th>\n",
       "      <td>0.764775</td>\n",
       "      <td>0.765059</td>\n",
       "      <td>0.846524</td>\n",
       "      <td>False</td>\n",
       "      <td>True</td>\n",
       "      <td>True</td>\n",
       "    </tr>\n",
       "    <tr>\n",
       "      <th>TfidfVectorizer 1000</th>\n",
       "      <td>0.765325</td>\n",
       "      <td>0.765497</td>\n",
       "      <td>0.844891</td>\n",
       "      <td>False</td>\n",
       "      <td>False</td>\n",
       "      <td>False</td>\n",
       "    </tr>\n",
       "    <tr>\n",
       "      <th>TfidfVectorizer 1000 ngram 2</th>\n",
       "      <td>0.764100</td>\n",
       "      <td>0.764249</td>\n",
       "      <td>0.844243</td>\n",
       "      <td>False</td>\n",
       "      <td>True</td>\n",
       "      <td>False</td>\n",
       "    </tr>\n",
       "    <tr>\n",
       "      <th>TfidfVectorizer 1000 ngram 2</th>\n",
       "      <td>0.763250</td>\n",
       "      <td>0.763901</td>\n",
       "      <td>0.843614</td>\n",
       "      <td>True</td>\n",
       "      <td>True</td>\n",
       "      <td>False</td>\n",
       "    </tr>\n",
       "    <tr>\n",
       "      <th>TfidfVectorizer 1000</th>\n",
       "      <td>0.760500</td>\n",
       "      <td>0.760734</td>\n",
       "      <td>0.842746</td>\n",
       "      <td>False</td>\n",
       "      <td>False</td>\n",
       "      <td>True</td>\n",
       "    </tr>\n",
       "    <tr>\n",
       "      <th>TfidfVectorizer 1000 ngram 2</th>\n",
       "      <td>0.759400</td>\n",
       "      <td>0.759556</td>\n",
       "      <td>0.841572</td>\n",
       "      <td>False</td>\n",
       "      <td>False</td>\n",
       "      <td>False</td>\n",
       "    </tr>\n",
       "    <tr>\n",
       "      <th>TfidfVectorizer 1000</th>\n",
       "      <td>0.760200</td>\n",
       "      <td>0.760826</td>\n",
       "      <td>0.840073</td>\n",
       "      <td>True</td>\n",
       "      <td>True</td>\n",
       "      <td>False</td>\n",
       "    </tr>\n",
       "    <tr>\n",
       "      <th>CountVectorizer 1000</th>\n",
       "      <td>0.766250</td>\n",
       "      <td>0.766920</td>\n",
       "      <td>0.839607</td>\n",
       "      <td>False</td>\n",
       "      <td>True</td>\n",
       "      <td>False</td>\n",
       "    </tr>\n",
       "    <tr>\n",
       "      <th>CountVectorizer 1000</th>\n",
       "      <td>0.763875</td>\n",
       "      <td>0.764831</td>\n",
       "      <td>0.839554</td>\n",
       "      <td>False</td>\n",
       "      <td>True</td>\n",
       "      <td>True</td>\n",
       "    </tr>\n",
       "    <tr>\n",
       "      <th>CountVectorizer 1000 ngram 2</th>\n",
       "      <td>0.763175</td>\n",
       "      <td>0.764593</td>\n",
       "      <td>0.839320</td>\n",
       "      <td>True</td>\n",
       "      <td>True</td>\n",
       "      <td>False</td>\n",
       "    </tr>\n",
       "    <tr>\n",
       "      <th>TfidfVectorizer 1000 ngram 2</th>\n",
       "      <td>0.757200</td>\n",
       "      <td>0.757386</td>\n",
       "      <td>0.839047</td>\n",
       "      <td>False</td>\n",
       "      <td>True</td>\n",
       "      <td>True</td>\n",
       "    </tr>\n",
       "    <tr>\n",
       "      <th>TfidfVectorizer 1000 ngram 2</th>\n",
       "      <td>0.757275</td>\n",
       "      <td>0.758095</td>\n",
       "      <td>0.839001</td>\n",
       "      <td>True</td>\n",
       "      <td>False</td>\n",
       "      <td>False</td>\n",
       "    </tr>\n",
       "    <tr>\n",
       "      <th>CountVectorizer 1000</th>\n",
       "      <td>0.765325</td>\n",
       "      <td>0.766135</td>\n",
       "      <td>0.837963</td>\n",
       "      <td>False</td>\n",
       "      <td>False</td>\n",
       "      <td>False</td>\n",
       "    </tr>\n",
       "    <tr>\n",
       "      <th>CountVectorizer 1000 ngram 2</th>\n",
       "      <td>0.762275</td>\n",
       "      <td>0.763094</td>\n",
       "      <td>0.837632</td>\n",
       "      <td>False</td>\n",
       "      <td>True</td>\n",
       "      <td>False</td>\n",
       "    </tr>\n",
       "    <tr>\n",
       "      <th>TfidfVectorizer 1000</th>\n",
       "      <td>0.754425</td>\n",
       "      <td>0.755368</td>\n",
       "      <td>0.837487</td>\n",
       "      <td>True</td>\n",
       "      <td>True</td>\n",
       "      <td>True</td>\n",
       "    </tr>\n",
       "    <tr>\n",
       "      <th>TfidfVectorizer 1000</th>\n",
       "      <td>0.757700</td>\n",
       "      <td>0.758448</td>\n",
       "      <td>0.837206</td>\n",
       "      <td>True</td>\n",
       "      <td>False</td>\n",
       "      <td>False</td>\n",
       "    </tr>\n",
       "    <tr>\n",
       "      <th>TfidfVectorizer 1000 ngram 2</th>\n",
       "      <td>0.754000</td>\n",
       "      <td>0.755241</td>\n",
       "      <td>0.836401</td>\n",
       "      <td>True</td>\n",
       "      <td>True</td>\n",
       "      <td>True</td>\n",
       "    </tr>\n",
       "    <tr>\n",
       "      <th>CountVectorizer 1000</th>\n",
       "      <td>0.759550</td>\n",
       "      <td>0.760437</td>\n",
       "      <td>0.836120</td>\n",
       "      <td>False</td>\n",
       "      <td>False</td>\n",
       "      <td>True</td>\n",
       "    </tr>\n",
       "    <tr>\n",
       "      <th>TfidfVectorizer 1000 ngram 2</th>\n",
       "      <td>0.754075</td>\n",
       "      <td>0.754234</td>\n",
       "      <td>0.836038</td>\n",
       "      <td>False</td>\n",
       "      <td>False</td>\n",
       "      <td>True</td>\n",
       "    </tr>\n",
       "    <tr>\n",
       "      <th>CountVectorizer 1000</th>\n",
       "      <td>0.760650</td>\n",
       "      <td>0.761790</td>\n",
       "      <td>0.835289</td>\n",
       "      <td>True</td>\n",
       "      <td>True</td>\n",
       "      <td>False</td>\n",
       "    </tr>\n",
       "    <tr>\n",
       "      <th>CountVectorizer 1000 ngram 2</th>\n",
       "      <td>0.758625</td>\n",
       "      <td>0.759442</td>\n",
       "      <td>0.835099</td>\n",
       "      <td>False</td>\n",
       "      <td>False</td>\n",
       "      <td>False</td>\n",
       "    </tr>\n",
       "    <tr>\n",
       "      <th>CountVectorizer 1000 ngram 2</th>\n",
       "      <td>0.757025</td>\n",
       "      <td>0.758687</td>\n",
       "      <td>0.835099</td>\n",
       "      <td>True</td>\n",
       "      <td>False</td>\n",
       "      <td>False</td>\n",
       "    </tr>\n",
       "    <tr>\n",
       "      <th>CountVectorizer 1000 ngram 2</th>\n",
       "      <td>0.755875</td>\n",
       "      <td>0.756702</td>\n",
       "      <td>0.833174</td>\n",
       "      <td>False</td>\n",
       "      <td>True</td>\n",
       "      <td>True</td>\n",
       "    </tr>\n",
       "    <tr>\n",
       "      <th>CountVectorizer 1000</th>\n",
       "      <td>0.754600</td>\n",
       "      <td>0.756406</td>\n",
       "      <td>0.833154</td>\n",
       "      <td>True</td>\n",
       "      <td>True</td>\n",
       "      <td>True</td>\n",
       "    </tr>\n",
       "    <tr>\n",
       "      <th>TfidfVectorizer 1000</th>\n",
       "      <td>0.749475</td>\n",
       "      <td>0.750628</td>\n",
       "      <td>0.833069</td>\n",
       "      <td>True</td>\n",
       "      <td>False</td>\n",
       "      <td>True</td>\n",
       "    </tr>\n",
       "    <tr>\n",
       "      <th>CountVectorizer 1000</th>\n",
       "      <td>0.757750</td>\n",
       "      <td>0.759093</td>\n",
       "      <td>0.832602</td>\n",
       "      <td>True</td>\n",
       "      <td>False</td>\n",
       "      <td>False</td>\n",
       "    </tr>\n",
       "    <tr>\n",
       "      <th>CountVectorizer 1000 ngram 2</th>\n",
       "      <td>0.753975</td>\n",
       "      <td>0.756002</td>\n",
       "      <td>0.832410</td>\n",
       "      <td>True</td>\n",
       "      <td>True</td>\n",
       "      <td>True</td>\n",
       "    </tr>\n",
       "    <tr>\n",
       "      <th>TfidfVectorizer 1000 ngram 2</th>\n",
       "      <td>0.748700</td>\n",
       "      <td>0.749977</td>\n",
       "      <td>0.831717</td>\n",
       "      <td>True</td>\n",
       "      <td>False</td>\n",
       "      <td>True</td>\n",
       "    </tr>\n",
       "    <tr>\n",
       "      <th>CountVectorizer 1000 ngram 2</th>\n",
       "      <td>0.753375</td>\n",
       "      <td>0.753991</td>\n",
       "      <td>0.830489</td>\n",
       "      <td>False</td>\n",
       "      <td>False</td>\n",
       "      <td>True</td>\n",
       "    </tr>\n",
       "    <tr>\n",
       "      <th>CountVectorizer 1000</th>\n",
       "      <td>0.748975</td>\n",
       "      <td>0.751111</td>\n",
       "      <td>0.828685</td>\n",
       "      <td>True</td>\n",
       "      <td>False</td>\n",
       "      <td>True</td>\n",
       "    </tr>\n",
       "    <tr>\n",
       "      <th>CountVectorizer 1000 ngram 2</th>\n",
       "      <td>0.747550</td>\n",
       "      <td>0.749895</td>\n",
       "      <td>0.827636</td>\n",
       "      <td>True</td>\n",
       "      <td>False</td>\n",
       "      <td>True</td>\n",
       "    </tr>\n",
       "  </tbody>\n",
       "</table>\n",
       "</div>"
      ],
      "text/plain": [
       "                              accuracy  balanced_accuracy   roc_auc  \\\n",
       "TfidfVectorizer 1000          0.767575           0.767713  0.846695   \n",
       "TfidfVectorizer 1000          0.764775           0.765059  0.846524   \n",
       "TfidfVectorizer 1000          0.765325           0.765497  0.844891   \n",
       "TfidfVectorizer 1000 ngram 2  0.764100           0.764249  0.844243   \n",
       "TfidfVectorizer 1000 ngram 2  0.763250           0.763901  0.843614   \n",
       "TfidfVectorizer 1000          0.760500           0.760734  0.842746   \n",
       "TfidfVectorizer 1000 ngram 2  0.759400           0.759556  0.841572   \n",
       "TfidfVectorizer 1000          0.760200           0.760826  0.840073   \n",
       "CountVectorizer 1000          0.766250           0.766920  0.839607   \n",
       "CountVectorizer 1000          0.763875           0.764831  0.839554   \n",
       "CountVectorizer 1000 ngram 2  0.763175           0.764593  0.839320   \n",
       "TfidfVectorizer 1000 ngram 2  0.757200           0.757386  0.839047   \n",
       "TfidfVectorizer 1000 ngram 2  0.757275           0.758095  0.839001   \n",
       "CountVectorizer 1000          0.765325           0.766135  0.837963   \n",
       "CountVectorizer 1000 ngram 2  0.762275           0.763094  0.837632   \n",
       "TfidfVectorizer 1000          0.754425           0.755368  0.837487   \n",
       "TfidfVectorizer 1000          0.757700           0.758448  0.837206   \n",
       "TfidfVectorizer 1000 ngram 2  0.754000           0.755241  0.836401   \n",
       "CountVectorizer 1000          0.759550           0.760437  0.836120   \n",
       "TfidfVectorizer 1000 ngram 2  0.754075           0.754234  0.836038   \n",
       "CountVectorizer 1000          0.760650           0.761790  0.835289   \n",
       "CountVectorizer 1000 ngram 2  0.758625           0.759442  0.835099   \n",
       "CountVectorizer 1000 ngram 2  0.757025           0.758687  0.835099   \n",
       "CountVectorizer 1000 ngram 2  0.755875           0.756702  0.833174   \n",
       "CountVectorizer 1000          0.754600           0.756406  0.833154   \n",
       "TfidfVectorizer 1000          0.749475           0.750628  0.833069   \n",
       "CountVectorizer 1000          0.757750           0.759093  0.832602   \n",
       "CountVectorizer 1000 ngram 2  0.753975           0.756002  0.832410   \n",
       "TfidfVectorizer 1000 ngram 2  0.748700           0.749977  0.831717   \n",
       "CountVectorizer 1000 ngram 2  0.753375           0.753991  0.830489   \n",
       "CountVectorizer 1000          0.748975           0.751111  0.828685   \n",
       "CountVectorizer 1000 ngram 2  0.747550           0.749895  0.827636   \n",
       "\n",
       "                              stop_words  lemmatization  negation  \n",
       "TfidfVectorizer 1000               False           True     False  \n",
       "TfidfVectorizer 1000               False           True      True  \n",
       "TfidfVectorizer 1000               False          False     False  \n",
       "TfidfVectorizer 1000 ngram 2       False           True     False  \n",
       "TfidfVectorizer 1000 ngram 2        True           True     False  \n",
       "TfidfVectorizer 1000               False          False      True  \n",
       "TfidfVectorizer 1000 ngram 2       False          False     False  \n",
       "TfidfVectorizer 1000                True           True     False  \n",
       "CountVectorizer 1000               False           True     False  \n",
       "CountVectorizer 1000               False           True      True  \n",
       "CountVectorizer 1000 ngram 2        True           True     False  \n",
       "TfidfVectorizer 1000 ngram 2       False           True      True  \n",
       "TfidfVectorizer 1000 ngram 2        True          False     False  \n",
       "CountVectorizer 1000               False          False     False  \n",
       "CountVectorizer 1000 ngram 2       False           True     False  \n",
       "TfidfVectorizer 1000                True           True      True  \n",
       "TfidfVectorizer 1000                True          False     False  \n",
       "TfidfVectorizer 1000 ngram 2        True           True      True  \n",
       "CountVectorizer 1000               False          False      True  \n",
       "TfidfVectorizer 1000 ngram 2       False          False      True  \n",
       "CountVectorizer 1000                True           True     False  \n",
       "CountVectorizer 1000 ngram 2       False          False     False  \n",
       "CountVectorizer 1000 ngram 2        True          False     False  \n",
       "CountVectorizer 1000 ngram 2       False           True      True  \n",
       "CountVectorizer 1000                True           True      True  \n",
       "TfidfVectorizer 1000                True          False      True  \n",
       "CountVectorizer 1000                True          False     False  \n",
       "CountVectorizer 1000 ngram 2        True           True      True  \n",
       "TfidfVectorizer 1000 ngram 2        True          False      True  \n",
       "CountVectorizer 1000 ngram 2       False          False      True  \n",
       "CountVectorizer 1000                True          False      True  \n",
       "CountVectorizer 1000 ngram 2        True          False      True  "
      ]
     },
     "execution_count": 24,
     "metadata": {},
     "output_type": "execute_result"
    }
   ],
   "source": [
    "df_metrics.sort_values(by=\"roc_auc\", ascending=False)"
   ]
  },
  {
   "cell_type": "code",
   "execution_count": 25,
   "metadata": {},
   "outputs": [
    {
     "data": {
      "text/html": [
       "<div>\n",
       "<style scoped>\n",
       "    .dataframe tbody tr th:only-of-type {\n",
       "        vertical-align: middle;\n",
       "    }\n",
       "\n",
       "    .dataframe tbody tr th {\n",
       "        vertical-align: top;\n",
       "    }\n",
       "\n",
       "    .dataframe thead th {\n",
       "        text-align: right;\n",
       "    }\n",
       "</style>\n",
       "<table border=\"1\" class=\"dataframe\">\n",
       "  <thead>\n",
       "    <tr style=\"text-align: right;\">\n",
       "      <th></th>\n",
       "      <th>accuracy</th>\n",
       "      <th>balanced_accuracy</th>\n",
       "      <th>roc_auc</th>\n",
       "      <th>stop_words</th>\n",
       "      <th>lemmatization</th>\n",
       "      <th>negation</th>\n",
       "    </tr>\n",
       "  </thead>\n",
       "  <tbody>\n",
       "    <tr>\n",
       "      <th>TfidfVectorizer 1000</th>\n",
       "      <td>0.767575</td>\n",
       "      <td>0.767713</td>\n",
       "      <td>0.846695</td>\n",
       "      <td>False</td>\n",
       "      <td>True</td>\n",
       "      <td>False</td>\n",
       "    </tr>\n",
       "    <tr>\n",
       "      <th>CountVectorizer 1000</th>\n",
       "      <td>0.766250</td>\n",
       "      <td>0.766920</td>\n",
       "      <td>0.839607</td>\n",
       "      <td>False</td>\n",
       "      <td>True</td>\n",
       "      <td>False</td>\n",
       "    </tr>\n",
       "    <tr>\n",
       "      <th>CountVectorizer 1000</th>\n",
       "      <td>0.765325</td>\n",
       "      <td>0.766135</td>\n",
       "      <td>0.837963</td>\n",
       "      <td>False</td>\n",
       "      <td>False</td>\n",
       "      <td>False</td>\n",
       "    </tr>\n",
       "    <tr>\n",
       "      <th>TfidfVectorizer 1000</th>\n",
       "      <td>0.765325</td>\n",
       "      <td>0.765497</td>\n",
       "      <td>0.844891</td>\n",
       "      <td>False</td>\n",
       "      <td>False</td>\n",
       "      <td>False</td>\n",
       "    </tr>\n",
       "    <tr>\n",
       "      <th>TfidfVectorizer 1000</th>\n",
       "      <td>0.764775</td>\n",
       "      <td>0.765059</td>\n",
       "      <td>0.846524</td>\n",
       "      <td>False</td>\n",
       "      <td>True</td>\n",
       "      <td>True</td>\n",
       "    </tr>\n",
       "    <tr>\n",
       "      <th>CountVectorizer 1000</th>\n",
       "      <td>0.763875</td>\n",
       "      <td>0.764831</td>\n",
       "      <td>0.839554</td>\n",
       "      <td>False</td>\n",
       "      <td>True</td>\n",
       "      <td>True</td>\n",
       "    </tr>\n",
       "    <tr>\n",
       "      <th>CountVectorizer 1000 ngram 2</th>\n",
       "      <td>0.763175</td>\n",
       "      <td>0.764593</td>\n",
       "      <td>0.839320</td>\n",
       "      <td>True</td>\n",
       "      <td>True</td>\n",
       "      <td>False</td>\n",
       "    </tr>\n",
       "    <tr>\n",
       "      <th>TfidfVectorizer 1000 ngram 2</th>\n",
       "      <td>0.764100</td>\n",
       "      <td>0.764249</td>\n",
       "      <td>0.844243</td>\n",
       "      <td>False</td>\n",
       "      <td>True</td>\n",
       "      <td>False</td>\n",
       "    </tr>\n",
       "    <tr>\n",
       "      <th>TfidfVectorizer 1000 ngram 2</th>\n",
       "      <td>0.763250</td>\n",
       "      <td>0.763901</td>\n",
       "      <td>0.843614</td>\n",
       "      <td>True</td>\n",
       "      <td>True</td>\n",
       "      <td>False</td>\n",
       "    </tr>\n",
       "    <tr>\n",
       "      <th>CountVectorizer 1000 ngram 2</th>\n",
       "      <td>0.762275</td>\n",
       "      <td>0.763094</td>\n",
       "      <td>0.837632</td>\n",
       "      <td>False</td>\n",
       "      <td>True</td>\n",
       "      <td>False</td>\n",
       "    </tr>\n",
       "    <tr>\n",
       "      <th>CountVectorizer 1000</th>\n",
       "      <td>0.760650</td>\n",
       "      <td>0.761790</td>\n",
       "      <td>0.835289</td>\n",
       "      <td>True</td>\n",
       "      <td>True</td>\n",
       "      <td>False</td>\n",
       "    </tr>\n",
       "    <tr>\n",
       "      <th>TfidfVectorizer 1000</th>\n",
       "      <td>0.760200</td>\n",
       "      <td>0.760826</td>\n",
       "      <td>0.840073</td>\n",
       "      <td>True</td>\n",
       "      <td>True</td>\n",
       "      <td>False</td>\n",
       "    </tr>\n",
       "    <tr>\n",
       "      <th>TfidfVectorizer 1000</th>\n",
       "      <td>0.760500</td>\n",
       "      <td>0.760734</td>\n",
       "      <td>0.842746</td>\n",
       "      <td>False</td>\n",
       "      <td>False</td>\n",
       "      <td>True</td>\n",
       "    </tr>\n",
       "    <tr>\n",
       "      <th>CountVectorizer 1000</th>\n",
       "      <td>0.759550</td>\n",
       "      <td>0.760437</td>\n",
       "      <td>0.836120</td>\n",
       "      <td>False</td>\n",
       "      <td>False</td>\n",
       "      <td>True</td>\n",
       "    </tr>\n",
       "    <tr>\n",
       "      <th>TfidfVectorizer 1000 ngram 2</th>\n",
       "      <td>0.759400</td>\n",
       "      <td>0.759556</td>\n",
       "      <td>0.841572</td>\n",
       "      <td>False</td>\n",
       "      <td>False</td>\n",
       "      <td>False</td>\n",
       "    </tr>\n",
       "    <tr>\n",
       "      <th>CountVectorizer 1000 ngram 2</th>\n",
       "      <td>0.758625</td>\n",
       "      <td>0.759442</td>\n",
       "      <td>0.835099</td>\n",
       "      <td>False</td>\n",
       "      <td>False</td>\n",
       "      <td>False</td>\n",
       "    </tr>\n",
       "    <tr>\n",
       "      <th>CountVectorizer 1000</th>\n",
       "      <td>0.757750</td>\n",
       "      <td>0.759093</td>\n",
       "      <td>0.832602</td>\n",
       "      <td>True</td>\n",
       "      <td>False</td>\n",
       "      <td>False</td>\n",
       "    </tr>\n",
       "    <tr>\n",
       "      <th>CountVectorizer 1000 ngram 2</th>\n",
       "      <td>0.757025</td>\n",
       "      <td>0.758687</td>\n",
       "      <td>0.835099</td>\n",
       "      <td>True</td>\n",
       "      <td>False</td>\n",
       "      <td>False</td>\n",
       "    </tr>\n",
       "    <tr>\n",
       "      <th>TfidfVectorizer 1000</th>\n",
       "      <td>0.757700</td>\n",
       "      <td>0.758448</td>\n",
       "      <td>0.837206</td>\n",
       "      <td>True</td>\n",
       "      <td>False</td>\n",
       "      <td>False</td>\n",
       "    </tr>\n",
       "    <tr>\n",
       "      <th>TfidfVectorizer 1000 ngram 2</th>\n",
       "      <td>0.757275</td>\n",
       "      <td>0.758095</td>\n",
       "      <td>0.839001</td>\n",
       "      <td>True</td>\n",
       "      <td>False</td>\n",
       "      <td>False</td>\n",
       "    </tr>\n",
       "    <tr>\n",
       "      <th>TfidfVectorizer 1000 ngram 2</th>\n",
       "      <td>0.757200</td>\n",
       "      <td>0.757386</td>\n",
       "      <td>0.839047</td>\n",
       "      <td>False</td>\n",
       "      <td>True</td>\n",
       "      <td>True</td>\n",
       "    </tr>\n",
       "    <tr>\n",
       "      <th>CountVectorizer 1000 ngram 2</th>\n",
       "      <td>0.755875</td>\n",
       "      <td>0.756702</td>\n",
       "      <td>0.833174</td>\n",
       "      <td>False</td>\n",
       "      <td>True</td>\n",
       "      <td>True</td>\n",
       "    </tr>\n",
       "    <tr>\n",
       "      <th>CountVectorizer 1000</th>\n",
       "      <td>0.754600</td>\n",
       "      <td>0.756406</td>\n",
       "      <td>0.833154</td>\n",
       "      <td>True</td>\n",
       "      <td>True</td>\n",
       "      <td>True</td>\n",
       "    </tr>\n",
       "    <tr>\n",
       "      <th>CountVectorizer 1000 ngram 2</th>\n",
       "      <td>0.753975</td>\n",
       "      <td>0.756002</td>\n",
       "      <td>0.832410</td>\n",
       "      <td>True</td>\n",
       "      <td>True</td>\n",
       "      <td>True</td>\n",
       "    </tr>\n",
       "    <tr>\n",
       "      <th>TfidfVectorizer 1000</th>\n",
       "      <td>0.754425</td>\n",
       "      <td>0.755368</td>\n",
       "      <td>0.837487</td>\n",
       "      <td>True</td>\n",
       "      <td>True</td>\n",
       "      <td>True</td>\n",
       "    </tr>\n",
       "    <tr>\n",
       "      <th>TfidfVectorizer 1000 ngram 2</th>\n",
       "      <td>0.754000</td>\n",
       "      <td>0.755241</td>\n",
       "      <td>0.836401</td>\n",
       "      <td>True</td>\n",
       "      <td>True</td>\n",
       "      <td>True</td>\n",
       "    </tr>\n",
       "    <tr>\n",
       "      <th>TfidfVectorizer 1000 ngram 2</th>\n",
       "      <td>0.754075</td>\n",
       "      <td>0.754234</td>\n",
       "      <td>0.836038</td>\n",
       "      <td>False</td>\n",
       "      <td>False</td>\n",
       "      <td>True</td>\n",
       "    </tr>\n",
       "    <tr>\n",
       "      <th>CountVectorizer 1000 ngram 2</th>\n",
       "      <td>0.753375</td>\n",
       "      <td>0.753991</td>\n",
       "      <td>0.830489</td>\n",
       "      <td>False</td>\n",
       "      <td>False</td>\n",
       "      <td>True</td>\n",
       "    </tr>\n",
       "    <tr>\n",
       "      <th>CountVectorizer 1000</th>\n",
       "      <td>0.748975</td>\n",
       "      <td>0.751111</td>\n",
       "      <td>0.828685</td>\n",
       "      <td>True</td>\n",
       "      <td>False</td>\n",
       "      <td>True</td>\n",
       "    </tr>\n",
       "    <tr>\n",
       "      <th>TfidfVectorizer 1000</th>\n",
       "      <td>0.749475</td>\n",
       "      <td>0.750628</td>\n",
       "      <td>0.833069</td>\n",
       "      <td>True</td>\n",
       "      <td>False</td>\n",
       "      <td>True</td>\n",
       "    </tr>\n",
       "    <tr>\n",
       "      <th>TfidfVectorizer 1000 ngram 2</th>\n",
       "      <td>0.748700</td>\n",
       "      <td>0.749977</td>\n",
       "      <td>0.831717</td>\n",
       "      <td>True</td>\n",
       "      <td>False</td>\n",
       "      <td>True</td>\n",
       "    </tr>\n",
       "    <tr>\n",
       "      <th>CountVectorizer 1000 ngram 2</th>\n",
       "      <td>0.747550</td>\n",
       "      <td>0.749895</td>\n",
       "      <td>0.827636</td>\n",
       "      <td>True</td>\n",
       "      <td>False</td>\n",
       "      <td>True</td>\n",
       "    </tr>\n",
       "  </tbody>\n",
       "</table>\n",
       "</div>"
      ],
      "text/plain": [
       "                              accuracy  balanced_accuracy   roc_auc  \\\n",
       "TfidfVectorizer 1000          0.767575           0.767713  0.846695   \n",
       "CountVectorizer 1000          0.766250           0.766920  0.839607   \n",
       "CountVectorizer 1000          0.765325           0.766135  0.837963   \n",
       "TfidfVectorizer 1000          0.765325           0.765497  0.844891   \n",
       "TfidfVectorizer 1000          0.764775           0.765059  0.846524   \n",
       "CountVectorizer 1000          0.763875           0.764831  0.839554   \n",
       "CountVectorizer 1000 ngram 2  0.763175           0.764593  0.839320   \n",
       "TfidfVectorizer 1000 ngram 2  0.764100           0.764249  0.844243   \n",
       "TfidfVectorizer 1000 ngram 2  0.763250           0.763901  0.843614   \n",
       "CountVectorizer 1000 ngram 2  0.762275           0.763094  0.837632   \n",
       "CountVectorizer 1000          0.760650           0.761790  0.835289   \n",
       "TfidfVectorizer 1000          0.760200           0.760826  0.840073   \n",
       "TfidfVectorizer 1000          0.760500           0.760734  0.842746   \n",
       "CountVectorizer 1000          0.759550           0.760437  0.836120   \n",
       "TfidfVectorizer 1000 ngram 2  0.759400           0.759556  0.841572   \n",
       "CountVectorizer 1000 ngram 2  0.758625           0.759442  0.835099   \n",
       "CountVectorizer 1000          0.757750           0.759093  0.832602   \n",
       "CountVectorizer 1000 ngram 2  0.757025           0.758687  0.835099   \n",
       "TfidfVectorizer 1000          0.757700           0.758448  0.837206   \n",
       "TfidfVectorizer 1000 ngram 2  0.757275           0.758095  0.839001   \n",
       "TfidfVectorizer 1000 ngram 2  0.757200           0.757386  0.839047   \n",
       "CountVectorizer 1000 ngram 2  0.755875           0.756702  0.833174   \n",
       "CountVectorizer 1000          0.754600           0.756406  0.833154   \n",
       "CountVectorizer 1000 ngram 2  0.753975           0.756002  0.832410   \n",
       "TfidfVectorizer 1000          0.754425           0.755368  0.837487   \n",
       "TfidfVectorizer 1000 ngram 2  0.754000           0.755241  0.836401   \n",
       "TfidfVectorizer 1000 ngram 2  0.754075           0.754234  0.836038   \n",
       "CountVectorizer 1000 ngram 2  0.753375           0.753991  0.830489   \n",
       "CountVectorizer 1000          0.748975           0.751111  0.828685   \n",
       "TfidfVectorizer 1000          0.749475           0.750628  0.833069   \n",
       "TfidfVectorizer 1000 ngram 2  0.748700           0.749977  0.831717   \n",
       "CountVectorizer 1000 ngram 2  0.747550           0.749895  0.827636   \n",
       "\n",
       "                              stop_words  lemmatization  negation  \n",
       "TfidfVectorizer 1000               False           True     False  \n",
       "CountVectorizer 1000               False           True     False  \n",
       "CountVectorizer 1000               False          False     False  \n",
       "TfidfVectorizer 1000               False          False     False  \n",
       "TfidfVectorizer 1000               False           True      True  \n",
       "CountVectorizer 1000               False           True      True  \n",
       "CountVectorizer 1000 ngram 2        True           True     False  \n",
       "TfidfVectorizer 1000 ngram 2       False           True     False  \n",
       "TfidfVectorizer 1000 ngram 2        True           True     False  \n",
       "CountVectorizer 1000 ngram 2       False           True     False  \n",
       "CountVectorizer 1000                True           True     False  \n",
       "TfidfVectorizer 1000                True           True     False  \n",
       "TfidfVectorizer 1000               False          False      True  \n",
       "CountVectorizer 1000               False          False      True  \n",
       "TfidfVectorizer 1000 ngram 2       False          False     False  \n",
       "CountVectorizer 1000 ngram 2       False          False     False  \n",
       "CountVectorizer 1000                True          False     False  \n",
       "CountVectorizer 1000 ngram 2        True          False     False  \n",
       "TfidfVectorizer 1000                True          False     False  \n",
       "TfidfVectorizer 1000 ngram 2        True          False     False  \n",
       "TfidfVectorizer 1000 ngram 2       False           True      True  \n",
       "CountVectorizer 1000 ngram 2       False           True      True  \n",
       "CountVectorizer 1000                True           True      True  \n",
       "CountVectorizer 1000 ngram 2        True           True      True  \n",
       "TfidfVectorizer 1000                True           True      True  \n",
       "TfidfVectorizer 1000 ngram 2        True           True      True  \n",
       "TfidfVectorizer 1000 ngram 2       False          False      True  \n",
       "CountVectorizer 1000 ngram 2       False          False      True  \n",
       "CountVectorizer 1000                True          False      True  \n",
       "TfidfVectorizer 1000                True          False      True  \n",
       "TfidfVectorizer 1000 ngram 2        True          False      True  \n",
       "CountVectorizer 1000 ngram 2        True          False      True  "
      ]
     },
     "execution_count": 25,
     "metadata": {},
     "output_type": "execute_result"
    }
   ],
   "source": [
    "df_metrics.sort_values(by=\"balanced_accuracy\", ascending=False)"
   ]
  },
  {
   "cell_type": "markdown",
   "metadata": {},
   "source": [
    "La combinaison optimale, pour le nombre de features fixé, correspond ici au pré-processing `stop_words: False, lemmatization: False, negation: False` combiné à la méthode de feature extraction **TF-IDF**. \n",
    "\n",
    "Toutes choses égales par ailleurs, la suppression des stop-words (`stop_words: True`) ne semble généralement pas bénéfique."
   ]
  },
  {
   "cell_type": "markdown",
   "metadata": {},
   "source": [
    "## 3.3. Influence du nombre de features\n",
    "Nous faisons à présent varier le nombre de features."
   ]
  },
  {
   "cell_type": "markdown",
   "metadata": {},
   "source": [
    "### 3.3.1. Exemple avec une méthode de pré-processing fixé et TfidfVectorizer"
   ]
  },
  {
   "cell_type": "code",
   "execution_count": 26,
   "metadata": {},
   "outputs": [
    {
     "data": {
      "text/plain": [
       "array([ 199.5262315 ,  251.18864315,  316.22776602,  398.10717055,\n",
       "        501.18723363,  630.95734448,  794.32823472, 1000.        ,\n",
       "       1258.92541179, 1584.89319246, 1995.26231497, 2511.88643151,\n",
       "       3162.27766017, 3981.07170553, 5011.87233627])"
      ]
     },
     "execution_count": 26,
     "metadata": {},
     "output_type": "execute_result"
    },
    {
     "data": {
      "image/png": "[encoded data removed]",
      "text/plain": [
       "<Figure size 432x288 with 1 Axes>"
      ]
     },
     "metadata": {
      "needs_background": "light"
     },
     "output_type": "display_data"
    }
   ],
   "source": [
    "a = np.logspace(2.3, 3.7, 15, endpoint=True)\n",
    "plt.plot(a, np.zeros(15), 'o')\n",
    "a"
   ]
  },
  {
   "cell_type": "code",
   "execution_count": 27,
   "metadata": {},
   "outputs": [
    {
     "name": "stdout",
     "output_type": "stream",
     "text": [
      "Wall time: 2min 1s\n"
     ]
    },
    {
     "data": {
      "text/plain": [
       "[]"
      ]
     },
     "execution_count": 27,
     "metadata": {},
     "output_type": "execute_result"
    },
    {
     "data": {
      "image/png": "[encoded data removed]",
      "text/plain": [
       "<Figure size 432x288 with 1 Axes>"
      ]
     },
     "metadata": {
      "needs_background": "light"
     },
     "output_type": "display_data"
    }
   ],
   "source": [
    "%%time\n",
    "max_features_list = np.logspace(2.3, log(nb_max_words, 10), 20, endpoint=True, dtype=int)\n",
    "table = []\n",
    "for max_features in max_features_list:\n",
    "    _, _, _, _, _, metrics_score = conf_matrix(X, y, TfidfVectorizer(max_features = max_features), LogisticRegression(max_iter=1000), verbose=False)\n",
    "    table.append(metrics_score)\n",
    "df = pd.DataFrame(table, index=max_features_list)\n",
    "\n",
    "for i in df.columns:\n",
    "    df[i].plot(label=i)\n",
    "\n",
    "plt.legend()\n",
    "plt.xlabel(\"Nombre de features\")\n",
    "plt.plot()"
   ]
  },
  {
   "cell_type": "code",
   "execution_count": 28,
   "metadata": {},
   "outputs": [
    {
     "name": "stdout",
     "output_type": "stream",
     "text": [
      "Wall time: 3min 49s\n"
     ]
    },
    {
     "data": {
      "text/plain": [
       "[]"
      ]
     },
     "execution_count": 28,
     "metadata": {},
     "output_type": "execute_result"
    },
    {
     "data": {
      "image/png": "[encoded data removed]",
      "text/plain": [
       "<Figure size 432x288 with 1 Axes>"
      ]
     },
     "metadata": {
      "needs_background": "light"
     },
     "output_type": "display_data"
    }
   ],
   "source": [
    "%%time\n",
    "table = []\n",
    "for max_features in max_features_list:\n",
    "    _, _, _, _, _, metrics_score = conf_matrix(X, y, TfidfVectorizer(max_features=max_features, ngram_range=(1,2)), LogisticRegression(max_iter=1000), verbose=False)\n",
    "    table.append(metrics_score)\n",
    "df = pd.DataFrame(table, index=max_features_list)\n",
    "\n",
    "for i in df.columns:\n",
    "    df[i].plot(label=i)\n",
    "\n",
    "plt.legend()\n",
    "plt.xlabel(\"Nombre de features\")\n",
    "plt.plot()"
   ]
  },
  {
   "cell_type": "markdown",
   "metadata": {},
   "source": [
    "La méthode **N-gram** produit beaucoup plus de features (au maximum $n^2$ avec $n$ le nombre de mots). On peut donc regarder le graphique jusqu'au maximum du nombre de features avec la méthode **N-gram**."
   ]
  },
  {
   "cell_type": "code",
   "execution_count": 29,
   "metadata": {},
   "outputs": [
    {
     "name": "stdout",
     "output_type": "stream",
     "text": [
      "Wall time: 14min 50s\n"
     ]
    },
    {
     "data": {
      "text/plain": [
       "[]"
      ]
     },
     "execution_count": 29,
     "metadata": {},
     "output_type": "execute_result"
    },
    {
     "data": {
      "image/png": "[encoded data removed]",
      "text/plain": [
       "<Figure size 432x288 with 1 Axes>"
      ]
     },
     "metadata": {
      "needs_background": "light"
     },
     "output_type": "display_data"
    }
   ],
   "source": [
    "%%time\n",
    "max_features_list_ngrams = np.logspace(2.3, log(nb_max_ngrams, 10), 20, endpoint=True, dtype=int)\n",
    "table = []\n",
    "for max_features in max_features_list_ngrams:\n",
    "    _, _, _, _, _, metrics_score = conf_matrix(X, y, TfidfVectorizer(max_features=max_features, ngram_range=(1,2)), LogisticRegression(max_iter=5000), verbose=False)\n",
    "    table.append(metrics_score)\n",
    "df = pd.DataFrame(table, index=max_features_list_ngrams)\n",
    "\n",
    "for i in df.columns:\n",
    "    df[i].plot(label=i)\n",
    "\n",
    "plt.legend()\n",
    "plt.xlabel(\"Nombre de features\")\n",
    "plt.plot()"
   ]
  },
  {
   "cell_type": "markdown",
   "metadata": {},
   "source": [
    "Les performances ne sont pas meilleures, on se restreindra donc à des graphiques avec un nombre de features maximum correspondant au nombre de mots (ce qui correspond au maximum du nombre de features sans la méthode **N-gram**)."
   ]
  },
  {
   "cell_type": "markdown",
   "metadata": {},
   "source": [
    "### 3.3.2 Pré-processing fixé et variation des méthodes de feature extraction"
   ]
  },
  {
   "cell_type": "markdown",
   "metadata": {},
   "source": [
    "On garde le pré-processing fixé et on fait varier les méthodes de feature extraction."
   ]
  },
  {
   "cell_type": "code",
   "execution_count": 30,
   "metadata": {},
   "outputs": [],
   "source": [
    "def influence_features(X, y, max_features_list):\n",
    "    table = []\n",
    "    for max_features in max_features_list:\n",
    "        _, _, _, _, _, metrics_score = conf_matrix(X, y, CountVectorizer(max_features=max_features), LogisticRegression(max_iter=1000), verbose=False)\n",
    "        metrics_score['features'] = max_features\n",
    "        metrics_score['method'] = \"CountVectorizer\"\n",
    "        table.append(metrics_score)\n",
    "\n",
    "        _, _, _, _, _, metrics_score = conf_matrix(X, y, TfidfVectorizer(max_features=max_features), LogisticRegression(max_iter=1000), verbose=False)\n",
    "        metrics_score['features'] = max_features\n",
    "        metrics_score['method'] = \"TfidfVectorizer\"\n",
    "        table.append(metrics_score)\n",
    "\n",
    "        _, _, _, _, _, metrics_score = conf_matrix(X, y, CountVectorizer(max_features=max_features, ngram_range=(1,2)), LogisticRegression(max_iter=1000), verbose=False)\n",
    "        metrics_score['features'] = max_features\n",
    "        metrics_score['method'] = \"CountVectorizer ngram 2\"\n",
    "        table.append(metrics_score)\n",
    "\n",
    "        _, _, _, _, _, metrics_score = conf_matrix(X, y, TfidfVectorizer(max_features=max_features, ngram_range=(1,2)), LogisticRegression(max_iter=1000), verbose=False)\n",
    "        metrics_score['features'] = max_features\n",
    "        metrics_score['method'] = \"TfidfVectorizer ngram 2\"\n",
    "        table.append(metrics_score)\n",
    "\n",
    "    df = pd.DataFrame(table)\n",
    "\n",
    "    methods = list(set(df.method))\n",
    "    scores = list(df.columns[:-2])\n",
    "    fig, axes = plt.subplots(1, len(scores), figsize=(20, 6))\n",
    "    for i_score in range(len(scores)):\n",
    "        for j_method in range(len(methods)):\n",
    "            df[df.method == methods[j_method]].plot(x='features', y=scores[i_score], label=methods[j_method], ax=axes[i_score])\n",
    "        axes[i_score].set(xlabel='Nombre de features')\n",
    "        axes[i_score].legend()\n",
    "        axes[i_score].set_title(scores[i_score])\n",
    "    plt.show()\n",
    "    return df"
   ]
  },
  {
   "cell_type": "code",
   "execution_count": 31,
   "metadata": {},
   "outputs": [
    {
     "data": {
      "image/png": "[encoded data removed]",
      "text/plain": [
       "<Figure size 1440x432 with 3 Axes>"
      ]
     },
     "metadata": {
      "needs_background": "light"
     },
     "output_type": "display_data"
    },
    {
     "name": "stdout",
     "output_type": "stream",
     "text": [
      "Wall time: 11min 42s\n"
     ]
    }
   ],
   "source": [
    "%%time\n",
    "_ = influence_features(X, y, max_features_list)"
   ]
  },
  {
   "cell_type": "markdown",
   "metadata": {},
   "source": [
    "### 3.3.3. Variations du pré-processing et des méthodes de feature extraction"
   ]
  },
  {
   "cell_type": "markdown",
   "metadata": {},
   "source": [
    "Nous faisons à présent tout varier (pré-processing, feature extraction)."
   ]
  },
  {
   "cell_type": "code",
   "execution_count": null,
   "metadata": {},
   "outputs": [],
   "source": [
    "%%time\n",
    "tables = []\n",
    "for stop_words in [False, True]:\n",
    "    for lemmatization in [False, True]:\n",
    "        for negation in [False, True]:\n",
    "            file = \"train\"\n",
    "            if stop_words:\n",
    "                file += \"_stop\"\n",
    "            if lemmatization:\n",
    "                file += \"_lemm\"\n",
    "            if  negation:\n",
    "                file += \"_neg\"\n",
    "            print(f\"stop_words: {stop_words}, lemmatization: {lemmatization}, negation: {negation}\")\n",
    "            df = pd.read_pickle(os.path.join(\"data\", \"sentiment140\", file+\".bz2\")).sample(NB_DATA, random_state=1234)\n",
    "            X = df.text.to_list()\n",
    "            y = df.sentiment.to_list()\n",
    "            df_metrics = influence_features(X, y, max_features_list)\n",
    "            df_metrics['stop_words'] = stop_words\n",
    "            df_metrics['lemmatization'] = lemmatization\n",
    "            df_metrics['negation'] = negation\n",
    "            tables.append(df_metrics)\n",
    "df_metrics = pd.concat(tables)"
   ]
  },
  {
   "cell_type": "code",
   "execution_count": null,
   "metadata": {},
   "outputs": [],
   "source": [
    "df_metrics"
   ]
  },
  {
   "cell_type": "code",
   "execution_count": null,
   "metadata": {},
   "outputs": [],
   "source": [
    "df_metrics.sort_values(by=\"roc_auc\", ascending=False)"
   ]
  },
  {
   "cell_type": "code",
   "execution_count": null,
   "metadata": {},
   "outputs": [],
   "source": [
    "for elem in ['features', 'method', 'stop_words', 'lemmatization', 'negation']:\n",
    "    display(df_metrics.groupby(elem).mean().sort_values(by=\"roc_auc\", ascending=False))"
   ]
  },
  {
   "cell_type": "code",
   "execution_count": null,
   "metadata": {},
   "outputs": [],
   "source": [
    "df_metrics.sort_values(by=\"balanced_accuracy\", ascending=False)"
   ]
  },
  {
   "cell_type": "code",
   "execution_count": null,
   "metadata": {},
   "outputs": [],
   "source": [
    "for elem in ['features', 'method', 'stop_words', 'lemmatization', 'negation']:\n",
    "    display(df_metrics.groupby(elem).mean().sort_values(by=\"balanced_accuracy\", ascending=False))"
   ]
  },
  {
   "cell_type": "code",
   "execution_count": null,
   "metadata": {},
   "outputs": [],
   "source": [
    "print(f\"Temps total : {time.time() - t}\")"
   ]
  }
 ],
 "metadata": {
  "kernelspec": {
   "display_name": "Python 3",
   "language": "python",
   "name": "python3"
  },
  "language_info": {
   "codemirror_mode": {
    "name": "ipython",
    "version": 3
   },
   "file_extension": ".py",
   "mimetype": "text/x-python",
   "name": "python",
   "nbconvert_exporter": "python",
   "pygments_lexer": "ipython3",
   "version": "3.6.11"
  }
 },
 "nbformat": 4,
 "nbformat_minor": 4
}
