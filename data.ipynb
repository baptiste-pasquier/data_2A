{
 "metadata": {
  "language_info": {
   "codemirror_mode": {
    "name": "ipython",
    "version": 3
   },
   "file_extension": ".py",
   "mimetype": "text/x-python",
   "name": "python",
   "nbconvert_exporter": "python",
   "pygments_lexer": "ipython3",
   "version": "3.7.7-final"
  },
  "orig_nbformat": 2,
  "kernelspec": {
   "name": "python3",
   "display_name": "Python 3"
  }
 },
 "nbformat": 4,
 "nbformat_minor": 2,
 "cells": [
  {
   "cell_type": "code",
   "execution_count": 1,
   "metadata": {},
   "outputs": [],
   "source": [
    "from bs4 import BeautifulSoup\n",
    "import pandas as pd\n",
    "import collections\n",
    "import datetime"
   ]
  },
  {
   "cell_type": "code",
   "execution_count": 2,
   "metadata": {
    "tags": []
   },
   "outputs": [
    {
     "output_type": "stream",
     "name": "stdout",
     "text": [
      "biden.html\n",
      "trump.html\n"
     ]
    }
   ],
   "source": [
    "FILES = os.listdir('web')\n",
    "\n",
    "data = []\n",
    "\n",
    "for file in FILES:\n",
    "    print(file)\n",
    "    search = os.path.splitext(file)[0]\n",
    "    with open(f\"web/{file}\", \"r\") as f:\n",
    "        page = BeautifulSoup(f.read(), 'lxml')\n",
    "\n",
    "        tweets = page.findAll(\"div\", class_=\"css-1dbjc4n r-1iusvr4 r-16y2uox r-1777fci r-1mi0q7o\")\n",
    "        for tweet in tweets:\n",
    "            try:    #TODO enlever try except (probleme avec emoji dans nom)\n",
    "                author = tweet.find(\"span\", class_=\"css-901oao css-16my406 r-1qd0xha r-ad9z0x r-bcqeeo r-qvutc0\").find(\"span\", class_=\"css-901oao css-16my406 r-1qd0xha r-ad9z0x r-bcqeeo r-qvutc0\").getText()\n",
    "            except:\n",
    "                author = \"\"\n",
    "\n",
    "            url = tweet.find(\"a\", class_=\"css-4rbku5 css-18t94o4 css-901oao r-111h2gw r-1loqt21 r-1q142lx r-1qd0xha r-a023e6 r-16dba41 r-ad9z0x r-bcqeeo r-3s2u2q r-qvutc0\").attrs.get(\"href\")\n",
    "\n",
    "            time = tweet.find(\"time\").attrs.get(\"datetime\")\n",
    "            time = datetime.datetime.strptime(time, '%Y-%m-%dT%H:%M:%S.%fZ')\n",
    "            #TODO problem plusieurs dates parfois\n",
    "\n",
    "            try:    #TODO enlever try except\n",
    "                text_ = tweet.find(\"div\", class_=\"css-901oao r-jwli3a r-1qd0xha r-a023e6 r-16dba41 r-ad9z0x r-bcqeeo r-bnwqim r-qvutc0\")\n",
    "                text = \"\"\n",
    "                for e in text_.contents:\n",
    "                    text += e.getText()\n",
    "            except:\n",
    "                text = \"\"\n",
    "\n",
    "            data.append({'search': search, 'author': author, 'time': time, 'url': url, 'text': text})\n",
    "    \n",
    "        "
   ]
  },
  {
   "cell_type": "code",
   "execution_count": 3,
   "metadata": {},
   "outputs": [
    {
     "output_type": "execute_result",
     "data": {
      "text/plain": [
       "3356"
      ]
     },
     "metadata": {},
     "execution_count": 3
    }
   ],
   "source": [
    "df = pd.DataFrame(data)\n",
    "len(df)"
   ]
  },
  {
   "cell_type": "code",
   "execution_count": 4,
   "metadata": {},
   "outputs": [
    {
     "output_type": "execute_result",
     "data": {
      "text/plain": [
       "     search                                             author  \\\n",
       "0     biden                                            KS MANN   \n",
       "1     biden                       ᴮᴱ⁷BANGᴛᴀɴɴɪᴇ✜𖧵 | Via’s Only   \n",
       "2     biden                               Neighbors & Citizens   \n",
       "3     biden                                        People Push   \n",
       "4     biden                                    George Kneisser   \n",
       "...     ...                                                ...   \n",
       "3351  trump                                       Cerdic Conan   \n",
       "3352  trump                                              NoMad   \n",
       "3353  trump  Gen Trump, Brotherly Leader & Guide of Revolution   \n",
       "3354  trump                                        Raul Anorve   \n",
       "3355  trump                                            Frank_A   \n",
       "\n",
       "                    time                                          url  \\\n",
       "0    2020-09-01 23:59:59           /KSMANN/status/1300946538986909696   \n",
       "1    2020-09-01 23:59:59  /chicky_nug1bts1/status/1300946538840109056   \n",
       "2    2020-09-01 23:59:59    /CoalitionofNC/status/1300946538089373697   \n",
       "3    2020-09-01 23:59:58     /wepeoplepush/status/1300946533400162305   \n",
       "4    2020-09-01 23:59:58   /GeorgeKneisser/status/1300946532384960512   \n",
       "...                  ...                                          ...   \n",
       "3351 2020-09-01 23:57:22      /CerdicConan/status/1300945877016616961   \n",
       "3352 2020-09-01 23:57:22       /PDXDJnomad/status/1300945876848799745   \n",
       "3353 2020-09-01 23:57:21        /TheBobbyM/status/1300945875691171840   \n",
       "3354 2020-09-01 23:57:21       /AnorveRaul/status/1300945874500030465   \n",
       "3355 2020-09-01 23:57:21    /Double_Drop_D/status/1300945873975808001   \n",
       "\n",
       "                                                   text  \n",
       "0     Ari Fleischer warns Biden handlers 'severely' ...  \n",
       "1     Love trump is fucking mediocre but Biden ain’t...  \n",
       "2     There guy is President now. They are touring T...  \n",
       "3     Funny how Biden is just a citizen now and THIS...  \n",
       "4        And Biden is supposedly the one with dementia.  \n",
       "...                                                 ...  \n",
       "3351  Donald Trump is the ultimate political outside...  \n",
       "3352  As a rule, I don't generally make fun of peopl...  \n",
       "3353  You say double standards we say false equivale...  \n",
       "3354  Trump has slipped among key groups that backed...  \n",
       "3355  I don’t think Biden fits that profile...but Tr...  \n",
       "\n",
       "[3356 rows x 5 columns]"
      ],
      "text/html": "<div>\n<style scoped>\n    .dataframe tbody tr th:only-of-type {\n        vertical-align: middle;\n    }\n\n    .dataframe tbody tr th {\n        vertical-align: top;\n    }\n\n    .dataframe thead th {\n        text-align: right;\n    }\n</style>\n<table border=\"1\" class=\"dataframe\">\n  <thead>\n    <tr style=\"text-align: right;\">\n      <th></th>\n      <th>search</th>\n      <th>author</th>\n      <th>time</th>\n      <th>url</th>\n      <th>text</th>\n    </tr>\n  </thead>\n  <tbody>\n    <tr>\n      <th>0</th>\n      <td>biden</td>\n      <td>KS MANN</td>\n      <td>2020-09-01 23:59:59</td>\n      <td>/KSMANN/status/1300946538986909696</td>\n      <td>Ari Fleischer warns Biden handlers 'severely' ...</td>\n    </tr>\n    <tr>\n      <th>1</th>\n      <td>biden</td>\n      <td>ᴮᴱ⁷BANGᴛᴀɴɴɪᴇ✜𖧵 | Via’s Only</td>\n      <td>2020-09-01 23:59:59</td>\n      <td>/chicky_nug1bts1/status/1300946538840109056</td>\n      <td>Love trump is fucking mediocre but Biden ain’t...</td>\n    </tr>\n    <tr>\n      <th>2</th>\n      <td>biden</td>\n      <td>Neighbors &amp; Citizens</td>\n      <td>2020-09-01 23:59:59</td>\n      <td>/CoalitionofNC/status/1300946538089373697</td>\n      <td>There guy is President now. They are touring T...</td>\n    </tr>\n    <tr>\n      <th>3</th>\n      <td>biden</td>\n      <td>People Push</td>\n      <td>2020-09-01 23:59:58</td>\n      <td>/wepeoplepush/status/1300946533400162305</td>\n      <td>Funny how Biden is just a citizen now and THIS...</td>\n    </tr>\n    <tr>\n      <th>4</th>\n      <td>biden</td>\n      <td>George Kneisser</td>\n      <td>2020-09-01 23:59:58</td>\n      <td>/GeorgeKneisser/status/1300946532384960512</td>\n      <td>And Biden is supposedly the one with dementia.</td>\n    </tr>\n    <tr>\n      <th>...</th>\n      <td>...</td>\n      <td>...</td>\n      <td>...</td>\n      <td>...</td>\n      <td>...</td>\n    </tr>\n    <tr>\n      <th>3351</th>\n      <td>trump</td>\n      <td>Cerdic Conan</td>\n      <td>2020-09-01 23:57:22</td>\n      <td>/CerdicConan/status/1300945877016616961</td>\n      <td>Donald Trump is the ultimate political outside...</td>\n    </tr>\n    <tr>\n      <th>3352</th>\n      <td>trump</td>\n      <td>NoMad</td>\n      <td>2020-09-01 23:57:22</td>\n      <td>/PDXDJnomad/status/1300945876848799745</td>\n      <td>As a rule, I don't generally make fun of peopl...</td>\n    </tr>\n    <tr>\n      <th>3353</th>\n      <td>trump</td>\n      <td>Gen Trump, Brotherly Leader &amp; Guide of Revolution</td>\n      <td>2020-09-01 23:57:21</td>\n      <td>/TheBobbyM/status/1300945875691171840</td>\n      <td>You say double standards we say false equivale...</td>\n    </tr>\n    <tr>\n      <th>3354</th>\n      <td>trump</td>\n      <td>Raul Anorve</td>\n      <td>2020-09-01 23:57:21</td>\n      <td>/AnorveRaul/status/1300945874500030465</td>\n      <td>Trump has slipped among key groups that backed...</td>\n    </tr>\n    <tr>\n      <th>3355</th>\n      <td>trump</td>\n      <td>Frank_A</td>\n      <td>2020-09-01 23:57:21</td>\n      <td>/Double_Drop_D/status/1300945873975808001</td>\n      <td>I don’t think Biden fits that profile...but Tr...</td>\n    </tr>\n  </tbody>\n</table>\n<p>3356 rows × 5 columns</p>\n</div>"
     },
     "metadata": {},
     "execution_count": 4
    }
   ],
   "source": [
    "df"
   ]
  },
  {
   "cell_type": "code",
   "execution_count": 5,
   "metadata": {},
   "outputs": [
    {
     "output_type": "execute_result",
     "data": {
      "text/plain": [
       "search            object\n",
       "author            object\n",
       "time      datetime64[ns]\n",
       "url               object\n",
       "text              object\n",
       "dtype: object"
      ]
     },
     "metadata": {},
     "execution_count": 5
    }
   ],
   "source": [
    "df.dtypes"
   ]
  },
  {
   "cell_type": "code",
   "execution_count": 6,
   "metadata": {},
   "outputs": [
    {
     "output_type": "execute_result",
     "data": {
      "text/plain": [
       "     search                                             author  \\\n",
       "1811  trump                              Fabulous Abomination    \n",
       "1812  trump                       ᴮᴱ⁷BANGᴛᴀɴɴɪᴇ✜𖧵 | Via’s Only   \n",
       "1813  trump                                      Zack Davisson   \n",
       "1814  trump                                           Snipes01   \n",
       "1815  trump                               Neighbors & Citizens   \n",
       "...     ...                                                ...   \n",
       "3351  trump                                       Cerdic Conan   \n",
       "3352  trump                                              NoMad   \n",
       "3353  trump  Gen Trump, Brotherly Leader & Guide of Revolution   \n",
       "3354  trump                                        Raul Anorve   \n",
       "3355  trump                                            Frank_A   \n",
       "\n",
       "                    time                                          url  \\\n",
       "1811 2020-09-01 23:59:59  /FabulousHeathen/status/1300946538856939525   \n",
       "1812 2020-09-01 23:59:59  /chicky_nug1bts1/status/1300946538840109056   \n",
       "1813 2020-09-01 23:59:59     /ZackDavisson/status/1300946538416406528   \n",
       "1814 2020-09-01 23:59:59        /Snipes0_1/status/1300946538265370626   \n",
       "1815 2020-09-01 23:59:59    /CoalitionofNC/status/1300946538089373697   \n",
       "...                  ...                                          ...   \n",
       "3351 2020-09-01 23:57:22      /CerdicConan/status/1300945877016616961   \n",
       "3352 2020-09-01 23:57:22       /PDXDJnomad/status/1300945876848799745   \n",
       "3353 2020-09-01 23:57:21        /TheBobbyM/status/1300945875691171840   \n",
       "3354 2020-09-01 23:57:21       /AnorveRaul/status/1300945874500030465   \n",
       "3355 2020-09-01 23:57:21    /Double_Drop_D/status/1300945873975808001   \n",
       "\n",
       "                                                   text  \n",
       "1811     Sadly, it's going to be 4 more years of Trump.  \n",
       "1812  Love trump is fucking mediocre but Biden ain’t...  \n",
       "1813  Nellie Hall would like to show Donald Trump EX...  \n",
       "1814  No! You are not putting this one Black people ...  \n",
       "1815  There guy is President now. They are touring T...  \n",
       "...                                                 ...  \n",
       "3351  Donald Trump is the ultimate political outside...  \n",
       "3352  As a rule, I don't generally make fun of peopl...  \n",
       "3353  You say double standards we say false equivale...  \n",
       "3354  Trump has slipped among key groups that backed...  \n",
       "3355  I don’t think Biden fits that profile...but Tr...  \n",
       "\n",
       "[1545 rows x 5 columns]"
      ],
      "text/html": "<div>\n<style scoped>\n    .dataframe tbody tr th:only-of-type {\n        vertical-align: middle;\n    }\n\n    .dataframe tbody tr th {\n        vertical-align: top;\n    }\n\n    .dataframe thead th {\n        text-align: right;\n    }\n</style>\n<table border=\"1\" class=\"dataframe\">\n  <thead>\n    <tr style=\"text-align: right;\">\n      <th></th>\n      <th>search</th>\n      <th>author</th>\n      <th>time</th>\n      <th>url</th>\n      <th>text</th>\n    </tr>\n  </thead>\n  <tbody>\n    <tr>\n      <th>1811</th>\n      <td>trump</td>\n      <td>Fabulous Abomination</td>\n      <td>2020-09-01 23:59:59</td>\n      <td>/FabulousHeathen/status/1300946538856939525</td>\n      <td>Sadly, it's going to be 4 more years of Trump.</td>\n    </tr>\n    <tr>\n      <th>1812</th>\n      <td>trump</td>\n      <td>ᴮᴱ⁷BANGᴛᴀɴɴɪᴇ✜𖧵 | Via’s Only</td>\n      <td>2020-09-01 23:59:59</td>\n      <td>/chicky_nug1bts1/status/1300946538840109056</td>\n      <td>Love trump is fucking mediocre but Biden ain’t...</td>\n    </tr>\n    <tr>\n      <th>1813</th>\n      <td>trump</td>\n      <td>Zack Davisson</td>\n      <td>2020-09-01 23:59:59</td>\n      <td>/ZackDavisson/status/1300946538416406528</td>\n      <td>Nellie Hall would like to show Donald Trump EX...</td>\n    </tr>\n    <tr>\n      <th>1814</th>\n      <td>trump</td>\n      <td>Snipes01</td>\n      <td>2020-09-01 23:59:59</td>\n      <td>/Snipes0_1/status/1300946538265370626</td>\n      <td>No! You are not putting this one Black people ...</td>\n    </tr>\n    <tr>\n      <th>1815</th>\n      <td>trump</td>\n      <td>Neighbors &amp; Citizens</td>\n      <td>2020-09-01 23:59:59</td>\n      <td>/CoalitionofNC/status/1300946538089373697</td>\n      <td>There guy is President now. They are touring T...</td>\n    </tr>\n    <tr>\n      <th>...</th>\n      <td>...</td>\n      <td>...</td>\n      <td>...</td>\n      <td>...</td>\n      <td>...</td>\n    </tr>\n    <tr>\n      <th>3351</th>\n      <td>trump</td>\n      <td>Cerdic Conan</td>\n      <td>2020-09-01 23:57:22</td>\n      <td>/CerdicConan/status/1300945877016616961</td>\n      <td>Donald Trump is the ultimate political outside...</td>\n    </tr>\n    <tr>\n      <th>3352</th>\n      <td>trump</td>\n      <td>NoMad</td>\n      <td>2020-09-01 23:57:22</td>\n      <td>/PDXDJnomad/status/1300945876848799745</td>\n      <td>As a rule, I don't generally make fun of peopl...</td>\n    </tr>\n    <tr>\n      <th>3353</th>\n      <td>trump</td>\n      <td>Gen Trump, Brotherly Leader &amp; Guide of Revolution</td>\n      <td>2020-09-01 23:57:21</td>\n      <td>/TheBobbyM/status/1300945875691171840</td>\n      <td>You say double standards we say false equivale...</td>\n    </tr>\n    <tr>\n      <th>3354</th>\n      <td>trump</td>\n      <td>Raul Anorve</td>\n      <td>2020-09-01 23:57:21</td>\n      <td>/AnorveRaul/status/1300945874500030465</td>\n      <td>Trump has slipped among key groups that backed...</td>\n    </tr>\n    <tr>\n      <th>3355</th>\n      <td>trump</td>\n      <td>Frank_A</td>\n      <td>2020-09-01 23:57:21</td>\n      <td>/Double_Drop_D/status/1300945873975808001</td>\n      <td>I don’t think Biden fits that profile...but Tr...</td>\n    </tr>\n  </tbody>\n</table>\n<p>1545 rows × 5 columns</p>\n</div>"
     },
     "metadata": {},
     "execution_count": 6
    }
   ],
   "source": [
    "df[df.search == \"trump\"]"
   ]
  },
  {
   "cell_type": "code",
   "execution_count": 7,
   "metadata": {},
   "outputs": [
    {
     "output_type": "execute_result",
     "data": {
      "text/plain": [
       "     search                        author                time  \\\n",
       "0     biden                       KS MANN 2020-09-01 23:59:59   \n",
       "1     biden  ᴮᴱ⁷BANGᴛᴀɴɴɪᴇ✜𖧵 | Via’s Only 2020-09-01 23:59:59   \n",
       "2     biden          Neighbors & Citizens 2020-09-01 23:59:59   \n",
       "3     biden                   People Push 2020-09-01 23:59:58   \n",
       "4     biden               George Kneisser 2020-09-01 23:59:58   \n",
       "...     ...                           ...                 ...   \n",
       "1806  biden              Just call me Pj  2020-09-01 23:48:51   \n",
       "1807  biden                          Gina 2020-09-01 23:48:51   \n",
       "1808  biden               Rue de l’avenir 2020-09-01 23:48:50   \n",
       "1809  biden                     Alejandro 2020-09-01 23:48:50   \n",
       "1810  biden               Stephen Philion 2020-09-01 23:48:50   \n",
       "\n",
       "                                              url  \\\n",
       "0              /KSMANN/status/1300946538986909696   \n",
       "1     /chicky_nug1bts1/status/1300946538840109056   \n",
       "2       /CoalitionofNC/status/1300946538089373697   \n",
       "3        /wepeoplepush/status/1300946533400162305   \n",
       "4      /GeorgeKneisser/status/1300946532384960512   \n",
       "...                                           ...   \n",
       "1806  /DalrymplePamala/status/1300943736956952577   \n",
       "1807     /geenahwilcox/status/1300943735413338112   \n",
       "1808      /jasonmantis/status/1300943732997488640   \n",
       "1809    /Alexpanther56/status/1300943730908815360   \n",
       "1810        /gramsci33/status/1300943729218461702   \n",
       "\n",
       "                                                   text  \n",
       "0     Ari Fleischer warns Biden handlers 'severely' ...  \n",
       "1     Love trump is fucking mediocre but Biden ain’t...  \n",
       "2     There guy is President now. They are touring T...  \n",
       "3     Funny how Biden is just a citizen now and THIS...  \n",
       "4        And Biden is supposedly the one with dementia.  \n",
       "...                                                 ...  \n",
       "1806  America has been saying @realDonaldTrump  was ...  \n",
       "1807  They’re trying to hide the fact the Biden had ...  \n",
       "1808  I'll believe you when you show me the Biden cl...  \n",
       "1809  Si gracias a los gobiernos que lo antecedierón...  \n",
       "1810  I’m not a Biden fan, but I see it as stutterin...  \n",
       "\n",
       "[1811 rows x 5 columns]"
      ],
      "text/html": "<div>\n<style scoped>\n    .dataframe tbody tr th:only-of-type {\n        vertical-align: middle;\n    }\n\n    .dataframe tbody tr th {\n        vertical-align: top;\n    }\n\n    .dataframe thead th {\n        text-align: right;\n    }\n</style>\n<table border=\"1\" class=\"dataframe\">\n  <thead>\n    <tr style=\"text-align: right;\">\n      <th></th>\n      <th>search</th>\n      <th>author</th>\n      <th>time</th>\n      <th>url</th>\n      <th>text</th>\n    </tr>\n  </thead>\n  <tbody>\n    <tr>\n      <th>0</th>\n      <td>biden</td>\n      <td>KS MANN</td>\n      <td>2020-09-01 23:59:59</td>\n      <td>/KSMANN/status/1300946538986909696</td>\n      <td>Ari Fleischer warns Biden handlers 'severely' ...</td>\n    </tr>\n    <tr>\n      <th>1</th>\n      <td>biden</td>\n      <td>ᴮᴱ⁷BANGᴛᴀɴɴɪᴇ✜𖧵 | Via’s Only</td>\n      <td>2020-09-01 23:59:59</td>\n      <td>/chicky_nug1bts1/status/1300946538840109056</td>\n      <td>Love trump is fucking mediocre but Biden ain’t...</td>\n    </tr>\n    <tr>\n      <th>2</th>\n      <td>biden</td>\n      <td>Neighbors &amp; Citizens</td>\n      <td>2020-09-01 23:59:59</td>\n      <td>/CoalitionofNC/status/1300946538089373697</td>\n      <td>There guy is President now. They are touring T...</td>\n    </tr>\n    <tr>\n      <th>3</th>\n      <td>biden</td>\n      <td>People Push</td>\n      <td>2020-09-01 23:59:58</td>\n      <td>/wepeoplepush/status/1300946533400162305</td>\n      <td>Funny how Biden is just a citizen now and THIS...</td>\n    </tr>\n    <tr>\n      <th>4</th>\n      <td>biden</td>\n      <td>George Kneisser</td>\n      <td>2020-09-01 23:59:58</td>\n      <td>/GeorgeKneisser/status/1300946532384960512</td>\n      <td>And Biden is supposedly the one with dementia.</td>\n    </tr>\n    <tr>\n      <th>...</th>\n      <td>...</td>\n      <td>...</td>\n      <td>...</td>\n      <td>...</td>\n      <td>...</td>\n    </tr>\n    <tr>\n      <th>1806</th>\n      <td>biden</td>\n      <td>Just call me Pj</td>\n      <td>2020-09-01 23:48:51</td>\n      <td>/DalrymplePamala/status/1300943736956952577</td>\n      <td>America has been saying @realDonaldTrump  was ...</td>\n    </tr>\n    <tr>\n      <th>1807</th>\n      <td>biden</td>\n      <td>Gina</td>\n      <td>2020-09-01 23:48:51</td>\n      <td>/geenahwilcox/status/1300943735413338112</td>\n      <td>They’re trying to hide the fact the Biden had ...</td>\n    </tr>\n    <tr>\n      <th>1808</th>\n      <td>biden</td>\n      <td>Rue de l’avenir</td>\n      <td>2020-09-01 23:48:50</td>\n      <td>/jasonmantis/status/1300943732997488640</td>\n      <td>I'll believe you when you show me the Biden cl...</td>\n    </tr>\n    <tr>\n      <th>1809</th>\n      <td>biden</td>\n      <td>Alejandro</td>\n      <td>2020-09-01 23:48:50</td>\n      <td>/Alexpanther56/status/1300943730908815360</td>\n      <td>Si gracias a los gobiernos que lo antecedierón...</td>\n    </tr>\n    <tr>\n      <th>1810</th>\n      <td>biden</td>\n      <td>Stephen Philion</td>\n      <td>2020-09-01 23:48:50</td>\n      <td>/gramsci33/status/1300943729218461702</td>\n      <td>I’m not a Biden fan, but I see it as stutterin...</td>\n    </tr>\n  </tbody>\n</table>\n<p>1811 rows × 5 columns</p>\n</div>"
     },
     "metadata": {},
     "execution_count": 7
    }
   ],
   "source": [
    "df[df.search == \"biden\"]"
   ]
  }
 ]
}