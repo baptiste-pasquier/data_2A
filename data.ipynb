{
 "metadata": {
  "language_info": {
   "codemirror_mode": {
    "name": "ipython",
    "version": 3
   },
   "file_extension": ".py",
   "mimetype": "text/x-python",
   "name": "python",
   "nbconvert_exporter": "python",
   "pygments_lexer": "ipython3",
   "version": "3.7.7-final"
  },
  "orig_nbformat": 2,
  "kernelspec": {
   "name": "python3",
   "display_name": "Python 3"
  }
 },
 "nbformat": 4,
 "nbformat_minor": 2,
 "cells": [
  {
   "cell_type": "code",
   "execution_count": 1,
   "metadata": {},
   "outputs": [],
   "source": [
    "from bs4 import BeautifulSoup\n",
    "import pandas as pd\n",
    "import datetime\n",
    "import os"
   ]
  },
  {
   "cell_type": "code",
   "execution_count": 2,
   "metadata": {},
   "outputs": [],
   "source": [
    "def find_author(tweet):\n",
    "    \"\"\"\n",
    "    Args:\n",
    "        tweet (bs4.element.Tag): [description]\n",
    "\n",
    "    Returns:\n",
    "        string: auteur du tweet\n",
    "    \"\"\"\n",
    "    author = \"\"\n",
    "    elements = tweet.find(\"span\", class_=\"css-901oao css-16my406 r-1qd0xha r-ad9z0x r-bcqeeo r-qvutc0\").contents\n",
    "    for elem in elements:\n",
    "        if elem.find(\"div\"):\n",
    "            if 'title' in elem.find('div').attrs:\n",
    "                author += f\"[{elem.find('div').attrs['aria-label']}]\"\n",
    "            else:\n",
    "                author += elem.find('div').attrs['aria-label']\n",
    "        else:\n",
    "            author += elem.getText()\n",
    "    return author\n",
    "\n",
    "\n",
    "def find_text(tweet):\n",
    "    \"\"\"\n",
    "    Args:\n",
    "        tweet (bs4.element.Tag): [description]\n",
    "\n",
    "    Returns:\n",
    "        string, string: texte du tweet, langue du tweet\n",
    "    \"\"\"\n",
    "    text_ = tweet.find(\"div\", class_=\"css-901oao r-jwli3a r-1qd0xha r-a023e6 r-16dba41 r-ad9z0x r-bcqeeo r-bnwqim r-qvutc0\")\n",
    "\n",
    "    if not text_:\n",
    "        text_ = tweet.find(\"div\", class_=\"css-901oao r-jwli3a r-1tl8opc r-a023e6 r-16dba41 r-ad9z0x r-bcqeeo r-bnwqim r-qvutc0\")  # Japonais par exemple\n",
    "\n",
    "    lang = text_.attrs['lang']\n",
    "    text = \"\"\n",
    "    for elem in text_.contents:\n",
    "        if elem.find(\"div\"):\n",
    "            if 'title' in elem.find('div').attrs:\n",
    "                text += f\"[{elem.find('div').attrs['aria-label']}]\"\n",
    "            else:\n",
    "                text += elem.find('div').attrs['aria-label']\n",
    "        else:\n",
    "            text += elem.getText()\n",
    "    return text, lang"
   ]
  },
  {
   "cell_type": "code",
   "execution_count": 3,
   "metadata": {
    "tags": []
   },
   "outputs": [
    {
     "output_type": "stream",
     "name": "stdout",
     "text": [
      "biden.html\n",
      "trump.html\n"
     ]
    }
   ],
   "source": [
    "FILES = os.listdir('web')\n",
    "\n",
    "data = []\n",
    "\n",
    "for file in FILES:\n",
    "    print(file)\n",
    "    search = os.path.splitext(file)[0]\n",
    "    with open(f\"web/{file}\", \"r\") as f:\n",
    "        page = BeautifulSoup(f.read(), 'lxml')\n",
    "\n",
    "        tweets = page.findAll(\"div\", class_=\"css-1dbjc4n r-1iusvr4 r-16y2uox r-1777fci r-1mi0q7o\")\n",
    "        i = 0\n",
    "        for tweet in tweets:\n",
    "            url = tweet.find(\"a\", class_=\"css-4rbku5 css-18t94o4 css-901oao r-111h2gw r-1loqt21 r-1q142lx r-1qd0xha r-a023e6 r-16dba41 r-ad9z0x r-bcqeeo r-3s2u2q r-qvutc0\").attrs.get(\"href\")\n",
    "            # Ok unique url\n",
    "\n",
    "            error_author = False\n",
    "            try:\n",
    "                author = find_author(tweet)\n",
    "            except:\n",
    "                error_author = True\n",
    "                print(\"Erreur auteur :\", url)\n",
    "\n",
    "            time = tweet.find(\"time\").attrs.get(\"datetime\")\n",
    "            time = datetime.datetime.strptime(time, '%Y-%m-%dT%H:%M:%S.%fZ')\n",
    "            # Parfois 2 dates lors des retweet, mais c'est bien la première date qu'il faut prendre en compte\n",
    "\n",
    "            error_text = False\n",
    "            try:\n",
    "                text, lang = find_text(tweet)\n",
    "            except:\n",
    "                error_text = True\n",
    "                print(\"Erreur texte\", i, url)\n",
    "\n",
    "            reply = False\n",
    "            reply_ = tweet.find(\"div\", class_=\"css-901oao r-111h2gw r-1qd0xha r-a023e6 r-16dba41 r-ad9z0x r-bcqeeo r-qvutc0\")\n",
    "            if reply_:\n",
    "                if reply_.find(text=True) == \"Replying to \":\n",
    "                    reply = True\n",
    "\n",
    "            if not error_author and not error_text:\n",
    "                data.append({'search': search, 'author': author, 'time': time, 'url': url, 'text': text, 'lang':lang, 'reply':reply})\n",
    "\n",
    "            i += 1"
   ]
  },
  {
   "cell_type": "code",
   "execution_count": 4,
   "metadata": {},
   "outputs": [
    {
     "output_type": "execute_result",
     "data": {
      "text/plain": [
       "4045"
      ]
     },
     "metadata": {},
     "execution_count": 4
    }
   ],
   "source": [
    "df = pd.DataFrame(data)\n",
    "len(df)"
   ]
  },
  {
   "cell_type": "code",
   "execution_count": 5,
   "metadata": {},
   "outputs": [
    {
     "output_type": "execute_result",
     "data": {
      "text/plain": [
       "search            object\n",
       "author            object\n",
       "time      datetime64[ns]\n",
       "url               object\n",
       "text              object\n",
       "lang              object\n",
       "reply               bool\n",
       "dtype: object"
      ]
     },
     "metadata": {},
     "execution_count": 5
    }
   ],
   "source": [
    "df.dtypes"
   ]
  },
  {
   "cell_type": "code",
   "execution_count": 6,
   "metadata": {},
   "outputs": [
    {
     "output_type": "execute_result",
     "data": {
      "text/plain": [
       "     search                              author                time  \\\n",
       "517   trump  Honestly, Its What They Deserve 🌊🌊 2012-12-05 23:59:48   \n",
       "518   trump                               PEEZO 2012-12-05 23:59:48   \n",
       "519   trump                  Kayleigh Donaldson 2012-12-05 23:59:46   \n",
       "520   trump                          Big Scotty 2012-12-05 23:59:39   \n",
       "521   trump                       Andrew Clauer 2012-12-05 23:58:50   \n",
       "...     ...                                 ...                 ...   \n",
       "4040  trump                               Paolo 2012-12-05 02:36:59   \n",
       "4041  trump                         ♡ N. Doll ♡ 2012-12-05 02:36:50   \n",
       "4042  trump                        Arista Ellis 2012-12-05 02:36:43   \n",
       "4043  trump               David Thomas McKenzie 2012-12-05 02:36:39   \n",
       "4044  trump                  Eleni Boulougouris 2012-12-05 02:35:47   \n",
       "\n",
       "                                             url  \\\n",
       "517    /WhatFulikaSays/status/276475993600954368   \n",
       "518   /ItsNiecesPieces/status/276475992921493504   \n",
       "519        /Ceilidhann/status/276475984931323904   \n",
       "520       /redsealtech/status/276475955302772737   \n",
       "521      /andrewclauer/status/276475749542801408   \n",
       "...                                          ...   \n",
       "4040     /PaoloTorress/status/276153163374030849   \n",
       "4041       /North_Doll/status/276153125289750528   \n",
       "4042        /Arista817/status/276153098207117312   \n",
       "4043   /davidtmckenzie/status/276153079391481856   \n",
       "4044      /eleniboulou/status/276152859492507648   \n",
       "\n",
       "                                                   text lang  reply  \n",
       "517   Look, I love Nene as much as you but has anyon...   en  False  \n",
       "518   & your arms tired...they gotta be lol RT @MsHo...   en  False  \n",
       "519   Come on Scotland, let us unite for a wonderful...   en  False  \n",
       "520   @scotchblog Trump has completely lost his marb...   en  False  \n",
       "521   I'm at Trump Parc Condo (New York, NY) http://...   en  False  \n",
       "...                                                 ...  ...    ...  \n",
       "4040  Take over the world when im on my donald trump...   en  False  \n",
       "4041  @BubbaWallace @chaseelliott @RossKenseth lmao ...   en  False  \n",
       "4042  Jerry Trump admits in April 2012 to lying at 2...   en  False  \n",
       "4043  @realDonaldTrump \\n\\nLove ritz Carleton. Great...   en  False  \n",
       "4044  @Dtauro92 @amoradi_life Gemini trumps all *evi...   en  False  \n",
       "\n",
       "[3528 rows x 7 columns]"
      ],
      "text/html": "<div>\n<style scoped>\n    .dataframe tbody tr th:only-of-type {\n        vertical-align: middle;\n    }\n\n    .dataframe tbody tr th {\n        vertical-align: top;\n    }\n\n    .dataframe thead th {\n        text-align: right;\n    }\n</style>\n<table border=\"1\" class=\"dataframe\">\n  <thead>\n    <tr style=\"text-align: right;\">\n      <th></th>\n      <th>search</th>\n      <th>author</th>\n      <th>time</th>\n      <th>url</th>\n      <th>text</th>\n      <th>lang</th>\n      <th>reply</th>\n    </tr>\n  </thead>\n  <tbody>\n    <tr>\n      <th>517</th>\n      <td>trump</td>\n      <td>Honestly, Its What They Deserve 🌊🌊</td>\n      <td>2012-12-05 23:59:48</td>\n      <td>/WhatFulikaSays/status/276475993600954368</td>\n      <td>Look, I love Nene as much as you but has anyon...</td>\n      <td>en</td>\n      <td>False</td>\n    </tr>\n    <tr>\n      <th>518</th>\n      <td>trump</td>\n      <td>PEEZO</td>\n      <td>2012-12-05 23:59:48</td>\n      <td>/ItsNiecesPieces/status/276475992921493504</td>\n      <td>&amp; your arms tired...they gotta be lol RT @MsHo...</td>\n      <td>en</td>\n      <td>False</td>\n    </tr>\n    <tr>\n      <th>519</th>\n      <td>trump</td>\n      <td>Kayleigh Donaldson</td>\n      <td>2012-12-05 23:59:46</td>\n      <td>/Ceilidhann/status/276475984931323904</td>\n      <td>Come on Scotland, let us unite for a wonderful...</td>\n      <td>en</td>\n      <td>False</td>\n    </tr>\n    <tr>\n      <th>520</th>\n      <td>trump</td>\n      <td>Big Scotty</td>\n      <td>2012-12-05 23:59:39</td>\n      <td>/redsealtech/status/276475955302772737</td>\n      <td>@scotchblog Trump has completely lost his marb...</td>\n      <td>en</td>\n      <td>False</td>\n    </tr>\n    <tr>\n      <th>521</th>\n      <td>trump</td>\n      <td>Andrew Clauer</td>\n      <td>2012-12-05 23:58:50</td>\n      <td>/andrewclauer/status/276475749542801408</td>\n      <td>I'm at Trump Parc Condo (New York, NY) http://...</td>\n      <td>en</td>\n      <td>False</td>\n    </tr>\n    <tr>\n      <th>...</th>\n      <td>...</td>\n      <td>...</td>\n      <td>...</td>\n      <td>...</td>\n      <td>...</td>\n      <td>...</td>\n      <td>...</td>\n    </tr>\n    <tr>\n      <th>4040</th>\n      <td>trump</td>\n      <td>Paolo</td>\n      <td>2012-12-05 02:36:59</td>\n      <td>/PaoloTorress/status/276153163374030849</td>\n      <td>Take over the world when im on my donald trump...</td>\n      <td>en</td>\n      <td>False</td>\n    </tr>\n    <tr>\n      <th>4041</th>\n      <td>trump</td>\n      <td>♡ N. Doll ♡</td>\n      <td>2012-12-05 02:36:50</td>\n      <td>/North_Doll/status/276153125289750528</td>\n      <td>@BubbaWallace @chaseelliott @RossKenseth lmao ...</td>\n      <td>en</td>\n      <td>False</td>\n    </tr>\n    <tr>\n      <th>4042</th>\n      <td>trump</td>\n      <td>Arista Ellis</td>\n      <td>2012-12-05 02:36:43</td>\n      <td>/Arista817/status/276153098207117312</td>\n      <td>Jerry Trump admits in April 2012 to lying at 2...</td>\n      <td>en</td>\n      <td>False</td>\n    </tr>\n    <tr>\n      <th>4043</th>\n      <td>trump</td>\n      <td>David Thomas McKenzie</td>\n      <td>2012-12-05 02:36:39</td>\n      <td>/davidtmckenzie/status/276153079391481856</td>\n      <td>@realDonaldTrump \\n\\nLove ritz Carleton. Great...</td>\n      <td>en</td>\n      <td>False</td>\n    </tr>\n    <tr>\n      <th>4044</th>\n      <td>trump</td>\n      <td>Eleni Boulougouris</td>\n      <td>2012-12-05 02:35:47</td>\n      <td>/eleniboulou/status/276152859492507648</td>\n      <td>@Dtauro92 @amoradi_life Gemini trumps all *evi...</td>\n      <td>en</td>\n      <td>False</td>\n    </tr>\n  </tbody>\n</table>\n<p>3528 rows × 7 columns</p>\n</div>"
     },
     "metadata": {},
     "execution_count": 6
    }
   ],
   "source": [
    "df[df.search == \"trump\"]"
   ]
  },
  {
   "cell_type": "code",
   "execution_count": 7,
   "metadata": {},
   "outputs": [],
   "source": [
    "def filtre(text):\n",
    "    lower_text = text.lower()\n",
    "    if \"trumps\" in lower_text:\n",
    "        if \"trump\" in lower_text.replace(\"trumps\", \"\"):\n",
    "            return True\n",
    "        else:\n",
    "            return False\n",
    "    else:\n",
    "        return True"
   ]
  },
  {
   "cell_type": "code",
   "execution_count": 8,
   "metadata": {},
   "outputs": [
    {
     "output_type": "execute_result",
     "data": {
      "text/plain": [
       "     search                 author                time  \\\n",
       "518   trump                  PEEZO 2012-12-05 23:59:48   \n",
       "519   trump     Kayleigh Donaldson 2012-12-05 23:59:46   \n",
       "520   trump             Big Scotty 2012-12-05 23:59:39   \n",
       "521   trump          Andrew Clauer 2012-12-05 23:58:50   \n",
       "522   trump         Selene Navarro 2012-12-05 23:58:37   \n",
       "...     ...                    ...                 ...   \n",
       "4039  trump                homelet 2012-12-05 02:37:14   \n",
       "4040  trump                  Paolo 2012-12-05 02:36:59   \n",
       "4041  trump            ♡ N. Doll ♡ 2012-12-05 02:36:50   \n",
       "4042  trump           Arista Ellis 2012-12-05 02:36:43   \n",
       "4043  trump  David Thomas McKenzie 2012-12-05 02:36:39   \n",
       "\n",
       "                                             url  \\\n",
       "518   /ItsNiecesPieces/status/276475992921493504   \n",
       "519        /Ceilidhann/status/276475984931323904   \n",
       "520       /redsealtech/status/276475955302772737   \n",
       "521      /andrewclauer/status/276475749542801408   \n",
       "522    /SeleneNavarroS/status/276475698640719872   \n",
       "...                                          ...   \n",
       "4039       /homelet_ca/status/276153225588117504   \n",
       "4040     /PaoloTorress/status/276153163374030849   \n",
       "4041       /North_Doll/status/276153125289750528   \n",
       "4042        /Arista817/status/276153098207117312   \n",
       "4043   /davidtmckenzie/status/276153079391481856   \n",
       "\n",
       "                                                   text lang  reply  \n",
       "518   & your arms tired...they gotta be lol RT @MsHo...   en  False  \n",
       "519   Come on Scotland, let us unite for a wonderful...   en  False  \n",
       "520   @scotchblog Trump has completely lost his marb...   en  False  \n",
       "521   I'm at Trump Parc Condo (New York, NY) http://...   en  False  \n",
       "522   Women trump men in financial planning: RaboDir...   en  False  \n",
       "...                                                 ...  ...    ...  \n",
       "4039  OSC won't take action against Toronto’s Trump ...   en  False  \n",
       "4040  Take over the world when im on my donald trump...   en  False  \n",
       "4041  @BubbaWallace @chaseelliott @RossKenseth lmao ...   en  False  \n",
       "4042  Jerry Trump admits in April 2012 to lying at 2...   en  False  \n",
       "4043  @realDonaldTrump \\n\\nLove ritz Carleton. Great...   en  False  \n",
       "\n",
       "[2839 rows x 7 columns]"
      ],
      "text/html": "<div>\n<style scoped>\n    .dataframe tbody tr th:only-of-type {\n        vertical-align: middle;\n    }\n\n    .dataframe tbody tr th {\n        vertical-align: top;\n    }\n\n    .dataframe thead th {\n        text-align: right;\n    }\n</style>\n<table border=\"1\" class=\"dataframe\">\n  <thead>\n    <tr style=\"text-align: right;\">\n      <th></th>\n      <th>search</th>\n      <th>author</th>\n      <th>time</th>\n      <th>url</th>\n      <th>text</th>\n      <th>lang</th>\n      <th>reply</th>\n    </tr>\n  </thead>\n  <tbody>\n    <tr>\n      <th>518</th>\n      <td>trump</td>\n      <td>PEEZO</td>\n      <td>2012-12-05 23:59:48</td>\n      <td>/ItsNiecesPieces/status/276475992921493504</td>\n      <td>&amp; your arms tired...they gotta be lol RT @MsHo...</td>\n      <td>en</td>\n      <td>False</td>\n    </tr>\n    <tr>\n      <th>519</th>\n      <td>trump</td>\n      <td>Kayleigh Donaldson</td>\n      <td>2012-12-05 23:59:46</td>\n      <td>/Ceilidhann/status/276475984931323904</td>\n      <td>Come on Scotland, let us unite for a wonderful...</td>\n      <td>en</td>\n      <td>False</td>\n    </tr>\n    <tr>\n      <th>520</th>\n      <td>trump</td>\n      <td>Big Scotty</td>\n      <td>2012-12-05 23:59:39</td>\n      <td>/redsealtech/status/276475955302772737</td>\n      <td>@scotchblog Trump has completely lost his marb...</td>\n      <td>en</td>\n      <td>False</td>\n    </tr>\n    <tr>\n      <th>521</th>\n      <td>trump</td>\n      <td>Andrew Clauer</td>\n      <td>2012-12-05 23:58:50</td>\n      <td>/andrewclauer/status/276475749542801408</td>\n      <td>I'm at Trump Parc Condo (New York, NY) http://...</td>\n      <td>en</td>\n      <td>False</td>\n    </tr>\n    <tr>\n      <th>522</th>\n      <td>trump</td>\n      <td>Selene Navarro</td>\n      <td>2012-12-05 23:58:37</td>\n      <td>/SeleneNavarroS/status/276475698640719872</td>\n      <td>Women trump men in financial planning: RaboDir...</td>\n      <td>en</td>\n      <td>False</td>\n    </tr>\n    <tr>\n      <th>...</th>\n      <td>...</td>\n      <td>...</td>\n      <td>...</td>\n      <td>...</td>\n      <td>...</td>\n      <td>...</td>\n      <td>...</td>\n    </tr>\n    <tr>\n      <th>4039</th>\n      <td>trump</td>\n      <td>homelet</td>\n      <td>2012-12-05 02:37:14</td>\n      <td>/homelet_ca/status/276153225588117504</td>\n      <td>OSC won't take action against Toronto’s Trump ...</td>\n      <td>en</td>\n      <td>False</td>\n    </tr>\n    <tr>\n      <th>4040</th>\n      <td>trump</td>\n      <td>Paolo</td>\n      <td>2012-12-05 02:36:59</td>\n      <td>/PaoloTorress/status/276153163374030849</td>\n      <td>Take over the world when im on my donald trump...</td>\n      <td>en</td>\n      <td>False</td>\n    </tr>\n    <tr>\n      <th>4041</th>\n      <td>trump</td>\n      <td>♡ N. Doll ♡</td>\n      <td>2012-12-05 02:36:50</td>\n      <td>/North_Doll/status/276153125289750528</td>\n      <td>@BubbaWallace @chaseelliott @RossKenseth lmao ...</td>\n      <td>en</td>\n      <td>False</td>\n    </tr>\n    <tr>\n      <th>4042</th>\n      <td>trump</td>\n      <td>Arista Ellis</td>\n      <td>2012-12-05 02:36:43</td>\n      <td>/Arista817/status/276153098207117312</td>\n      <td>Jerry Trump admits in April 2012 to lying at 2...</td>\n      <td>en</td>\n      <td>False</td>\n    </tr>\n    <tr>\n      <th>4043</th>\n      <td>trump</td>\n      <td>David Thomas McKenzie</td>\n      <td>2012-12-05 02:36:39</td>\n      <td>/davidtmckenzie/status/276153079391481856</td>\n      <td>@realDonaldTrump \\n\\nLove ritz Carleton. Great...</td>\n      <td>en</td>\n      <td>False</td>\n    </tr>\n  </tbody>\n</table>\n<p>2839 rows × 7 columns</p>\n</div>"
     },
     "metadata": {},
     "execution_count": 8
    }
   ],
   "source": [
    "df[(df.search == \"trump\") & (df.text.apply(filtre))]"
   ]
  },
  {
   "cell_type": "code",
   "execution_count": 9,
   "metadata": {},
   "outputs": [
    {
     "output_type": "execute_result",
     "data": {
      "text/plain": [
       "    search             author                time  \\\n",
       "0    biden     Frank Braswell 2012-12-05 23:41:12   \n",
       "1    biden              GLENN 2012-12-05 23:40:46   \n",
       "2    biden             cydney 2012-12-05 23:39:11   \n",
       "3    biden              GLENN 2012-12-05 23:38:10   \n",
       "4    biden   Emily Greenhouse 2012-12-05 23:37:28   \n",
       "..     ...                ...                 ...   \n",
       "512  biden  follow my new one 2012-12-05 00:09:31   \n",
       "513  biden       Eric Dierkes 2012-12-05 00:08:28   \n",
       "514  biden              Brent 2012-12-05 00:06:57   \n",
       "515  biden       Eric Dierkes 2012-12-05 00:06:47   \n",
       "516  biden     Jay B. McGuire 2012-12-05 00:04:07   \n",
       "\n",
       "                                            url  \\\n",
       "0          /FBRASWELL/status/276471312489254912   \n",
       "1          /GCGATOR24/status/276471203290554369   \n",
       "2             /cydney/status/276470805855076353   \n",
       "3          /GCGATOR24/status/276470550338080768   \n",
       "4            /emserre/status/276470372902264832   \n",
       "..                                          ...   \n",
       "512   /MadeANewHandle/status/276116053816401920   \n",
       "513  /DirkyDierkerson/status/276115788241444864   \n",
       "514         /brento76/status/276115404622032896   \n",
       "515  /DirkyDierkerson/status/276115366453854208   \n",
       "516        /jbmcguire/status/276114692689231872   \n",
       "\n",
       "                                                  text lang  reply  \n",
       "0    Gotta love Joe! RT @rorycooper: VP Biden says ...   en  False  \n",
       "1    BIDEN'S HAIRPLUGS EXEMPT:  IRS finalizes new t...   en  False  \n",
       "2    Omg Keisha... \"@Angelic_kiss: Listening to \"Pu...   en  False  \n",
       "3    BIDEN'S HAIRPLUGS EXEMPT: @DRUDGE_REPORT: IRS ...   en  False  \n",
       "4    As Obama jotted while Biden blathered: \"Shoot....   en  False  \n",
       "..                                                 ...  ...    ...  \n",
       "512  @TheLiteralMC (that guy at that one Joe Biden ...   en  False  \n",
       "513  @_gabrielleeeeee @zoseph_ @jo_biden I know Gab...   en  False  \n",
       "514  But, But, Biden said..... \\nRT @DRUDGE_REPORT:...   en  False  \n",
       "515  @_gabrielleeeeee @zoseph_ @jo_biden DRESS jean...   en  False  \n",
       "516  @IMAO_ - The pic of Obama might not be real, b...   en  False  \n",
       "\n",
       "[517 rows x 7 columns]"
      ],
      "text/html": "<div>\n<style scoped>\n    .dataframe tbody tr th:only-of-type {\n        vertical-align: middle;\n    }\n\n    .dataframe tbody tr th {\n        vertical-align: top;\n    }\n\n    .dataframe thead th {\n        text-align: right;\n    }\n</style>\n<table border=\"1\" class=\"dataframe\">\n  <thead>\n    <tr style=\"text-align: right;\">\n      <th></th>\n      <th>search</th>\n      <th>author</th>\n      <th>time</th>\n      <th>url</th>\n      <th>text</th>\n      <th>lang</th>\n      <th>reply</th>\n    </tr>\n  </thead>\n  <tbody>\n    <tr>\n      <th>0</th>\n      <td>biden</td>\n      <td>Frank Braswell</td>\n      <td>2012-12-05 23:41:12</td>\n      <td>/FBRASWELL/status/276471312489254912</td>\n      <td>Gotta love Joe! RT @rorycooper: VP Biden says ...</td>\n      <td>en</td>\n      <td>False</td>\n    </tr>\n    <tr>\n      <th>1</th>\n      <td>biden</td>\n      <td>GLENN</td>\n      <td>2012-12-05 23:40:46</td>\n      <td>/GCGATOR24/status/276471203290554369</td>\n      <td>BIDEN'S HAIRPLUGS EXEMPT:  IRS finalizes new t...</td>\n      <td>en</td>\n      <td>False</td>\n    </tr>\n    <tr>\n      <th>2</th>\n      <td>biden</td>\n      <td>cydney</td>\n      <td>2012-12-05 23:39:11</td>\n      <td>/cydney/status/276470805855076353</td>\n      <td>Omg Keisha... \"@Angelic_kiss: Listening to \"Pu...</td>\n      <td>en</td>\n      <td>False</td>\n    </tr>\n    <tr>\n      <th>3</th>\n      <td>biden</td>\n      <td>GLENN</td>\n      <td>2012-12-05 23:38:10</td>\n      <td>/GCGATOR24/status/276470550338080768</td>\n      <td>BIDEN'S HAIRPLUGS EXEMPT: @DRUDGE_REPORT: IRS ...</td>\n      <td>en</td>\n      <td>False</td>\n    </tr>\n    <tr>\n      <th>4</th>\n      <td>biden</td>\n      <td>Emily Greenhouse</td>\n      <td>2012-12-05 23:37:28</td>\n      <td>/emserre/status/276470372902264832</td>\n      <td>As Obama jotted while Biden blathered: \"Shoot....</td>\n      <td>en</td>\n      <td>False</td>\n    </tr>\n    <tr>\n      <th>...</th>\n      <td>...</td>\n      <td>...</td>\n      <td>...</td>\n      <td>...</td>\n      <td>...</td>\n      <td>...</td>\n      <td>...</td>\n    </tr>\n    <tr>\n      <th>512</th>\n      <td>biden</td>\n      <td>follow my new one</td>\n      <td>2012-12-05 00:09:31</td>\n      <td>/MadeANewHandle/status/276116053816401920</td>\n      <td>@TheLiteralMC (that guy at that one Joe Biden ...</td>\n      <td>en</td>\n      <td>False</td>\n    </tr>\n    <tr>\n      <th>513</th>\n      <td>biden</td>\n      <td>Eric Dierkes</td>\n      <td>2012-12-05 00:08:28</td>\n      <td>/DirkyDierkerson/status/276115788241444864</td>\n      <td>@_gabrielleeeeee @zoseph_ @jo_biden I know Gab...</td>\n      <td>en</td>\n      <td>False</td>\n    </tr>\n    <tr>\n      <th>514</th>\n      <td>biden</td>\n      <td>Brent</td>\n      <td>2012-12-05 00:06:57</td>\n      <td>/brento76/status/276115404622032896</td>\n      <td>But, But, Biden said..... \\nRT @DRUDGE_REPORT:...</td>\n      <td>en</td>\n      <td>False</td>\n    </tr>\n    <tr>\n      <th>515</th>\n      <td>biden</td>\n      <td>Eric Dierkes</td>\n      <td>2012-12-05 00:06:47</td>\n      <td>/DirkyDierkerson/status/276115366453854208</td>\n      <td>@_gabrielleeeeee @zoseph_ @jo_biden DRESS jean...</td>\n      <td>en</td>\n      <td>False</td>\n    </tr>\n    <tr>\n      <th>516</th>\n      <td>biden</td>\n      <td>Jay B. McGuire</td>\n      <td>2012-12-05 00:04:07</td>\n      <td>/jbmcguire/status/276114692689231872</td>\n      <td>@IMAO_ - The pic of Obama might not be real, b...</td>\n      <td>en</td>\n      <td>False</td>\n    </tr>\n  </tbody>\n</table>\n<p>517 rows × 7 columns</p>\n</div>"
     },
     "metadata": {},
     "execution_count": 9
    }
   ],
   "source": [
    "df[df.search == \"biden\"]"
   ]
  },
  {
   "cell_type": "code",
   "execution_count": null,
   "metadata": {},
   "outputs": [],
   "source": []
  }
 ]
}