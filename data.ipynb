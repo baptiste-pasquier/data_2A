{
 "metadata": {
  "language_info": {
   "codemirror_mode": {
    "name": "ipython",
    "version": 3
   },
   "file_extension": ".py",
   "mimetype": "text/x-python",
   "name": "python",
   "nbconvert_exporter": "python",
   "pygments_lexer": "ipython3",
   "version": "3.7.7-final"
  },
  "orig_nbformat": 2,
  "kernelspec": {
   "name": "python3",
   "display_name": "Python 3"
  }
 },
 "nbformat": 4,
 "nbformat_minor": 2,
 "cells": [
  {
   "cell_type": "code",
   "execution_count": 1,
   "metadata": {},
   "outputs": [],
   "source": [
    "from bs4 import BeautifulSoup\n",
    "import pandas as pd\n",
    "import collections\n",
    "import datetime"
   ]
  },
  {
   "cell_type": "code",
   "execution_count": 2,
   "metadata": {},
   "outputs": [],
   "source": [
    "def find_author(tweet):\n",
    "    resul = \"\"\n",
    "    elements = tweet.find(\"span\", class_=\"css-901oao css-16my406 r-1qd0xha r-ad9z0x r-bcqeeo r-qvutc0\").contents\n",
    "    for elem in elements:\n",
    "        if elem.find(\"div\"):\n",
    "            if 'title' in elem.find('div').attrs:\n",
    "                resul += f\"[{elem.find('div').attrs['aria-label']}]\"\n",
    "            else:\n",
    "                resul += elem.find('div').attrs['aria-label']\n",
    "        else:\n",
    "            resul += elem.getText()\n",
    "    return resul\n",
    "\n",
    "def find_text(tweet):\n",
    "    text_ = tweet.find(\"div\", class_=\"css-901oao r-jwli3a r-1qd0xha r-a023e6 r-16dba41 r-ad9z0x r-bcqeeo r-bnwqim r-qvutc0\")\n",
    "\n",
    "    if not text_:\n",
    "        text_ = tweet.find(\"div\", class_=\"css-901oao r-jwli3a r-1tl8opc r-a023e6 r-16dba41 r-ad9z0x r-bcqeeo r-bnwqim r-qvutc0\")  # Japonais par exemple\n",
    "\n",
    "    lang = text_.attrs['lang']\n",
    "    text = \"\"\n",
    "    for elem in text_.contents:\n",
    "        if elem.find(\"div\"):\n",
    "            if 'title' in elem.find('div').attrs:\n",
    "                text += f\"[{elem.find('div').attrs['aria-label']}]\"\n",
    "            else:\n",
    "                text += elem.find('div').attrs['aria-label']\n",
    "        else:\n",
    "            text += elem.getText()\n",
    "    return text, lang"
   ]
  },
  {
   "cell_type": "code",
   "execution_count": 3,
   "metadata": {
    "tags": []
   },
   "outputs": [
    {
     "output_type": "stream",
     "name": "stdout",
     "text": [
      "biden.html\n",
      "Erreur auteur : /TrixxSteph/status/1300944463922163713\n",
      "trump.html\n"
     ]
    }
   ],
   "source": [
    "FILES = os.listdir('web')\n",
    "\n",
    "data = []\n",
    "\n",
    "for file in FILES:\n",
    "    print(file)\n",
    "    search = os.path.splitext(file)[0]\n",
    "    with open(f\"web/{file}\", \"r\") as f:\n",
    "        page = BeautifulSoup(f.read(), 'lxml')\n",
    "\n",
    "        tweets = page.findAll(\"div\", class_=\"css-1dbjc4n r-1iusvr4 r-16y2uox r-1777fci r-1mi0q7o\")\n",
    "        i = 0\n",
    "        for tweet in tweets:\n",
    "            url = tweet.find(\"a\", class_=\"css-4rbku5 css-18t94o4 css-901oao r-111h2gw r-1loqt21 r-1q142lx r-1qd0xha r-a023e6 r-16dba41 r-ad9z0x r-bcqeeo r-3s2u2q r-qvutc0\").attrs.get(\"href\")\n",
    "            # Ok unique url\n",
    "\n",
    "            error_author = False\n",
    "            try:\n",
    "                author = find_author(tweet)\n",
    "            except:\n",
    "                error_author = True\n",
    "                print(\"Erreur auteur :\", url)\n",
    "\n",
    "            time = tweet.find(\"time\").attrs.get(\"datetime\")\n",
    "            time = datetime.datetime.strptime(time, '%Y-%m-%dT%H:%M:%S.%fZ')\n",
    "            # Parfois 2 dates lors des retweet, mais c'est bien la première date qu'il faut prendre en compte\n",
    "\n",
    "            try:\n",
    "                text, lang = find_text(tweet)\n",
    "            except:\n",
    "                text = \"\"\n",
    "                print(\"Erreur texte\", i, url)\n",
    "\n",
    "            reply = False\n",
    "            reply_ = tweet.find(\"div\", class_=\"css-901oao r-111h2gw r-1qd0xha r-a023e6 r-16dba41 r-ad9z0x r-bcqeeo r-qvutc0\")\n",
    "            if reply_:\n",
    "                if reply_.find(text=True) == \"Replying to \":\n",
    "                    reply = True\n",
    "            \n",
    "            if not error_author:\n",
    "                data.append({'search': search, 'author': author, 'time': time, 'url': url, 'text': text, 'lang':lang, 'reply':reply})\n",
    "                \n",
    "            i += 1"
   ]
  },
  {
   "cell_type": "code",
   "execution_count": 4,
   "metadata": {},
   "outputs": [
    {
     "output_type": "execute_result",
     "data": {
      "text/plain": [
       "3355"
      ]
     },
     "metadata": {},
     "execution_count": 4
    }
   ],
   "source": [
    "df = pd.DataFrame(data)\n",
    "len(df)"
   ]
  },
  {
   "cell_type": "code",
   "execution_count": 5,
   "metadata": {},
   "outputs": [
    {
     "output_type": "execute_result",
     "data": {
      "text/plain": [
       "search            object\n",
       "author            object\n",
       "time      datetime64[ns]\n",
       "url               object\n",
       "text              object\n",
       "lang              object\n",
       "reply               bool\n",
       "dtype: object"
      ]
     },
     "metadata": {},
     "execution_count": 5
    }
   ],
   "source": [
    "df.dtypes"
   ]
  },
  {
   "cell_type": "code",
   "execution_count": 6,
   "metadata": {},
   "outputs": [
    {
     "output_type": "execute_result",
     "data": {
      "text/plain": [
       "     search                                             author  \\\n",
       "1810  trump                          Fabulous Abomination 🏳️‍🌈   \n",
       "1811  trump                       ᴮᴱ⁷BANGᴛᴀɴɴɪᴇ✜𖧵 | Via’s Only   \n",
       "1812  trump                                      Zack Davisson   \n",
       "1813  trump                                           Snipes01   \n",
       "1814  trump                               Neighbors & Citizens   \n",
       "...     ...                                                ...   \n",
       "3350  trump                                       Cerdic Conan   \n",
       "3351  trump                                              NoMad   \n",
       "3352  trump  Gen Trump, Brotherly Leader & Guide of Revolution   \n",
       "3353  trump                                        Raul Anorve   \n",
       "3354  trump                                            Frank_A   \n",
       "\n",
       "                    time                                          url  \\\n",
       "1810 2020-09-01 23:59:59  /FabulousHeathen/status/1300946538856939525   \n",
       "1811 2020-09-01 23:59:59  /chicky_nug1bts1/status/1300946538840109056   \n",
       "1812 2020-09-01 23:59:59     /ZackDavisson/status/1300946538416406528   \n",
       "1813 2020-09-01 23:59:59        /Snipes0_1/status/1300946538265370626   \n",
       "1814 2020-09-01 23:59:59    /CoalitionofNC/status/1300946538089373697   \n",
       "...                  ...                                          ...   \n",
       "3350 2020-09-01 23:57:22      /CerdicConan/status/1300945877016616961   \n",
       "3351 2020-09-01 23:57:22       /PDXDJnomad/status/1300945876848799745   \n",
       "3352 2020-09-01 23:57:21        /TheBobbyM/status/1300945875691171840   \n",
       "3353 2020-09-01 23:57:21       /AnorveRaul/status/1300945874500030465   \n",
       "3354 2020-09-01 23:57:21    /Double_Drop_D/status/1300945873975808001   \n",
       "\n",
       "                                                   text lang  reply  \n",
       "1810     Sadly, it's going to be 4 more years of Trump.   en   True  \n",
       "1811  Love trump is fucking mediocre but Biden ain’t...   en   True  \n",
       "1812  Nellie Hall would like to show Donald Trump EX...   en  False  \n",
       "1813  No! You are not putting this one Black people ...   en  False  \n",
       "1814  There guy is President now. They are touring T...   en  False  \n",
       "...                                                 ...  ...    ...  \n",
       "3350  Donald Trump is the ultimate political outside...   en  False  \n",
       "3351  As a rule, I don't generally make fun of peopl...   en  False  \n",
       "3352  You say double standards we say false equivale...   en   True  \n",
       "3353  Trump has slipped among key groups that backed...   en  False  \n",
       "3354  I don’t think Biden fits that profile...but Tr...   en   True  \n",
       "\n",
       "[1545 rows x 7 columns]"
      ],
      "text/html": "<div>\n<style scoped>\n    .dataframe tbody tr th:only-of-type {\n        vertical-align: middle;\n    }\n\n    .dataframe tbody tr th {\n        vertical-align: top;\n    }\n\n    .dataframe thead th {\n        text-align: right;\n    }\n</style>\n<table border=\"1\" class=\"dataframe\">\n  <thead>\n    <tr style=\"text-align: right;\">\n      <th></th>\n      <th>search</th>\n      <th>author</th>\n      <th>time</th>\n      <th>url</th>\n      <th>text</th>\n      <th>lang</th>\n      <th>reply</th>\n    </tr>\n  </thead>\n  <tbody>\n    <tr>\n      <th>1810</th>\n      <td>trump</td>\n      <td>Fabulous Abomination 🏳️‍🌈</td>\n      <td>2020-09-01 23:59:59</td>\n      <td>/FabulousHeathen/status/1300946538856939525</td>\n      <td>Sadly, it's going to be 4 more years of Trump.</td>\n      <td>en</td>\n      <td>True</td>\n    </tr>\n    <tr>\n      <th>1811</th>\n      <td>trump</td>\n      <td>ᴮᴱ⁷BANGᴛᴀɴɴɪᴇ✜𖧵 | Via’s Only</td>\n      <td>2020-09-01 23:59:59</td>\n      <td>/chicky_nug1bts1/status/1300946538840109056</td>\n      <td>Love trump is fucking mediocre but Biden ain’t...</td>\n      <td>en</td>\n      <td>True</td>\n    </tr>\n    <tr>\n      <th>1812</th>\n      <td>trump</td>\n      <td>Zack Davisson</td>\n      <td>2020-09-01 23:59:59</td>\n      <td>/ZackDavisson/status/1300946538416406528</td>\n      <td>Nellie Hall would like to show Donald Trump EX...</td>\n      <td>en</td>\n      <td>False</td>\n    </tr>\n    <tr>\n      <th>1813</th>\n      <td>trump</td>\n      <td>Snipes01</td>\n      <td>2020-09-01 23:59:59</td>\n      <td>/Snipes0_1/status/1300946538265370626</td>\n      <td>No! You are not putting this one Black people ...</td>\n      <td>en</td>\n      <td>False</td>\n    </tr>\n    <tr>\n      <th>1814</th>\n      <td>trump</td>\n      <td>Neighbors &amp; Citizens</td>\n      <td>2020-09-01 23:59:59</td>\n      <td>/CoalitionofNC/status/1300946538089373697</td>\n      <td>There guy is President now. They are touring T...</td>\n      <td>en</td>\n      <td>False</td>\n    </tr>\n    <tr>\n      <th>...</th>\n      <td>...</td>\n      <td>...</td>\n      <td>...</td>\n      <td>...</td>\n      <td>...</td>\n      <td>...</td>\n      <td>...</td>\n    </tr>\n    <tr>\n      <th>3350</th>\n      <td>trump</td>\n      <td>Cerdic Conan</td>\n      <td>2020-09-01 23:57:22</td>\n      <td>/CerdicConan/status/1300945877016616961</td>\n      <td>Donald Trump is the ultimate political outside...</td>\n      <td>en</td>\n      <td>False</td>\n    </tr>\n    <tr>\n      <th>3351</th>\n      <td>trump</td>\n      <td>NoMad</td>\n      <td>2020-09-01 23:57:22</td>\n      <td>/PDXDJnomad/status/1300945876848799745</td>\n      <td>As a rule, I don't generally make fun of peopl...</td>\n      <td>en</td>\n      <td>False</td>\n    </tr>\n    <tr>\n      <th>3352</th>\n      <td>trump</td>\n      <td>Gen Trump, Brotherly Leader &amp; Guide of Revolution</td>\n      <td>2020-09-01 23:57:21</td>\n      <td>/TheBobbyM/status/1300945875691171840</td>\n      <td>You say double standards we say false equivale...</td>\n      <td>en</td>\n      <td>True</td>\n    </tr>\n    <tr>\n      <th>3353</th>\n      <td>trump</td>\n      <td>Raul Anorve</td>\n      <td>2020-09-01 23:57:21</td>\n      <td>/AnorveRaul/status/1300945874500030465</td>\n      <td>Trump has slipped among key groups that backed...</td>\n      <td>en</td>\n      <td>False</td>\n    </tr>\n    <tr>\n      <th>3354</th>\n      <td>trump</td>\n      <td>Frank_A</td>\n      <td>2020-09-01 23:57:21</td>\n      <td>/Double_Drop_D/status/1300945873975808001</td>\n      <td>I don’t think Biden fits that profile...but Tr...</td>\n      <td>en</td>\n      <td>True</td>\n    </tr>\n  </tbody>\n</table>\n<p>1545 rows × 7 columns</p>\n</div>"
     },
     "metadata": {},
     "execution_count": 6
    }
   ],
   "source": [
    "df[df.search == \"trump\"]"
   ]
  },
  {
   "cell_type": "code",
   "execution_count": 7,
   "metadata": {},
   "outputs": [
    {
     "output_type": "execute_result",
     "data": {
      "text/plain": [
       "     search                                             author  \\\n",
       "0     biden                                            KS MANN   \n",
       "1     biden                       ᴮᴱ⁷BANGᴛᴀɴɴɪᴇ✜𖧵 | Via’s Only   \n",
       "2     biden                               Neighbors & Citizens   \n",
       "3     biden                                        People Push   \n",
       "4     biden                                    George Kneisser   \n",
       "...     ...                                                ...   \n",
       "1805  biden  Just call me Pj [Blue heart]⚡[Splashing sweat ...   \n",
       "1806  biden                                               Gina   \n",
       "1807  biden                                    Rue de l’avenir   \n",
       "1808  biden                                          Alejandro   \n",
       "1809  biden                                    Stephen Philion   \n",
       "\n",
       "                    time                                          url  \\\n",
       "0    2020-09-01 23:59:59           /KSMANN/status/1300946538986909696   \n",
       "1    2020-09-01 23:59:59  /chicky_nug1bts1/status/1300946538840109056   \n",
       "2    2020-09-01 23:59:59    /CoalitionofNC/status/1300946538089373697   \n",
       "3    2020-09-01 23:59:58     /wepeoplepush/status/1300946533400162305   \n",
       "4    2020-09-01 23:59:58   /GeorgeKneisser/status/1300946532384960512   \n",
       "...                  ...                                          ...   \n",
       "1805 2020-09-01 23:48:51  /DalrymplePamala/status/1300943736956952577   \n",
       "1806 2020-09-01 23:48:51     /geenahwilcox/status/1300943735413338112   \n",
       "1807 2020-09-01 23:48:50      /jasonmantis/status/1300943732997488640   \n",
       "1808 2020-09-01 23:48:50    /Alexpanther56/status/1300943730908815360   \n",
       "1809 2020-09-01 23:48:50        /gramsci33/status/1300943729218461702   \n",
       "\n",
       "                                                   text lang  reply  \n",
       "0     Ari Fleischer warns Biden handlers 'severely' ...   en  False  \n",
       "1     Love trump is fucking mediocre but Biden ain’t...   en   True  \n",
       "2     There guy is President now. They are touring T...   en  False  \n",
       "3     Funny how Biden is just a citizen now and THIS...   en   True  \n",
       "4        And Biden is supposedly the one with dementia.   en  False  \n",
       "...                                                 ...  ...    ...  \n",
       "1805  America has been saying @realDonaldTrump  was ...   en  False  \n",
       "1806  They’re trying to hide the fact the Biden had ...   en   True  \n",
       "1807  I'll believe you when you show me the Biden cl...   en   True  \n",
       "1808  Si gracias a los gobiernos que lo antecedierón...   es   True  \n",
       "1809  I’m not a Biden fan, but I see it as stutterin...   en   True  \n",
       "\n",
       "[1810 rows x 7 columns]"
      ],
      "text/html": "<div>\n<style scoped>\n    .dataframe tbody tr th:only-of-type {\n        vertical-align: middle;\n    }\n\n    .dataframe tbody tr th {\n        vertical-align: top;\n    }\n\n    .dataframe thead th {\n        text-align: right;\n    }\n</style>\n<table border=\"1\" class=\"dataframe\">\n  <thead>\n    <tr style=\"text-align: right;\">\n      <th></th>\n      <th>search</th>\n      <th>author</th>\n      <th>time</th>\n      <th>url</th>\n      <th>text</th>\n      <th>lang</th>\n      <th>reply</th>\n    </tr>\n  </thead>\n  <tbody>\n    <tr>\n      <th>0</th>\n      <td>biden</td>\n      <td>KS MANN</td>\n      <td>2020-09-01 23:59:59</td>\n      <td>/KSMANN/status/1300946538986909696</td>\n      <td>Ari Fleischer warns Biden handlers 'severely' ...</td>\n      <td>en</td>\n      <td>False</td>\n    </tr>\n    <tr>\n      <th>1</th>\n      <td>biden</td>\n      <td>ᴮᴱ⁷BANGᴛᴀɴɴɪᴇ✜𖧵 | Via’s Only</td>\n      <td>2020-09-01 23:59:59</td>\n      <td>/chicky_nug1bts1/status/1300946538840109056</td>\n      <td>Love trump is fucking mediocre but Biden ain’t...</td>\n      <td>en</td>\n      <td>True</td>\n    </tr>\n    <tr>\n      <th>2</th>\n      <td>biden</td>\n      <td>Neighbors &amp; Citizens</td>\n      <td>2020-09-01 23:59:59</td>\n      <td>/CoalitionofNC/status/1300946538089373697</td>\n      <td>There guy is President now. They are touring T...</td>\n      <td>en</td>\n      <td>False</td>\n    </tr>\n    <tr>\n      <th>3</th>\n      <td>biden</td>\n      <td>People Push</td>\n      <td>2020-09-01 23:59:58</td>\n      <td>/wepeoplepush/status/1300946533400162305</td>\n      <td>Funny how Biden is just a citizen now and THIS...</td>\n      <td>en</td>\n      <td>True</td>\n    </tr>\n    <tr>\n      <th>4</th>\n      <td>biden</td>\n      <td>George Kneisser</td>\n      <td>2020-09-01 23:59:58</td>\n      <td>/GeorgeKneisser/status/1300946532384960512</td>\n      <td>And Biden is supposedly the one with dementia.</td>\n      <td>en</td>\n      <td>False</td>\n    </tr>\n    <tr>\n      <th>...</th>\n      <td>...</td>\n      <td>...</td>\n      <td>...</td>\n      <td>...</td>\n      <td>...</td>\n      <td>...</td>\n      <td>...</td>\n    </tr>\n    <tr>\n      <th>1805</th>\n      <td>biden</td>\n      <td>Just call me Pj [Blue heart]⚡[Splashing sweat ...</td>\n      <td>2020-09-01 23:48:51</td>\n      <td>/DalrymplePamala/status/1300943736956952577</td>\n      <td>America has been saying @realDonaldTrump  was ...</td>\n      <td>en</td>\n      <td>False</td>\n    </tr>\n    <tr>\n      <th>1806</th>\n      <td>biden</td>\n      <td>Gina</td>\n      <td>2020-09-01 23:48:51</td>\n      <td>/geenahwilcox/status/1300943735413338112</td>\n      <td>They’re trying to hide the fact the Biden had ...</td>\n      <td>en</td>\n      <td>True</td>\n    </tr>\n    <tr>\n      <th>1807</th>\n      <td>biden</td>\n      <td>Rue de l’avenir</td>\n      <td>2020-09-01 23:48:50</td>\n      <td>/jasonmantis/status/1300943732997488640</td>\n      <td>I'll believe you when you show me the Biden cl...</td>\n      <td>en</td>\n      <td>True</td>\n    </tr>\n    <tr>\n      <th>1808</th>\n      <td>biden</td>\n      <td>Alejandro</td>\n      <td>2020-09-01 23:48:50</td>\n      <td>/Alexpanther56/status/1300943730908815360</td>\n      <td>Si gracias a los gobiernos que lo antecedierón...</td>\n      <td>es</td>\n      <td>True</td>\n    </tr>\n    <tr>\n      <th>1809</th>\n      <td>biden</td>\n      <td>Stephen Philion</td>\n      <td>2020-09-01 23:48:50</td>\n      <td>/gramsci33/status/1300943729218461702</td>\n      <td>I’m not a Biden fan, but I see it as stutterin...</td>\n      <td>en</td>\n      <td>True</td>\n    </tr>\n  </tbody>\n</table>\n<p>1810 rows × 7 columns</p>\n</div>"
     },
     "metadata": {},
     "execution_count": 7
    }
   ],
   "source": [
    "df[df.search == \"biden\"]"
   ]
  },
  {
   "cell_type": "code",
   "execution_count": null,
   "metadata": {},
   "outputs": [],
   "source": []
  }
 ]
}