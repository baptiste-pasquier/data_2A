{
 "metadata": {
  "language_info": {
   "codemirror_mode": {
    "name": "ipython",
    "version": 3
   },
   "file_extension": ".py",
   "mimetype": "text/x-python",
   "name": "python",
   "nbconvert_exporter": "python",
   "pygments_lexer": "ipython3",
   "version": "3.7.7-final"
  },
  "orig_nbformat": 2,
  "kernelspec": {
   "name": "python3",
   "display_name": "Python 3"
  }
 },
 "nbformat": 4,
 "nbformat_minor": 2,
 "cells": [
  {
   "cell_type": "code",
   "execution_count": 40,
   "metadata": {},
   "outputs": [],
   "source": [
    "from bs4 import BeautifulSoup\n",
    "import pandas as pd\n",
    "import collections\n",
    "import datetime"
   ]
  },
  {
   "cell_type": "code",
   "execution_count": 41,
   "metadata": {
    "tags": []
   },
   "outputs": [
    {
     "output_type": "stream",
     "name": "stdout",
     "text": [
      "trump.html\n"
     ]
    }
   ],
   "source": [
    "FILES = os.listdir('web')\n",
    "\n",
    "data = []\n",
    "\n",
    "for file in FILES:\n",
    "    print(file)\n",
    "    search = os.path.splitext(file)[0]\n",
    "    with open(f\"web/{file}\", \"r\") as f:\n",
    "        page = BeautifulSoup(f.read(), 'lxml')\n",
    "\n",
    "        tweets = page.findAll(\"div\", class_=\"css-1dbjc4n r-1iusvr4 r-16y2uox r-1777fci r-1mi0q7o\")\n",
    "        for tweet in tweets:\n",
    "            author = tweet.find(\"span\", class_=\"css-901oao css-16my406 r-1qd0xha r-ad9z0x r-bcqeeo r-qvutc0\").find(\"span\", class_=\"css-901oao css-16my406 r-1qd0xha r-ad9z0x r-bcqeeo r-qvutc0\").getText()\n",
    "\n",
    "            url = tweet.find(\"a\", class_=\"css-4rbku5 css-18t94o4 css-901oao r-111h2gw r-1loqt21 r-1q142lx r-1qd0xha r-a023e6 r-16dba41 r-ad9z0x r-bcqeeo r-3s2u2q r-qvutc0\").attrs.get(\"href\")\n",
    "\n",
    "            time = tweet.find(\"time\").attrs.get(\"datetime\")\n",
    "            time = datetime.datetime.strptime(time, '%Y-%m-%dT%H:%M:%S.%fZ')\n",
    "            # TODO problem plusieurs dates parfois\n",
    "\n",
    "            text_ = tweet.find(\"div\", class_=\"css-901oao r-jwli3a r-1qd0xha r-a023e6 r-16dba41 r-ad9z0x r-bcqeeo r-bnwqim r-qvutc0\")\n",
    "            text = \"\"\n",
    "            for e in text_.contents:\n",
    "                text += e.getText()\n",
    "\n",
    "            data.append({'search': search, 'author': author, 'time': time, 'url': url, 'text': text})\n",
    "    \n",
    "        "
   ]
  },
  {
   "cell_type": "code",
   "execution_count": 42,
   "metadata": {},
   "outputs": [
    {
     "output_type": "execute_result",
     "data": {
      "text/plain": [
       "12"
      ]
     },
     "metadata": {},
     "execution_count": 42
    }
   ],
   "source": [
    "df = pd.DataFrame(data)\n",
    "len(df)"
   ]
  },
  {
   "cell_type": "code",
   "execution_count": 43,
   "metadata": {},
   "outputs": [
    {
     "output_type": "execute_result",
     "data": {
      "text/plain": [
       "   search                 author                time  \\\n",
       "0   trump                  PGADD 2020-11-14 00:22:19   \n",
       "1   trump           Terry Blount 2020-11-14 00:21:33   \n",
       "2   trump      drunk driving cow 2020-11-13 23:00:48   \n",
       "3   trump                  Evan  2020-11-14 00:24:34   \n",
       "4   trump                maenerd 2020-11-14 00:23:29   \n",
       "5   trump             Tennis Guy 2020-11-14 00:24:34   \n",
       "6   trump  ivy bucket cornucopia 2020-11-14 00:23:17   \n",
       "7   trump           Adam Rifkin  2020-11-13 19:11:36   \n",
       "8   trump           Adam Rifkin  2020-11-14 00:20:10   \n",
       "9   trump            Ralph Nader 2020-11-14 00:22:33   \n",
       "10  trump                    C F 2020-11-14 00:21:53   \n",
       "11  trump             Fred Grimm 2020-11-14 00:21:58   \n",
       "\n",
       "                                            url  \\\n",
       "0        /PGAddison1/status/1327406471257202693   \n",
       "1   /TBlountPolitics/status/1327406279409553408   \n",
       "2       /ByYourLogic/status/1327385956668887045   \n",
       "3           /EvNov33/status/1327407036305293312   \n",
       "4       /Mae91517382/status/1327406766276001794   \n",
       "5   /TennisG66201746/status/1327407035743412226   \n",
       "6   /urbeysathegreat/status/1327406716699348992   \n",
       "7        /ifindkarma/status/1327328275945771009   \n",
       "8        /ifindkarma/status/1327405929000693760   \n",
       "9        /RalphNader/status/1327406530661060608   \n",
       "10         /FCfny682/status/1327406361739730946   \n",
       "11       /grimm_fred/status/1327406381893365761   \n",
       "\n",
       "                                                 text  \n",
       "0   Senate Republicans are only thinking about the...  \n",
       "1   We have now topped 11 million Covid cases in t...  \n",
       "2                    this is Charlemagne reincarnated  \n",
       "3   Emo Trump sucks. Tell us that the CIA has a se...  \n",
       "4   Pfizer already came forward and said trump had...  \n",
       "5     Does Rudy Giuliani work “pro boner” for Trump ?  \n",
       "6   i love nintendo's new game: Donald Trump Simul...  \n",
       "7   Donald Trump lost the 2020 election. He is the...  \n",
       "8   A majority of American voters have spoken…\\n\\n...  \n",
       "9   See: Trump’s Crime Wave Continues: Requires Bi...  \n",
       "10  Pictures from recount today. There wasn't even...  \n",
       "11  Trump's hair went gray overnight. He must have...  "
      ],
      "text/html": "<div>\n<style scoped>\n    .dataframe tbody tr th:only-of-type {\n        vertical-align: middle;\n    }\n\n    .dataframe tbody tr th {\n        vertical-align: top;\n    }\n\n    .dataframe thead th {\n        text-align: right;\n    }\n</style>\n<table border=\"1\" class=\"dataframe\">\n  <thead>\n    <tr style=\"text-align: right;\">\n      <th></th>\n      <th>search</th>\n      <th>author</th>\n      <th>time</th>\n      <th>url</th>\n      <th>text</th>\n    </tr>\n  </thead>\n  <tbody>\n    <tr>\n      <th>0</th>\n      <td>trump</td>\n      <td>PGADD</td>\n      <td>2020-11-14 00:22:19</td>\n      <td>/PGAddison1/status/1327406471257202693</td>\n      <td>Senate Republicans are only thinking about the...</td>\n    </tr>\n    <tr>\n      <th>1</th>\n      <td>trump</td>\n      <td>Terry Blount</td>\n      <td>2020-11-14 00:21:33</td>\n      <td>/TBlountPolitics/status/1327406279409553408</td>\n      <td>We have now topped 11 million Covid cases in t...</td>\n    </tr>\n    <tr>\n      <th>2</th>\n      <td>trump</td>\n      <td>drunk driving cow</td>\n      <td>2020-11-13 23:00:48</td>\n      <td>/ByYourLogic/status/1327385956668887045</td>\n      <td>this is Charlemagne reincarnated</td>\n    </tr>\n    <tr>\n      <th>3</th>\n      <td>trump</td>\n      <td>Evan</td>\n      <td>2020-11-14 00:24:34</td>\n      <td>/EvNov33/status/1327407036305293312</td>\n      <td>Emo Trump sucks. Tell us that the CIA has a se...</td>\n    </tr>\n    <tr>\n      <th>4</th>\n      <td>trump</td>\n      <td>maenerd</td>\n      <td>2020-11-14 00:23:29</td>\n      <td>/Mae91517382/status/1327406766276001794</td>\n      <td>Pfizer already came forward and said trump had...</td>\n    </tr>\n    <tr>\n      <th>5</th>\n      <td>trump</td>\n      <td>Tennis Guy</td>\n      <td>2020-11-14 00:24:34</td>\n      <td>/TennisG66201746/status/1327407035743412226</td>\n      <td>Does Rudy Giuliani work “pro boner” for Trump ?</td>\n    </tr>\n    <tr>\n      <th>6</th>\n      <td>trump</td>\n      <td>ivy bucket cornucopia</td>\n      <td>2020-11-14 00:23:17</td>\n      <td>/urbeysathegreat/status/1327406716699348992</td>\n      <td>i love nintendo's new game: Donald Trump Simul...</td>\n    </tr>\n    <tr>\n      <th>7</th>\n      <td>trump</td>\n      <td>Adam Rifkin</td>\n      <td>2020-11-13 19:11:36</td>\n      <td>/ifindkarma/status/1327328275945771009</td>\n      <td>Donald Trump lost the 2020 election. He is the...</td>\n    </tr>\n    <tr>\n      <th>8</th>\n      <td>trump</td>\n      <td>Adam Rifkin</td>\n      <td>2020-11-14 00:20:10</td>\n      <td>/ifindkarma/status/1327405929000693760</td>\n      <td>A majority of American voters have spoken…\\n\\n...</td>\n    </tr>\n    <tr>\n      <th>9</th>\n      <td>trump</td>\n      <td>Ralph Nader</td>\n      <td>2020-11-14 00:22:33</td>\n      <td>/RalphNader/status/1327406530661060608</td>\n      <td>See: Trump’s Crime Wave Continues: Requires Bi...</td>\n    </tr>\n    <tr>\n      <th>10</th>\n      <td>trump</td>\n      <td>C F</td>\n      <td>2020-11-14 00:21:53</td>\n      <td>/FCfny682/status/1327406361739730946</td>\n      <td>Pictures from recount today. There wasn't even...</td>\n    </tr>\n    <tr>\n      <th>11</th>\n      <td>trump</td>\n      <td>Fred Grimm</td>\n      <td>2020-11-14 00:21:58</td>\n      <td>/grimm_fred/status/1327406381893365761</td>\n      <td>Trump's hair went gray overnight. He must have...</td>\n    </tr>\n  </tbody>\n</table>\n</div>"
     },
     "metadata": {},
     "execution_count": 43
    }
   ],
   "source": [
    "df"
   ]
  },
  {
   "cell_type": "code",
   "execution_count": 44,
   "metadata": {},
   "outputs": [
    {
     "output_type": "execute_result",
     "data": {
      "text/plain": [
       "search            object\n",
       "author            object\n",
       "time      datetime64[ns]\n",
       "url               object\n",
       "text              object\n",
       "dtype: object"
      ]
     },
     "metadata": {},
     "execution_count": 44
    }
   ],
   "source": [
    "df.dtypes"
   ]
  }
 ]
}