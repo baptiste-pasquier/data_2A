{
 "cells": [
  {
   "cell_type": "code",
   "execution_count": 1,
   "metadata": {},
   "outputs": [],
   "source": [
    "import pandas as pd\n",
    "import numpy as np\n",
    "import seaborn as sns\n",
    "import matplotlib.pyplot as plt\n",
    "from sklearn.feature_extraction.text import CountVectorizer, TfidfVectorizer\n",
    "import re\n",
    "import sklearn\n",
    "from sklearn.preprocessing import StandardScaler\n",
    "from sklearn.model_selection import train_test_split\n",
    "from sklearn.linear_model import LogisticRegression\n",
    "from sklearn.naive_bayes import GaussianNB, MultinomialNB\n",
    "from sklearn.metrics import confusion_matrix\n",
    "from sklearn import metrics\n",
    "import os\n",
    "from IPython.display import display\n",
    "import time\n",
    "from math import log\n",
    "t = time.time()"
   ]
  },
  {
   "cell_type": "markdown",
   "metadata": {},
   "source": [
    "Nous étudions dans ce notebook un modèle **semi-supervisé** utilisant le modèle **Naive Bayes**."
   ]
  },
  {
   "cell_type": "markdown",
   "metadata": {},
   "source": [
    "# 1. Chargement de la base Sentiment140 et de la base webscrapée\n",
    "\n",
    "## 1.1. Base Sentiment140"
   ]
  },
  {
   "cell_type": "code",
   "execution_count": 2,
   "metadata": {},
   "outputs": [],
   "source": [
    "NB_DATA_140 = 200000\n",
    "NB_DATA_WEB = 50"
   ]
  },
  {
   "cell_type": "code",
   "execution_count": 3,
   "metadata": {},
   "outputs": [
    {
     "data": {
      "text/plain": [
       "(200000, 6)"
      ]
     },
     "execution_count": 3,
     "metadata": {},
     "output_type": "execute_result"
    }
   ],
   "source": [
    "STOP_WORDS = False\n",
    "LEMMATIZATION = False\n",
    "NEGATION = False\n",
    "file = \"train\"\n",
    "if STOP_WORDS:\n",
    "    file += \"_stop\"\n",
    "if LEMMATIZATION:\n",
    "    file += \"_lemm\"\n",
    "if NEGATION:\n",
    "    file += \"_neg\"\n",
    "df_140 = pd.read_pickle(os.path.join(\"data\", \"sentiment140\", file + \".bz2\")).sample(NB_DATA_140, random_state=1234).reset_index(drop=True)\n",
    "df_140.shape"
   ]
  },
  {
   "cell_type": "code",
   "execution_count": 4,
   "metadata": {},
   "outputs": [
    {
     "data": {
      "text/html": [
       "<div>\n",
       "<style scoped>\n",
       "    .dataframe tbody tr th:only-of-type {\n",
       "        vertical-align: middle;\n",
       "    }\n",
       "\n",
       "    .dataframe tbody tr th {\n",
       "        vertical-align: top;\n",
       "    }\n",
       "\n",
       "    .dataframe thead th {\n",
       "        text-align: right;\n",
       "    }\n",
       "</style>\n",
       "<table border=\"1\" class=\"dataframe\">\n",
       "  <thead>\n",
       "    <tr style=\"text-align: right;\">\n",
       "      <th></th>\n",
       "      <th>sentiment</th>\n",
       "      <th>id</th>\n",
       "      <th>date</th>\n",
       "      <th>query_string</th>\n",
       "      <th>user</th>\n",
       "      <th>text</th>\n",
       "    </tr>\n",
       "  </thead>\n",
       "  <tbody>\n",
       "    <tr>\n",
       "      <th>0</th>\n",
       "      <td>Negative</td>\n",
       "      <td>2220663113</td>\n",
       "      <td>Thu Jun 18 03:39:49 PDT 2009</td>\n",
       "      <td>NO_QUERY</td>\n",
       "      <td>gemgembam</td>\n",
       "      <td>open itunes will not open naooo the silence is...</td>\n",
       "    </tr>\n",
       "    <tr>\n",
       "      <th>1</th>\n",
       "      <td>Negative</td>\n",
       "      <td>2202759103</td>\n",
       "      <td>Tue Jun 16 22:21:43 PDT 2009</td>\n",
       "      <td>NO_QUERY</td>\n",
       "      <td>twistofcolour</td>\n",
       "      <td>the sun is already gone for the day</td>\n",
       "    </tr>\n",
       "    <tr>\n",
       "      <th>2</th>\n",
       "      <td>Positive</td>\n",
       "      <td>2049441111</td>\n",
       "      <td>Fri Jun 05 16:53:10 PDT 2009</td>\n",
       "      <td>NO_QUERY</td>\n",
       "      <td>Niico1e</td>\n",
       "      <td>hiya this is my st tweet i am so tired though ...</td>\n",
       "    </tr>\n",
       "    <tr>\n",
       "      <th>3</th>\n",
       "      <td>Negative</td>\n",
       "      <td>2204830292</td>\n",
       "      <td>Wed Jun 17 03:14:38 PDT 2009</td>\n",
       "      <td>NO_QUERY</td>\n",
       "      <td>MeriEsteban</td>\n",
       "      <td>i have the bac today at p m i do not know if i...</td>\n",
       "    </tr>\n",
       "    <tr>\n",
       "      <th>4</th>\n",
       "      <td>Positive</td>\n",
       "      <td>2190306594</td>\n",
       "      <td>Tue Jun 16 02:21:03 PDT 2009</td>\n",
       "      <td>NO_QUERY</td>\n",
       "      <td>MeghanMagnolia</td>\n",
       "      <td>as far as i remember you were not half bad ine...</td>\n",
       "    </tr>\n",
       "    <tr>\n",
       "      <th>5</th>\n",
       "      <td>Positive</td>\n",
       "      <td>2046706853</td>\n",
       "      <td>Fri Jun 05 12:34:26 PDT 2009</td>\n",
       "      <td>NO_QUERY</td>\n",
       "      <td>WahooPooh</td>\n",
       "      <td>as tempting as that is i am just waiting on my...</td>\n",
       "    </tr>\n",
       "    <tr>\n",
       "      <th>6</th>\n",
       "      <td>Negative</td>\n",
       "      <td>2215937155</td>\n",
       "      <td>Wed Jun 17 18:49:10 PDT 2009</td>\n",
       "      <td>NO_QUERY</td>\n",
       "      <td>amandarie</td>\n",
       "      <td>cool how i have to be stuck at home i want to ...</td>\n",
       "    </tr>\n",
       "    <tr>\n",
       "      <th>7</th>\n",
       "      <td>Positive</td>\n",
       "      <td>1676343245</td>\n",
       "      <td>Fri May 01 21:46:07 PDT 2009</td>\n",
       "      <td>NO_QUERY</td>\n",
       "      <td>MatchesMalone</td>\n",
       "      <td>oh and followfriday my writing partner because...</td>\n",
       "    </tr>\n",
       "    <tr>\n",
       "      <th>8</th>\n",
       "      <td>Negative</td>\n",
       "      <td>2192486836</td>\n",
       "      <td>Tue Jun 16 07:06:35 PDT 2009</td>\n",
       "      <td>NO_QUERY</td>\n",
       "      <td>hockeyfan45214</td>\n",
       "      <td>you would think if i continue to block someone...</td>\n",
       "    </tr>\n",
       "    <tr>\n",
       "      <th>9</th>\n",
       "      <td>Negative</td>\n",
       "      <td>1981647618</td>\n",
       "      <td>Sun May 31 09:35:54 PDT 2009</td>\n",
       "      <td>NO_QUERY</td>\n",
       "      <td>ilovemytroops</td>\n",
       "      <td>nevaeh buchanan missing friends of her mother ...</td>\n",
       "    </tr>\n",
       "  </tbody>\n",
       "</table>\n",
       "</div>"
      ],
      "text/plain": [
       "  sentiment          id                          date query_string  \\\n",
       "0  Negative  2220663113  Thu Jun 18 03:39:49 PDT 2009     NO_QUERY   \n",
       "1  Negative  2202759103  Tue Jun 16 22:21:43 PDT 2009     NO_QUERY   \n",
       "2  Positive  2049441111  Fri Jun 05 16:53:10 PDT 2009     NO_QUERY   \n",
       "3  Negative  2204830292  Wed Jun 17 03:14:38 PDT 2009     NO_QUERY   \n",
       "4  Positive  2190306594  Tue Jun 16 02:21:03 PDT 2009     NO_QUERY   \n",
       "5  Positive  2046706853  Fri Jun 05 12:34:26 PDT 2009     NO_QUERY   \n",
       "6  Negative  2215937155  Wed Jun 17 18:49:10 PDT 2009     NO_QUERY   \n",
       "7  Positive  1676343245  Fri May 01 21:46:07 PDT 2009     NO_QUERY   \n",
       "8  Negative  2192486836  Tue Jun 16 07:06:35 PDT 2009     NO_QUERY   \n",
       "9  Negative  1981647618  Sun May 31 09:35:54 PDT 2009     NO_QUERY   \n",
       "\n",
       "             user                                               text  \n",
       "0       gemgembam  open itunes will not open naooo the silence is...  \n",
       "1   twistofcolour                the sun is already gone for the day  \n",
       "2         Niico1e  hiya this is my st tweet i am so tired though ...  \n",
       "3     MeriEsteban  i have the bac today at p m i do not know if i...  \n",
       "4  MeghanMagnolia  as far as i remember you were not half bad ine...  \n",
       "5       WahooPooh  as tempting as that is i am just waiting on my...  \n",
       "6       amandarie  cool how i have to be stuck at home i want to ...  \n",
       "7   MatchesMalone  oh and followfriday my writing partner because...  \n",
       "8  hockeyfan45214  you would think if i continue to block someone...  \n",
       "9   ilovemytroops  nevaeh buchanan missing friends of her mother ...  "
      ]
     },
     "execution_count": 4,
     "metadata": {},
     "output_type": "execute_result"
    }
   ],
   "source": [
    "df_140.head(10)"
   ]
  },
  {
   "cell_type": "markdown",
   "metadata": {},
   "source": [
    " ## 1.2. Base webscrapée"
   ]
  },
  {
   "cell_type": "code",
   "execution_count": 5,
   "metadata": {},
   "outputs": [
    {
     "data": {
      "text/plain": [
       "(50, 7)"
      ]
     },
     "execution_count": 5,
     "metadata": {},
     "output_type": "execute_result"
    }
   ],
   "source": [
    "file = \"web\"\n",
    "if STOP_WORDS:\n",
    "    file += \"_stop\"\n",
    "if LEMMATIZATION:\n",
    "    file += \"_lemm\"\n",
    "if NEGATION:\n",
    "    file += \"_neg\"\n",
    "df_web = pd.read_pickle(os.path.join(\"data\", \"web\", file + \".bz2\")).sample(NB_DATA_WEB, random_state=1234).reset_index(drop=True)\n",
    "df_web.shape"
   ]
  },
  {
   "cell_type": "code",
   "execution_count": 6,
   "metadata": {},
   "outputs": [
    {
     "data": {
      "text/html": [
       "<div>\n",
       "<style scoped>\n",
       "    .dataframe tbody tr th:only-of-type {\n",
       "        vertical-align: middle;\n",
       "    }\n",
       "\n",
       "    .dataframe tbody tr th {\n",
       "        vertical-align: top;\n",
       "    }\n",
       "\n",
       "    .dataframe thead th {\n",
       "        text-align: right;\n",
       "    }\n",
       "</style>\n",
       "<table border=\"1\" class=\"dataframe\">\n",
       "  <thead>\n",
       "    <tr style=\"text-align: right;\">\n",
       "      <th></th>\n",
       "      <th>search</th>\n",
       "      <th>author</th>\n",
       "      <th>time</th>\n",
       "      <th>url</th>\n",
       "      <th>text</th>\n",
       "      <th>lang</th>\n",
       "      <th>reply</th>\n",
       "    </tr>\n",
       "  </thead>\n",
       "  <tbody>\n",
       "    <tr>\n",
       "      <th>0</th>\n",
       "      <td>trump</td>\n",
       "      <td>Tea Pain</td>\n",
       "      <td>2019-12-27 23:48:11</td>\n",
       "      <td>/TeaPainUSA/status/1210708987143954437</td>\n",
       "      <td>weak and whiney</td>\n",
       "      <td>en</td>\n",
       "      <td>False</td>\n",
       "    </tr>\n",
       "    <tr>\n",
       "      <th>1</th>\n",
       "      <td>trump</td>\n",
       "      <td>Lincoln17 😊✌🌊❤🗽🌏🌈🎶</td>\n",
       "      <td>2019-09-30 23:58:44</td>\n",
       "      <td>/Lincoln1710/status/1178821513249775616</td>\n",
       "      <td>reality winner a whistleblower alerted the med...</td>\n",
       "      <td>en</td>\n",
       "      <td>False</td>\n",
       "    </tr>\n",
       "    <tr>\n",
       "      <th>2</th>\n",
       "      <td>biden</td>\n",
       "      <td>Eric Darcman</td>\n",
       "      <td>2019-09-08 23:06:58</td>\n",
       "      <td>/Darcman/status/1170835953067466753</td>\n",
       "      <td>poc will decide who the nominee is in the plac...</td>\n",
       "      <td>en</td>\n",
       "      <td>False</td>\n",
       "    </tr>\n",
       "    <tr>\n",
       "      <th>3</th>\n",
       "      <td>biden</td>\n",
       "      <td>Joe Pizza's Accountant, Shlomi Matzoball 🔥</td>\n",
       "      <td>2019-12-27 22:57:05</td>\n",
       "      <td>/rev_avocado/status/1210696130440224768</td>\n",
       "      <td>but you know i am sure the hundredth joke abou...</td>\n",
       "      <td>en</td>\n",
       "      <td>False</td>\n",
       "    </tr>\n",
       "    <tr>\n",
       "      <th>4</th>\n",
       "      <td>trump</td>\n",
       "      <td>Make Integrity Great Again [Drapeau des États-...</td>\n",
       "      <td>2019-05-20 23:58:57</td>\n",
       "      <td>/CinnamonHH/status/1130623980434546690</td>\n",
       "      <td>i have had heat exhaustion and it is awful why...</td>\n",
       "      <td>en</td>\n",
       "      <td>False</td>\n",
       "    </tr>\n",
       "    <tr>\n",
       "      <th>5</th>\n",
       "      <td>trump</td>\n",
       "      <td>James S</td>\n",
       "      <td>2019-08-16 23:55:49</td>\n",
       "      <td>/JAlford1493/status/1162513323604111360</td>\n",
       "      <td>they just know how the movie ends they ed stil...</td>\n",
       "      <td>en</td>\n",
       "      <td>False</td>\n",
       "    </tr>\n",
       "    <tr>\n",
       "      <th>6</th>\n",
       "      <td>trump</td>\n",
       "      <td>#CountEveryVote Debrianna📢</td>\n",
       "      <td>2019-10-07 23:59:54</td>\n",
       "      <td>/DMansini/status/1181358518923743233</td>\n",
       "      <td>has it become completely obvious yet that this...</td>\n",
       "      <td>en</td>\n",
       "      <td>False</td>\n",
       "    </tr>\n",
       "    <tr>\n",
       "      <th>7</th>\n",
       "      <td>biden</td>\n",
       "      <td>doncalloway</td>\n",
       "      <td>2019-10-22 23:30:54</td>\n",
       "      <td>/dcstl/status/1186787039838003201</td>\n",
       "      <td>there is a very good chance that joe biden wil...</td>\n",
       "      <td>en</td>\n",
       "      <td>False</td>\n",
       "    </tr>\n",
       "    <tr>\n",
       "      <th>8</th>\n",
       "      <td>biden</td>\n",
       "      <td>ᎠᏌNᎬᎷYᎢᎻᎪNᏩ™️</td>\n",
       "      <td>2019-02-10 23:25:56</td>\n",
       "      <td>/Kris_Sacrebleu/status/1094739271703965696</td>\n",
       "      <td>i see a few candidates making some missteps ou...</td>\n",
       "      <td>en</td>\n",
       "      <td>False</td>\n",
       "    </tr>\n",
       "    <tr>\n",
       "      <th>9</th>\n",
       "      <td>trump</td>\n",
       "      <td>Charles Nutter</td>\n",
       "      <td>2019-01-08 23:56:39</td>\n",
       "      <td>/headius/status/1082788202853875712</td>\n",
       "      <td>this is the anger and hate politics you suppor...</td>\n",
       "      <td>en</td>\n",
       "      <td>False</td>\n",
       "    </tr>\n",
       "  </tbody>\n",
       "</table>\n",
       "</div>"
      ],
      "text/plain": [
       "  search                                             author  \\\n",
       "0  trump                                           Tea Pain   \n",
       "1  trump                                 Lincoln17 😊✌🌊❤🗽🌏🌈🎶   \n",
       "2  biden                                       Eric Darcman   \n",
       "3  biden         Joe Pizza's Accountant, Shlomi Matzoball 🔥   \n",
       "4  trump  Make Integrity Great Again [Drapeau des États-...   \n",
       "5  trump                                            James S   \n",
       "6  trump                         #CountEveryVote Debrianna📢   \n",
       "7  biden                                        doncalloway   \n",
       "8  biden                                      ᎠᏌNᎬᎷYᎢᎻᎪNᏩ™️   \n",
       "9  trump                                     Charles Nutter   \n",
       "\n",
       "                 time                                         url  \\\n",
       "0 2019-12-27 23:48:11      /TeaPainUSA/status/1210708987143954437   \n",
       "1 2019-09-30 23:58:44     /Lincoln1710/status/1178821513249775616   \n",
       "2 2019-09-08 23:06:58         /Darcman/status/1170835953067466753   \n",
       "3 2019-12-27 22:57:05     /rev_avocado/status/1210696130440224768   \n",
       "4 2019-05-20 23:58:57      /CinnamonHH/status/1130623980434546690   \n",
       "5 2019-08-16 23:55:49     /JAlford1493/status/1162513323604111360   \n",
       "6 2019-10-07 23:59:54        /DMansini/status/1181358518923743233   \n",
       "7 2019-10-22 23:30:54           /dcstl/status/1186787039838003201   \n",
       "8 2019-02-10 23:25:56  /Kris_Sacrebleu/status/1094739271703965696   \n",
       "9 2019-01-08 23:56:39         /headius/status/1082788202853875712   \n",
       "\n",
       "                                                text lang  reply  \n",
       "0                                    weak and whiney   en  False  \n",
       "1  reality winner a whistleblower alerted the med...   en  False  \n",
       "2  poc will decide who the nominee is in the plac...   en  False  \n",
       "3  but you know i am sure the hundredth joke abou...   en  False  \n",
       "4  i have had heat exhaustion and it is awful why...   en  False  \n",
       "5  they just know how the movie ends they ed stil...   en  False  \n",
       "6  has it become completely obvious yet that this...   en  False  \n",
       "7  there is a very good chance that joe biden wil...   en  False  \n",
       "8  i see a few candidates making some missteps ou...   en  False  \n",
       "9  this is the anger and hate politics you suppor...   en  False  "
      ]
     },
     "execution_count": 6,
     "metadata": {},
     "output_type": "execute_result"
    }
   ],
   "source": [
    "df_web.head(10)"
   ]
  },
  {
   "cell_type": "markdown",
   "metadata": {},
   "source": [
    "## 1.3. Catégorisation à la main"
   ]
  },
  {
   "cell_type": "code",
   "execution_count": 7,
   "metadata": {},
   "outputs": [
    {
     "name": "stdout",
     "output_type": "stream",
     "text": [
      "Bonjour, mon nom est Bob \n"
     ]
    }
   ],
   "source": [
    "from google_trans_new import google_translator  \n",
    "  \n",
    "translator = google_translator()  \n",
    "translate_text = translator.translate(\"Hello my name is Bob\", lang_tgt='fr')  \n",
    "print(translate_text)"
   ]
  },
  {
   "cell_type": "code",
   "execution_count": 8,
   "metadata": {},
   "outputs": [],
   "source": [
    "# %%time\n",
    "# temp = df_web.copy()\n",
    "# temp['text_trad'] = temp.text.map(lambda x: translator.translate(x, lang_tgt='fr'))\n",
    "# temp.head(10)"
   ]
  },
  {
   "cell_type": "code",
   "execution_count": 9,
   "metadata": {},
   "outputs": [],
   "source": [
    "# temp['sentiment'] = 0"
   ]
  },
  {
   "cell_type": "code",
   "execution_count": 10,
   "metadata": {},
   "outputs": [],
   "source": [
    "# temp.to_excel(os.path.join(\"data\", \"web\", \"cat.xlsx\"))"
   ]
  },
  {
   "cell_type": "code",
   "execution_count": 11,
   "metadata": {},
   "outputs": [
    {
     "data": {
      "text/html": [
       "<div>\n",
       "<style scoped>\n",
       "    .dataframe tbody tr th:only-of-type {\n",
       "        vertical-align: middle;\n",
       "    }\n",
       "\n",
       "    .dataframe tbody tr th {\n",
       "        vertical-align: top;\n",
       "    }\n",
       "\n",
       "    .dataframe thead th {\n",
       "        text-align: right;\n",
       "    }\n",
       "</style>\n",
       "<table border=\"1\" class=\"dataframe\">\n",
       "  <thead>\n",
       "    <tr style=\"text-align: right;\">\n",
       "      <th></th>\n",
       "      <th>search</th>\n",
       "      <th>author</th>\n",
       "      <th>time</th>\n",
       "      <th>url</th>\n",
       "      <th>text</th>\n",
       "      <th>lang</th>\n",
       "      <th>reply</th>\n",
       "      <th>sentiment</th>\n",
       "    </tr>\n",
       "  </thead>\n",
       "  <tbody>\n",
       "    <tr>\n",
       "      <th>0</th>\n",
       "      <td>trump</td>\n",
       "      <td>Tea Pain</td>\n",
       "      <td>2019-12-27 23:48:11</td>\n",
       "      <td>/TeaPainUSA/status/1210708987143954437</td>\n",
       "      <td>weak and whiney</td>\n",
       "      <td>en</td>\n",
       "      <td>False</td>\n",
       "      <td>Negative</td>\n",
       "    </tr>\n",
       "    <tr>\n",
       "      <th>1</th>\n",
       "      <td>trump</td>\n",
       "      <td>Lincoln17 😊✌🌊❤🗽🌏🌈🎶</td>\n",
       "      <td>2019-09-30 23:58:44</td>\n",
       "      <td>/Lincoln1710/status/1178821513249775616</td>\n",
       "      <td>reality winner a whistleblower alerted the med...</td>\n",
       "      <td>en</td>\n",
       "      <td>False</td>\n",
       "      <td>Negative</td>\n",
       "    </tr>\n",
       "    <tr>\n",
       "      <th>2</th>\n",
       "      <td>biden</td>\n",
       "      <td>Eric Darcman</td>\n",
       "      <td>2019-09-08 23:06:58</td>\n",
       "      <td>/Darcman/status/1170835953067466753</td>\n",
       "      <td>poc will decide who the nominee is in the plac...</td>\n",
       "      <td>en</td>\n",
       "      <td>False</td>\n",
       "      <td>Negative</td>\n",
       "    </tr>\n",
       "    <tr>\n",
       "      <th>3</th>\n",
       "      <td>biden</td>\n",
       "      <td>Joe Pizza's Accountant, Shlomi Matzoball 🔥</td>\n",
       "      <td>2019-12-27 22:57:05</td>\n",
       "      <td>/rev_avocado/status/1210696130440224768</td>\n",
       "      <td>but you know i am sure the hundredth joke abou...</td>\n",
       "      <td>en</td>\n",
       "      <td>False</td>\n",
       "      <td>Negative</td>\n",
       "    </tr>\n",
       "    <tr>\n",
       "      <th>4</th>\n",
       "      <td>trump</td>\n",
       "      <td>Make Integrity Great Again [Drapeau des États-...</td>\n",
       "      <td>2019-05-20 23:58:57</td>\n",
       "      <td>/CinnamonHH/status/1130623980434546690</td>\n",
       "      <td>i have had heat exhaustion and it is awful why...</td>\n",
       "      <td>en</td>\n",
       "      <td>False</td>\n",
       "      <td>Negative</td>\n",
       "    </tr>\n",
       "    <tr>\n",
       "      <th>5</th>\n",
       "      <td>trump</td>\n",
       "      <td>James S</td>\n",
       "      <td>2019-08-16 23:55:49</td>\n",
       "      <td>/JAlford1493/status/1162513323604111360</td>\n",
       "      <td>they just know how the movie ends they ed stil...</td>\n",
       "      <td>en</td>\n",
       "      <td>False</td>\n",
       "      <td>Negative</td>\n",
       "    </tr>\n",
       "    <tr>\n",
       "      <th>6</th>\n",
       "      <td>trump</td>\n",
       "      <td>#CountEveryVote Debrianna📢</td>\n",
       "      <td>2019-10-07 23:59:54</td>\n",
       "      <td>/DMansini/status/1181358518923743233</td>\n",
       "      <td>has it become completely obvious yet that this...</td>\n",
       "      <td>en</td>\n",
       "      <td>False</td>\n",
       "      <td>Negative</td>\n",
       "    </tr>\n",
       "    <tr>\n",
       "      <th>7</th>\n",
       "      <td>biden</td>\n",
       "      <td>doncalloway</td>\n",
       "      <td>2019-10-22 23:30:54</td>\n",
       "      <td>/dcstl/status/1186787039838003201</td>\n",
       "      <td>there is a very good chance that joe biden wil...</td>\n",
       "      <td>en</td>\n",
       "      <td>False</td>\n",
       "      <td>Positive</td>\n",
       "    </tr>\n",
       "    <tr>\n",
       "      <th>8</th>\n",
       "      <td>biden</td>\n",
       "      <td>ᎠᏌNᎬᎷYᎢᎻᎪNᏩ™️</td>\n",
       "      <td>2019-02-10 23:25:56</td>\n",
       "      <td>/Kris_Sacrebleu/status/1094739271703965696</td>\n",
       "      <td>i see a few candidates making some missteps ou...</td>\n",
       "      <td>en</td>\n",
       "      <td>False</td>\n",
       "      <td>Positive</td>\n",
       "    </tr>\n",
       "    <tr>\n",
       "      <th>9</th>\n",
       "      <td>trump</td>\n",
       "      <td>Charles Nutter</td>\n",
       "      <td>2019-01-08 23:56:39</td>\n",
       "      <td>/headius/status/1082788202853875712</td>\n",
       "      <td>this is the anger and hate politics you suppor...</td>\n",
       "      <td>en</td>\n",
       "      <td>False</td>\n",
       "      <td>Negative</td>\n",
       "    </tr>\n",
       "  </tbody>\n",
       "</table>\n",
       "</div>"
      ],
      "text/plain": [
       "  search                                             author  \\\n",
       "0  trump                                           Tea Pain   \n",
       "1  trump                                 Lincoln17 😊✌🌊❤🗽🌏🌈🎶   \n",
       "2  biden                                       Eric Darcman   \n",
       "3  biden         Joe Pizza's Accountant, Shlomi Matzoball 🔥   \n",
       "4  trump  Make Integrity Great Again [Drapeau des États-...   \n",
       "5  trump                                            James S   \n",
       "6  trump                         #CountEveryVote Debrianna📢   \n",
       "7  biden                                        doncalloway   \n",
       "8  biden                                      ᎠᏌNᎬᎷYᎢᎻᎪNᏩ™️   \n",
       "9  trump                                     Charles Nutter   \n",
       "\n",
       "                 time                                         url  \\\n",
       "0 2019-12-27 23:48:11      /TeaPainUSA/status/1210708987143954437   \n",
       "1 2019-09-30 23:58:44     /Lincoln1710/status/1178821513249775616   \n",
       "2 2019-09-08 23:06:58         /Darcman/status/1170835953067466753   \n",
       "3 2019-12-27 22:57:05     /rev_avocado/status/1210696130440224768   \n",
       "4 2019-05-20 23:58:57      /CinnamonHH/status/1130623980434546690   \n",
       "5 2019-08-16 23:55:49     /JAlford1493/status/1162513323604111360   \n",
       "6 2019-10-07 23:59:54        /DMansini/status/1181358518923743233   \n",
       "7 2019-10-22 23:30:54           /dcstl/status/1186787039838003201   \n",
       "8 2019-02-10 23:25:56  /Kris_Sacrebleu/status/1094739271703965696   \n",
       "9 2019-01-08 23:56:39         /headius/status/1082788202853875712   \n",
       "\n",
       "                                                text lang  reply sentiment  \n",
       "0                                    weak and whiney   en  False  Negative  \n",
       "1  reality winner a whistleblower alerted the med...   en  False  Negative  \n",
       "2  poc will decide who the nominee is in the plac...   en  False  Negative  \n",
       "3  but you know i am sure the hundredth joke abou...   en  False  Negative  \n",
       "4  i have had heat exhaustion and it is awful why...   en  False  Negative  \n",
       "5  they just know how the movie ends they ed stil...   en  False  Negative  \n",
       "6  has it become completely obvious yet that this...   en  False  Negative  \n",
       "7  there is a very good chance that joe biden wil...   en  False  Positive  \n",
       "8  i see a few candidates making some missteps ou...   en  False  Positive  \n",
       "9  this is the anger and hate politics you suppor...   en  False  Negative  "
      ]
     },
     "execution_count": 11,
     "metadata": {},
     "output_type": "execute_result"
    }
   ],
   "source": [
    "df_web_cat = pd.read_excel(os.path.join(\"data\", \"web\", \"cat_.xlsx\")).drop(columns=['Unnamed: 0', 'text_trad'])\n",
    "df_web_cat.sentiment = df_web_cat.sentiment.apply(lambda x: 'Negative' if x == 0 else 'Positive')\n",
    "df_web_cat.head(10)"
   ]
  },
  {
   "cell_type": "code",
   "execution_count": 12,
   "metadata": {},
   "outputs": [
    {
     "data": {
      "text/plain": [
       "True"
      ]
     },
     "execution_count": 12,
     "metadata": {},
     "output_type": "execute_result"
    }
   ],
   "source": [
    "(df_web_cat.text == df_web.text).all()"
   ]
  },
  {
   "cell_type": "code",
   "execution_count": 13,
   "metadata": {},
   "outputs": [
    {
     "data": {
      "text/html": [
       "<div>\n",
       "<style scoped>\n",
       "    .dataframe tbody tr th:only-of-type {\n",
       "        vertical-align: middle;\n",
       "    }\n",
       "\n",
       "    .dataframe tbody tr th {\n",
       "        vertical-align: top;\n",
       "    }\n",
       "\n",
       "    .dataframe thead th {\n",
       "        text-align: right;\n",
       "    }\n",
       "</style>\n",
       "<table border=\"1\" class=\"dataframe\">\n",
       "  <thead>\n",
       "    <tr style=\"text-align: right;\">\n",
       "      <th></th>\n",
       "      <th>search</th>\n",
       "      <th>author</th>\n",
       "      <th>time</th>\n",
       "      <th>url</th>\n",
       "      <th>text</th>\n",
       "      <th>lang</th>\n",
       "      <th>reply</th>\n",
       "      <th>sentiment</th>\n",
       "    </tr>\n",
       "  </thead>\n",
       "  <tbody>\n",
       "    <tr>\n",
       "      <th>0</th>\n",
       "      <td>trump</td>\n",
       "      <td>Tea Pain</td>\n",
       "      <td>2019-12-27 23:48:11</td>\n",
       "      <td>/TeaPainUSA/status/1210708987143954437</td>\n",
       "      <td>weak and whiney</td>\n",
       "      <td>en</td>\n",
       "      <td>False</td>\n",
       "      <td>Negative</td>\n",
       "    </tr>\n",
       "    <tr>\n",
       "      <th>1</th>\n",
       "      <td>trump</td>\n",
       "      <td>Lincoln17 😊✌🌊❤🗽🌏🌈🎶</td>\n",
       "      <td>2019-09-30 23:58:44</td>\n",
       "      <td>/Lincoln1710/status/1178821513249775616</td>\n",
       "      <td>reality winner a whistleblower alerted the med...</td>\n",
       "      <td>en</td>\n",
       "      <td>False</td>\n",
       "      <td>Negative</td>\n",
       "    </tr>\n",
       "    <tr>\n",
       "      <th>2</th>\n",
       "      <td>biden</td>\n",
       "      <td>Eric Darcman</td>\n",
       "      <td>2019-09-08 23:06:58</td>\n",
       "      <td>/Darcman/status/1170835953067466753</td>\n",
       "      <td>poc will decide who the nominee is in the plac...</td>\n",
       "      <td>en</td>\n",
       "      <td>False</td>\n",
       "      <td>Negative</td>\n",
       "    </tr>\n",
       "    <tr>\n",
       "      <th>3</th>\n",
       "      <td>biden</td>\n",
       "      <td>Joe Pizza's Accountant, Shlomi Matzoball 🔥</td>\n",
       "      <td>2019-12-27 22:57:05</td>\n",
       "      <td>/rev_avocado/status/1210696130440224768</td>\n",
       "      <td>but you know i am sure the hundredth joke abou...</td>\n",
       "      <td>en</td>\n",
       "      <td>False</td>\n",
       "      <td>Negative</td>\n",
       "    </tr>\n",
       "    <tr>\n",
       "      <th>4</th>\n",
       "      <td>trump</td>\n",
       "      <td>Make Integrity Great Again [Drapeau des États-...</td>\n",
       "      <td>2019-05-20 23:58:57</td>\n",
       "      <td>/CinnamonHH/status/1130623980434546690</td>\n",
       "      <td>i have had heat exhaustion and it is awful why...</td>\n",
       "      <td>en</td>\n",
       "      <td>False</td>\n",
       "      <td>Negative</td>\n",
       "    </tr>\n",
       "    <tr>\n",
       "      <th>5</th>\n",
       "      <td>trump</td>\n",
       "      <td>James S</td>\n",
       "      <td>2019-08-16 23:55:49</td>\n",
       "      <td>/JAlford1493/status/1162513323604111360</td>\n",
       "      <td>they just know how the movie ends they ed stil...</td>\n",
       "      <td>en</td>\n",
       "      <td>False</td>\n",
       "      <td>Negative</td>\n",
       "    </tr>\n",
       "    <tr>\n",
       "      <th>6</th>\n",
       "      <td>trump</td>\n",
       "      <td>#CountEveryVote Debrianna📢</td>\n",
       "      <td>2019-10-07 23:59:54</td>\n",
       "      <td>/DMansini/status/1181358518923743233</td>\n",
       "      <td>has it become completely obvious yet that this...</td>\n",
       "      <td>en</td>\n",
       "      <td>False</td>\n",
       "      <td>Negative</td>\n",
       "    </tr>\n",
       "    <tr>\n",
       "      <th>7</th>\n",
       "      <td>biden</td>\n",
       "      <td>doncalloway</td>\n",
       "      <td>2019-10-22 23:30:54</td>\n",
       "      <td>/dcstl/status/1186787039838003201</td>\n",
       "      <td>there is a very good chance that joe biden wil...</td>\n",
       "      <td>en</td>\n",
       "      <td>False</td>\n",
       "      <td>Positive</td>\n",
       "    </tr>\n",
       "    <tr>\n",
       "      <th>8</th>\n",
       "      <td>biden</td>\n",
       "      <td>ᎠᏌNᎬᎷYᎢᎻᎪNᏩ™️</td>\n",
       "      <td>2019-02-10 23:25:56</td>\n",
       "      <td>/Kris_Sacrebleu/status/1094739271703965696</td>\n",
       "      <td>i see a few candidates making some missteps ou...</td>\n",
       "      <td>en</td>\n",
       "      <td>False</td>\n",
       "      <td>Positive</td>\n",
       "    </tr>\n",
       "    <tr>\n",
       "      <th>9</th>\n",
       "      <td>trump</td>\n",
       "      <td>Charles Nutter</td>\n",
       "      <td>2019-01-08 23:56:39</td>\n",
       "      <td>/headius/status/1082788202853875712</td>\n",
       "      <td>this is the anger and hate politics you suppor...</td>\n",
       "      <td>en</td>\n",
       "      <td>False</td>\n",
       "      <td>Negative</td>\n",
       "    </tr>\n",
       "  </tbody>\n",
       "</table>\n",
       "</div>"
      ],
      "text/plain": [
       "  search                                             author  \\\n",
       "0  trump                                           Tea Pain   \n",
       "1  trump                                 Lincoln17 😊✌🌊❤🗽🌏🌈🎶   \n",
       "2  biden                                       Eric Darcman   \n",
       "3  biden         Joe Pizza's Accountant, Shlomi Matzoball 🔥   \n",
       "4  trump  Make Integrity Great Again [Drapeau des États-...   \n",
       "5  trump                                            James S   \n",
       "6  trump                         #CountEveryVote Debrianna📢   \n",
       "7  biden                                        doncalloway   \n",
       "8  biden                                      ᎠᏌNᎬᎷYᎢᎻᎪNᏩ™️   \n",
       "9  trump                                     Charles Nutter   \n",
       "\n",
       "                 time                                         url  \\\n",
       "0 2019-12-27 23:48:11      /TeaPainUSA/status/1210708987143954437   \n",
       "1 2019-09-30 23:58:44     /Lincoln1710/status/1178821513249775616   \n",
       "2 2019-09-08 23:06:58         /Darcman/status/1170835953067466753   \n",
       "3 2019-12-27 22:57:05     /rev_avocado/status/1210696130440224768   \n",
       "4 2019-05-20 23:58:57      /CinnamonHH/status/1130623980434546690   \n",
       "5 2019-08-16 23:55:49     /JAlford1493/status/1162513323604111360   \n",
       "6 2019-10-07 23:59:54        /DMansini/status/1181358518923743233   \n",
       "7 2019-10-22 23:30:54           /dcstl/status/1186787039838003201   \n",
       "8 2019-02-10 23:25:56  /Kris_Sacrebleu/status/1094739271703965696   \n",
       "9 2019-01-08 23:56:39         /headius/status/1082788202853875712   \n",
       "\n",
       "                                                text lang  reply sentiment  \n",
       "0                                    weak and whiney   en  False  Negative  \n",
       "1  reality winner a whistleblower alerted the med...   en  False  Negative  \n",
       "2  poc will decide who the nominee is in the plac...   en  False  Negative  \n",
       "3  but you know i am sure the hundredth joke abou...   en  False  Negative  \n",
       "4  i have had heat exhaustion and it is awful why...   en  False  Negative  \n",
       "5  they just know how the movie ends they ed stil...   en  False  Negative  \n",
       "6  has it become completely obvious yet that this...   en  False  Negative  \n",
       "7  there is a very good chance that joe biden wil...   en  False  Positive  \n",
       "8  i see a few candidates making some missteps ou...   en  False  Positive  \n",
       "9  this is the anger and hate politics you suppor...   en  False  Negative  "
      ]
     },
     "execution_count": 13,
     "metadata": {},
     "output_type": "execute_result"
    }
   ],
   "source": [
    "df_web['sentiment'] = df_web_cat.sentiment\n",
    "df_web.head(10)"
   ]
  },
  {
   "cell_type": "code",
   "execution_count": 14,
   "metadata": {},
   "outputs": [
    {
     "data": {
      "image/png": "[encoded data removed]",
      "text/plain": [
       "<Figure size 432x288 with 1 Axes>"
      ]
     },
     "metadata": {
      "needs_background": "light"
     },
     "output_type": "display_data"
    }
   ],
   "source": [
    "sns.countplot(x='sentiment', data=df_web)\n",
    "plt.show()"
   ]
  },
  {
   "cell_type": "code",
   "execution_count": 15,
   "metadata": {},
   "outputs": [],
   "source": [
    "X_140 = df_140.text.to_list()\n",
    "y_140 = df_140.sentiment.to_list()\n",
    "X_web = df_web.text.to_list()\n",
    "y_web = df_web.sentiment.to_list()"
   ]
  },
  {
   "cell_type": "markdown",
   "metadata": {},
   "source": [
    "# 2. Performances des modèles précédents"
   ]
  },
  {
   "cell_type": "code",
   "execution_count": 16,
   "metadata": {},
   "outputs": [],
   "source": [
    "def conf_matrix(X_140, y_140, X_web, y_web, vectorizer, model, verbose=True):\n",
    "    X_140 = vectorizer.fit_transform(X_140)\n",
    "    X_train_140, X_test_140, y_train_140, y_test_140 = train_test_split(StandardScaler(with_mean=False).fit_transform(X_140), y_140, train_size=0.80, random_state=1234)\n",
    "    \n",
    "    model.fit(X_train_140, y_train_140)    \n",
    "    y_pred_140 = model.predict(X_test_140)\n",
    "    \n",
    "    X_web = vectorizer.transform(X_web)\n",
    "    y_pred_web = model.predict(X_web)\n",
    "    \n",
    "    for (X_test, y_test, y_pred) in [(X_test_140, y_test_140, y_pred_140), (X_web, y_web, y_pred_web)]:\n",
    "        y_pred = model.predict(X_test)\n",
    "\n",
    "        sc_accuracy = metrics.accuracy_score(y_pred, y_test)    \n",
    "        sc_balanced_accuracy = metrics.balanced_accuracy_score(y_pred, y_test)\n",
    "        sc_f1 = metrics.f1_score(y_pred, y_test, pos_label=\"Positive\")\n",
    "        sc_recall = metrics.recall_score(y_pred, y_test, pos_label=\"Positive\")\n",
    "        sc_precision = metrics.precision_score(y_pred, y_test, pos_label=\"Positive\")\n",
    "        sc_roc_auc = metrics.roc_auc_score(y_test, model.predict_proba(X_test)[:, 1])\n",
    "        probs = model.predict_proba(X_test)[:, 1]\n",
    "\n",
    "        if verbose:\n",
    "            metrics.plot_confusion_matrix(model, X_test, y_test)\n",
    "            plt.show()\n",
    "\n",
    "            print(f\"Accuracy : {sc_accuracy:.4f}\")\n",
    "            print(f\"Balanced accuracy : {sc_balanced_accuracy:.4f}\")\n",
    "        #     print(f\"Recall : {sc_recall}\")\n",
    "        #     print(f\"Precision : {sc_precision}\")\n",
    "        #     print(f\"F1 : {sc_f1}\")\n",
    "            print(f\"ROC AUC : {sc_roc_auc:.4f}\")"
   ]
  },
  {
   "cell_type": "code",
   "execution_count": 17,
   "metadata": {},
   "outputs": [
    {
     "data": {
      "image/png": "[encoded data removed]",
      "text/plain": [
       "<Figure size 432x288 with 2 Axes>"
      ]
     },
     "metadata": {
      "needs_background": "light"
     },
     "output_type": "display_data"
    },
    {
     "name": "stdout",
     "output_type": "stream",
     "text": [
      "Accuracy : 0.7653\n",
      "Balanced accuracy : 0.7661\n",
      "ROC AUC : 0.8380\n"
     ]
    },
    {
     "data": {
      "image/png": "[encoded data removed]",
      "text/plain": [
       "<Figure size 432x288 with 2 Axes>"
      ]
     },
     "metadata": {
      "needs_background": "light"
     },
     "output_type": "display_data"
    },
    {
     "name": "stdout",
     "output_type": "stream",
     "text": [
      "Accuracy : 0.5200\n",
      "Balanced accuracy : 0.5764\n",
      "ROC AUC : 0.4301\n",
      "Wall time: 4.38 s\n"
     ]
    }
   ],
   "source": [
    "%%time\n",
    "conf_matrix(X_140, y_140, X_web, y_web, CountVectorizer(max_features=1000), LogisticRegression())"
   ]
  },
  {
   "cell_type": "code",
   "execution_count": 18,
   "metadata": {},
   "outputs": [
    {
     "data": {
      "image/png": "[encoded data removed]",
      "text/plain": [
       "<Figure size 432x288 with 2 Axes>"
      ]
     },
     "metadata": {
      "needs_background": "light"
     },
     "output_type": "display_data"
    },
    {
     "name": "stdout",
     "output_type": "stream",
     "text": [
      "Accuracy : 0.7653\n",
      "Balanced accuracy : 0.7655\n",
      "ROC AUC : 0.8449\n"
     ]
    },
    {
     "name": "stderr",
     "output_type": "stream",
     "text": [
      "C:\\Users\\pasqu\\anaconda3\\envs\\data-2A\\lib\\site-packages\\sklearn\\metrics\\_classification.py:1814: UserWarning: y_pred contains classes not in y_true\n",
      "  warnings.warn('y_pred contains classes not in y_true')\n"
     ]
    },
    {
     "data": {
      "image/png": "[encoded data removed]",
      "text/plain": [
       "<Figure size 432x288 with 2 Axes>"
      ]
     },
     "metadata": {
      "needs_background": "light"
     },
     "output_type": "display_data"
    },
    {
     "name": "stdout",
     "output_type": "stream",
     "text": [
      "Accuracy : 0.3200\n",
      "Balanced accuracy : 0.3200\n",
      "ROC AUC : 0.4577\n",
      "Wall time: 4.61 s\n"
     ]
    }
   ],
   "source": [
    "%%time\n",
    "conf_matrix(X_140, y_140, X_web, y_web, TfidfVectorizer(max_features=1000), LogisticRegression())"
   ]
  },
  {
   "cell_type": "code",
   "execution_count": 19,
   "metadata": {},
   "outputs": [
    {
     "data": {
      "image/png": "[encoded data removed]",
      "text/plain": [
       "<Figure size 432x288 with 2 Axes>"
      ]
     },
     "metadata": {
      "needs_background": "light"
     },
     "output_type": "display_data"
    },
    {
     "name": "stdout",
     "output_type": "stream",
     "text": [
      "Accuracy : 0.7277\n",
      "Balanced accuracy : 0.7277\n",
      "ROC AUC : 0.7949\n"
     ]
    },
    {
     "data": {
      "image/png": "[encoded data removed]",
      "text/plain": [
       "<Figure size 432x288 with 2 Axes>"
      ]
     },
     "metadata": {
      "needs_background": "light"
     },
     "output_type": "display_data"
    },
    {
     "name": "stdout",
     "output_type": "stream",
     "text": [
      "Accuracy : 0.5400\n",
      "Balanced accuracy : 0.4397\n",
      "ROC AUC : 0.5294\n",
      "Wall time: 4.33 s\n"
     ]
    }
   ],
   "source": [
    "%%time\n",
    "conf_matrix(X_140, y_140, X_web, y_web, CountVectorizer(max_features=1000), MultinomialNB(alpha=1))"
   ]
  },
  {
   "cell_type": "code",
   "execution_count": 20,
   "metadata": {},
   "outputs": [
    {
     "data": {
      "image/png": "[encoded data removed]",
      "text/plain": [
       "<Figure size 432x288 with 2 Axes>"
      ]
     },
     "metadata": {
      "needs_background": "light"
     },
     "output_type": "display_data"
    },
    {
     "name": "stdout",
     "output_type": "stream",
     "text": [
      "Accuracy : 0.7268\n",
      "Balanced accuracy : 0.7268\n",
      "ROC AUC : 0.8016\n"
     ]
    },
    {
     "data": {
      "image/png": "[encoded data removed]",
      "text/plain": [
       "<Figure size 432x288 with 2 Axes>"
      ]
     },
     "metadata": {
      "needs_background": "light"
     },
     "output_type": "display_data"
    },
    {
     "name": "stdout",
     "output_type": "stream",
     "text": [
      "Accuracy : 0.5600\n",
      "Balanced accuracy : 0.4539\n",
      "ROC AUC : 0.5349\n",
      "Wall time: 4.12 s\n"
     ]
    }
   ],
   "source": [
    "%%time\n",
    "conf_matrix(X_140, y_140, X_web, y_web, TfidfVectorizer(max_features=1000), MultinomialNB(alpha=1))"
   ]
  },
  {
   "cell_type": "code",
   "execution_count": null,
   "metadata": {},
   "outputs": [],
   "source": []
  }
 ],
 "metadata": {
  "kernelspec": {
   "display_name": "Python 3",
   "language": "python",
   "name": "python3"
  },
  "language_info": {
   "codemirror_mode": {
    "name": "ipython",
    "version": 3
   },
   "file_extension": ".py",
   "mimetype": "text/x-python",
   "name": "python",
   "nbconvert_exporter": "python",
   "pygments_lexer": "ipython3",
   "version": "3.6.11"
  }
 },
 "nbformat": 4,
 "nbformat_minor": 4
}
