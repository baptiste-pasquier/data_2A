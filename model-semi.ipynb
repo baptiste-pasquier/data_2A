{
 "cells": [
  {
   "cell_type": "code",
   "execution_count": 1,
   "metadata": {},
   "outputs": [],
   "source": [
    "import pandas as pd\n",
    "import numpy as np\n",
    "import seaborn as sns\n",
    "import matplotlib.pyplot as plt\n",
    "from sklearn.feature_extraction.text import CountVectorizer, TfidfVectorizer\n",
    "import re\n",
    "import sklearn\n",
    "from sklearn.preprocessing import StandardScaler\n",
    "from sklearn.model_selection import train_test_split\n",
    "from sklearn.linear_model import LogisticRegression\n",
    "from sklearn.naive_bayes import GaussianNB, MultinomialNB\n",
    "from sklearn.metrics import confusion_matrix\n",
    "from sklearn import metrics\n",
    "import os\n",
    "from IPython.display import display\n",
    "import time\n",
    "from math import log\n",
    "t = time.time()"
   ]
  },
  {
   "cell_type": "markdown",
   "metadata": {},
   "source": [
    "Nous étudions dans ce notebook un modèle **semi-supervisé** utilisant le modèle **Naive Bayes**."
   ]
  },
  {
   "cell_type": "markdown",
   "metadata": {},
   "source": [
    "# 1. Chargement de la base Sentiment140 et de la base webscrapée\n",
    "\n",
    "## 1.1. Base Sentiment140"
   ]
  },
  {
   "cell_type": "code",
   "execution_count": 2,
   "metadata": {},
   "outputs": [],
   "source": [
    "NB_DATA_140 = 200000\n",
    "NB_DATA_WEB = 50"
   ]
  },
  {
   "cell_type": "code",
   "execution_count": 3,
   "metadata": {},
   "outputs": [
    {
     "data": {
      "text/plain": [
       "(200000, 6)"
      ]
     },
     "execution_count": 3,
     "metadata": {},
     "output_type": "execute_result"
    }
   ],
   "source": [
    "STOP_WORDS = False\n",
    "LEMMATIZATION = False\n",
    "NEGATION = False\n",
    "file = \"train\"\n",
    "if STOP_WORDS:\n",
    "    file += \"_stop\"\n",
    "if LEMMATIZATION:\n",
    "    file += \"_lemm\"\n",
    "if NEGATION:\n",
    "    file += \"_neg\"\n",
    "df_140 = pd.read_pickle(os.path.join(\"data\", \"sentiment140\", file + \".bz2\")).sample(NB_DATA_140, random_state=1234).reset_index(drop=True)\n",
    "df_140.shape"
   ]
  },
  {
   "cell_type": "code",
   "execution_count": 4,
   "metadata": {},
   "outputs": [
    {
     "data": {
      "text/html": [
       "<div>\n",
       "<style scoped>\n",
       "    .dataframe tbody tr th:only-of-type {\n",
       "        vertical-align: middle;\n",
       "    }\n",
       "\n",
       "    .dataframe tbody tr th {\n",
       "        vertical-align: top;\n",
       "    }\n",
       "\n",
       "    .dataframe thead th {\n",
       "        text-align: right;\n",
       "    }\n",
       "</style>\n",
       "<table border=\"1\" class=\"dataframe\">\n",
       "  <thead>\n",
       "    <tr style=\"text-align: right;\">\n",
       "      <th></th>\n",
       "      <th>sentiment</th>\n",
       "      <th>id</th>\n",
       "      <th>date</th>\n",
       "      <th>query_string</th>\n",
       "      <th>user</th>\n",
       "      <th>text</th>\n",
       "    </tr>\n",
       "  </thead>\n",
       "  <tbody>\n",
       "    <tr>\n",
       "      <th>0</th>\n",
       "      <td>Negative</td>\n",
       "      <td>2220663113</td>\n",
       "      <td>Thu Jun 18 03:39:49 PDT 2009</td>\n",
       "      <td>NO_QUERY</td>\n",
       "      <td>gemgembam</td>\n",
       "      <td>open itunes will not open naooo the silence is...</td>\n",
       "    </tr>\n",
       "    <tr>\n",
       "      <th>1</th>\n",
       "      <td>Negative</td>\n",
       "      <td>2202759103</td>\n",
       "      <td>Tue Jun 16 22:21:43 PDT 2009</td>\n",
       "      <td>NO_QUERY</td>\n",
       "      <td>twistofcolour</td>\n",
       "      <td>the sun is already gone for the day</td>\n",
       "    </tr>\n",
       "    <tr>\n",
       "      <th>2</th>\n",
       "      <td>Positive</td>\n",
       "      <td>2049441111</td>\n",
       "      <td>Fri Jun 05 16:53:10 PDT 2009</td>\n",
       "      <td>NO_QUERY</td>\n",
       "      <td>Niico1e</td>\n",
       "      <td>hiya this is my st tweet i am so tired though ...</td>\n",
       "    </tr>\n",
       "    <tr>\n",
       "      <th>3</th>\n",
       "      <td>Negative</td>\n",
       "      <td>2204830292</td>\n",
       "      <td>Wed Jun 17 03:14:38 PDT 2009</td>\n",
       "      <td>NO_QUERY</td>\n",
       "      <td>MeriEsteban</td>\n",
       "      <td>i have the bac today at p m i do not know if i...</td>\n",
       "    </tr>\n",
       "    <tr>\n",
       "      <th>4</th>\n",
       "      <td>Positive</td>\n",
       "      <td>2190306594</td>\n",
       "      <td>Tue Jun 16 02:21:03 PDT 2009</td>\n",
       "      <td>NO_QUERY</td>\n",
       "      <td>MeghanMagnolia</td>\n",
       "      <td>as far as i remember you were not half bad ine...</td>\n",
       "    </tr>\n",
       "    <tr>\n",
       "      <th>5</th>\n",
       "      <td>Positive</td>\n",
       "      <td>2046706853</td>\n",
       "      <td>Fri Jun 05 12:34:26 PDT 2009</td>\n",
       "      <td>NO_QUERY</td>\n",
       "      <td>WahooPooh</td>\n",
       "      <td>as tempting as that is i am just waiting on my...</td>\n",
       "    </tr>\n",
       "    <tr>\n",
       "      <th>6</th>\n",
       "      <td>Negative</td>\n",
       "      <td>2215937155</td>\n",
       "      <td>Wed Jun 17 18:49:10 PDT 2009</td>\n",
       "      <td>NO_QUERY</td>\n",
       "      <td>amandarie</td>\n",
       "      <td>cool how i have to be stuck at home i want to ...</td>\n",
       "    </tr>\n",
       "    <tr>\n",
       "      <th>7</th>\n",
       "      <td>Positive</td>\n",
       "      <td>1676343245</td>\n",
       "      <td>Fri May 01 21:46:07 PDT 2009</td>\n",
       "      <td>NO_QUERY</td>\n",
       "      <td>MatchesMalone</td>\n",
       "      <td>oh and followfriday my writing partner because...</td>\n",
       "    </tr>\n",
       "    <tr>\n",
       "      <th>8</th>\n",
       "      <td>Negative</td>\n",
       "      <td>2192486836</td>\n",
       "      <td>Tue Jun 16 07:06:35 PDT 2009</td>\n",
       "      <td>NO_QUERY</td>\n",
       "      <td>hockeyfan45214</td>\n",
       "      <td>you would think if i continue to block someone...</td>\n",
       "    </tr>\n",
       "    <tr>\n",
       "      <th>9</th>\n",
       "      <td>Negative</td>\n",
       "      <td>1981647618</td>\n",
       "      <td>Sun May 31 09:35:54 PDT 2009</td>\n",
       "      <td>NO_QUERY</td>\n",
       "      <td>ilovemytroops</td>\n",
       "      <td>nevaeh buchanan missing friends of her mother ...</td>\n",
       "    </tr>\n",
       "  </tbody>\n",
       "</table>\n",
       "</div>"
      ],
      "text/plain": [
       "  sentiment          id                          date query_string  \\\n",
       "0  Negative  2220663113  Thu Jun 18 03:39:49 PDT 2009     NO_QUERY   \n",
       "1  Negative  2202759103  Tue Jun 16 22:21:43 PDT 2009     NO_QUERY   \n",
       "2  Positive  2049441111  Fri Jun 05 16:53:10 PDT 2009     NO_QUERY   \n",
       "3  Negative  2204830292  Wed Jun 17 03:14:38 PDT 2009     NO_QUERY   \n",
       "4  Positive  2190306594  Tue Jun 16 02:21:03 PDT 2009     NO_QUERY   \n",
       "5  Positive  2046706853  Fri Jun 05 12:34:26 PDT 2009     NO_QUERY   \n",
       "6  Negative  2215937155  Wed Jun 17 18:49:10 PDT 2009     NO_QUERY   \n",
       "7  Positive  1676343245  Fri May 01 21:46:07 PDT 2009     NO_QUERY   \n",
       "8  Negative  2192486836  Tue Jun 16 07:06:35 PDT 2009     NO_QUERY   \n",
       "9  Negative  1981647618  Sun May 31 09:35:54 PDT 2009     NO_QUERY   \n",
       "\n",
       "             user                                               text  \n",
       "0       gemgembam  open itunes will not open naooo the silence is...  \n",
       "1   twistofcolour                the sun is already gone for the day  \n",
       "2         Niico1e  hiya this is my st tweet i am so tired though ...  \n",
       "3     MeriEsteban  i have the bac today at p m i do not know if i...  \n",
       "4  MeghanMagnolia  as far as i remember you were not half bad ine...  \n",
       "5       WahooPooh  as tempting as that is i am just waiting on my...  \n",
       "6       amandarie  cool how i have to be stuck at home i want to ...  \n",
       "7   MatchesMalone  oh and followfriday my writing partner because...  \n",
       "8  hockeyfan45214  you would think if i continue to block someone...  \n",
       "9   ilovemytroops  nevaeh buchanan missing friends of her mother ...  "
      ]
     },
     "execution_count": 4,
     "metadata": {},
     "output_type": "execute_result"
    }
   ],
   "source": [
    "df_140.head(10)"
   ]
  },
  {
   "cell_type": "markdown",
   "metadata": {},
   "source": [
    " ## 1.2. Base webscrapée"
   ]
  },
  {
   "cell_type": "code",
   "execution_count": 5,
   "metadata": {},
   "outputs": [
    {
     "data": {
      "text/plain": [
       "(10588, 7)"
      ]
     },
     "execution_count": 5,
     "metadata": {},
     "output_type": "execute_result"
    }
   ],
   "source": [
    "file = \"web\"\n",
    "if STOP_WORDS:\n",
    "    file += \"_stop\"\n",
    "if LEMMATIZATION:\n",
    "    file += \"_lemm\"\n",
    "if NEGATION:\n",
    "    file += \"_neg\"\n",
    "df_web = pd.read_pickle(os.path.join(\"data\", \"web\", file + \".bz2\"))\n",
    "df_web.shape"
   ]
  },
  {
   "cell_type": "code",
   "execution_count": 6,
   "metadata": {},
   "outputs": [
    {
     "data": {
      "text/html": [
       "<div>\n",
       "<style scoped>\n",
       "    .dataframe tbody tr th:only-of-type {\n",
       "        vertical-align: middle;\n",
       "    }\n",
       "\n",
       "    .dataframe tbody tr th {\n",
       "        vertical-align: top;\n",
       "    }\n",
       "\n",
       "    .dataframe thead th {\n",
       "        text-align: right;\n",
       "    }\n",
       "</style>\n",
       "<table border=\"1\" class=\"dataframe\">\n",
       "  <thead>\n",
       "    <tr style=\"text-align: right;\">\n",
       "      <th></th>\n",
       "      <th>search</th>\n",
       "      <th>author</th>\n",
       "      <th>time</th>\n",
       "      <th>url</th>\n",
       "      <th>text</th>\n",
       "      <th>lang</th>\n",
       "      <th>reply</th>\n",
       "    </tr>\n",
       "  </thead>\n",
       "  <tbody>\n",
       "    <tr>\n",
       "      <th>0</th>\n",
       "      <td>biden</td>\n",
       "      <td>Maggie Klaus 🤶🏻</td>\n",
       "      <td>2019-01-01 22:37:46</td>\n",
       "      <td>/Maggie_Klaus/status/1080231636334067712</td>\n",
       "      <td>shut the f ck up about hillary s likability wh...</td>\n",
       "      <td>en</td>\n",
       "      <td>False</td>\n",
       "    </tr>\n",
       "    <tr>\n",
       "      <th>1</th>\n",
       "      <td>biden</td>\n",
       "      <td>The Salt Lake Tribune</td>\n",
       "      <td>2019-01-01 22:15:18</td>\n",
       "      <td>/sltrib/status/1080225983083487232</td>\n",
       "      <td>the agreed to pay former vice president to spe...</td>\n",
       "      <td>en</td>\n",
       "      <td>False</td>\n",
       "    </tr>\n",
       "    <tr>\n",
       "      <th>2</th>\n",
       "      <td>biden</td>\n",
       "      <td>The New York Times</td>\n",
       "      <td>2019-01-01 20:00:08</td>\n",
       "      <td>/nytimes/status/1080191967873716224</td>\n",
       "      <td>a series of careful financial decisions and th...</td>\n",
       "      <td>en</td>\n",
       "      <td>False</td>\n",
       "    </tr>\n",
       "    <tr>\n",
       "      <th>3</th>\n",
       "      <td>biden</td>\n",
       "      <td>Matt Binder</td>\n",
       "      <td>2019-01-01 22:18:51</td>\n",
       "      <td>/MattBinder/status/1080226876226965504</td>\n",
       "      <td>i agree this is useful democrats should defini...</td>\n",
       "      <td>en</td>\n",
       "      <td>False</td>\n",
       "    </tr>\n",
       "    <tr>\n",
       "      <th>4</th>\n",
       "      <td>biden</td>\n",
       "      <td>Patrick Healy</td>\n",
       "      <td>2019-01-01 19:58:58</td>\n",
       "      <td>/patrickhealynyt/status/1080191673701933059</td>\n",
       "      <td>news joe biden s campaign in waiting includes ...</td>\n",
       "      <td>en</td>\n",
       "      <td>False</td>\n",
       "    </tr>\n",
       "    <tr>\n",
       "      <th>5</th>\n",
       "      <td>biden</td>\n",
       "      <td>Ashton Pittman</td>\n",
       "      <td>2019-01-01 23:52:34</td>\n",
       "      <td>/ashtonpittman/status/1080250459200344065</td>\n",
       "      <td>also on fox news newt gingrich praised sen mar...</td>\n",
       "      <td>en</td>\n",
       "      <td>False</td>\n",
       "    </tr>\n",
       "    <tr>\n",
       "      <th>6</th>\n",
       "      <td>biden</td>\n",
       "      <td>Ashton Pittman</td>\n",
       "      <td>2019-01-01 23:52:35</td>\n",
       "      <td>/ashtonpittman/status/1080250465718288384</td>\n",
       "      <td>republicans at fox news even had high praise f...</td>\n",
       "      <td>en</td>\n",
       "      <td>False</td>\n",
       "    </tr>\n",
       "    <tr>\n",
       "      <th>7</th>\n",
       "      <td>biden</td>\n",
       "      <td>Virgil Xmas 🎄🎁💸</td>\n",
       "      <td>2019-01-01 22:25:54</td>\n",
       "      <td>/virgiltexas/status/1080228651327733760</td>\n",
       "      <td>for every joe biden he votes for i am going to...</td>\n",
       "      <td>en</td>\n",
       "      <td>False</td>\n",
       "    </tr>\n",
       "    <tr>\n",
       "      <th>8</th>\n",
       "      <td>biden</td>\n",
       "      <td>Katelyn Burns</td>\n",
       "      <td>2019-01-01 22:01:53</td>\n",
       "      <td>/transscribe/status/1080222604668166144</td>\n",
       "      <td>the unspoken and untrue premise of this piece ...</td>\n",
       "      <td>en</td>\n",
       "      <td>False</td>\n",
       "    </tr>\n",
       "    <tr>\n",
       "      <th>9</th>\n",
       "      <td>biden</td>\n",
       "      <td>Susan Murphy</td>\n",
       "      <td>2019-01-01 22:59:08</td>\n",
       "      <td>/susmurphy/status/1080237012689530883</td>\n",
       "      <td>re the dem race i will vote for whoever is the...</td>\n",
       "      <td>en</td>\n",
       "      <td>False</td>\n",
       "    </tr>\n",
       "  </tbody>\n",
       "</table>\n",
       "</div>"
      ],
      "text/plain": [
       "  search                 author                time  \\\n",
       "0  biden        Maggie Klaus 🤶🏻 2019-01-01 22:37:46   \n",
       "1  biden  The Salt Lake Tribune 2019-01-01 22:15:18   \n",
       "2  biden     The New York Times 2019-01-01 20:00:08   \n",
       "3  biden            Matt Binder 2019-01-01 22:18:51   \n",
       "4  biden          Patrick Healy 2019-01-01 19:58:58   \n",
       "5  biden         Ashton Pittman 2019-01-01 23:52:34   \n",
       "6  biden         Ashton Pittman 2019-01-01 23:52:35   \n",
       "7  biden        Virgil Xmas 🎄🎁💸 2019-01-01 22:25:54   \n",
       "8  biden          Katelyn Burns 2019-01-01 22:01:53   \n",
       "9  biden           Susan Murphy 2019-01-01 22:59:08   \n",
       "\n",
       "                                           url  \\\n",
       "0     /Maggie_Klaus/status/1080231636334067712   \n",
       "1           /sltrib/status/1080225983083487232   \n",
       "2          /nytimes/status/1080191967873716224   \n",
       "3       /MattBinder/status/1080226876226965504   \n",
       "4  /patrickhealynyt/status/1080191673701933059   \n",
       "5    /ashtonpittman/status/1080250459200344065   \n",
       "6    /ashtonpittman/status/1080250465718288384   \n",
       "7      /virgiltexas/status/1080228651327733760   \n",
       "8      /transscribe/status/1080222604668166144   \n",
       "9        /susmurphy/status/1080237012689530883   \n",
       "\n",
       "                                                text lang  reply  \n",
       "0  shut the f ck up about hillary s likability wh...   en  False  \n",
       "1  the agreed to pay former vice president to spe...   en  False  \n",
       "2  a series of careful financial decisions and th...   en  False  \n",
       "3  i agree this is useful democrats should defini...   en  False  \n",
       "4  news joe biden s campaign in waiting includes ...   en  False  \n",
       "5  also on fox news newt gingrich praised sen mar...   en  False  \n",
       "6  republicans at fox news even had high praise f...   en  False  \n",
       "7  for every joe biden he votes for i am going to...   en  False  \n",
       "8  the unspoken and untrue premise of this piece ...   en  False  \n",
       "9  re the dem race i will vote for whoever is the...   en  False  "
      ]
     },
     "execution_count": 6,
     "metadata": {},
     "output_type": "execute_result"
    }
   ],
   "source": [
    "df_web.head(10)"
   ]
  },
  {
   "cell_type": "markdown",
   "metadata": {},
   "source": [
    "## 1.3. Catégorisation à la main"
   ]
  },
  {
   "cell_type": "code",
   "execution_count": 7,
   "metadata": {},
   "outputs": [
    {
     "data": {
      "text/plain": [
       "(50, 7)"
      ]
     },
     "execution_count": 7,
     "metadata": {},
     "output_type": "execute_result"
    }
   ],
   "source": [
    "df_web_cat = pd.read_pickle(os.path.join(\"data\", \"web\", file + \".bz2\")).sample(NB_DATA_WEB, random_state=1234).reset_index(drop=True)\n",
    "df_web_cat.shape"
   ]
  },
  {
   "cell_type": "code",
   "execution_count": 8,
   "metadata": {},
   "outputs": [
    {
     "data": {
      "text/html": [
       "<div>\n",
       "<style scoped>\n",
       "    .dataframe tbody tr th:only-of-type {\n",
       "        vertical-align: middle;\n",
       "    }\n",
       "\n",
       "    .dataframe tbody tr th {\n",
       "        vertical-align: top;\n",
       "    }\n",
       "\n",
       "    .dataframe thead th {\n",
       "        text-align: right;\n",
       "    }\n",
       "</style>\n",
       "<table border=\"1\" class=\"dataframe\">\n",
       "  <thead>\n",
       "    <tr style=\"text-align: right;\">\n",
       "      <th></th>\n",
       "      <th>search</th>\n",
       "      <th>author</th>\n",
       "      <th>time</th>\n",
       "      <th>url</th>\n",
       "      <th>text</th>\n",
       "      <th>lang</th>\n",
       "      <th>reply</th>\n",
       "    </tr>\n",
       "  </thead>\n",
       "  <tbody>\n",
       "    <tr>\n",
       "      <th>0</th>\n",
       "      <td>trump</td>\n",
       "      <td>Tea Pain</td>\n",
       "      <td>2019-12-27 23:48:11</td>\n",
       "      <td>/TeaPainUSA/status/1210708987143954437</td>\n",
       "      <td>weak and whiney</td>\n",
       "      <td>en</td>\n",
       "      <td>False</td>\n",
       "    </tr>\n",
       "    <tr>\n",
       "      <th>1</th>\n",
       "      <td>trump</td>\n",
       "      <td>Lincoln17 😊✌🌊❤🗽🌏🌈🎶</td>\n",
       "      <td>2019-09-30 23:58:44</td>\n",
       "      <td>/Lincoln1710/status/1178821513249775616</td>\n",
       "      <td>reality winner a whistleblower alerted the med...</td>\n",
       "      <td>en</td>\n",
       "      <td>False</td>\n",
       "    </tr>\n",
       "    <tr>\n",
       "      <th>2</th>\n",
       "      <td>biden</td>\n",
       "      <td>Eric Darcman</td>\n",
       "      <td>2019-09-08 23:06:58</td>\n",
       "      <td>/Darcman/status/1170835953067466753</td>\n",
       "      <td>poc will decide who the nominee is in the plac...</td>\n",
       "      <td>en</td>\n",
       "      <td>False</td>\n",
       "    </tr>\n",
       "    <tr>\n",
       "      <th>3</th>\n",
       "      <td>biden</td>\n",
       "      <td>Joe Pizza's Accountant, Shlomi Matzoball 🔥</td>\n",
       "      <td>2019-12-27 22:57:05</td>\n",
       "      <td>/rev_avocado/status/1210696130440224768</td>\n",
       "      <td>but you know i am sure the hundredth joke abou...</td>\n",
       "      <td>en</td>\n",
       "      <td>False</td>\n",
       "    </tr>\n",
       "    <tr>\n",
       "      <th>4</th>\n",
       "      <td>trump</td>\n",
       "      <td>Make Integrity Great Again [Drapeau des États-...</td>\n",
       "      <td>2019-05-20 23:58:57</td>\n",
       "      <td>/CinnamonHH/status/1130623980434546690</td>\n",
       "      <td>i have had heat exhaustion and it is awful why...</td>\n",
       "      <td>en</td>\n",
       "      <td>False</td>\n",
       "    </tr>\n",
       "    <tr>\n",
       "      <th>5</th>\n",
       "      <td>trump</td>\n",
       "      <td>James S</td>\n",
       "      <td>2019-08-16 23:55:49</td>\n",
       "      <td>/JAlford1493/status/1162513323604111360</td>\n",
       "      <td>they just know how the movie ends they ed stil...</td>\n",
       "      <td>en</td>\n",
       "      <td>False</td>\n",
       "    </tr>\n",
       "    <tr>\n",
       "      <th>6</th>\n",
       "      <td>trump</td>\n",
       "      <td>#CountEveryVote Debrianna📢</td>\n",
       "      <td>2019-10-07 23:59:54</td>\n",
       "      <td>/DMansini/status/1181358518923743233</td>\n",
       "      <td>has it become completely obvious yet that this...</td>\n",
       "      <td>en</td>\n",
       "      <td>False</td>\n",
       "    </tr>\n",
       "    <tr>\n",
       "      <th>7</th>\n",
       "      <td>biden</td>\n",
       "      <td>doncalloway</td>\n",
       "      <td>2019-10-22 23:30:54</td>\n",
       "      <td>/dcstl/status/1186787039838003201</td>\n",
       "      <td>there is a very good chance that joe biden wil...</td>\n",
       "      <td>en</td>\n",
       "      <td>False</td>\n",
       "    </tr>\n",
       "    <tr>\n",
       "      <th>8</th>\n",
       "      <td>biden</td>\n",
       "      <td>ᎠᏌNᎬᎷYᎢᎻᎪNᏩ™️</td>\n",
       "      <td>2019-02-10 23:25:56</td>\n",
       "      <td>/Kris_Sacrebleu/status/1094739271703965696</td>\n",
       "      <td>i see a few candidates making some missteps ou...</td>\n",
       "      <td>en</td>\n",
       "      <td>False</td>\n",
       "    </tr>\n",
       "    <tr>\n",
       "      <th>9</th>\n",
       "      <td>trump</td>\n",
       "      <td>Charles Nutter</td>\n",
       "      <td>2019-01-08 23:56:39</td>\n",
       "      <td>/headius/status/1082788202853875712</td>\n",
       "      <td>this is the anger and hate politics you suppor...</td>\n",
       "      <td>en</td>\n",
       "      <td>False</td>\n",
       "    </tr>\n",
       "  </tbody>\n",
       "</table>\n",
       "</div>"
      ],
      "text/plain": [
       "  search                                             author  \\\n",
       "0  trump                                           Tea Pain   \n",
       "1  trump                                 Lincoln17 😊✌🌊❤🗽🌏🌈🎶   \n",
       "2  biden                                       Eric Darcman   \n",
       "3  biden         Joe Pizza's Accountant, Shlomi Matzoball 🔥   \n",
       "4  trump  Make Integrity Great Again [Drapeau des États-...   \n",
       "5  trump                                            James S   \n",
       "6  trump                         #CountEveryVote Debrianna📢   \n",
       "7  biden                                        doncalloway   \n",
       "8  biden                                      ᎠᏌNᎬᎷYᎢᎻᎪNᏩ™️   \n",
       "9  trump                                     Charles Nutter   \n",
       "\n",
       "                 time                                         url  \\\n",
       "0 2019-12-27 23:48:11      /TeaPainUSA/status/1210708987143954437   \n",
       "1 2019-09-30 23:58:44     /Lincoln1710/status/1178821513249775616   \n",
       "2 2019-09-08 23:06:58         /Darcman/status/1170835953067466753   \n",
       "3 2019-12-27 22:57:05     /rev_avocado/status/1210696130440224768   \n",
       "4 2019-05-20 23:58:57      /CinnamonHH/status/1130623980434546690   \n",
       "5 2019-08-16 23:55:49     /JAlford1493/status/1162513323604111360   \n",
       "6 2019-10-07 23:59:54        /DMansini/status/1181358518923743233   \n",
       "7 2019-10-22 23:30:54           /dcstl/status/1186787039838003201   \n",
       "8 2019-02-10 23:25:56  /Kris_Sacrebleu/status/1094739271703965696   \n",
       "9 2019-01-08 23:56:39         /headius/status/1082788202853875712   \n",
       "\n",
       "                                                text lang  reply  \n",
       "0                                    weak and whiney   en  False  \n",
       "1  reality winner a whistleblower alerted the med...   en  False  \n",
       "2  poc will decide who the nominee is in the plac...   en  False  \n",
       "3  but you know i am sure the hundredth joke abou...   en  False  \n",
       "4  i have had heat exhaustion and it is awful why...   en  False  \n",
       "5  they just know how the movie ends they ed stil...   en  False  \n",
       "6  has it become completely obvious yet that this...   en  False  \n",
       "7  there is a very good chance that joe biden wil...   en  False  \n",
       "8  i see a few candidates making some missteps ou...   en  False  \n",
       "9  this is the anger and hate politics you suppor...   en  False  "
      ]
     },
     "execution_count": 8,
     "metadata": {},
     "output_type": "execute_result"
    }
   ],
   "source": [
    "df_web_cat.head(10)"
   ]
  },
  {
   "cell_type": "code",
   "execution_count": 9,
   "metadata": {},
   "outputs": [
    {
     "name": "stdout",
     "output_type": "stream",
     "text": [
      "Bonjour, mon nom est Bob \n"
     ]
    }
   ],
   "source": [
    "from google_trans_new import google_translator  \n",
    "  \n",
    "translator = google_translator()  \n",
    "translate_text = translator.translate(\"Hello my name is Bob\", lang_tgt='fr')  \n",
    "print(translate_text)"
   ]
  },
  {
   "cell_type": "code",
   "execution_count": 10,
   "metadata": {},
   "outputs": [],
   "source": [
    "# %%time\n",
    "# temp = df_web_cat.copy()\n",
    "# temp['text_trad'] = temp.text.map(lambda x: translator.translate(x, lang_tgt='fr'))\n",
    "# temp.head(10)"
   ]
  },
  {
   "cell_type": "code",
   "execution_count": 11,
   "metadata": {},
   "outputs": [],
   "source": [
    "# temp['sentiment'] = 0"
   ]
  },
  {
   "cell_type": "code",
   "execution_count": 12,
   "metadata": {},
   "outputs": [],
   "source": [
    "# temp.to_excel(os.path.join(\"data\", \"web\", \"cat.xlsx\"))"
   ]
  },
  {
   "cell_type": "code",
   "execution_count": 13,
   "metadata": {},
   "outputs": [
    {
     "data": {
      "text/html": [
       "<div>\n",
       "<style scoped>\n",
       "    .dataframe tbody tr th:only-of-type {\n",
       "        vertical-align: middle;\n",
       "    }\n",
       "\n",
       "    .dataframe tbody tr th {\n",
       "        vertical-align: top;\n",
       "    }\n",
       "\n",
       "    .dataframe thead th {\n",
       "        text-align: right;\n",
       "    }\n",
       "</style>\n",
       "<table border=\"1\" class=\"dataframe\">\n",
       "  <thead>\n",
       "    <tr style=\"text-align: right;\">\n",
       "      <th></th>\n",
       "      <th>search</th>\n",
       "      <th>author</th>\n",
       "      <th>time</th>\n",
       "      <th>url</th>\n",
       "      <th>text</th>\n",
       "      <th>lang</th>\n",
       "      <th>reply</th>\n",
       "      <th>sentiment</th>\n",
       "    </tr>\n",
       "  </thead>\n",
       "  <tbody>\n",
       "    <tr>\n",
       "      <th>0</th>\n",
       "      <td>trump</td>\n",
       "      <td>Tea Pain</td>\n",
       "      <td>2019-12-27 23:48:11</td>\n",
       "      <td>/TeaPainUSA/status/1210708987143954437</td>\n",
       "      <td>weak and whiney</td>\n",
       "      <td>en</td>\n",
       "      <td>False</td>\n",
       "      <td>Negative</td>\n",
       "    </tr>\n",
       "    <tr>\n",
       "      <th>1</th>\n",
       "      <td>trump</td>\n",
       "      <td>Lincoln17 😊✌🌊❤🗽🌏🌈🎶</td>\n",
       "      <td>2019-09-30 23:58:44</td>\n",
       "      <td>/Lincoln1710/status/1178821513249775616</td>\n",
       "      <td>reality winner a whistleblower alerted the med...</td>\n",
       "      <td>en</td>\n",
       "      <td>False</td>\n",
       "      <td>Negative</td>\n",
       "    </tr>\n",
       "    <tr>\n",
       "      <th>2</th>\n",
       "      <td>biden</td>\n",
       "      <td>Eric Darcman</td>\n",
       "      <td>2019-09-08 23:06:58</td>\n",
       "      <td>/Darcman/status/1170835953067466753</td>\n",
       "      <td>poc will decide who the nominee is in the plac...</td>\n",
       "      <td>en</td>\n",
       "      <td>False</td>\n",
       "      <td>Negative</td>\n",
       "    </tr>\n",
       "    <tr>\n",
       "      <th>3</th>\n",
       "      <td>biden</td>\n",
       "      <td>Joe Pizza's Accountant, Shlomi Matzoball 🔥</td>\n",
       "      <td>2019-12-27 22:57:05</td>\n",
       "      <td>/rev_avocado/status/1210696130440224768</td>\n",
       "      <td>but you know i am sure the hundredth joke abou...</td>\n",
       "      <td>en</td>\n",
       "      <td>False</td>\n",
       "      <td>Negative</td>\n",
       "    </tr>\n",
       "    <tr>\n",
       "      <th>4</th>\n",
       "      <td>trump</td>\n",
       "      <td>Make Integrity Great Again [Drapeau des États-...</td>\n",
       "      <td>2019-05-20 23:58:57</td>\n",
       "      <td>/CinnamonHH/status/1130623980434546690</td>\n",
       "      <td>i have had heat exhaustion and it is awful why...</td>\n",
       "      <td>en</td>\n",
       "      <td>False</td>\n",
       "      <td>Negative</td>\n",
       "    </tr>\n",
       "    <tr>\n",
       "      <th>5</th>\n",
       "      <td>trump</td>\n",
       "      <td>James S</td>\n",
       "      <td>2019-08-16 23:55:49</td>\n",
       "      <td>/JAlford1493/status/1162513323604111360</td>\n",
       "      <td>they just know how the movie ends they ed stil...</td>\n",
       "      <td>en</td>\n",
       "      <td>False</td>\n",
       "      <td>Negative</td>\n",
       "    </tr>\n",
       "    <tr>\n",
       "      <th>6</th>\n",
       "      <td>trump</td>\n",
       "      <td>#CountEveryVote Debrianna📢</td>\n",
       "      <td>2019-10-07 23:59:54</td>\n",
       "      <td>/DMansini/status/1181358518923743233</td>\n",
       "      <td>has it become completely obvious yet that this...</td>\n",
       "      <td>en</td>\n",
       "      <td>False</td>\n",
       "      <td>Negative</td>\n",
       "    </tr>\n",
       "    <tr>\n",
       "      <th>7</th>\n",
       "      <td>biden</td>\n",
       "      <td>doncalloway</td>\n",
       "      <td>2019-10-22 23:30:54</td>\n",
       "      <td>/dcstl/status/1186787039838003201</td>\n",
       "      <td>there is a very good chance that joe biden wil...</td>\n",
       "      <td>en</td>\n",
       "      <td>False</td>\n",
       "      <td>Positive</td>\n",
       "    </tr>\n",
       "    <tr>\n",
       "      <th>8</th>\n",
       "      <td>biden</td>\n",
       "      <td>ᎠᏌNᎬᎷYᎢᎻᎪNᏩ™️</td>\n",
       "      <td>2019-02-10 23:25:56</td>\n",
       "      <td>/Kris_Sacrebleu/status/1094739271703965696</td>\n",
       "      <td>i see a few candidates making some missteps ou...</td>\n",
       "      <td>en</td>\n",
       "      <td>False</td>\n",
       "      <td>Positive</td>\n",
       "    </tr>\n",
       "    <tr>\n",
       "      <th>9</th>\n",
       "      <td>trump</td>\n",
       "      <td>Charles Nutter</td>\n",
       "      <td>2019-01-08 23:56:39</td>\n",
       "      <td>/headius/status/1082788202853875712</td>\n",
       "      <td>this is the anger and hate politics you suppor...</td>\n",
       "      <td>en</td>\n",
       "      <td>False</td>\n",
       "      <td>Negative</td>\n",
       "    </tr>\n",
       "  </tbody>\n",
       "</table>\n",
       "</div>"
      ],
      "text/plain": [
       "  search                                             author  \\\n",
       "0  trump                                           Tea Pain   \n",
       "1  trump                                 Lincoln17 😊✌🌊❤🗽🌏🌈🎶   \n",
       "2  biden                                       Eric Darcman   \n",
       "3  biden         Joe Pizza's Accountant, Shlomi Matzoball 🔥   \n",
       "4  trump  Make Integrity Great Again [Drapeau des États-...   \n",
       "5  trump                                            James S   \n",
       "6  trump                         #CountEveryVote Debrianna📢   \n",
       "7  biden                                        doncalloway   \n",
       "8  biden                                      ᎠᏌNᎬᎷYᎢᎻᎪNᏩ™️   \n",
       "9  trump                                     Charles Nutter   \n",
       "\n",
       "                 time                                         url  \\\n",
       "0 2019-12-27 23:48:11      /TeaPainUSA/status/1210708987143954437   \n",
       "1 2019-09-30 23:58:44     /Lincoln1710/status/1178821513249775616   \n",
       "2 2019-09-08 23:06:58         /Darcman/status/1170835953067466753   \n",
       "3 2019-12-27 22:57:05     /rev_avocado/status/1210696130440224768   \n",
       "4 2019-05-20 23:58:57      /CinnamonHH/status/1130623980434546690   \n",
       "5 2019-08-16 23:55:49     /JAlford1493/status/1162513323604111360   \n",
       "6 2019-10-07 23:59:54        /DMansini/status/1181358518923743233   \n",
       "7 2019-10-22 23:30:54           /dcstl/status/1186787039838003201   \n",
       "8 2019-02-10 23:25:56  /Kris_Sacrebleu/status/1094739271703965696   \n",
       "9 2019-01-08 23:56:39         /headius/status/1082788202853875712   \n",
       "\n",
       "                                                text lang  reply sentiment  \n",
       "0                                    weak and whiney   en  False  Negative  \n",
       "1  reality winner a whistleblower alerted the med...   en  False  Negative  \n",
       "2  poc will decide who the nominee is in the plac...   en  False  Negative  \n",
       "3  but you know i am sure the hundredth joke abou...   en  False  Negative  \n",
       "4  i have had heat exhaustion and it is awful why...   en  False  Negative  \n",
       "5  they just know how the movie ends they ed stil...   en  False  Negative  \n",
       "6  has it become completely obvious yet that this...   en  False  Negative  \n",
       "7  there is a very good chance that joe biden wil...   en  False  Positive  \n",
       "8  i see a few candidates making some missteps ou...   en  False  Positive  \n",
       "9  this is the anger and hate politics you suppor...   en  False  Negative  "
      ]
     },
     "execution_count": 13,
     "metadata": {},
     "output_type": "execute_result"
    }
   ],
   "source": [
    "df_temp = pd.read_excel(os.path.join(\"data\", \"web\", \"cat_.xlsx\")).drop(columns=['Unnamed: 0', 'text_trad'])\n",
    "df_temp.sentiment = df_temp.sentiment.apply(lambda x: 'Negative' if x == 0 else 'Positive')\n",
    "df_temp.head(10)"
   ]
  },
  {
   "cell_type": "code",
   "execution_count": 14,
   "metadata": {},
   "outputs": [
    {
     "data": {
      "text/plain": [
       "True"
      ]
     },
     "execution_count": 14,
     "metadata": {},
     "output_type": "execute_result"
    }
   ],
   "source": [
    "(df_web_cat.text == df_temp.text).all()"
   ]
  },
  {
   "cell_type": "code",
   "execution_count": 15,
   "metadata": {},
   "outputs": [
    {
     "data": {
      "text/html": [
       "<div>\n",
       "<style scoped>\n",
       "    .dataframe tbody tr th:only-of-type {\n",
       "        vertical-align: middle;\n",
       "    }\n",
       "\n",
       "    .dataframe tbody tr th {\n",
       "        vertical-align: top;\n",
       "    }\n",
       "\n",
       "    .dataframe thead th {\n",
       "        text-align: right;\n",
       "    }\n",
       "</style>\n",
       "<table border=\"1\" class=\"dataframe\">\n",
       "  <thead>\n",
       "    <tr style=\"text-align: right;\">\n",
       "      <th></th>\n",
       "      <th>search</th>\n",
       "      <th>author</th>\n",
       "      <th>time</th>\n",
       "      <th>url</th>\n",
       "      <th>text</th>\n",
       "      <th>lang</th>\n",
       "      <th>reply</th>\n",
       "      <th>sentiment</th>\n",
       "    </tr>\n",
       "  </thead>\n",
       "  <tbody>\n",
       "    <tr>\n",
       "      <th>0</th>\n",
       "      <td>trump</td>\n",
       "      <td>Tea Pain</td>\n",
       "      <td>2019-12-27 23:48:11</td>\n",
       "      <td>/TeaPainUSA/status/1210708987143954437</td>\n",
       "      <td>weak and whiney</td>\n",
       "      <td>en</td>\n",
       "      <td>False</td>\n",
       "      <td>Negative</td>\n",
       "    </tr>\n",
       "    <tr>\n",
       "      <th>1</th>\n",
       "      <td>trump</td>\n",
       "      <td>Lincoln17 😊✌🌊❤🗽🌏🌈🎶</td>\n",
       "      <td>2019-09-30 23:58:44</td>\n",
       "      <td>/Lincoln1710/status/1178821513249775616</td>\n",
       "      <td>reality winner a whistleblower alerted the med...</td>\n",
       "      <td>en</td>\n",
       "      <td>False</td>\n",
       "      <td>Negative</td>\n",
       "    </tr>\n",
       "    <tr>\n",
       "      <th>2</th>\n",
       "      <td>biden</td>\n",
       "      <td>Eric Darcman</td>\n",
       "      <td>2019-09-08 23:06:58</td>\n",
       "      <td>/Darcman/status/1170835953067466753</td>\n",
       "      <td>poc will decide who the nominee is in the plac...</td>\n",
       "      <td>en</td>\n",
       "      <td>False</td>\n",
       "      <td>Negative</td>\n",
       "    </tr>\n",
       "    <tr>\n",
       "      <th>3</th>\n",
       "      <td>biden</td>\n",
       "      <td>Joe Pizza's Accountant, Shlomi Matzoball 🔥</td>\n",
       "      <td>2019-12-27 22:57:05</td>\n",
       "      <td>/rev_avocado/status/1210696130440224768</td>\n",
       "      <td>but you know i am sure the hundredth joke abou...</td>\n",
       "      <td>en</td>\n",
       "      <td>False</td>\n",
       "      <td>Negative</td>\n",
       "    </tr>\n",
       "    <tr>\n",
       "      <th>4</th>\n",
       "      <td>trump</td>\n",
       "      <td>Make Integrity Great Again [Drapeau des États-...</td>\n",
       "      <td>2019-05-20 23:58:57</td>\n",
       "      <td>/CinnamonHH/status/1130623980434546690</td>\n",
       "      <td>i have had heat exhaustion and it is awful why...</td>\n",
       "      <td>en</td>\n",
       "      <td>False</td>\n",
       "      <td>Negative</td>\n",
       "    </tr>\n",
       "    <tr>\n",
       "      <th>5</th>\n",
       "      <td>trump</td>\n",
       "      <td>James S</td>\n",
       "      <td>2019-08-16 23:55:49</td>\n",
       "      <td>/JAlford1493/status/1162513323604111360</td>\n",
       "      <td>they just know how the movie ends they ed stil...</td>\n",
       "      <td>en</td>\n",
       "      <td>False</td>\n",
       "      <td>Negative</td>\n",
       "    </tr>\n",
       "    <tr>\n",
       "      <th>6</th>\n",
       "      <td>trump</td>\n",
       "      <td>#CountEveryVote Debrianna📢</td>\n",
       "      <td>2019-10-07 23:59:54</td>\n",
       "      <td>/DMansini/status/1181358518923743233</td>\n",
       "      <td>has it become completely obvious yet that this...</td>\n",
       "      <td>en</td>\n",
       "      <td>False</td>\n",
       "      <td>Negative</td>\n",
       "    </tr>\n",
       "    <tr>\n",
       "      <th>7</th>\n",
       "      <td>biden</td>\n",
       "      <td>doncalloway</td>\n",
       "      <td>2019-10-22 23:30:54</td>\n",
       "      <td>/dcstl/status/1186787039838003201</td>\n",
       "      <td>there is a very good chance that joe biden wil...</td>\n",
       "      <td>en</td>\n",
       "      <td>False</td>\n",
       "      <td>Positive</td>\n",
       "    </tr>\n",
       "    <tr>\n",
       "      <th>8</th>\n",
       "      <td>biden</td>\n",
       "      <td>ᎠᏌNᎬᎷYᎢᎻᎪNᏩ™️</td>\n",
       "      <td>2019-02-10 23:25:56</td>\n",
       "      <td>/Kris_Sacrebleu/status/1094739271703965696</td>\n",
       "      <td>i see a few candidates making some missteps ou...</td>\n",
       "      <td>en</td>\n",
       "      <td>False</td>\n",
       "      <td>Positive</td>\n",
       "    </tr>\n",
       "    <tr>\n",
       "      <th>9</th>\n",
       "      <td>trump</td>\n",
       "      <td>Charles Nutter</td>\n",
       "      <td>2019-01-08 23:56:39</td>\n",
       "      <td>/headius/status/1082788202853875712</td>\n",
       "      <td>this is the anger and hate politics you suppor...</td>\n",
       "      <td>en</td>\n",
       "      <td>False</td>\n",
       "      <td>Negative</td>\n",
       "    </tr>\n",
       "  </tbody>\n",
       "</table>\n",
       "</div>"
      ],
      "text/plain": [
       "  search                                             author  \\\n",
       "0  trump                                           Tea Pain   \n",
       "1  trump                                 Lincoln17 😊✌🌊❤🗽🌏🌈🎶   \n",
       "2  biden                                       Eric Darcman   \n",
       "3  biden         Joe Pizza's Accountant, Shlomi Matzoball 🔥   \n",
       "4  trump  Make Integrity Great Again [Drapeau des États-...   \n",
       "5  trump                                            James S   \n",
       "6  trump                         #CountEveryVote Debrianna📢   \n",
       "7  biden                                        doncalloway   \n",
       "8  biden                                      ᎠᏌNᎬᎷYᎢᎻᎪNᏩ™️   \n",
       "9  trump                                     Charles Nutter   \n",
       "\n",
       "                 time                                         url  \\\n",
       "0 2019-12-27 23:48:11      /TeaPainUSA/status/1210708987143954437   \n",
       "1 2019-09-30 23:58:44     /Lincoln1710/status/1178821513249775616   \n",
       "2 2019-09-08 23:06:58         /Darcman/status/1170835953067466753   \n",
       "3 2019-12-27 22:57:05     /rev_avocado/status/1210696130440224768   \n",
       "4 2019-05-20 23:58:57      /CinnamonHH/status/1130623980434546690   \n",
       "5 2019-08-16 23:55:49     /JAlford1493/status/1162513323604111360   \n",
       "6 2019-10-07 23:59:54        /DMansini/status/1181358518923743233   \n",
       "7 2019-10-22 23:30:54           /dcstl/status/1186787039838003201   \n",
       "8 2019-02-10 23:25:56  /Kris_Sacrebleu/status/1094739271703965696   \n",
       "9 2019-01-08 23:56:39         /headius/status/1082788202853875712   \n",
       "\n",
       "                                                text lang  reply sentiment  \n",
       "0                                    weak and whiney   en  False  Negative  \n",
       "1  reality winner a whistleblower alerted the med...   en  False  Negative  \n",
       "2  poc will decide who the nominee is in the plac...   en  False  Negative  \n",
       "3  but you know i am sure the hundredth joke abou...   en  False  Negative  \n",
       "4  i have had heat exhaustion and it is awful why...   en  False  Negative  \n",
       "5  they just know how the movie ends they ed stil...   en  False  Negative  \n",
       "6  has it become completely obvious yet that this...   en  False  Negative  \n",
       "7  there is a very good chance that joe biden wil...   en  False  Positive  \n",
       "8  i see a few candidates making some missteps ou...   en  False  Positive  \n",
       "9  this is the anger and hate politics you suppor...   en  False  Negative  "
      ]
     },
     "execution_count": 15,
     "metadata": {},
     "output_type": "execute_result"
    }
   ],
   "source": [
    "df_web_cat['sentiment'] = df_temp.sentiment\n",
    "df_web_cat.head(10)"
   ]
  },
  {
   "cell_type": "code",
   "execution_count": 16,
   "metadata": {},
   "outputs": [
    {
     "data": {
      "image/png": "[encoded data removed]",
      "text/plain": [
       "<Figure size 432x288 with 1 Axes>"
      ]
     },
     "metadata": {
      "needs_background": "light"
     },
     "output_type": "display_data"
    }
   ],
   "source": [
    "sns.countplot(x='sentiment', data=df_web_cat)\n",
    "plt.show()"
   ]
  },
  {
   "cell_type": "code",
   "execution_count": 17,
   "metadata": {},
   "outputs": [],
   "source": [
    "X_140 = df_140.text.to_list()\n",
    "y_140 = df_140.sentiment.to_list()\n",
    "y_140_bool = (np.array(y_140) == 'Positive').astype(int).tolist()\n",
    "\n",
    "X_web = df_web.text.to_list()\n",
    "X_web_cat = df_web_cat.text.to_list()\n",
    "y_web_cat = df_web_cat.sentiment.to_list()\n",
    "y_web_cat_bool = (np.array(y_web_cat) == 'Positive').astype(int).tolist()"
   ]
  },
  {
   "cell_type": "markdown",
   "metadata": {},
   "source": [
    "# 2. Performances des modèles précédents\n",
    "\n",
    "On fait attention à bien fitter le vectorizer sur les bases Sentiment140 et webscrapée "
   ]
  },
  {
   "cell_type": "code",
   "execution_count": 18,
   "metadata": {},
   "outputs": [],
   "source": [
    "def conf_matrix(X_supervised, y_supervised, X_unsup, X_unsup_cat, y_unsup_cat, vectorizer, scaling, model, graph=True, verbose=True):\n",
    "    vectorizer.fit(X_supervised+X_unsup)\n",
    "    X_supervised = vectorizer.transform(X_supervised)\n",
    "    \n",
    "    if scaling:\n",
    "        scaler = StandardScaler(with_mean=False)\n",
    "        X_supervised = scaler.fit_transform(X_supervised)\n",
    "\n",
    "    X_train_supervised, X_test_supervised, y_train_supervised, y_test_supervised = train_test_split(X_supervised, y_supervised, train_size=0.80, random_state=1234)\n",
    "    \n",
    "    model.fit(X_train_supervised, y_train_supervised)    \n",
    "    y_pred_supervised = model.predict(X_test_supervised)\n",
    "    \n",
    "    X_unsup_cat = vectorizer.transform(X_unsup_cat)\n",
    "    if scaling:\n",
    "        X_unsup_cat = scaler.transform(X_unsup_cat)\n",
    "\n",
    "    y_pred_unsup_cat = model.predict(X_unsup_cat)\n",
    "    \n",
    "    for (X_test, y_test, y_pred) in [(X_test_supervised, y_test_supervised, y_pred_supervised), (X_unsup_cat, y_unsup_cat, y_pred_unsup_cat)]:\n",
    "\n",
    "        sc_accuracy = metrics.accuracy_score(y_pred, y_test)    \n",
    "        sc_balanced_accuracy = metrics.balanced_accuracy_score(y_pred, y_test)\n",
    "        sc_f1 = metrics.f1_score(y_pred, y_test, pos_label=\"Positive\")\n",
    "        sc_recall = metrics.recall_score(y_pred, y_test, pos_label=\"Positive\")\n",
    "        sc_precision = metrics.precision_score(y_pred, y_test, pos_label=\"Positive\")\n",
    "        sc_roc_auc = metrics.roc_auc_score(y_test, model.predict_proba(X_test)[:, 1])\n",
    "        probs = model.predict_proba(X_test)[:, 1]\n",
    "\n",
    "        if graph:\n",
    "            metrics.plot_confusion_matrix(model, X_test, y_test)\n",
    "            plt.show()\n",
    "        \n",
    "        if verbose:\n",
    "            print(f\"Accuracy : {sc_accuracy:.4f}\")\n",
    "            print(f\"Balanced accuracy : {sc_balanced_accuracy:.4f}\")\n",
    "        #     print(f\"Recall : {sc_recall}\")\n",
    "        #     print(f\"Precision : {sc_precision}\")\n",
    "        #     print(f\"F1 : {sc_f1}\")\n",
    "            print(f\"ROC AUC : {sc_roc_auc:.4f}\")"
   ]
  },
  {
   "cell_type": "code",
   "execution_count": 19,
   "metadata": {},
   "outputs": [
    {
     "data": {
      "image/png": "[encoded data removed]",
      "text/plain": [
       "<Figure size 432x288 with 2 Axes>"
      ]
     },
     "metadata": {
      "needs_background": "light"
     },
     "output_type": "display_data"
    },
    {
     "name": "stdout",
     "output_type": "stream",
     "text": [
      "Accuracy : 0.7821\n",
      "Balanced accuracy : 0.7824\n",
      "ROC AUC : 0.8524\n"
     ]
    },
    {
     "data": {
      "image/png": "[encoded data removed]",
      "text/plain": [
       "<Figure size 432x288 with 2 Axes>"
      ]
     },
     "metadata": {
      "needs_background": "light"
     },
     "output_type": "display_data"
    },
    {
     "name": "stdout",
     "output_type": "stream",
     "text": [
      "Accuracy : 0.6800\n",
      "Balanced accuracy : 0.6875\n",
      "ROC AUC : 0.7868\n",
      "Wall time: 6.95 s\n"
     ]
    }
   ],
   "source": [
    "%%time\n",
    "_ = conf_matrix(X_140, y_140, X_web, X_web_cat, y_web_cat, CountVectorizer(max_features=6000), True, LogisticRegression())"
   ]
  },
  {
   "cell_type": "code",
   "execution_count": 20,
   "metadata": {},
   "outputs": [
    {
     "data": {
      "image/png": "[encoded data removed]",
      "text/plain": [
       "<Figure size 432x288 with 2 Axes>"
      ]
     },
     "metadata": {
      "needs_background": "light"
     },
     "output_type": "display_data"
    },
    {
     "name": "stdout",
     "output_type": "stream",
     "text": [
      "Accuracy : 0.7816\n",
      "Balanced accuracy : 0.7817\n",
      "ROC AUC : 0.8615\n"
     ]
    },
    {
     "data": {
      "image/png": "[encoded data removed]",
      "text/plain": [
       "<Figure size 432x288 with 2 Axes>"
      ]
     },
     "metadata": {
      "needs_background": "light"
     },
     "output_type": "display_data"
    },
    {
     "name": "stdout",
     "output_type": "stream",
     "text": [
      "Accuracy : 0.7200\n",
      "Balanced accuracy : 0.7131\n",
      "ROC AUC : 0.8070\n",
      "Wall time: 6.38 s\n"
     ]
    }
   ],
   "source": [
    "%%time\n",
    "_ = conf_matrix(X_140, y_140, X_web, X_web_cat, y_web_cat, TfidfVectorizer(max_features=6000), True, LogisticRegression())"
   ]
  },
  {
   "cell_type": "code",
   "execution_count": 21,
   "metadata": {},
   "outputs": [
    {
     "data": {
      "image/png": "[encoded data removed]",
      "text/plain": [
       "<Figure size 432x288 with 2 Axes>"
      ]
     },
     "metadata": {
      "needs_background": "light"
     },
     "output_type": "display_data"
    },
    {
     "name": "stdout",
     "output_type": "stream",
     "text": [
      "Accuracy : 0.7719\n",
      "Balanced accuracy : 0.7723\n",
      "ROC AUC : 0.8442\n"
     ]
    },
    {
     "data": {
      "image/png": "[encoded data removed]",
      "text/plain": [
       "<Figure size 432x288 with 2 Axes>"
      ]
     },
     "metadata": {
      "needs_background": "light"
     },
     "output_type": "display_data"
    },
    {
     "name": "stdout",
     "output_type": "stream",
     "text": [
      "Accuracy : 0.6600\n",
      "Balanced accuracy : 0.6346\n",
      "ROC AUC : 0.6801\n",
      "Wall time: 5.52 s\n"
     ]
    }
   ],
   "source": [
    "%%time\n",
    "_ = conf_matrix(X_140, y_140, X_web, X_web_cat, y_web_cat, CountVectorizer(max_features=6000), False, MultinomialNB(alpha=1))"
   ]
  },
  {
   "cell_type": "code",
   "execution_count": 22,
   "metadata": {},
   "outputs": [
    {
     "data": {
      "image/png": "[encoded data removed]",
      "text/plain": [
       "<Figure size 432x288 with 2 Axes>"
      ]
     },
     "metadata": {
      "needs_background": "light"
     },
     "output_type": "display_data"
    },
    {
     "name": "stdout",
     "output_type": "stream",
     "text": [
      "Accuracy : 0.7649\n",
      "Balanced accuracy : 0.7651\n",
      "ROC AUC : 0.8477\n"
     ]
    },
    {
     "data": {
      "image/png": "[encoded data removed]",
      "text/plain": [
       "<Figure size 432x288 with 2 Axes>"
      ]
     },
     "metadata": {
      "needs_background": "light"
     },
     "output_type": "display_data"
    },
    {
     "name": "stdout",
     "output_type": "stream",
     "text": [
      "Accuracy : 0.6400\n",
      "Balanced accuracy : 0.5972\n",
      "ROC AUC : 0.6434\n",
      "Wall time: 5.63 s\n"
     ]
    }
   ],
   "source": [
    "%%time\n",
    "_ = conf_matrix(X_140, y_140, X_web, X_web_cat, y_web_cat, TfidfVectorizer(max_features=6000), False, MultinomialNB(alpha=1))"
   ]
  },
  {
   "cell_type": "markdown",
   "metadata": {},
   "source": [
    "# 3. Apprentissage semi-supervisé\n",
    "\n",
    "Nous utilisons une modification du modèle MuntinomialNB disponible sur ce projet : https://github.com/jmatayoshi/semi-supervised-naive-bayes"
   ]
  },
  {
   "cell_type": "code",
   "execution_count": 23,
   "metadata": {},
   "outputs": [],
   "source": [
    "from semi_supervised_naive_bayes import MultinomialNBSS"
   ]
  },
  {
   "cell_type": "code",
   "execution_count": 24,
   "metadata": {},
   "outputs": [],
   "source": [
    "def conf_matrix_semi(X_140, y_140_bool, X_web, X_web_cat, y_web_cat_bool, vectorizer, facteur=None, beta=1, verbose=True):\n",
    "    if facteur or facteur==0:\n",
    "        correction = int((len(X_140)/(len(X_web))) * facteur)\n",
    "        X_web_new = X_web * correction\n",
    "    else:\n",
    "        X_web_new = X_web\n",
    "\n",
    "    print(f\"Nombre de lignes base Sentiment140 : {len(X_140)}\")\n",
    "    print(f\"Nombre de lignes base Webscrapée   : {len(X_web_new)}\")\n",
    "\n",
    "    model = MultinomialNBSS(alpha=1, beta=beta)\n",
    "\n",
    "    X_train_140, X_test_140, y_train_140, y_test_140 = train_test_split(X_140, y_140_bool, train_size=0.80, random_state=1234)\n",
    "\n",
    "    X_train_all = X_train_140 + X_web_new\n",
    "    y_train_all = y_train_140 + [-1]*len(X_web_new)\n",
    "    X_train_all = vectorizer.fit_transform(X_train_all)\n",
    "\n",
    "    model.fit(X_train_all, y_train_all)\n",
    "\n",
    "    X_test_140_vec = vectorizer.transform(X_test_140)    \n",
    "    y_pred_140 = model.predict(X_test_140_vec)\n",
    "\n",
    "    X_web_cat_vec = vectorizer.transform(X_web_cat)\n",
    "    y_pred_web_cat = model.predict(X_web_cat_vec)\n",
    "\n",
    "    for (X_test, y_test, y_pred) in [(X_test_140_vec, y_test_140, y_pred_140), (X_web_cat_vec, y_web_cat_bool, y_pred_web_cat)]:\n",
    "        sc_accuracy = metrics.accuracy_score(y_pred, y_test)    \n",
    "        sc_balanced_accuracy = metrics.balanced_accuracy_score(y_pred, y_test)\n",
    "        sc_roc_auc = metrics.roc_auc_score(y_test, model.predict_proba(X_test)[:, 1])\n",
    "        \n",
    "        if verbose:\n",
    "            metrics.plot_confusion_matrix(model, X_test, y_test)\n",
    "            plt.show()\n",
    "            print(f\"Accuracy : {sc_accuracy:.4f}\")\n",
    "            print(f\"Balanced accuracy : {sc_balanced_accuracy:.4f}\")\n",
    "            print(f\"ROC AUC : {sc_roc_auc:.4f}\")        "
   ]
  },
  {
   "cell_type": "code",
   "execution_count": 25,
   "metadata": {},
   "outputs": [
    {
     "name": "stdout",
     "output_type": "stream",
     "text": [
      "Nombre de lignes base Sentiment140 : 200000\n",
      "Nombre de lignes base Webscrapée   : 0\n"
     ]
    },
    {
     "data": {
      "image/png": "[encoded data removed]",
      "text/plain": [
       "<Figure size 432x288 with 2 Axes>"
      ]
     },
     "metadata": {
      "needs_background": "light"
     },
     "output_type": "display_data"
    },
    {
     "name": "stdout",
     "output_type": "stream",
     "text": [
      "Accuracy : 0.7660\n",
      "Balanced accuracy : 0.7661\n",
      "ROC AUC : 0.8479\n"
     ]
    },
    {
     "data": {
      "image/png": "[encoded data removed]",
      "text/plain": [
       "<Figure size 432x288 with 2 Axes>"
      ]
     },
     "metadata": {
      "needs_background": "light"
     },
     "output_type": "display_data"
    },
    {
     "name": "stdout",
     "output_type": "stream",
     "text": [
      "Accuracy : 0.6200\n",
      "Balanced accuracy : 0.5695\n",
      "ROC AUC : 0.5680\n"
     ]
    }
   ],
   "source": [
    "conf_matrix_semi(X_140, y_140_bool, X_web, X_web_cat, y_web_cat_bool, TfidfVectorizer(max_features=6000), facteur=0)"
   ]
  },
  {
   "cell_type": "code",
   "execution_count": 26,
   "metadata": {},
   "outputs": [
    {
     "name": "stdout",
     "output_type": "stream",
     "text": [
      "Nombre de lignes base Sentiment140 : 200000\n",
      "Nombre de lignes base Webscrapée   : 10588\n",
      "Step 1: jll = -7634397.849317\n",
      "Step 2: jll = -7634503.899645\n",
      "Step 3: jll = -7634843.227177\n",
      "Step 4: jll = -7635326.052958\n",
      "Step 5: jll = -7635919.331111\n",
      "Step 6: jll = -7636583.516446\n",
      "Step 7: jll = -7637276.657964\n",
      "Step 8: jll = -7637956.840926\n",
      "Step 9: jll = -7638585.246085\n",
      "Step 10: jll = -7639133.575778\n",
      "Step 11: jll = -7639588.554851\n",
      "Step 12: jll = -7639950.667743\n",
      "Step 13: jll = -7640229.523256\n",
      "Step 14: jll = -7640438.914787\n",
      "Step 15: jll = -7640593.211558\n",
      "Step 16: jll = -7640705.348771\n",
      "Step 17: jll = -7640786.033427\n",
      "Step 18: jll = -7640843.671136\n",
      "Step 19: jll = -7640884.634168\n",
      "Step 20: jll = -7640913.640518\n",
      "Optimization converged after 20 iterations.\n"
     ]
    },
    {
     "data": {
      "image/png": "[encoded data removed]",
      "text/plain": [
       "<Figure size 432x288 with 2 Axes>"
      ]
     },
     "metadata": {
      "needs_background": "light"
     },
     "output_type": "display_data"
    },
    {
     "name": "stdout",
     "output_type": "stream",
     "text": [
      "Accuracy : 0.7634\n",
      "Balanced accuracy : 0.7634\n",
      "ROC AUC : 0.8445\n"
     ]
    },
    {
     "data": {
      "image/png": "[encoded data removed]",
      "text/plain": [
       "<Figure size 432x288 with 2 Axes>"
      ]
     },
     "metadata": {
      "needs_background": "light"
     },
     "output_type": "display_data"
    },
    {
     "name": "stdout",
     "output_type": "stream",
     "text": [
      "Accuracy : 0.4200\n",
      "Balanced accuracy : 0.6778\n",
      "ROC AUC : 0.5699\n"
     ]
    }
   ],
   "source": [
    "conf_matrix_semi(X_140, y_140_bool, X_web, X_web_cat, y_web_cat_bool, TfidfVectorizer(max_features=6000), facteur=None)"
   ]
  },
  {
   "cell_type": "code",
   "execution_count": 27,
   "metadata": {},
   "outputs": [
    {
     "name": "stdout",
     "output_type": "stream",
     "text": [
      "Nombre de lignes base Sentiment140 : 200000\n",
      "Nombre de lignes base Webscrapée   : 190584\n",
      "Step 1: jll = -19188368.247966\n",
      "Step 2: jll = -19186878.972434\n",
      "Optimization converged after 2 iterations.\n"
     ]
    },
    {
     "data": {
      "image/png": "[encoded data removed]",
      "text/plain": [
       "<Figure size 432x288 with 2 Axes>"
      ]
     },
     "metadata": {
      "needs_background": "light"
     },
     "output_type": "display_data"
    },
    {
     "name": "stdout",
     "output_type": "stream",
     "text": [
      "Accuracy : 0.7566\n",
      "Balanced accuracy : 0.7575\n",
      "ROC AUC : 0.8377\n"
     ]
    },
    {
     "data": {
      "image/png": "[encoded data removed]",
      "text/plain": [
       "<Figure size 432x288 with 2 Axes>"
      ]
     },
     "metadata": {
      "needs_background": "light"
     },
     "output_type": "display_data"
    },
    {
     "name": "stdout",
     "output_type": "stream",
     "text": [
      "Accuracy : 0.5000\n",
      "Balanced accuracy : 0.5145\n",
      "ROC AUC : 0.5680\n"
     ]
    }
   ],
   "source": [
    "conf_matrix_semi(X_140, y_140_bool, X_web, X_web_cat, y_web_cat_bool, TfidfVectorizer(max_features=6000), facteur=1)"
   ]
  },
  {
   "cell_type": "code",
   "execution_count": 28,
   "metadata": {},
   "outputs": [
    {
     "name": "stdout",
     "output_type": "stream",
     "text": [
      "Nombre de lignes base Sentiment140 : 200000\n",
      "Nombre de lignes base Webscrapée   : 10588\n",
      "Step 1: jll = -7634397.849317\n",
      "Step 2: jll = -7634503.899645\n",
      "Step 3: jll = -7634843.227177\n",
      "Step 4: jll = -7635326.052958\n",
      "Step 5: jll = -7635919.331111\n",
      "Step 6: jll = -7636583.516446\n",
      "Step 7: jll = -7637276.657964\n",
      "Step 8: jll = -7637956.840926\n",
      "Step 9: jll = -7638585.246085\n",
      "Step 10: jll = -7639133.575778\n",
      "Step 11: jll = -7639588.554851\n",
      "Step 12: jll = -7639950.667743\n",
      "Step 13: jll = -7640229.523256\n",
      "Step 14: jll = -7640438.914787\n",
      "Step 15: jll = -7640593.211558\n",
      "Step 16: jll = -7640705.348771\n",
      "Step 17: jll = -7640786.033427\n",
      "Step 18: jll = -7640843.671136\n",
      "Step 19: jll = -7640884.634168\n",
      "Step 20: jll = -7640913.640518\n",
      "Optimization converged after 20 iterations.\n"
     ]
    },
    {
     "data": {
      "image/png": "[encoded data removed]",
      "text/plain": [
       "<Figure size 432x288 with 2 Axes>"
      ]
     },
     "metadata": {
      "needs_background": "light"
     },
     "output_type": "display_data"
    },
    {
     "name": "stdout",
     "output_type": "stream",
     "text": [
      "Accuracy : 0.7634\n",
      "Balanced accuracy : 0.7634\n",
      "ROC AUC : 0.8445\n"
     ]
    },
    {
     "data": {
      "image/png": "[encoded data removed]",
      "text/plain": [
       "<Figure size 432x288 with 2 Axes>"
      ]
     },
     "metadata": {
      "needs_background": "light"
     },
     "output_type": "display_data"
    },
    {
     "name": "stdout",
     "output_type": "stream",
     "text": [
      "Accuracy : 0.4200\n",
      "Balanced accuracy : 0.6778\n",
      "ROC AUC : 0.5699\n"
     ]
    }
   ],
   "source": [
    "conf_matrix_semi(X_140, y_140_bool, X_web, X_web_cat, y_web_cat_bool, TfidfVectorizer(max_features=6000), beta=1)"
   ]
  },
  {
   "cell_type": "code",
   "execution_count": 29,
   "metadata": {},
   "outputs": [
    {
     "name": "stdout",
     "output_type": "stream",
     "text": [
      "Nombre de lignes base Sentiment140 : 200000\n",
      "Nombre de lignes base Webscrapée   : 10588\n",
      "Step 1: jll = -7639046.518186\n",
      "Step 2: jll = -7639012.619546\n",
      "Optimization converged after 2 iterations.\n"
     ]
    },
    {
     "data": {
      "image/png": "[encoded data removed]",
      "text/plain": [
       "<Figure size 432x288 with 2 Axes>"
      ]
     },
     "metadata": {
      "needs_background": "light"
     },
     "output_type": "display_data"
    },
    {
     "name": "stdout",
     "output_type": "stream",
     "text": [
      "Accuracy : 0.7678\n",
      "Balanced accuracy : 0.7681\n",
      "ROC AUC : 0.8489\n"
     ]
    },
    {
     "data": {
      "image/png": "[encoded data removed]",
      "text/plain": [
       "<Figure size 432x288 with 2 Axes>"
      ]
     },
     "metadata": {
      "needs_background": "light"
     },
     "output_type": "display_data"
    },
    {
     "name": "stdout",
     "output_type": "stream",
     "text": [
      "Accuracy : 0.5200\n",
      "Balanced accuracy : 0.5764\n",
      "ROC AUC : 0.5993\n"
     ]
    }
   ],
   "source": [
    "conf_matrix_semi(X_140, y_140_bool, X_web, X_web_cat, y_web_cat_bool, TfidfVectorizer(max_features=6000), beta=2)"
   ]
  },
  {
   "cell_type": "code",
   "execution_count": 30,
   "metadata": {},
   "outputs": [
    {
     "name": "stdout",
     "output_type": "stream",
     "text": [
      "Nombre de lignes base Sentiment140 : 200000\n",
      "Nombre de lignes base Webscrapée   : 10588\n",
      "Step 1: jll = -7678155.168704\n",
      "Step 2: jll = -7677697.874858\n",
      "Optimization converged after 2 iterations.\n"
     ]
    },
    {
     "data": {
      "image/png": "[encoded data removed]",
      "text/plain": [
       "<Figure size 432x288 with 2 Axes>"
      ]
     },
     "metadata": {
      "needs_background": "light"
     },
     "output_type": "display_data"
    },
    {
     "name": "stdout",
     "output_type": "stream",
     "text": [
      "Accuracy : 0.7684\n",
      "Balanced accuracy : 0.7689\n",
      "ROC AUC : 0.8498\n"
     ]
    },
    {
     "data": {
      "image/png": "[encoded data removed]",
      "text/plain": [
       "<Figure size 432x288 with 2 Axes>"
      ]
     },
     "metadata": {
      "needs_background": "light"
     },
     "output_type": "display_data"
    },
    {
     "name": "stdout",
     "output_type": "stream",
     "text": [
      "Accuracy : 0.5200\n",
      "Balanced accuracy : 0.5764\n",
      "ROC AUC : 0.5956\n"
     ]
    }
   ],
   "source": [
    "conf_matrix_semi(X_140, y_140_bool, X_web, X_web_cat, y_web_cat_bool, TfidfVectorizer(max_features=6000), beta=5)"
   ]
  },
  {
   "cell_type": "code",
   "execution_count": 31,
   "metadata": {},
   "outputs": [
    {
     "name": "stdout",
     "output_type": "stream",
     "text": [
      "Nombre de lignes base Sentiment140 : 200000\n",
      "Nombre de lignes base Webscrapée   : 10588\n",
      "Step 1: jll = -7635271.925963\n",
      "Step 2: jll = -7635310.989500\n",
      "Step 3: jll = -7635660.603523\n",
      "Step 4: jll = -7636192.833512\n",
      "Step 5: jll = -7636889.313958\n",
      "Step 6: jll = -7637720.808522\n",
      "Step 7: jll = -7638642.142900\n",
      "Step 8: jll = -7639591.402017\n",
      "Step 9: jll = -7640497.703735\n",
      "Step 10: jll = -7641301.210302\n",
      "Step 11: jll = -7641968.323643\n",
      "Step 12: jll = -7642493.078478\n",
      "Step 13: jll = -7642888.862269\n",
      "Step 14: jll = -7643178.142283\n",
      "Step 15: jll = -7643384.814498\n",
      "Step 16: jll = -7643530.097359\n",
      "Step 17: jll = -7643631.074593\n",
      "Step 18: jll = -7643700.708355\n",
      "Step 19: jll = -7643748.468621\n",
      "Step 20: jll = -7643781.105117\n",
      "Optimization converged after 20 iterations.\n"
     ]
    },
    {
     "data": {
      "image/png": "[encoded data removed]",
      "text/plain": [
       "<Figure size 432x288 with 2 Axes>"
      ]
     },
     "metadata": {
      "needs_background": "light"
     },
     "output_type": "display_data"
    },
    {
     "name": "stdout",
     "output_type": "stream",
     "text": [
      "Accuracy : 0.7611\n",
      "Balanced accuracy : 0.7611\n",
      "ROC AUC : 0.8421\n"
     ]
    },
    {
     "data": {
      "image/png": "[encoded data removed]",
      "text/plain": [
       "<Figure size 432x288 with 2 Axes>"
      ]
     },
     "metadata": {
      "needs_background": "light"
     },
     "output_type": "display_data"
    },
    {
     "name": "stdout",
     "output_type": "stream",
     "text": [
      "Accuracy : 0.4200\n",
      "Balanced accuracy : 0.6778\n",
      "ROC AUC : 0.5551\n"
     ]
    }
   ],
   "source": [
    "conf_matrix_semi(X_140, y_140_bool, X_web, X_web_cat, y_web_cat_bool, TfidfVectorizer(max_features=6000), beta=1.5)"
   ]
  },
  {
   "cell_type": "code",
   "execution_count": null,
   "metadata": {},
   "outputs": [],
   "source": []
  }
 ],
 "metadata": {
  "kernelspec": {
   "display_name": "Python 3",
   "language": "python",
   "name": "python3"
  },
  "language_info": {
   "codemirror_mode": {
    "name": "ipython",
    "version": 3
   },
   "file_extension": ".py",
   "mimetype": "text/x-python",
   "name": "python",
   "nbconvert_exporter": "python",
   "pygments_lexer": "ipython3",
   "version": "3.6.11"
  }
 },
 "nbformat": 4,
 "nbformat_minor": 4
}
