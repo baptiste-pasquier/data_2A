{
 "cells": [
  {
   "cell_type": "code",
   "execution_count": 1,
   "metadata": {},
   "outputs": [],
   "source": [
    "import pandas as pd\n",
    "import numpy as np\n",
    "import seaborn as sns\n",
    "import matplotlib.pyplot as plt\n",
    "from sklearn.feature_extraction.text import CountVectorizer, TfidfVectorizer\n",
    "import re\n",
    "import sklearn\n",
    "from sklearn.preprocessing import StandardScaler\n",
    "from sklearn.model_selection import train_test_split\n",
    "from sklearn.linear_model import LogisticRegression\n",
    "from sklearn.naive_bayes import GaussianNB, MultinomialNB\n",
    "from sklearn.metrics import confusion_matrix\n",
    "from sklearn import metrics\n",
    "import os\n",
    "from IPython.display import display\n",
    "import time\n",
    "from math import log\n",
    "t = time.time()"
   ]
  },
  {
   "cell_type": "markdown",
   "metadata": {},
   "source": [
    "Nous étudions dans ce notebook un modèle **semi-supervisé** utilisant le modèle **Naive Bayes**."
   ]
  },
  {
   "cell_type": "markdown",
   "metadata": {},
   "source": [
    "# 1. Chargement de la base Sentiment140 et de la base webscrapée\n",
    "\n",
    "## 1.1. Base Sentiment140"
   ]
  },
  {
   "cell_type": "code",
   "execution_count": 2,
   "metadata": {},
   "outputs": [],
   "source": [
    "NB_DATA_140 = 200000\n",
    "NB_DATA_WEB = 50"
   ]
  },
  {
   "cell_type": "code",
   "execution_count": 3,
   "metadata": {},
   "outputs": [
    {
     "data": {
      "text/plain": [
       "(200000, 6)"
      ]
     },
     "execution_count": 3,
     "metadata": {},
     "output_type": "execute_result"
    }
   ],
   "source": [
    "STOP_WORDS = False\n",
    "LEMMATIZATION = False\n",
    "NEGATION = False\n",
    "file = \"train\"\n",
    "if STOP_WORDS:\n",
    "    file += \"_stop\"\n",
    "if LEMMATIZATION:\n",
    "    file += \"_lemm\"\n",
    "if NEGATION:\n",
    "    file += \"_neg\"\n",
    "df_140 = pd.read_pickle(os.path.join(\"data\", \"sentiment140\", file + \".bz2\")).sample(NB_DATA_140, random_state=1234).reset_index(drop=True)\n",
    "df_140.shape"
   ]
  },
  {
   "cell_type": "code",
   "execution_count": 4,
   "metadata": {},
   "outputs": [
    {
     "data": {
      "text/html": [
       "<div>\n",
       "<style scoped>\n",
       "    .dataframe tbody tr th:only-of-type {\n",
       "        vertical-align: middle;\n",
       "    }\n",
       "\n",
       "    .dataframe tbody tr th {\n",
       "        vertical-align: top;\n",
       "    }\n",
       "\n",
       "    .dataframe thead th {\n",
       "        text-align: right;\n",
       "    }\n",
       "</style>\n",
       "<table border=\"1\" class=\"dataframe\">\n",
       "  <thead>\n",
       "    <tr style=\"text-align: right;\">\n",
       "      <th></th>\n",
       "      <th>sentiment</th>\n",
       "      <th>id</th>\n",
       "      <th>date</th>\n",
       "      <th>query_string</th>\n",
       "      <th>user</th>\n",
       "      <th>text</th>\n",
       "    </tr>\n",
       "  </thead>\n",
       "  <tbody>\n",
       "    <tr>\n",
       "      <th>0</th>\n",
       "      <td>Negative</td>\n",
       "      <td>2220663113</td>\n",
       "      <td>Thu Jun 18 03:39:49 PDT 2009</td>\n",
       "      <td>NO_QUERY</td>\n",
       "      <td>gemgembam</td>\n",
       "      <td>open itunes will not open naooo the silence is...</td>\n",
       "    </tr>\n",
       "    <tr>\n",
       "      <th>1</th>\n",
       "      <td>Negative</td>\n",
       "      <td>2202759103</td>\n",
       "      <td>Tue Jun 16 22:21:43 PDT 2009</td>\n",
       "      <td>NO_QUERY</td>\n",
       "      <td>twistofcolour</td>\n",
       "      <td>the sun is already gone for the day</td>\n",
       "    </tr>\n",
       "    <tr>\n",
       "      <th>2</th>\n",
       "      <td>Positive</td>\n",
       "      <td>2049441111</td>\n",
       "      <td>Fri Jun 05 16:53:10 PDT 2009</td>\n",
       "      <td>NO_QUERY</td>\n",
       "      <td>Niico1e</td>\n",
       "      <td>hiya this is my st tweet i am so tired though ...</td>\n",
       "    </tr>\n",
       "    <tr>\n",
       "      <th>3</th>\n",
       "      <td>Negative</td>\n",
       "      <td>2204830292</td>\n",
       "      <td>Wed Jun 17 03:14:38 PDT 2009</td>\n",
       "      <td>NO_QUERY</td>\n",
       "      <td>MeriEsteban</td>\n",
       "      <td>i have the bac today at p m i do not know if i...</td>\n",
       "    </tr>\n",
       "    <tr>\n",
       "      <th>4</th>\n",
       "      <td>Positive</td>\n",
       "      <td>2190306594</td>\n",
       "      <td>Tue Jun 16 02:21:03 PDT 2009</td>\n",
       "      <td>NO_QUERY</td>\n",
       "      <td>MeghanMagnolia</td>\n",
       "      <td>as far as i remember you were not half bad ine...</td>\n",
       "    </tr>\n",
       "    <tr>\n",
       "      <th>5</th>\n",
       "      <td>Positive</td>\n",
       "      <td>2046706853</td>\n",
       "      <td>Fri Jun 05 12:34:26 PDT 2009</td>\n",
       "      <td>NO_QUERY</td>\n",
       "      <td>WahooPooh</td>\n",
       "      <td>as tempting as that is i am just waiting on my...</td>\n",
       "    </tr>\n",
       "    <tr>\n",
       "      <th>6</th>\n",
       "      <td>Negative</td>\n",
       "      <td>2215937155</td>\n",
       "      <td>Wed Jun 17 18:49:10 PDT 2009</td>\n",
       "      <td>NO_QUERY</td>\n",
       "      <td>amandarie</td>\n",
       "      <td>cool how i have to be stuck at home i want to ...</td>\n",
       "    </tr>\n",
       "    <tr>\n",
       "      <th>7</th>\n",
       "      <td>Positive</td>\n",
       "      <td>1676343245</td>\n",
       "      <td>Fri May 01 21:46:07 PDT 2009</td>\n",
       "      <td>NO_QUERY</td>\n",
       "      <td>MatchesMalone</td>\n",
       "      <td>oh and followfriday my writing partner because...</td>\n",
       "    </tr>\n",
       "    <tr>\n",
       "      <th>8</th>\n",
       "      <td>Negative</td>\n",
       "      <td>2192486836</td>\n",
       "      <td>Tue Jun 16 07:06:35 PDT 2009</td>\n",
       "      <td>NO_QUERY</td>\n",
       "      <td>hockeyfan45214</td>\n",
       "      <td>you would think if i continue to block someone...</td>\n",
       "    </tr>\n",
       "    <tr>\n",
       "      <th>9</th>\n",
       "      <td>Negative</td>\n",
       "      <td>1981647618</td>\n",
       "      <td>Sun May 31 09:35:54 PDT 2009</td>\n",
       "      <td>NO_QUERY</td>\n",
       "      <td>ilovemytroops</td>\n",
       "      <td>nevaeh buchanan missing friends of her mother ...</td>\n",
       "    </tr>\n",
       "  </tbody>\n",
       "</table>\n",
       "</div>"
      ],
      "text/plain": [
       "  sentiment          id                          date query_string  \\\n",
       "0  Negative  2220663113  Thu Jun 18 03:39:49 PDT 2009     NO_QUERY   \n",
       "1  Negative  2202759103  Tue Jun 16 22:21:43 PDT 2009     NO_QUERY   \n",
       "2  Positive  2049441111  Fri Jun 05 16:53:10 PDT 2009     NO_QUERY   \n",
       "3  Negative  2204830292  Wed Jun 17 03:14:38 PDT 2009     NO_QUERY   \n",
       "4  Positive  2190306594  Tue Jun 16 02:21:03 PDT 2009     NO_QUERY   \n",
       "5  Positive  2046706853  Fri Jun 05 12:34:26 PDT 2009     NO_QUERY   \n",
       "6  Negative  2215937155  Wed Jun 17 18:49:10 PDT 2009     NO_QUERY   \n",
       "7  Positive  1676343245  Fri May 01 21:46:07 PDT 2009     NO_QUERY   \n",
       "8  Negative  2192486836  Tue Jun 16 07:06:35 PDT 2009     NO_QUERY   \n",
       "9  Negative  1981647618  Sun May 31 09:35:54 PDT 2009     NO_QUERY   \n",
       "\n",
       "             user                                               text  \n",
       "0       gemgembam  open itunes will not open naooo the silence is...  \n",
       "1   twistofcolour                the sun is already gone for the day  \n",
       "2         Niico1e  hiya this is my st tweet i am so tired though ...  \n",
       "3     MeriEsteban  i have the bac today at p m i do not know if i...  \n",
       "4  MeghanMagnolia  as far as i remember you were not half bad ine...  \n",
       "5       WahooPooh  as tempting as that is i am just waiting on my...  \n",
       "6       amandarie  cool how i have to be stuck at home i want to ...  \n",
       "7   MatchesMalone  oh and followfriday my writing partner because...  \n",
       "8  hockeyfan45214  you would think if i continue to block someone...  \n",
       "9   ilovemytroops  nevaeh buchanan missing friends of her mother ...  "
      ]
     },
     "execution_count": 4,
     "metadata": {},
     "output_type": "execute_result"
    }
   ],
   "source": [
    "df_140.head(10)"
   ]
  },
  {
   "cell_type": "markdown",
   "metadata": {},
   "source": [
    " ## 1.2. Base webscrapée"
   ]
  },
  {
   "cell_type": "code",
   "execution_count": 5,
   "metadata": {},
   "outputs": [
    {
     "data": {
      "text/plain": [
       "(10588, 7)"
      ]
     },
     "execution_count": 5,
     "metadata": {},
     "output_type": "execute_result"
    }
   ],
   "source": [
    "file = \"web\"\n",
    "if STOP_WORDS:\n",
    "    file += \"_stop\"\n",
    "if LEMMATIZATION:\n",
    "    file += \"_lemm\"\n",
    "if NEGATION:\n",
    "    file += \"_neg\"\n",
    "df_web = pd.read_pickle(os.path.join(\"data\", \"web\", file + \".bz2\"))\n",
    "df_web.shape"
   ]
  },
  {
   "cell_type": "code",
   "execution_count": 6,
   "metadata": {},
   "outputs": [
    {
     "data": {
      "text/html": [
       "<div>\n",
       "<style scoped>\n",
       "    .dataframe tbody tr th:only-of-type {\n",
       "        vertical-align: middle;\n",
       "    }\n",
       "\n",
       "    .dataframe tbody tr th {\n",
       "        vertical-align: top;\n",
       "    }\n",
       "\n",
       "    .dataframe thead th {\n",
       "        text-align: right;\n",
       "    }\n",
       "</style>\n",
       "<table border=\"1\" class=\"dataframe\">\n",
       "  <thead>\n",
       "    <tr style=\"text-align: right;\">\n",
       "      <th></th>\n",
       "      <th>search</th>\n",
       "      <th>author</th>\n",
       "      <th>time</th>\n",
       "      <th>url</th>\n",
       "      <th>text</th>\n",
       "      <th>lang</th>\n",
       "      <th>reply</th>\n",
       "    </tr>\n",
       "  </thead>\n",
       "  <tbody>\n",
       "    <tr>\n",
       "      <th>0</th>\n",
       "      <td>biden</td>\n",
       "      <td>Maggie Klaus 🤶🏻</td>\n",
       "      <td>2019-01-01 22:37:46</td>\n",
       "      <td>/Maggie_Klaus/status/1080231636334067712</td>\n",
       "      <td>shut the f ck up about hillary s likability wh...</td>\n",
       "      <td>en</td>\n",
       "      <td>False</td>\n",
       "    </tr>\n",
       "    <tr>\n",
       "      <th>1</th>\n",
       "      <td>biden</td>\n",
       "      <td>The Salt Lake Tribune</td>\n",
       "      <td>2019-01-01 22:15:18</td>\n",
       "      <td>/sltrib/status/1080225983083487232</td>\n",
       "      <td>the agreed to pay former vice president to spe...</td>\n",
       "      <td>en</td>\n",
       "      <td>False</td>\n",
       "    </tr>\n",
       "    <tr>\n",
       "      <th>2</th>\n",
       "      <td>biden</td>\n",
       "      <td>The New York Times</td>\n",
       "      <td>2019-01-01 20:00:08</td>\n",
       "      <td>/nytimes/status/1080191967873716224</td>\n",
       "      <td>a series of careful financial decisions and th...</td>\n",
       "      <td>en</td>\n",
       "      <td>False</td>\n",
       "    </tr>\n",
       "    <tr>\n",
       "      <th>3</th>\n",
       "      <td>biden</td>\n",
       "      <td>Matt Binder</td>\n",
       "      <td>2019-01-01 22:18:51</td>\n",
       "      <td>/MattBinder/status/1080226876226965504</td>\n",
       "      <td>i agree this is useful democrats should defini...</td>\n",
       "      <td>en</td>\n",
       "      <td>False</td>\n",
       "    </tr>\n",
       "    <tr>\n",
       "      <th>4</th>\n",
       "      <td>biden</td>\n",
       "      <td>Patrick Healy</td>\n",
       "      <td>2019-01-01 19:58:58</td>\n",
       "      <td>/patrickhealynyt/status/1080191673701933059</td>\n",
       "      <td>news joe biden s campaign in waiting includes ...</td>\n",
       "      <td>en</td>\n",
       "      <td>False</td>\n",
       "    </tr>\n",
       "    <tr>\n",
       "      <th>5</th>\n",
       "      <td>biden</td>\n",
       "      <td>Ashton Pittman</td>\n",
       "      <td>2019-01-01 23:52:34</td>\n",
       "      <td>/ashtonpittman/status/1080250459200344065</td>\n",
       "      <td>also on fox news newt gingrich praised sen mar...</td>\n",
       "      <td>en</td>\n",
       "      <td>False</td>\n",
       "    </tr>\n",
       "    <tr>\n",
       "      <th>6</th>\n",
       "      <td>biden</td>\n",
       "      <td>Ashton Pittman</td>\n",
       "      <td>2019-01-01 23:52:35</td>\n",
       "      <td>/ashtonpittman/status/1080250465718288384</td>\n",
       "      <td>republicans at fox news even had high praise f...</td>\n",
       "      <td>en</td>\n",
       "      <td>False</td>\n",
       "    </tr>\n",
       "    <tr>\n",
       "      <th>7</th>\n",
       "      <td>biden</td>\n",
       "      <td>Virgil Xmas 🎄🎁💸</td>\n",
       "      <td>2019-01-01 22:25:54</td>\n",
       "      <td>/virgiltexas/status/1080228651327733760</td>\n",
       "      <td>for every joe biden he votes for i am going to...</td>\n",
       "      <td>en</td>\n",
       "      <td>False</td>\n",
       "    </tr>\n",
       "    <tr>\n",
       "      <th>8</th>\n",
       "      <td>biden</td>\n",
       "      <td>Katelyn Burns</td>\n",
       "      <td>2019-01-01 22:01:53</td>\n",
       "      <td>/transscribe/status/1080222604668166144</td>\n",
       "      <td>the unspoken and untrue premise of this piece ...</td>\n",
       "      <td>en</td>\n",
       "      <td>False</td>\n",
       "    </tr>\n",
       "    <tr>\n",
       "      <th>9</th>\n",
       "      <td>biden</td>\n",
       "      <td>Susan Murphy</td>\n",
       "      <td>2019-01-01 22:59:08</td>\n",
       "      <td>/susmurphy/status/1080237012689530883</td>\n",
       "      <td>re the dem race i will vote for whoever is the...</td>\n",
       "      <td>en</td>\n",
       "      <td>False</td>\n",
       "    </tr>\n",
       "  </tbody>\n",
       "</table>\n",
       "</div>"
      ],
      "text/plain": [
       "  search                 author                time  \\\n",
       "0  biden        Maggie Klaus 🤶🏻 2019-01-01 22:37:46   \n",
       "1  biden  The Salt Lake Tribune 2019-01-01 22:15:18   \n",
       "2  biden     The New York Times 2019-01-01 20:00:08   \n",
       "3  biden            Matt Binder 2019-01-01 22:18:51   \n",
       "4  biden          Patrick Healy 2019-01-01 19:58:58   \n",
       "5  biden         Ashton Pittman 2019-01-01 23:52:34   \n",
       "6  biden         Ashton Pittman 2019-01-01 23:52:35   \n",
       "7  biden        Virgil Xmas 🎄🎁💸 2019-01-01 22:25:54   \n",
       "8  biden          Katelyn Burns 2019-01-01 22:01:53   \n",
       "9  biden           Susan Murphy 2019-01-01 22:59:08   \n",
       "\n",
       "                                           url  \\\n",
       "0     /Maggie_Klaus/status/1080231636334067712   \n",
       "1           /sltrib/status/1080225983083487232   \n",
       "2          /nytimes/status/1080191967873716224   \n",
       "3       /MattBinder/status/1080226876226965504   \n",
       "4  /patrickhealynyt/status/1080191673701933059   \n",
       "5    /ashtonpittman/status/1080250459200344065   \n",
       "6    /ashtonpittman/status/1080250465718288384   \n",
       "7      /virgiltexas/status/1080228651327733760   \n",
       "8      /transscribe/status/1080222604668166144   \n",
       "9        /susmurphy/status/1080237012689530883   \n",
       "\n",
       "                                                text lang  reply  \n",
       "0  shut the f ck up about hillary s likability wh...   en  False  \n",
       "1  the agreed to pay former vice president to spe...   en  False  \n",
       "2  a series of careful financial decisions and th...   en  False  \n",
       "3  i agree this is useful democrats should defini...   en  False  \n",
       "4  news joe biden s campaign in waiting includes ...   en  False  \n",
       "5  also on fox news newt gingrich praised sen mar...   en  False  \n",
       "6  republicans at fox news even had high praise f...   en  False  \n",
       "7  for every joe biden he votes for i am going to...   en  False  \n",
       "8  the unspoken and untrue premise of this piece ...   en  False  \n",
       "9  re the dem race i will vote for whoever is the...   en  False  "
      ]
     },
     "execution_count": 6,
     "metadata": {},
     "output_type": "execute_result"
    }
   ],
   "source": [
    "df_web.head(10)"
   ]
  },
  {
   "cell_type": "markdown",
   "metadata": {},
   "source": [
    "## 1.3. Catégorisation à la main"
   ]
  },
  {
   "cell_type": "code",
   "execution_count": 7,
   "metadata": {},
   "outputs": [
    {
     "data": {
      "text/plain": [
       "(50, 7)"
      ]
     },
     "execution_count": 7,
     "metadata": {},
     "output_type": "execute_result"
    }
   ],
   "source": [
    "df_web_cat = pd.read_pickle(os.path.join(\"data\", \"web\", file + \".bz2\")).sample(NB_DATA_WEB, random_state=1234).reset_index(drop=True)\n",
    "df_web_cat.shape"
   ]
  },
  {
   "cell_type": "code",
   "execution_count": 8,
   "metadata": {},
   "outputs": [
    {
     "data": {
      "text/html": [
       "<div>\n",
       "<style scoped>\n",
       "    .dataframe tbody tr th:only-of-type {\n",
       "        vertical-align: middle;\n",
       "    }\n",
       "\n",
       "    .dataframe tbody tr th {\n",
       "        vertical-align: top;\n",
       "    }\n",
       "\n",
       "    .dataframe thead th {\n",
       "        text-align: right;\n",
       "    }\n",
       "</style>\n",
       "<table border=\"1\" class=\"dataframe\">\n",
       "  <thead>\n",
       "    <tr style=\"text-align: right;\">\n",
       "      <th></th>\n",
       "      <th>search</th>\n",
       "      <th>author</th>\n",
       "      <th>time</th>\n",
       "      <th>url</th>\n",
       "      <th>text</th>\n",
       "      <th>lang</th>\n",
       "      <th>reply</th>\n",
       "    </tr>\n",
       "  </thead>\n",
       "  <tbody>\n",
       "    <tr>\n",
       "      <th>0</th>\n",
       "      <td>trump</td>\n",
       "      <td>Tea Pain</td>\n",
       "      <td>2019-12-27 23:48:11</td>\n",
       "      <td>/TeaPainUSA/status/1210708987143954437</td>\n",
       "      <td>weak and whiney</td>\n",
       "      <td>en</td>\n",
       "      <td>False</td>\n",
       "    </tr>\n",
       "    <tr>\n",
       "      <th>1</th>\n",
       "      <td>trump</td>\n",
       "      <td>Lincoln17 😊✌🌊❤🗽🌏🌈🎶</td>\n",
       "      <td>2019-09-30 23:58:44</td>\n",
       "      <td>/Lincoln1710/status/1178821513249775616</td>\n",
       "      <td>reality winner a whistleblower alerted the med...</td>\n",
       "      <td>en</td>\n",
       "      <td>False</td>\n",
       "    </tr>\n",
       "    <tr>\n",
       "      <th>2</th>\n",
       "      <td>biden</td>\n",
       "      <td>Eric Darcman</td>\n",
       "      <td>2019-09-08 23:06:58</td>\n",
       "      <td>/Darcman/status/1170835953067466753</td>\n",
       "      <td>poc will decide who the nominee is in the plac...</td>\n",
       "      <td>en</td>\n",
       "      <td>False</td>\n",
       "    </tr>\n",
       "    <tr>\n",
       "      <th>3</th>\n",
       "      <td>biden</td>\n",
       "      <td>Joe Pizza's Accountant, Shlomi Matzoball 🔥</td>\n",
       "      <td>2019-12-27 22:57:05</td>\n",
       "      <td>/rev_avocado/status/1210696130440224768</td>\n",
       "      <td>but you know i am sure the hundredth joke abou...</td>\n",
       "      <td>en</td>\n",
       "      <td>False</td>\n",
       "    </tr>\n",
       "    <tr>\n",
       "      <th>4</th>\n",
       "      <td>trump</td>\n",
       "      <td>Make Integrity Great Again [Drapeau des États-...</td>\n",
       "      <td>2019-05-20 23:58:57</td>\n",
       "      <td>/CinnamonHH/status/1130623980434546690</td>\n",
       "      <td>i have had heat exhaustion and it is awful why...</td>\n",
       "      <td>en</td>\n",
       "      <td>False</td>\n",
       "    </tr>\n",
       "    <tr>\n",
       "      <th>5</th>\n",
       "      <td>trump</td>\n",
       "      <td>James S</td>\n",
       "      <td>2019-08-16 23:55:49</td>\n",
       "      <td>/JAlford1493/status/1162513323604111360</td>\n",
       "      <td>they just know how the movie ends they ed stil...</td>\n",
       "      <td>en</td>\n",
       "      <td>False</td>\n",
       "    </tr>\n",
       "    <tr>\n",
       "      <th>6</th>\n",
       "      <td>trump</td>\n",
       "      <td>#CountEveryVote Debrianna📢</td>\n",
       "      <td>2019-10-07 23:59:54</td>\n",
       "      <td>/DMansini/status/1181358518923743233</td>\n",
       "      <td>has it become completely obvious yet that this...</td>\n",
       "      <td>en</td>\n",
       "      <td>False</td>\n",
       "    </tr>\n",
       "    <tr>\n",
       "      <th>7</th>\n",
       "      <td>biden</td>\n",
       "      <td>doncalloway</td>\n",
       "      <td>2019-10-22 23:30:54</td>\n",
       "      <td>/dcstl/status/1186787039838003201</td>\n",
       "      <td>there is a very good chance that joe biden wil...</td>\n",
       "      <td>en</td>\n",
       "      <td>False</td>\n",
       "    </tr>\n",
       "    <tr>\n",
       "      <th>8</th>\n",
       "      <td>biden</td>\n",
       "      <td>ᎠᏌNᎬᎷYᎢᎻᎪNᏩ™️</td>\n",
       "      <td>2019-02-10 23:25:56</td>\n",
       "      <td>/Kris_Sacrebleu/status/1094739271703965696</td>\n",
       "      <td>i see a few candidates making some missteps ou...</td>\n",
       "      <td>en</td>\n",
       "      <td>False</td>\n",
       "    </tr>\n",
       "    <tr>\n",
       "      <th>9</th>\n",
       "      <td>trump</td>\n",
       "      <td>Charles Nutter</td>\n",
       "      <td>2019-01-08 23:56:39</td>\n",
       "      <td>/headius/status/1082788202853875712</td>\n",
       "      <td>this is the anger and hate politics you suppor...</td>\n",
       "      <td>en</td>\n",
       "      <td>False</td>\n",
       "    </tr>\n",
       "  </tbody>\n",
       "</table>\n",
       "</div>"
      ],
      "text/plain": [
       "  search                                             author  \\\n",
       "0  trump                                           Tea Pain   \n",
       "1  trump                                 Lincoln17 😊✌🌊❤🗽🌏🌈🎶   \n",
       "2  biden                                       Eric Darcman   \n",
       "3  biden         Joe Pizza's Accountant, Shlomi Matzoball 🔥   \n",
       "4  trump  Make Integrity Great Again [Drapeau des États-...   \n",
       "5  trump                                            James S   \n",
       "6  trump                         #CountEveryVote Debrianna📢   \n",
       "7  biden                                        doncalloway   \n",
       "8  biden                                      ᎠᏌNᎬᎷYᎢᎻᎪNᏩ™️   \n",
       "9  trump                                     Charles Nutter   \n",
       "\n",
       "                 time                                         url  \\\n",
       "0 2019-12-27 23:48:11      /TeaPainUSA/status/1210708987143954437   \n",
       "1 2019-09-30 23:58:44     /Lincoln1710/status/1178821513249775616   \n",
       "2 2019-09-08 23:06:58         /Darcman/status/1170835953067466753   \n",
       "3 2019-12-27 22:57:05     /rev_avocado/status/1210696130440224768   \n",
       "4 2019-05-20 23:58:57      /CinnamonHH/status/1130623980434546690   \n",
       "5 2019-08-16 23:55:49     /JAlford1493/status/1162513323604111360   \n",
       "6 2019-10-07 23:59:54        /DMansini/status/1181358518923743233   \n",
       "7 2019-10-22 23:30:54           /dcstl/status/1186787039838003201   \n",
       "8 2019-02-10 23:25:56  /Kris_Sacrebleu/status/1094739271703965696   \n",
       "9 2019-01-08 23:56:39         /headius/status/1082788202853875712   \n",
       "\n",
       "                                                text lang  reply  \n",
       "0                                    weak and whiney   en  False  \n",
       "1  reality winner a whistleblower alerted the med...   en  False  \n",
       "2  poc will decide who the nominee is in the plac...   en  False  \n",
       "3  but you know i am sure the hundredth joke abou...   en  False  \n",
       "4  i have had heat exhaustion and it is awful why...   en  False  \n",
       "5  they just know how the movie ends they ed stil...   en  False  \n",
       "6  has it become completely obvious yet that this...   en  False  \n",
       "7  there is a very good chance that joe biden wil...   en  False  \n",
       "8  i see a few candidates making some missteps ou...   en  False  \n",
       "9  this is the anger and hate politics you suppor...   en  False  "
      ]
     },
     "execution_count": 8,
     "metadata": {},
     "output_type": "execute_result"
    }
   ],
   "source": [
    "df_web_cat.head(10)"
   ]
  },
  {
   "cell_type": "code",
   "execution_count": 9,
   "metadata": {},
   "outputs": [
    {
     "name": "stdout",
     "output_type": "stream",
     "text": [
      "Bonjour, mon nom est Bob \n"
     ]
    }
   ],
   "source": [
    "from google_trans_new import google_translator  \n",
    "  \n",
    "translator = google_translator()  \n",
    "translate_text = translator.translate(\"Hello my name is Bob\", lang_tgt='fr')  \n",
    "print(translate_text)"
   ]
  },
  {
   "cell_type": "code",
   "execution_count": 10,
   "metadata": {},
   "outputs": [],
   "source": [
    "# %%time\n",
    "# temp = df_web_cat.copy()\n",
    "# temp['text_trad'] = temp.text.map(lambda x: translator.translate(x, lang_tgt='fr'))\n",
    "# temp.head(10)"
   ]
  },
  {
   "cell_type": "code",
   "execution_count": 11,
   "metadata": {},
   "outputs": [],
   "source": [
    "# temp['sentiment'] = 0"
   ]
  },
  {
   "cell_type": "code",
   "execution_count": 12,
   "metadata": {},
   "outputs": [],
   "source": [
    "# temp.to_excel(os.path.join(\"data\", \"web\", \"cat.xlsx\"))"
   ]
  },
  {
   "cell_type": "code",
   "execution_count": 13,
   "metadata": {},
   "outputs": [
    {
     "data": {
      "text/html": [
       "<div>\n",
       "<style scoped>\n",
       "    .dataframe tbody tr th:only-of-type {\n",
       "        vertical-align: middle;\n",
       "    }\n",
       "\n",
       "    .dataframe tbody tr th {\n",
       "        vertical-align: top;\n",
       "    }\n",
       "\n",
       "    .dataframe thead th {\n",
       "        text-align: right;\n",
       "    }\n",
       "</style>\n",
       "<table border=\"1\" class=\"dataframe\">\n",
       "  <thead>\n",
       "    <tr style=\"text-align: right;\">\n",
       "      <th></th>\n",
       "      <th>search</th>\n",
       "      <th>author</th>\n",
       "      <th>time</th>\n",
       "      <th>url</th>\n",
       "      <th>text</th>\n",
       "      <th>lang</th>\n",
       "      <th>reply</th>\n",
       "      <th>sentiment</th>\n",
       "    </tr>\n",
       "  </thead>\n",
       "  <tbody>\n",
       "    <tr>\n",
       "      <th>0</th>\n",
       "      <td>trump</td>\n",
       "      <td>Tea Pain</td>\n",
       "      <td>2019-12-27 23:48:11</td>\n",
       "      <td>/TeaPainUSA/status/1210708987143954437</td>\n",
       "      <td>weak and whiney</td>\n",
       "      <td>en</td>\n",
       "      <td>False</td>\n",
       "      <td>Negative</td>\n",
       "    </tr>\n",
       "    <tr>\n",
       "      <th>1</th>\n",
       "      <td>trump</td>\n",
       "      <td>Lincoln17 😊✌🌊❤🗽🌏🌈🎶</td>\n",
       "      <td>2019-09-30 23:58:44</td>\n",
       "      <td>/Lincoln1710/status/1178821513249775616</td>\n",
       "      <td>reality winner a whistleblower alerted the med...</td>\n",
       "      <td>en</td>\n",
       "      <td>False</td>\n",
       "      <td>Negative</td>\n",
       "    </tr>\n",
       "    <tr>\n",
       "      <th>2</th>\n",
       "      <td>biden</td>\n",
       "      <td>Eric Darcman</td>\n",
       "      <td>2019-09-08 23:06:58</td>\n",
       "      <td>/Darcman/status/1170835953067466753</td>\n",
       "      <td>poc will decide who the nominee is in the plac...</td>\n",
       "      <td>en</td>\n",
       "      <td>False</td>\n",
       "      <td>Negative</td>\n",
       "    </tr>\n",
       "    <tr>\n",
       "      <th>3</th>\n",
       "      <td>biden</td>\n",
       "      <td>Joe Pizza's Accountant, Shlomi Matzoball 🔥</td>\n",
       "      <td>2019-12-27 22:57:05</td>\n",
       "      <td>/rev_avocado/status/1210696130440224768</td>\n",
       "      <td>but you know i am sure the hundredth joke abou...</td>\n",
       "      <td>en</td>\n",
       "      <td>False</td>\n",
       "      <td>Negative</td>\n",
       "    </tr>\n",
       "    <tr>\n",
       "      <th>4</th>\n",
       "      <td>trump</td>\n",
       "      <td>Make Integrity Great Again [Drapeau des États-...</td>\n",
       "      <td>2019-05-20 23:58:57</td>\n",
       "      <td>/CinnamonHH/status/1130623980434546690</td>\n",
       "      <td>i have had heat exhaustion and it is awful why...</td>\n",
       "      <td>en</td>\n",
       "      <td>False</td>\n",
       "      <td>Negative</td>\n",
       "    </tr>\n",
       "    <tr>\n",
       "      <th>5</th>\n",
       "      <td>trump</td>\n",
       "      <td>James S</td>\n",
       "      <td>2019-08-16 23:55:49</td>\n",
       "      <td>/JAlford1493/status/1162513323604111360</td>\n",
       "      <td>they just know how the movie ends they ed stil...</td>\n",
       "      <td>en</td>\n",
       "      <td>False</td>\n",
       "      <td>Negative</td>\n",
       "    </tr>\n",
       "    <tr>\n",
       "      <th>6</th>\n",
       "      <td>trump</td>\n",
       "      <td>#CountEveryVote Debrianna📢</td>\n",
       "      <td>2019-10-07 23:59:54</td>\n",
       "      <td>/DMansini/status/1181358518923743233</td>\n",
       "      <td>has it become completely obvious yet that this...</td>\n",
       "      <td>en</td>\n",
       "      <td>False</td>\n",
       "      <td>Negative</td>\n",
       "    </tr>\n",
       "    <tr>\n",
       "      <th>7</th>\n",
       "      <td>biden</td>\n",
       "      <td>doncalloway</td>\n",
       "      <td>2019-10-22 23:30:54</td>\n",
       "      <td>/dcstl/status/1186787039838003201</td>\n",
       "      <td>there is a very good chance that joe biden wil...</td>\n",
       "      <td>en</td>\n",
       "      <td>False</td>\n",
       "      <td>Positive</td>\n",
       "    </tr>\n",
       "    <tr>\n",
       "      <th>8</th>\n",
       "      <td>biden</td>\n",
       "      <td>ᎠᏌNᎬᎷYᎢᎻᎪNᏩ™️</td>\n",
       "      <td>2019-02-10 23:25:56</td>\n",
       "      <td>/Kris_Sacrebleu/status/1094739271703965696</td>\n",
       "      <td>i see a few candidates making some missteps ou...</td>\n",
       "      <td>en</td>\n",
       "      <td>False</td>\n",
       "      <td>Positive</td>\n",
       "    </tr>\n",
       "    <tr>\n",
       "      <th>9</th>\n",
       "      <td>trump</td>\n",
       "      <td>Charles Nutter</td>\n",
       "      <td>2019-01-08 23:56:39</td>\n",
       "      <td>/headius/status/1082788202853875712</td>\n",
       "      <td>this is the anger and hate politics you suppor...</td>\n",
       "      <td>en</td>\n",
       "      <td>False</td>\n",
       "      <td>Negative</td>\n",
       "    </tr>\n",
       "  </tbody>\n",
       "</table>\n",
       "</div>"
      ],
      "text/plain": [
       "  search                                             author  \\\n",
       "0  trump                                           Tea Pain   \n",
       "1  trump                                 Lincoln17 😊✌🌊❤🗽🌏🌈🎶   \n",
       "2  biden                                       Eric Darcman   \n",
       "3  biden         Joe Pizza's Accountant, Shlomi Matzoball 🔥   \n",
       "4  trump  Make Integrity Great Again [Drapeau des États-...   \n",
       "5  trump                                            James S   \n",
       "6  trump                         #CountEveryVote Debrianna📢   \n",
       "7  biden                                        doncalloway   \n",
       "8  biden                                      ᎠᏌNᎬᎷYᎢᎻᎪNᏩ™️   \n",
       "9  trump                                     Charles Nutter   \n",
       "\n",
       "                 time                                         url  \\\n",
       "0 2019-12-27 23:48:11      /TeaPainUSA/status/1210708987143954437   \n",
       "1 2019-09-30 23:58:44     /Lincoln1710/status/1178821513249775616   \n",
       "2 2019-09-08 23:06:58         /Darcman/status/1170835953067466753   \n",
       "3 2019-12-27 22:57:05     /rev_avocado/status/1210696130440224768   \n",
       "4 2019-05-20 23:58:57      /CinnamonHH/status/1130623980434546690   \n",
       "5 2019-08-16 23:55:49     /JAlford1493/status/1162513323604111360   \n",
       "6 2019-10-07 23:59:54        /DMansini/status/1181358518923743233   \n",
       "7 2019-10-22 23:30:54           /dcstl/status/1186787039838003201   \n",
       "8 2019-02-10 23:25:56  /Kris_Sacrebleu/status/1094739271703965696   \n",
       "9 2019-01-08 23:56:39         /headius/status/1082788202853875712   \n",
       "\n",
       "                                                text lang  reply sentiment  \n",
       "0                                    weak and whiney   en  False  Negative  \n",
       "1  reality winner a whistleblower alerted the med...   en  False  Negative  \n",
       "2  poc will decide who the nominee is in the plac...   en  False  Negative  \n",
       "3  but you know i am sure the hundredth joke abou...   en  False  Negative  \n",
       "4  i have had heat exhaustion and it is awful why...   en  False  Negative  \n",
       "5  they just know how the movie ends they ed stil...   en  False  Negative  \n",
       "6  has it become completely obvious yet that this...   en  False  Negative  \n",
       "7  there is a very good chance that joe biden wil...   en  False  Positive  \n",
       "8  i see a few candidates making some missteps ou...   en  False  Positive  \n",
       "9  this is the anger and hate politics you suppor...   en  False  Negative  "
      ]
     },
     "execution_count": 13,
     "metadata": {},
     "output_type": "execute_result"
    }
   ],
   "source": [
    "df_temp = pd.read_excel(os.path.join(\"data\", \"web\", \"cat_.xlsx\")).drop(columns=['Unnamed: 0', 'text_trad'])\n",
    "df_temp.sentiment = df_temp.sentiment.apply(lambda x: 'Negative' if x == 0 else 'Positive')\n",
    "df_temp.head(10)"
   ]
  },
  {
   "cell_type": "code",
   "execution_count": 14,
   "metadata": {},
   "outputs": [
    {
     "data": {
      "text/plain": [
       "True"
      ]
     },
     "execution_count": 14,
     "metadata": {},
     "output_type": "execute_result"
    }
   ],
   "source": [
    "(df_web_cat.text == df_temp.text).all()"
   ]
  },
  {
   "cell_type": "code",
   "execution_count": 15,
   "metadata": {},
   "outputs": [
    {
     "data": {
      "text/html": [
       "<div>\n",
       "<style scoped>\n",
       "    .dataframe tbody tr th:only-of-type {\n",
       "        vertical-align: middle;\n",
       "    }\n",
       "\n",
       "    .dataframe tbody tr th {\n",
       "        vertical-align: top;\n",
       "    }\n",
       "\n",
       "    .dataframe thead th {\n",
       "        text-align: right;\n",
       "    }\n",
       "</style>\n",
       "<table border=\"1\" class=\"dataframe\">\n",
       "  <thead>\n",
       "    <tr style=\"text-align: right;\">\n",
       "      <th></th>\n",
       "      <th>search</th>\n",
       "      <th>author</th>\n",
       "      <th>time</th>\n",
       "      <th>url</th>\n",
       "      <th>text</th>\n",
       "      <th>lang</th>\n",
       "      <th>reply</th>\n",
       "      <th>sentiment</th>\n",
       "    </tr>\n",
       "  </thead>\n",
       "  <tbody>\n",
       "    <tr>\n",
       "      <th>0</th>\n",
       "      <td>trump</td>\n",
       "      <td>Tea Pain</td>\n",
       "      <td>2019-12-27 23:48:11</td>\n",
       "      <td>/TeaPainUSA/status/1210708987143954437</td>\n",
       "      <td>weak and whiney</td>\n",
       "      <td>en</td>\n",
       "      <td>False</td>\n",
       "      <td>Negative</td>\n",
       "    </tr>\n",
       "    <tr>\n",
       "      <th>1</th>\n",
       "      <td>trump</td>\n",
       "      <td>Lincoln17 😊✌🌊❤🗽🌏🌈🎶</td>\n",
       "      <td>2019-09-30 23:58:44</td>\n",
       "      <td>/Lincoln1710/status/1178821513249775616</td>\n",
       "      <td>reality winner a whistleblower alerted the med...</td>\n",
       "      <td>en</td>\n",
       "      <td>False</td>\n",
       "      <td>Negative</td>\n",
       "    </tr>\n",
       "    <tr>\n",
       "      <th>2</th>\n",
       "      <td>biden</td>\n",
       "      <td>Eric Darcman</td>\n",
       "      <td>2019-09-08 23:06:58</td>\n",
       "      <td>/Darcman/status/1170835953067466753</td>\n",
       "      <td>poc will decide who the nominee is in the plac...</td>\n",
       "      <td>en</td>\n",
       "      <td>False</td>\n",
       "      <td>Negative</td>\n",
       "    </tr>\n",
       "    <tr>\n",
       "      <th>3</th>\n",
       "      <td>biden</td>\n",
       "      <td>Joe Pizza's Accountant, Shlomi Matzoball 🔥</td>\n",
       "      <td>2019-12-27 22:57:05</td>\n",
       "      <td>/rev_avocado/status/1210696130440224768</td>\n",
       "      <td>but you know i am sure the hundredth joke abou...</td>\n",
       "      <td>en</td>\n",
       "      <td>False</td>\n",
       "      <td>Negative</td>\n",
       "    </tr>\n",
       "    <tr>\n",
       "      <th>4</th>\n",
       "      <td>trump</td>\n",
       "      <td>Make Integrity Great Again [Drapeau des États-...</td>\n",
       "      <td>2019-05-20 23:58:57</td>\n",
       "      <td>/CinnamonHH/status/1130623980434546690</td>\n",
       "      <td>i have had heat exhaustion and it is awful why...</td>\n",
       "      <td>en</td>\n",
       "      <td>False</td>\n",
       "      <td>Negative</td>\n",
       "    </tr>\n",
       "    <tr>\n",
       "      <th>5</th>\n",
       "      <td>trump</td>\n",
       "      <td>James S</td>\n",
       "      <td>2019-08-16 23:55:49</td>\n",
       "      <td>/JAlford1493/status/1162513323604111360</td>\n",
       "      <td>they just know how the movie ends they ed stil...</td>\n",
       "      <td>en</td>\n",
       "      <td>False</td>\n",
       "      <td>Negative</td>\n",
       "    </tr>\n",
       "    <tr>\n",
       "      <th>6</th>\n",
       "      <td>trump</td>\n",
       "      <td>#CountEveryVote Debrianna📢</td>\n",
       "      <td>2019-10-07 23:59:54</td>\n",
       "      <td>/DMansini/status/1181358518923743233</td>\n",
       "      <td>has it become completely obvious yet that this...</td>\n",
       "      <td>en</td>\n",
       "      <td>False</td>\n",
       "      <td>Negative</td>\n",
       "    </tr>\n",
       "    <tr>\n",
       "      <th>7</th>\n",
       "      <td>biden</td>\n",
       "      <td>doncalloway</td>\n",
       "      <td>2019-10-22 23:30:54</td>\n",
       "      <td>/dcstl/status/1186787039838003201</td>\n",
       "      <td>there is a very good chance that joe biden wil...</td>\n",
       "      <td>en</td>\n",
       "      <td>False</td>\n",
       "      <td>Positive</td>\n",
       "    </tr>\n",
       "    <tr>\n",
       "      <th>8</th>\n",
       "      <td>biden</td>\n",
       "      <td>ᎠᏌNᎬᎷYᎢᎻᎪNᏩ™️</td>\n",
       "      <td>2019-02-10 23:25:56</td>\n",
       "      <td>/Kris_Sacrebleu/status/1094739271703965696</td>\n",
       "      <td>i see a few candidates making some missteps ou...</td>\n",
       "      <td>en</td>\n",
       "      <td>False</td>\n",
       "      <td>Positive</td>\n",
       "    </tr>\n",
       "    <tr>\n",
       "      <th>9</th>\n",
       "      <td>trump</td>\n",
       "      <td>Charles Nutter</td>\n",
       "      <td>2019-01-08 23:56:39</td>\n",
       "      <td>/headius/status/1082788202853875712</td>\n",
       "      <td>this is the anger and hate politics you suppor...</td>\n",
       "      <td>en</td>\n",
       "      <td>False</td>\n",
       "      <td>Negative</td>\n",
       "    </tr>\n",
       "  </tbody>\n",
       "</table>\n",
       "</div>"
      ],
      "text/plain": [
       "  search                                             author  \\\n",
       "0  trump                                           Tea Pain   \n",
       "1  trump                                 Lincoln17 😊✌🌊❤🗽🌏🌈🎶   \n",
       "2  biden                                       Eric Darcman   \n",
       "3  biden         Joe Pizza's Accountant, Shlomi Matzoball 🔥   \n",
       "4  trump  Make Integrity Great Again [Drapeau des États-...   \n",
       "5  trump                                            James S   \n",
       "6  trump                         #CountEveryVote Debrianna📢   \n",
       "7  biden                                        doncalloway   \n",
       "8  biden                                      ᎠᏌNᎬᎷYᎢᎻᎪNᏩ™️   \n",
       "9  trump                                     Charles Nutter   \n",
       "\n",
       "                 time                                         url  \\\n",
       "0 2019-12-27 23:48:11      /TeaPainUSA/status/1210708987143954437   \n",
       "1 2019-09-30 23:58:44     /Lincoln1710/status/1178821513249775616   \n",
       "2 2019-09-08 23:06:58         /Darcman/status/1170835953067466753   \n",
       "3 2019-12-27 22:57:05     /rev_avocado/status/1210696130440224768   \n",
       "4 2019-05-20 23:58:57      /CinnamonHH/status/1130623980434546690   \n",
       "5 2019-08-16 23:55:49     /JAlford1493/status/1162513323604111360   \n",
       "6 2019-10-07 23:59:54        /DMansini/status/1181358518923743233   \n",
       "7 2019-10-22 23:30:54           /dcstl/status/1186787039838003201   \n",
       "8 2019-02-10 23:25:56  /Kris_Sacrebleu/status/1094739271703965696   \n",
       "9 2019-01-08 23:56:39         /headius/status/1082788202853875712   \n",
       "\n",
       "                                                text lang  reply sentiment  \n",
       "0                                    weak and whiney   en  False  Negative  \n",
       "1  reality winner a whistleblower alerted the med...   en  False  Negative  \n",
       "2  poc will decide who the nominee is in the plac...   en  False  Negative  \n",
       "3  but you know i am sure the hundredth joke abou...   en  False  Negative  \n",
       "4  i have had heat exhaustion and it is awful why...   en  False  Negative  \n",
       "5  they just know how the movie ends they ed stil...   en  False  Negative  \n",
       "6  has it become completely obvious yet that this...   en  False  Negative  \n",
       "7  there is a very good chance that joe biden wil...   en  False  Positive  \n",
       "8  i see a few candidates making some missteps ou...   en  False  Positive  \n",
       "9  this is the anger and hate politics you suppor...   en  False  Negative  "
      ]
     },
     "execution_count": 15,
     "metadata": {},
     "output_type": "execute_result"
    }
   ],
   "source": [
    "df_web_cat['sentiment'] = df_temp.sentiment\n",
    "df_web_cat.head(10)"
   ]
  },
  {
   "cell_type": "code",
   "execution_count": 16,
   "metadata": {},
   "outputs": [
    {
     "data": {
      "image/png": "[encoded data removed]",
      "text/plain": [
       "<Figure size 432x288 with 1 Axes>"
      ]
     },
     "metadata": {
      "needs_background": "light"
     },
     "output_type": "display_data"
    }
   ],
   "source": [
    "sns.countplot(x='sentiment', data=df_web_cat)\n",
    "plt.show()"
   ]
  },
  {
   "cell_type": "code",
   "execution_count": 17,
   "metadata": {},
   "outputs": [],
   "source": [
    "X_140 = df_140.text.to_list()\n",
    "y_140 = df_140.sentiment.to_list()\n",
    "y_140_bool = (np.array(y_140) == 'Positive').astype(int).tolist()\n",
    "\n",
    "X_web = df_web.text.to_list()\n",
    "X_web_cat = df_web_cat.text.to_list()\n",
    "y_web_cat = df_web_cat.sentiment.to_list()\n",
    "y_web_cat_bool = (np.array(y_web_cat) == 'Positive').astype(int).tolist()"
   ]
  },
  {
   "cell_type": "markdown",
   "metadata": {},
   "source": [
    "# 2. Performances des modèles précédents\n",
    "\n",
    "On fait attention à bien fitter le vectorizer sur les bases Sentiment140 et webscrapée "
   ]
  },
  {
   "cell_type": "code",
   "execution_count": 18,
   "metadata": {},
   "outputs": [],
   "source": [
    "class Modelisation():\n",
    "    def __init__(self, X_labeled, y_labeled, X_unlabeled, X_unlabeled_cat, y_unlabeled_cat, vectorizer, model, scaling=True):\n",
    "        vectorizer.fit(X_labeled+X_unlabeled)\n",
    "        X_labeled = vectorizer.transform(X_labeled)\n",
    "\n",
    "        if scaling:\n",
    "            scaler = StandardScaler(with_mean=False)\n",
    "            X_labeled = scaler.fit_transform(X_labeled)\n",
    "\n",
    "        X_train_labeled, X_test_labeled, y_train_labeled, y_test_labeled = train_test_split(X_labeled, y_labeled, train_size=0.80, random_state=1234)\n",
    "\n",
    "        model.fit(X_train_labeled, y_train_labeled)    \n",
    "        y_pred_labeled = model.predict(X_test_labeled)\n",
    "\n",
    "        X_unlabeled_cat = vectorizer.transform(X_unlabeled_cat)\n",
    "        if scaling:\n",
    "            X_unlabeled_cat = scaler.transform(X_unlabeled_cat)\n",
    "        y_pred_unlabeled_cat = model.predict(X_unlabeled_cat)\n",
    "        \n",
    "        self.X_test_labeled = X_test_labeled\n",
    "        self.y_test_labeled = y_test_labeled\n",
    "        self.y_pred_labeled = y_pred_labeled\n",
    "        self.X_unlabeled_cat = X_unlabeled_cat\n",
    "        self.y_unlabeled_cat = y_unlabeled_cat\n",
    "        self.y_pred_unlabeled_cat = y_pred_unlabeled_cat\n",
    "        self.vectorizer = vectorizer\n",
    "        self.model = model\n",
    "        self.scaling = scaling\n",
    "        \n",
    "        if scaling:\n",
    "            self.scaler = scaler\n",
    "    \n",
    "    def get_data(self):\n",
    "        return self.X_train, self.X_test, self.y_train, self.y_test\n",
    "    \n",
    "    def show_conf_matrix(self, X_test, y_test, y_pred):\n",
    "        metrics.plot_confusion_matrix(self.model, X_test, y_test, cmap='Blues')\n",
    "        plt.show()\n",
    "        \n",
    "        sc_accuracy = metrics.accuracy_score(y_pred, y_test)    \n",
    "        sc_balanced_accuracy = metrics.balanced_accuracy_score(y_pred, y_test)        \n",
    "        sc_roc_auc = metrics.roc_auc_score(y_test, self.model.predict_proba(X_test)[:, 1])        \n",
    "\n",
    "        print(f\"Accuracy : {sc_accuracy:.4f}\")\n",
    "        print(f\"Balanced accuracy : {sc_balanced_accuracy:.4f}\")\n",
    "        print(f\"ROC AUC : {sc_roc_auc:.4f}\")\n",
    "        \n",
    "    def show_conf_matrix_labeled(self):\n",
    "        print(\"\\nDonnées labellisées de test (Sentiment140)\")\n",
    "        self.show_conf_matrix(self.X_test_labeled, self.y_test_labeled, self.y_pred_labeled)\n",
    "        \n",
    "    def show_conf_matrix_unlabeled(self):\n",
    "        print(\"\\nDonnées non labellisées (Webscraping labellisé à la main)\")\n",
    "        self.show_conf_matrix(self.X_unlabeled_cat, self.y_unlabeled_cat, self.y_pred_unlabeled_cat)\n",
    "    \n",
    "    def predict(self, X):\n",
    "        X = self.vectorizer.transform(X)\n",
    "        if self.scaling:\n",
    "            X = self.scaler.transform(X)\n",
    "        return self.model.predict(X)"
   ]
  },
  {
   "cell_type": "code",
   "execution_count": 19,
   "metadata": {},
   "outputs": [
    {
     "name": "stdout",
     "output_type": "stream",
     "text": [
      "\n",
      "Données labellisées de test (Sentiment140)\n"
     ]
    },
    {
     "data": {
      "image/png": "[encoded data removed]",
      "text/plain": [
       "<Figure size 432x288 with 2 Axes>"
      ]
     },
     "metadata": {
      "needs_background": "light"
     },
     "output_type": "display_data"
    },
    {
     "name": "stdout",
     "output_type": "stream",
     "text": [
      "Accuracy : 0.7821\n",
      "Balanced accuracy : 0.7824\n",
      "ROC AUC : 0.8524\n",
      "\n",
      "Données non labellisées (Webscraping labellisé à la main)\n"
     ]
    },
    {
     "data": {
      "image/png": "[encoded data removed]",
      "text/plain": [
       "<Figure size 432x288 with 2 Axes>"
      ]
     },
     "metadata": {
      "needs_background": "light"
     },
     "output_type": "display_data"
    },
    {
     "name": "stdout",
     "output_type": "stream",
     "text": [
      "Accuracy : 0.6800\n",
      "Balanced accuracy : 0.6875\n",
      "ROC AUC : 0.7868\n",
      "Wall time: 7.91 s\n"
     ]
    }
   ],
   "source": [
    "%%time\n",
    "m = Modelisation(X_140, y_140, X_web, X_web_cat, y_web_cat, CountVectorizer(max_features=6000), LogisticRegression())\n",
    "m.show_conf_matrix_labeled()\n",
    "m.show_conf_matrix_unlabeled()"
   ]
  },
  {
   "cell_type": "code",
   "execution_count": 20,
   "metadata": {},
   "outputs": [
    {
     "name": "stdout",
     "output_type": "stream",
     "text": [
      "\n",
      "Données labellisées de test (Sentiment140)\n"
     ]
    },
    {
     "data": {
      "image/png": "[encoded data removed]",
      "text/plain": [
       "<Figure size 432x288 with 2 Axes>"
      ]
     },
     "metadata": {
      "needs_background": "light"
     },
     "output_type": "display_data"
    },
    {
     "name": "stdout",
     "output_type": "stream",
     "text": [
      "Accuracy : 0.7816\n",
      "Balanced accuracy : 0.7817\n",
      "ROC AUC : 0.8615\n",
      "\n",
      "Données non labellisées (Webscraping labellisé à la main)\n"
     ]
    },
    {
     "data": {
      "image/png": "[encoded data removed]",
      "text/plain": [
       "<Figure size 432x288 with 2 Axes>"
      ]
     },
     "metadata": {
      "needs_background": "light"
     },
     "output_type": "display_data"
    },
    {
     "name": "stdout",
     "output_type": "stream",
     "text": [
      "Accuracy : 0.7200\n",
      "Balanced accuracy : 0.7131\n",
      "ROC AUC : 0.8070\n",
      "Wall time: 7.3 s\n"
     ]
    }
   ],
   "source": [
    "%%time\n",
    "m = Modelisation(X_140, y_140, X_web, X_web_cat, y_web_cat, TfidfVectorizer(max_features=6000), LogisticRegression())\n",
    "m.show_conf_matrix_labeled()\n",
    "m.show_conf_matrix_unlabeled()"
   ]
  },
  {
   "cell_type": "code",
   "execution_count": 21,
   "metadata": {},
   "outputs": [
    {
     "name": "stdout",
     "output_type": "stream",
     "text": [
      "\n",
      "Données labellisées de test (Sentiment140)\n"
     ]
    },
    {
     "data": {
      "image/png": "[encoded data removed]",
      "text/plain": [
       "<Figure size 432x288 with 2 Axes>"
      ]
     },
     "metadata": {
      "needs_background": "light"
     },
     "output_type": "display_data"
    },
    {
     "name": "stdout",
     "output_type": "stream",
     "text": [
      "Accuracy : 0.7712\n",
      "Balanced accuracy : 0.7716\n",
      "ROC AUC : 0.8435\n",
      "\n",
      "Données non labellisées (Webscraping labellisé à la main)\n"
     ]
    },
    {
     "data": {
      "image/png": "[encoded data removed]",
      "text/plain": [
       "<Figure size 432x288 with 2 Axes>"
      ]
     },
     "metadata": {
      "needs_background": "light"
     },
     "output_type": "display_data"
    },
    {
     "name": "stdout",
     "output_type": "stream",
     "text": [
      "Accuracy : 0.6600\n",
      "Balanced accuracy : 0.6346\n",
      "ROC AUC : 0.6562\n",
      "Wall time: 6.28 s\n"
     ]
    }
   ],
   "source": [
    "%%time\n",
    "m = Modelisation(X_140, y_140, X_web, X_web_cat, y_web_cat, CountVectorizer(max_features=5156), MultinomialNB(alpha=1), scaling=False)\n",
    "m.show_conf_matrix_labeled()\n",
    "m.show_conf_matrix_unlabeled()"
   ]
  },
  {
   "cell_type": "code",
   "execution_count": 22,
   "metadata": {},
   "outputs": [
    {
     "name": "stdout",
     "output_type": "stream",
     "text": [
      "\n",
      "Données labellisées de test (Sentiment140)\n"
     ]
    },
    {
     "data": {
      "image/png": "[encoded data removed]",
      "text/plain": [
       "<Figure size 432x288 with 2 Axes>"
      ]
     },
     "metadata": {
      "needs_background": "light"
     },
     "output_type": "display_data"
    },
    {
     "name": "stdout",
     "output_type": "stream",
     "text": [
      "Accuracy : 0.7639\n",
      "Balanced accuracy : 0.7640\n",
      "ROC AUC : 0.8472\n",
      "\n",
      "Données non labellisées (Webscraping labellisé à la main)\n"
     ]
    },
    {
     "data": {
      "image/png": "[encoded data removed]",
      "text/plain": [
       "<Figure size 432x288 with 2 Axes>"
      ]
     },
     "metadata": {
      "needs_background": "light"
     },
     "output_type": "display_data"
    },
    {
     "name": "stdout",
     "output_type": "stream",
     "text": [
      "Accuracy : 0.6400\n",
      "Balanced accuracy : 0.5972\n",
      "ROC AUC : 0.6048\n",
      "Wall time: 6.3 s\n"
     ]
    }
   ],
   "source": [
    "%%time\n",
    "m = Modelisation(X_140, y_140, X_web, X_web_cat, y_web_cat, TfidfVectorizer(max_features=5156), MultinomialNB(alpha=1), scaling=False)\n",
    "m.show_conf_matrix_labeled()\n",
    "m.show_conf_matrix_unlabeled()"
   ]
  },
  {
   "cell_type": "markdown",
   "metadata": {},
   "source": [
    "# 3. Apprentissage semi-supervisé\n",
    "\n",
    "Nous utilisons une modification du modèle MultinomialNB disponible sur ce projet : https://github.com/jmatayoshi/semi-supervised-naive-bayes"
   ]
  },
  {
   "cell_type": "code",
   "execution_count": 23,
   "metadata": {},
   "outputs": [],
   "source": [
    "from semi_supervised_naive_bayes import MultinomialNBSS"
   ]
  },
  {
   "cell_type": "code",
   "execution_count": 24,
   "metadata": {},
   "outputs": [],
   "source": [
    "class ModelisationSemi(Modelisation):\n",
    "    def __init__(self, X_labeled, y_labeled_bool, X_unlabeled, X_unlabeled_cat, y_unlabeled_cat_bool, vectorizer, facteur=None, alpha=1, beta=1):\n",
    "        if facteur or facteur==0:\n",
    "            correction = int((len(X_labeled)/(len(X_unlabeled))) * facteur)\n",
    "            X_unlabeled_fac = X_unlabeled * correction\n",
    "        else:\n",
    "            X_unlabeled_fac = X_unlabeled            \n",
    "        \n",
    "        print(f\"Nombre de lignes base labellisée (Sentiment140)    : {len(X_labeled)}\")\n",
    "        print(f\"Nombre de lignes base non labellisée (Webscraping) : {len(X_unlabeled_fac)}\")    \n",
    "    \n",
    "        X_train_labeled, X_test_labeled, y_train_labeled, y_test_labeled = train_test_split(X_labeled, y_labeled_bool, train_size=0.80, random_state=1234)\n",
    "    \n",
    "        X_train_all = X_train_labeled + X_unlabeled_fac\n",
    "        y_train_all = y_train_labeled + [-1]*len(X_unlabeled_fac)\n",
    "        \n",
    "        # On applique le vectorizer sur l'ensemble des données\n",
    "        vectorizer.fit(X_labeled+X_unlabeled)\n",
    "        X_train_all = vectorizer.transform(X_train_all)\n",
    "        \n",
    "        model = MultinomialNBSS(alpha=alpha, beta=beta)\n",
    "        model.fit(X_train_all, y_train_all)        \n",
    "        \n",
    "        X_test_labeled = vectorizer.transform(X_test_labeled)    \n",
    "        y_pred_labeled = model.predict(X_test_labeled)\n",
    "        \n",
    "        X_unlabeled_cat = vectorizer.transform(X_unlabeled_cat)\n",
    "        y_pred_unlabeled_cat = model.predict(X_unlabeled_cat)\n",
    "        \n",
    "        self.X_test_labeled = X_test_labeled\n",
    "        self.y_test_labeled = y_test_labeled\n",
    "        self.y_pred_labeled = y_pred_labeled\n",
    "        self.X_unlabeled_cat = X_unlabeled_cat\n",
    "        self.y_unlabeled_cat = y_unlabeled_cat_bool\n",
    "        self.y_pred_unlabeled_cat = y_pred_unlabeled_cat\n",
    "        self.vectorizer = vectorizer\n",
    "        self.model = model"
   ]
  },
  {
   "cell_type": "code",
   "execution_count": 25,
   "metadata": {},
   "outputs": [
    {
     "name": "stdout",
     "output_type": "stream",
     "text": [
      "Nombre de lignes base labellisée (Sentiment140)    : 200000\n",
      "Nombre de lignes base non labellisée (Webscraping) : 0\n",
      "\n",
      "Données labellisées de test (Sentiment140)\n"
     ]
    },
    {
     "data": {
      "image/png": "[encoded data removed]",
      "text/plain": [
       "<Figure size 432x288 with 2 Axes>"
      ]
     },
     "metadata": {
      "needs_background": "light"
     },
     "output_type": "display_data"
    },
    {
     "name": "stdout",
     "output_type": "stream",
     "text": [
      "Accuracy : 0.7649\n",
      "Balanced accuracy : 0.7651\n",
      "ROC AUC : 0.8477\n",
      "\n",
      "Données non labellisées (Webscraping labellisé à la main)\n"
     ]
    },
    {
     "data": {
      "image/png": "[encoded data removed]",
      "text/plain": [
       "<Figure size 432x288 with 2 Axes>"
      ]
     },
     "metadata": {
      "needs_background": "light"
     },
     "output_type": "display_data"
    },
    {
     "name": "stdout",
     "output_type": "stream",
     "text": [
      "Accuracy : 0.6400\n",
      "Balanced accuracy : 0.5972\n",
      "ROC AUC : 0.6434\n",
      "Wall time: 6.14 s\n"
     ]
    }
   ],
   "source": [
    "%%time\n",
    "m = ModelisationSemi(X_140, y_140_bool, X_web, X_web_cat, y_web_cat_bool, TfidfVectorizer(max_features=6000), facteur=0)\n",
    "m.show_conf_matrix_labeled()\n",
    "m.show_conf_matrix_unlabeled()"
   ]
  },
  {
   "cell_type": "code",
   "execution_count": 26,
   "metadata": {},
   "outputs": [
    {
     "name": "stdout",
     "output_type": "stream",
     "text": [
      "Nombre de lignes base labellisée (Sentiment140)    : 200000\n",
      "Nombre de lignes base non labellisée (Webscraping) : 10588\n",
      "Step 1: jll = -7635347.016495\n",
      "Step 2: jll = -7635450.925285\n",
      "Step 3: jll = -7635791.405360\n",
      "Step 4: jll = -7636276.314308\n",
      "Step 5: jll = -7636872.554824\n",
      "Step 6: jll = -7637541.461260\n",
      "Step 7: jll = -7638241.132196\n",
      "Step 8: jll = -7638929.156158\n",
      "Step 9: jll = -7639566.286332\n",
      "Step 10: jll = -7640123.800748\n",
      "Step 11: jll = -7640587.922633\n",
      "Step 12: jll = -7640958.644079\n",
      "Step 13: jll = -7641245.205586\n",
      "Step 14: jll = -7641461.206237\n",
      "Step 15: jll = -7641620.978395\n",
      "Step 16: jll = -7641737.529493\n",
      "Step 17: jll = -7641821.697493\n",
      "Step 18: jll = -7641882.039321\n",
      "Step 19: jll = -7641925.074963\n",
      "Step 20: jll = -7641955.654186\n",
      "Optimization converged after 20 iterations.\n",
      "\n",
      "Données labellisées de test (Sentiment140)\n"
     ]
    },
    {
     "data": {
      "image/png": "[encoded data removed]",
      "text/plain": [
       "<Figure size 432x288 with 2 Axes>"
      ]
     },
     "metadata": {
      "needs_background": "light"
     },
     "output_type": "display_data"
    },
    {
     "name": "stdout",
     "output_type": "stream",
     "text": [
      "Accuracy : 0.7635\n",
      "Balanced accuracy : 0.7636\n",
      "ROC AUC : 0.8449\n",
      "\n",
      "Données non labellisées (Webscraping labellisé à la main)\n"
     ]
    },
    {
     "data": {
      "image/png": "[encoded data removed]",
      "text/plain": [
       "<Figure size 432x288 with 2 Axes>"
      ]
     },
     "metadata": {
      "needs_background": "light"
     },
     "output_type": "display_data"
    },
    {
     "name": "stdout",
     "output_type": "stream",
     "text": [
      "Accuracy : 0.4200\n",
      "Balanced accuracy : 0.6778\n",
      "ROC AUC : 0.5515\n",
      "Wall time: 7.33 s\n"
     ]
    }
   ],
   "source": [
    "%%time\n",
    "m = ModelisationSemi(X_140, y_140_bool, X_web, X_web_cat, y_web_cat_bool, TfidfVectorizer(max_features=6000), facteur=None)\n",
    "m.show_conf_matrix_labeled()\n",
    "m.show_conf_matrix_unlabeled()"
   ]
  },
  {
   "cell_type": "code",
   "execution_count": 27,
   "metadata": {},
   "outputs": [
    {
     "name": "stdout",
     "output_type": "stream",
     "text": [
      "Nombre de lignes base labellisée (Sentiment140)    : 200000\n",
      "Nombre de lignes base non labellisée (Webscraping) : 190584\n",
      "Step 1: jll = -18601924.498412\n",
      "Step 2: jll = -18599785.738596\n",
      "Optimization converged after 2 iterations.\n",
      "\n",
      "Données labellisées de test (Sentiment140)\n"
     ]
    },
    {
     "data": {
      "image/png": "[encoded data removed]",
      "text/plain": [
       "<Figure size 432x288 with 2 Axes>"
      ]
     },
     "metadata": {
      "needs_background": "light"
     },
     "output_type": "display_data"
    },
    {
     "name": "stdout",
     "output_type": "stream",
     "text": [
      "Accuracy : 0.7603\n",
      "Balanced accuracy : 0.7613\n",
      "ROC AUC : 0.8419\n",
      "\n",
      "Données non labellisées (Webscraping labellisé à la main)\n"
     ]
    },
    {
     "data": {
      "image/png": "[encoded data removed]",
      "text/plain": [
       "<Figure size 432x288 with 2 Axes>"
      ]
     },
     "metadata": {
      "needs_background": "light"
     },
     "output_type": "display_data"
    },
    {
     "name": "stdout",
     "output_type": "stream",
     "text": [
      "Accuracy : 0.5400\n",
      "Balanced accuracy : 0.5706\n",
      "ROC AUC : 0.6048\n",
      "Wall time: 11 s\n"
     ]
    }
   ],
   "source": [
    "%%time\n",
    "m = ModelisationSemi(X_140, y_140_bool, X_web, X_web_cat, y_web_cat_bool, TfidfVectorizer(max_features=6000), facteur=1)\n",
    "m.show_conf_matrix_labeled()\n",
    "m.show_conf_matrix_unlabeled()"
   ]
  },
  {
   "cell_type": "code",
   "execution_count": 28,
   "metadata": {},
   "outputs": [
    {
     "name": "stdout",
     "output_type": "stream",
     "text": [
      "Nombre de lignes base labellisée (Sentiment140)    : 200000\n",
      "Nombre de lignes base non labellisée (Webscraping) : 10588\n",
      "Step 1: jll = -7635347.016495\n",
      "Step 2: jll = -7635450.925285\n",
      "Step 3: jll = -7635791.405360\n",
      "Step 4: jll = -7636276.314308\n",
      "Step 5: jll = -7636872.554824\n",
      "Step 6: jll = -7637541.461260\n",
      "Step 7: jll = -7638241.132196\n",
      "Step 8: jll = -7638929.156158\n",
      "Step 9: jll = -7639566.286332\n",
      "Step 10: jll = -7640123.800748\n",
      "Step 11: jll = -7640587.922633\n",
      "Step 12: jll = -7640958.644079\n",
      "Step 13: jll = -7641245.205586\n",
      "Step 14: jll = -7641461.206237\n",
      "Step 15: jll = -7641620.978395\n",
      "Step 16: jll = -7641737.529493\n",
      "Step 17: jll = -7641821.697493\n",
      "Step 18: jll = -7641882.039321\n",
      "Step 19: jll = -7641925.074963\n",
      "Step 20: jll = -7641955.654186\n",
      "Optimization converged after 20 iterations.\n",
      "\n",
      "Données labellisées de test (Sentiment140)\n"
     ]
    },
    {
     "data": {
      "image/png": "[encoded data removed]",
      "text/plain": [
       "<Figure size 432x288 with 2 Axes>"
      ]
     },
     "metadata": {
      "needs_background": "light"
     },
     "output_type": "display_data"
    },
    {
     "name": "stdout",
     "output_type": "stream",
     "text": [
      "Accuracy : 0.7635\n",
      "Balanced accuracy : 0.7636\n",
      "ROC AUC : 0.8449\n",
      "\n",
      "Données non labellisées (Webscraping labellisé à la main)\n"
     ]
    },
    {
     "data": {
      "image/png": "[encoded data removed]",
      "text/plain": [
       "<Figure size 432x288 with 2 Axes>"
      ]
     },
     "metadata": {
      "needs_background": "light"
     },
     "output_type": "display_data"
    },
    {
     "name": "stdout",
     "output_type": "stream",
     "text": [
      "Accuracy : 0.4200\n",
      "Balanced accuracy : 0.6778\n",
      "ROC AUC : 0.5515\n",
      "Wall time: 7.24 s\n"
     ]
    }
   ],
   "source": [
    "%%time\n",
    "m = ModelisationSemi(X_140, y_140_bool, X_web, X_web_cat, y_web_cat_bool, TfidfVectorizer(max_features=6000), beta=1)\n",
    "m.show_conf_matrix_labeled()\n",
    "m.show_conf_matrix_unlabeled()"
   ]
  },
  {
   "cell_type": "code",
   "execution_count": 29,
   "metadata": {},
   "outputs": [
    {
     "name": "stdout",
     "output_type": "stream",
     "text": [
      "Nombre de lignes base labellisée (Sentiment140)    : 200000\n",
      "Nombre de lignes base non labellisée (Webscraping) : 10588\n",
      "Step 1: jll = -7639744.009019\n",
      "Step 2: jll = -7639707.667722\n",
      "Optimization converged after 2 iterations.\n",
      "\n",
      "Données labellisées de test (Sentiment140)\n"
     ]
    },
    {
     "data": {
      "image/png": "[encoded data removed]",
      "text/plain": [
       "<Figure size 432x288 with 2 Axes>"
      ]
     },
     "metadata": {
      "needs_background": "light"
     },
     "output_type": "display_data"
    },
    {
     "name": "stdout",
     "output_type": "stream",
     "text": [
      "Accuracy : 0.7675\n",
      "Balanced accuracy : 0.7678\n",
      "ROC AUC : 0.8492\n",
      "\n",
      "Données non labellisées (Webscraping labellisé à la main)\n"
     ]
    },
    {
     "data": {
      "image/png": "[encoded data removed]",
      "text/plain": [
       "<Figure size 432x288 with 2 Axes>"
      ]
     },
     "metadata": {
      "needs_background": "light"
     },
     "output_type": "display_data"
    },
    {
     "name": "stdout",
     "output_type": "stream",
     "text": [
      "Accuracy : 0.5000\n",
      "Balanced accuracy : 0.5642\n",
      "ROC AUC : 0.5864\n",
      "Wall time: 6.47 s\n"
     ]
    }
   ],
   "source": [
    "%%time\n",
    "m = ModelisationSemi(X_140, y_140_bool, X_web, X_web_cat, y_web_cat_bool, TfidfVectorizer(max_features=6000), beta=2)\n",
    "m.show_conf_matrix_labeled()\n",
    "m.show_conf_matrix_unlabeled()"
   ]
  },
  {
   "cell_type": "code",
   "execution_count": 30,
   "metadata": {},
   "outputs": [
    {
     "name": "stdout",
     "output_type": "stream",
     "text": [
      "Nombre de lignes base labellisée (Sentiment140)    : 200000\n",
      "Nombre de lignes base non labellisée (Webscraping) : 10588\n",
      "Step 1: jll = -7678167.736241\n",
      "Step 2: jll = -7677706.865898\n",
      "Optimization converged after 2 iterations.\n",
      "\n",
      "Données labellisées de test (Sentiment140)\n"
     ]
    },
    {
     "data": {
      "image/png": "[encoded data removed]",
      "text/plain": [
       "<Figure size 432x288 with 2 Axes>"
      ]
     },
     "metadata": {
      "needs_background": "light"
     },
     "output_type": "display_data"
    },
    {
     "name": "stdout",
     "output_type": "stream",
     "text": [
      "Accuracy : 0.7689\n",
      "Balanced accuracy : 0.7693\n",
      "ROC AUC : 0.8502\n",
      "\n",
      "Données non labellisées (Webscraping labellisé à la main)\n"
     ]
    },
    {
     "data": {
      "image/png": "[encoded data removed]",
      "text/plain": [
       "<Figure size 432x288 with 2 Axes>"
      ]
     },
     "metadata": {
      "needs_background": "light"
     },
     "output_type": "display_data"
    },
    {
     "name": "stdout",
     "output_type": "stream",
     "text": [
      "Accuracy : 0.5000\n",
      "Balanced accuracy : 0.5642\n",
      "ROC AUC : 0.5864\n",
      "Wall time: 6.62 s\n"
     ]
    }
   ],
   "source": [
    "%%time\n",
    "m = ModelisationSemi(X_140, y_140_bool, X_web, X_web_cat, y_web_cat_bool, TfidfVectorizer(max_features=6000), beta=5)\n",
    "m.show_conf_matrix_labeled()\n",
    "m.show_conf_matrix_unlabeled()"
   ]
  },
  {
   "cell_type": "code",
   "execution_count": 31,
   "metadata": {},
   "outputs": [
    {
     "name": "stdout",
     "output_type": "stream",
     "text": [
      "Nombre de lignes base labellisée (Sentiment140)    : 200000\n",
      "Nombre de lignes base non labellisée (Webscraping) : 10588\n",
      "Step 1: jll = -7636099.560570\n",
      "Step 2: jll = -7636136.348594\n",
      "Step 3: jll = -7636488.108742\n",
      "Step 4: jll = -7637024.523242\n",
      "Step 5: jll = -7637727.298399\n",
      "Step 6: jll = -7638568.274128\n",
      "Step 7: jll = -7639502.314399\n",
      "Step 8: jll = -7640466.743741\n",
      "Step 9: jll = -7641389.830186\n",
      "Step 10: jll = -7642210.717324\n",
      "Step 11: jll = -7642894.647362\n",
      "Step 12: jll = -7643434.645218\n",
      "Step 13: jll = -7643843.478742\n",
      "Step 14: jll = -7644143.422604\n",
      "Step 15: jll = -7644358.498596\n",
      "Step 16: jll = -7644510.224434\n",
      "Step 17: jll = -7644616.040683\n",
      "Step 18: jll = -7644689.253454\n",
      "Step 19: jll = -7644739.630610\n",
      "Step 20: jll = -7644774.164034\n",
      "Optimization converged after 20 iterations.\n",
      "\n",
      "Données labellisées de test (Sentiment140)\n"
     ]
    },
    {
     "data": {
      "image/png": "[encoded data removed]",
      "text/plain": [
       "<Figure size 432x288 with 2 Axes>"
      ]
     },
     "metadata": {
      "needs_background": "light"
     },
     "output_type": "display_data"
    },
    {
     "name": "stdout",
     "output_type": "stream",
     "text": [
      "Accuracy : 0.7613\n",
      "Balanced accuracy : 0.7613\n",
      "ROC AUC : 0.8424\n",
      "\n",
      "Données non labellisées (Webscraping labellisé à la main)\n"
     ]
    },
    {
     "data": {
      "image/png": "[encoded data removed]",
      "text/plain": [
       "<Figure size 432x288 with 2 Axes>"
      ]
     },
     "metadata": {
      "needs_background": "light"
     },
     "output_type": "display_data"
    },
    {
     "name": "stdout",
     "output_type": "stream",
     "text": [
      "Accuracy : 0.3800\n",
      "Balanced accuracy : 0.6702\n",
      "ROC AUC : 0.5386\n",
      "Wall time: 7.18 s\n"
     ]
    }
   ],
   "source": [
    "%%time\n",
    "m = ModelisationSemi(X_140, y_140_bool, X_web, X_web_cat, y_web_cat_bool, TfidfVectorizer(max_features=6000), beta=1.5)\n",
    "m.show_conf_matrix_labeled()\n",
    "m.show_conf_matrix_unlabeled()"
   ]
  },
  {
   "cell_type": "markdown",
   "metadata": {},
   "source": [
    "# 4. Résultats"
   ]
  },
  {
   "cell_type": "code",
   "execution_count": 32,
   "metadata": {},
   "outputs": [
    {
     "name": "stdout",
     "output_type": "stream",
     "text": [
      "\n",
      "Données labellisées de test (Sentiment140)\n"
     ]
    },
    {
     "data": {
      "image/png": "[encoded data removed]",
      "text/plain": [
       "<Figure size 432x288 with 2 Axes>"
      ]
     },
     "metadata": {
      "needs_background": "light"
     },
     "output_type": "display_data"
    },
    {
     "name": "stdout",
     "output_type": "stream",
     "text": [
      "Accuracy : 0.7816\n",
      "Balanced accuracy : 0.7817\n",
      "ROC AUC : 0.8615\n",
      "\n",
      "Données non labellisées (Webscraping labellisé à la main)\n"
     ]
    },
    {
     "data": {
      "image/png": "[encoded data removed]",
      "text/plain": [
       "<Figure size 432x288 with 2 Axes>"
      ]
     },
     "metadata": {
      "needs_background": "light"
     },
     "output_type": "display_data"
    },
    {
     "name": "stdout",
     "output_type": "stream",
     "text": [
      "Accuracy : 0.7200\n",
      "Balanced accuracy : 0.7131\n",
      "ROC AUC : 0.8070\n",
      "Wall time: 7.38 s\n"
     ]
    }
   ],
   "source": [
    "%%time\n",
    "m = Modelisation(X_140, y_140, X_web, X_web_cat, y_web_cat, TfidfVectorizer(max_features=6000), LogisticRegression())\n",
    "m.show_conf_matrix_labeled()\n",
    "m.show_conf_matrix_unlabeled()"
   ]
  },
  {
   "cell_type": "code",
   "execution_count": 33,
   "metadata": {},
   "outputs": [
    {
     "name": "stdout",
     "output_type": "stream",
     "text": [
      "Wall time: 267 ms\n"
     ]
    }
   ],
   "source": [
    "%%time\n",
    "resul = m.predict(X_web)"
   ]
  },
  {
   "cell_type": "code",
   "execution_count": 34,
   "metadata": {},
   "outputs": [
    {
     "data": {
      "text/plain": [
       "array(['Positive', 'Positive', 'Positive', ..., 'Negative', 'Positive',\n",
       "       'Negative'], dtype='<U8')"
      ]
     },
     "execution_count": 34,
     "metadata": {},
     "output_type": "execute_result"
    }
   ],
   "source": [
    "resul"
   ]
  },
  {
   "cell_type": "code",
   "execution_count": 35,
   "metadata": {},
   "outputs": [
    {
     "data": {
      "text/html": [
       "<div>\n",
       "<style scoped>\n",
       "    .dataframe tbody tr th:only-of-type {\n",
       "        vertical-align: middle;\n",
       "    }\n",
       "\n",
       "    .dataframe tbody tr th {\n",
       "        vertical-align: top;\n",
       "    }\n",
       "\n",
       "    .dataframe thead th {\n",
       "        text-align: right;\n",
       "    }\n",
       "</style>\n",
       "<table border=\"1\" class=\"dataframe\">\n",
       "  <thead>\n",
       "    <tr style=\"text-align: right;\">\n",
       "      <th></th>\n",
       "      <th>search</th>\n",
       "      <th>author</th>\n",
       "      <th>time</th>\n",
       "      <th>url</th>\n",
       "      <th>text</th>\n",
       "      <th>lang</th>\n",
       "      <th>reply</th>\n",
       "      <th>sentiment</th>\n",
       "      <th>month</th>\n",
       "    </tr>\n",
       "  </thead>\n",
       "  <tbody>\n",
       "    <tr>\n",
       "      <th>0</th>\n",
       "      <td>biden</td>\n",
       "      <td>Maggie Klaus 🤶🏻</td>\n",
       "      <td>2019-01-01 22:37:46</td>\n",
       "      <td>/Maggie_Klaus/status/1080231636334067712</td>\n",
       "      <td>shut the f ck up about hillary s likability wh...</td>\n",
       "      <td>en</td>\n",
       "      <td>False</td>\n",
       "      <td>Positive</td>\n",
       "      <td>1</td>\n",
       "    </tr>\n",
       "    <tr>\n",
       "      <th>1</th>\n",
       "      <td>biden</td>\n",
       "      <td>The Salt Lake Tribune</td>\n",
       "      <td>2019-01-01 22:15:18</td>\n",
       "      <td>/sltrib/status/1080225983083487232</td>\n",
       "      <td>the agreed to pay former vice president to spe...</td>\n",
       "      <td>en</td>\n",
       "      <td>False</td>\n",
       "      <td>Positive</td>\n",
       "      <td>1</td>\n",
       "    </tr>\n",
       "    <tr>\n",
       "      <th>2</th>\n",
       "      <td>biden</td>\n",
       "      <td>The New York Times</td>\n",
       "      <td>2019-01-01 20:00:08</td>\n",
       "      <td>/nytimes/status/1080191967873716224</td>\n",
       "      <td>a series of careful financial decisions and th...</td>\n",
       "      <td>en</td>\n",
       "      <td>False</td>\n",
       "      <td>Positive</td>\n",
       "      <td>1</td>\n",
       "    </tr>\n",
       "    <tr>\n",
       "      <th>3</th>\n",
       "      <td>biden</td>\n",
       "      <td>Matt Binder</td>\n",
       "      <td>2019-01-01 22:18:51</td>\n",
       "      <td>/MattBinder/status/1080226876226965504</td>\n",
       "      <td>i agree this is useful democrats should defini...</td>\n",
       "      <td>en</td>\n",
       "      <td>False</td>\n",
       "      <td>Positive</td>\n",
       "      <td>1</td>\n",
       "    </tr>\n",
       "    <tr>\n",
       "      <th>4</th>\n",
       "      <td>biden</td>\n",
       "      <td>Patrick Healy</td>\n",
       "      <td>2019-01-01 19:58:58</td>\n",
       "      <td>/patrickhealynyt/status/1080191673701933059</td>\n",
       "      <td>news joe biden s campaign in waiting includes ...</td>\n",
       "      <td>en</td>\n",
       "      <td>False</td>\n",
       "      <td>Positive</td>\n",
       "      <td>1</td>\n",
       "    </tr>\n",
       "    <tr>\n",
       "      <th>5</th>\n",
       "      <td>biden</td>\n",
       "      <td>Ashton Pittman</td>\n",
       "      <td>2019-01-01 23:52:34</td>\n",
       "      <td>/ashtonpittman/status/1080250459200344065</td>\n",
       "      <td>also on fox news newt gingrich praised sen mar...</td>\n",
       "      <td>en</td>\n",
       "      <td>False</td>\n",
       "      <td>Negative</td>\n",
       "      <td>1</td>\n",
       "    </tr>\n",
       "    <tr>\n",
       "      <th>6</th>\n",
       "      <td>biden</td>\n",
       "      <td>Ashton Pittman</td>\n",
       "      <td>2019-01-01 23:52:35</td>\n",
       "      <td>/ashtonpittman/status/1080250465718288384</td>\n",
       "      <td>republicans at fox news even had high praise f...</td>\n",
       "      <td>en</td>\n",
       "      <td>False</td>\n",
       "      <td>Positive</td>\n",
       "      <td>1</td>\n",
       "    </tr>\n",
       "    <tr>\n",
       "      <th>7</th>\n",
       "      <td>biden</td>\n",
       "      <td>Virgil Xmas 🎄🎁💸</td>\n",
       "      <td>2019-01-01 22:25:54</td>\n",
       "      <td>/virgiltexas/status/1080228651327733760</td>\n",
       "      <td>for every joe biden he votes for i am going to...</td>\n",
       "      <td>en</td>\n",
       "      <td>False</td>\n",
       "      <td>Positive</td>\n",
       "      <td>1</td>\n",
       "    </tr>\n",
       "    <tr>\n",
       "      <th>8</th>\n",
       "      <td>biden</td>\n",
       "      <td>Katelyn Burns</td>\n",
       "      <td>2019-01-01 22:01:53</td>\n",
       "      <td>/transscribe/status/1080222604668166144</td>\n",
       "      <td>the unspoken and untrue premise of this piece ...</td>\n",
       "      <td>en</td>\n",
       "      <td>False</td>\n",
       "      <td>Positive</td>\n",
       "      <td>1</td>\n",
       "    </tr>\n",
       "    <tr>\n",
       "      <th>9</th>\n",
       "      <td>biden</td>\n",
       "      <td>Susan Murphy</td>\n",
       "      <td>2019-01-01 22:59:08</td>\n",
       "      <td>/susmurphy/status/1080237012689530883</td>\n",
       "      <td>re the dem race i will vote for whoever is the...</td>\n",
       "      <td>en</td>\n",
       "      <td>False</td>\n",
       "      <td>Positive</td>\n",
       "      <td>1</td>\n",
       "    </tr>\n",
       "  </tbody>\n",
       "</table>\n",
       "</div>"
      ],
      "text/plain": [
       "  search                 author                time  \\\n",
       "0  biden        Maggie Klaus 🤶🏻 2019-01-01 22:37:46   \n",
       "1  biden  The Salt Lake Tribune 2019-01-01 22:15:18   \n",
       "2  biden     The New York Times 2019-01-01 20:00:08   \n",
       "3  biden            Matt Binder 2019-01-01 22:18:51   \n",
       "4  biden          Patrick Healy 2019-01-01 19:58:58   \n",
       "5  biden         Ashton Pittman 2019-01-01 23:52:34   \n",
       "6  biden         Ashton Pittman 2019-01-01 23:52:35   \n",
       "7  biden        Virgil Xmas 🎄🎁💸 2019-01-01 22:25:54   \n",
       "8  biden          Katelyn Burns 2019-01-01 22:01:53   \n",
       "9  biden           Susan Murphy 2019-01-01 22:59:08   \n",
       "\n",
       "                                           url  \\\n",
       "0     /Maggie_Klaus/status/1080231636334067712   \n",
       "1           /sltrib/status/1080225983083487232   \n",
       "2          /nytimes/status/1080191967873716224   \n",
       "3       /MattBinder/status/1080226876226965504   \n",
       "4  /patrickhealynyt/status/1080191673701933059   \n",
       "5    /ashtonpittman/status/1080250459200344065   \n",
       "6    /ashtonpittman/status/1080250465718288384   \n",
       "7      /virgiltexas/status/1080228651327733760   \n",
       "8      /transscribe/status/1080222604668166144   \n",
       "9        /susmurphy/status/1080237012689530883   \n",
       "\n",
       "                                                text lang  reply sentiment  \\\n",
       "0  shut the f ck up about hillary s likability wh...   en  False  Positive   \n",
       "1  the agreed to pay former vice president to spe...   en  False  Positive   \n",
       "2  a series of careful financial decisions and th...   en  False  Positive   \n",
       "3  i agree this is useful democrats should defini...   en  False  Positive   \n",
       "4  news joe biden s campaign in waiting includes ...   en  False  Positive   \n",
       "5  also on fox news newt gingrich praised sen mar...   en  False  Negative   \n",
       "6  republicans at fox news even had high praise f...   en  False  Positive   \n",
       "7  for every joe biden he votes for i am going to...   en  False  Positive   \n",
       "8  the unspoken and untrue premise of this piece ...   en  False  Positive   \n",
       "9  re the dem race i will vote for whoever is the...   en  False  Positive   \n",
       "\n",
       "   month  \n",
       "0      1  \n",
       "1      1  \n",
       "2      1  \n",
       "3      1  \n",
       "4      1  \n",
       "5      1  \n",
       "6      1  \n",
       "7      1  \n",
       "8      1  \n",
       "9      1  "
      ]
     },
     "execution_count": 35,
     "metadata": {},
     "output_type": "execute_result"
    }
   ],
   "source": [
    "df_web['sentiment'] = resul\n",
    "df_web['month'] = [time.month for time in df_web['time']]\n",
    "df_web.head(10)"
   ]
  },
  {
   "cell_type": "code",
   "execution_count": 36,
   "metadata": {},
   "outputs": [
    {
     "data": {
      "image/png": "[encoded data removed]",
      "text/plain": [
       "<Figure size 432x288 with 1 Axes>"
      ]
     },
     "metadata": {
      "needs_background": "light"
     },
     "output_type": "display_data"
    }
   ],
   "source": [
    "sns.countplot(x='sentiment', data=df_web)\n",
    "plt.show()"
   ]
  },
  {
   "cell_type": "code",
   "execution_count": 37,
   "metadata": {},
   "outputs": [
    {
     "data": {
      "text/plain": [
       "<AxesSubplot:xlabel='search', ylabel='count'>"
      ]
     },
     "execution_count": 37,
     "metadata": {},
     "output_type": "execute_result"
    },
    {
     "data": {
      "image/png": "[encoded data removed]",
      "text/plain": [
       "<Figure size 432x288 with 1 Axes>"
      ]
     },
     "metadata": {
      "needs_background": "light"
     },
     "output_type": "display_data"
    }
   ],
   "source": [
    "sns.countplot(x='search', hue='sentiment', data=df_web)"
   ]
  },
  {
   "cell_type": "code",
   "execution_count": 38,
   "metadata": {},
   "outputs": [
    {
     "data": {
      "text/plain": [
       "<AxesSubplot:xlabel='month', ylabel='count'>"
      ]
     },
     "execution_count": 38,
     "metadata": {},
     "output_type": "execute_result"
    },
    {
     "data": {
      "image/png": "[encoded data removed]",
      "text/plain": [
       "<Figure size 432x288 with 1 Axes>"
      ]
     },
     "metadata": {
      "needs_background": "light"
     },
     "output_type": "display_data"
    }
   ],
   "source": [
    "sns.countplot(x='month', hue='sentiment', data = df_web.loc[df_web['search']=='biden'])"
   ]
  },
  {
   "cell_type": "code",
   "execution_count": 39,
   "metadata": {},
   "outputs": [
    {
     "data": {
      "text/plain": [
       "<AxesSubplot:xlabel='month', ylabel='count'>"
      ]
     },
     "execution_count": 39,
     "metadata": {},
     "output_type": "execute_result"
    },
    {
     "data": {
      "image/png": "[encoded data removed]",
      "text/plain": [
       "<Figure size 432x288 with 1 Axes>"
      ]
     },
     "metadata": {
      "needs_background": "light"
     },
     "output_type": "display_data"
    }
   ],
   "source": [
    "sns.countplot(x='month', hue='sentiment', data = df_web.loc[df_web['search']=='trump'])"
   ]
  },
  {
   "cell_type": "code",
   "execution_count": 40,
   "metadata": {},
   "outputs": [
    {
     "data": {
      "text/plain": [
       "[0.2294736842105263,\n",
       " 0.2144469525959368,\n",
       " 0.2113022113022113,\n",
       " 0.23927765237020315,\n",
       " 0.219959266802444,\n",
       " 0.21770334928229665,\n",
       " 0.24249422632794457,\n",
       " 0.19290465631929046,\n",
       " 0.21956521739130436,\n",
       " 0.2727272727272727,\n",
       " 0.23557692307692307,\n",
       " 0.1928020565552699]"
      ]
     },
     "execution_count": 40,
     "metadata": {},
     "output_type": "execute_result"
    }
   ],
   "source": [
    "def proportion_positive_by_month(search):\n",
    "    series = df_web[['search', 'month', 'sentiment']].loc[df_web['search']==search].value_counts().sort_index()\n",
    "    L=[]\n",
    "    for i in range(12):\n",
    "        L.append(series[2*i+1]/(series[2*i]+series[2*i+1]))\n",
    "    return L\n",
    "\n",
    "proportion_positive_by_month('trump')"
   ]
  },
  {
   "cell_type": "code",
   "execution_count": 41,
   "metadata": {
    "scrolled": true
   },
   "outputs": [
    {
     "data": {
      "image/png": "[encoded data removed]",
      "text/plain": [
       "<Figure size 432x288 with 1 Axes>"
      ]
     },
     "metadata": {
      "needs_background": "light"
     },
     "output_type": "display_data"
    }
   ],
   "source": [
    "names = [str(i) for i in range(1,13)]\n",
    "plt.bar(names, proportion_positive_by_month('trump'))\n",
    "plt.ylim(0,1)\n",
    "plt.xlabel('month')\n",
    "plt.ylabel('proportion')\n",
    "plt.title(\"Proportion des tweets positifs chez Trump selon le mois de l'année 2019\")\n",
    "plt.show()"
   ]
  },
  {
   "cell_type": "code",
   "execution_count": 42,
   "metadata": {},
   "outputs": [
    {
     "data": {
      "image/png": "[encoded data removed]",
      "text/plain": [
       "<Figure size 432x288 with 1 Axes>"
      ]
     },
     "metadata": {
      "needs_background": "light"
     },
     "output_type": "display_data"
    }
   ],
   "source": [
    "names = [str(i) for i in range(1,13)]\n",
    "plt.bar(names, proportion_positive_by_month('biden'))\n",
    "plt.ylim(0,1)\n",
    "plt.xlabel('month')\n",
    "plt.ylabel('proportion')\n",
    "plt.title(\"Proportion des tweets positifs chez Biden selon le mois de l'année 2019\")\n",
    "plt.show()"
   ]
  },
  {
   "cell_type": "code",
   "execution_count": 43,
   "metadata": {},
   "outputs": [
    {
     "name": "stdout",
     "output_type": "stream",
     "text": [
      "Temps d'exécution total : 00:01:40\n"
     ]
    }
   ],
   "source": [
    "print(f\"Temps d'exécution total : {time.strftime('%H:%M:%S', time.gmtime(time.time()-t))}\")"
   ]
  }
 ],
 "metadata": {
  "kernelspec": {
   "display_name": "Python 3",
   "language": "python",
   "name": "python3"
  },
  "language_info": {
   "codemirror_mode": {
    "name": "ipython",
    "version": 3
   },
   "file_extension": ".py",
   "mimetype": "text/x-python",
   "name": "python",
   "nbconvert_exporter": "python",
   "pygments_lexer": "ipython3",
   "version": "3.6.12"
  }
 },
 "nbformat": 4,
 "nbformat_minor": 4
}
